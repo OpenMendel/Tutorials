{
 "cells": [
  {
   "cell_type": "markdown",
   "metadata": {},
   "source": [
    "# Tutorial of MendelTwoPointLinkage"
   ]
  },
  {
   "cell_type": "markdown",
   "metadata": {},
   "source": [
    "## Julia version\n",
    "Current code supports Julia version 1.0+ "
   ]
  },
  {
   "cell_type": "markdown",
   "metadata": {},
   "source": [
    "## Overview\n",
    "Mendel Two Point Linkage is a component of the umbrella [OpenMendel](https://openmendel.github.io) project. This analysis option maps a trait locus using two-point linkage analysis."
   ]
  },
  {
   "cell_type": "markdown",
   "metadata": {},
   "source": [
    "## Installation\n",
    "\n",
    "*Note: Since the OpenMendel packages are not yet registered, the three OpenMendel packages (1) [SnpArrays](https://openmendel.github.io/SnpArrays.jl/latest/), (2) [MendelSearch](https://openmendel.github.io/MendelSearch.jl), and (3) [MendelBase](https://openmendel.github.io/MendelBase.jl) **must** be installed before any other OpenMendel package is installed. It is easiest if these three packages are installed in the above order.*\n",
    "\n",
    "If you have not already installed the MendelTwoPointLinkage, then within Julia, use the package manager to install MendelTwoPointLinkage:"
   ]
  },
  {
   "cell_type": "code",
   "execution_count": null,
   "metadata": {},
   "outputs": [],
   "source": [
    "] add https://github.com/OpenMendel/TwoPointLinkage.jl.git"
   ]
  },
  {
   "cell_type": "markdown",
   "metadata": {},
   "source": [
    "or once the OpenMendel packages are registered simply use:\n",
    "\n",
    "`pkg> add TwoPointLinkage`\n",
    "\n",
    "This package supports Julia v1.0+"
   ]
  },
  {
   "cell_type": "markdown",
   "metadata": {},
   "source": [
    "## Input Files\n",
    "The MendelTwoPointLinkage analysis package accepts the following input files. Example input files can be found in the [data](https://github.com/OpenMendel/MendelTwoPointLinkage.jl/tree/master/data) subfolder of the MendelTwoPointLinkage project. (An analysis won't always need every file type below.)\n",
    "\n",
    "* [Control File](https://openmendel.github.io/MendelTwoPointLinkage.jl/#control-file): Specifies the names of your data input and output files and any optional parameters (*keywords*) for the analysis. (For a list of common keywords, see [Keywords Table](https://openmendel.github.io/MendelBase.jl/#keywords-table)). The Control file is optional. If you don't use a Control file you will enter your keywords directly in the command line.\n",
    "* [Locus File](https://openmendel.github.io/MendelBase.jl/#locus-file): Names and describes the genetic loci in your data.\n",
    "* [Pedigree File](https://openmendel.github.io/MendelBase.jl/#pedigree-file): Gives information about your individuals, such as name, sex, family structure, and ancestry.\n",
    "* [Phenotype File](https://openmendel.github.io/MendelBase.jl/#phenotype-file): Lists the available phenotypes."
   ]
  },
  {
   "cell_type": "markdown",
   "metadata": {},
   "source": [
    "### Control file\n",
    "The Control file is a text file consisting of keywords and their assigned values. The format of the Control file is:\n",
    "\n",
    "\tKeyword = Keyword_Value(s)\n",
    "\n",
    "Below is an example of a simple Control file to run Two Point Linkage:\n",
    "\n",
    "\t#\n",
    "\t# Input and Output files.\n",
    "\t#\n",
    "\tlocus_file = two-point linkage LocusFrame.txt\n",
    "\tpedigree_file = two-point linkage PedigreeFrame.txt\n",
    "\tphenotype_file = two-point linkage PhenotypeFrame.txt\n",
    "\toutput_file = two-point linkage Output.txt\n",
    "\tlod-score-table = two-point linkage Output LOD Table.txt\n",
    "\t#\n",
    "\t# Analysis parameters for Two-Point Linkage option.\n",
    "\t#\n",
    "\ttrait = RADIN\n",
    "\tGENDER-NEUTRAL = true\n",
    "\tstandard_errors = true\n",
    "\ttravel = grid\n",
    "\n",
    "In the example above, there are nine keywords. The first three keywords specify input files: **two-point linkage LocusFrame.txt**, **two-point linkage PedigreeFrame.txt**, **two-point linkage PhenotypeFrame.txt**. The next two keywords specify output files with results of the analysis: **two-point linkage Output.txt** and **two-point linkage LOD Table Output.txt**. The last four keywords specify analysis parameters: **trait**, **gender-neutral**, **standard_errors** and **travel**. The text after the **'='** are the keyword values.\n",
    "\n",
    "We are using as our trait RADIN. RADIN is actually an antigen that is expressed on red blood cells. According to [OMIM](https://www.omim.org/entry/111620), is part of the Scianna blood group system and is the result of variation in the gene encoding erythroblast membrane-associated protein (ERMAP; 609017) on chromosome 1p34.2.  **GENDER-NEUTRAL = true** means that we are not using different recombination maps for males and females. The keyword value **standard_errors = true** means we are asking for standard-errors to be calculated. If you have a large number of markers and individuals you may want to use the default value of **'false'** to save on computational cost on the first pass through the data. The final keyword travel refers to how the likehood is evaluated. By using **travel = grid** we are specifying that we are calculating the LOD score at specified distances between the putative trait gene and the marker."
   ]
  },
  {
   "cell_type": "markdown",
   "metadata": {},
   "source": [
    "## Keywords\n",
    "This is a list of OpenMendel keywords specific to Two Point Linkage. A list of OpenMendel keywords common to most analysis package can be found [here](https://openmendel.github.io/MendelBase.jl/#keywords-table). The names of keywords are *not* case sensitive. (The keyword values *may* be case sensitive.)\n",
    "\n",
    " Keyword          |   Default Value    | Allowed Values |  Short Description       \n",
    "----------------  |  ----------------  |  ------------- |  ----------------\n",
    "   gender_neutral | true               |   true, false  | Forces equal recombination fractions\n",
    "   goal           |  maximize          \n",
    "   lod_score_table|Lod_Score_Frame.txt | User-defined output file name  |  Creates a lod score table output file\n",
    "   output_unit    \n",
    "   parameters     |  1\n",
    "   points         |   9\n",
    "   travel         |  grid              |_                |  Mode of sampling parameter space"
   ]
  },
  {
   "cell_type": "markdown",
   "metadata": {},
   "source": [
    "## Data Files\n",
    "Two Point Linkage requires a [Control file](https://openmendel.github.io/MendelBase.jl/#control-file), and a [Pedigree file](https://openmendel.github.io/MendelBase.jl/#pedigree-file). Genotype data is provided in a [SNP data file](https://openmendel.github.io/MendelBase.jl/#snp-data-file), with a [SNP Definition File](https://openmendel.github.io/MendelBase.jl/#snp-definition-file) describing the SNPs. Details on the format and contents of the Control and data files can be found on the [MendelBase](https://openmendel.github.io/MendelBase.jl) documentation page. There are example data files in the Two Point Linkage [data](https://github.com/OpenMendel/MendelTwoPointLinkage.jl/tree/master/data) folder.\n",
    "\n",
    "The data are interesting because the markers are of historic interest.  Before the ready availablity of codominant markers (SNPs or microsatellites), researchers used biochemical markers like blood group antigens to map traits.  Maps were slowly and painfully constructed by mapping a new marker to the positions of existing markers of known location.  In this example we are trying to determine whether RADIN is linked to RHD (the familiar Rhesus factor blood group) or the enzyme PGH1 (Phosphoglucomutase-1), both of which are located on chromosome 1.  This example illustrates that these even with sparsely separated markers and very small numbers of families we can begin the process of mapping the location of trait genes."
   ]
  },
  {
   "cell_type": "markdown",
   "metadata": {},
   "source": [
    "## Running the Analysis\n",
    "To run this analysis package, first launch Julia. Then load the package with the command:\n",
    "\n",
    "`julia> using MendelTwoPointLinkage`\n",
    "\n",
    "Next, if necessary, change to the directory containing your files, for example,\n",
    "\n",
    "`julia> cd(\"~/path/to/data/files/\")`\n",
    "\n",
    "Finally, to run the analysis using the parameters in your Control file, for example, Control_file.txt, use the command:\n",
    "\n",
    "`julia> TwoPointLinkage(\"Control_file.txt\")`\n",
    "\n",
    "*Note: The package is called* MendelTwoPointLinkage *but the analysis function is called simply* TwoPointLinkage."
   ]
  },
  {
   "cell_type": "markdown",
   "metadata": {},
   "source": [
    "## Output Files\n",
    "Each option will create output files specific to that option, and will save them to the same directory that holds the input data files."
   ]
  },
  {
   "cell_type": "markdown",
   "metadata": {},
   "source": [
    "# Example 1: "
   ]
  },
  {
   "cell_type": "markdown",
   "metadata": {},
   "source": [
    "### Step 0: Load the OpenMendel pacakage and then go to the directory containing the data files:\n",
    "First we load the MendelEstimateFrequencies package."
   ]
  },
  {
   "cell_type": "code",
   "execution_count": null,
   "metadata": {},
   "outputs": [],
   "source": [
    "using MendelTwoPointLinkage"
   ]
  },
  {
   "cell_type": "markdown",
   "metadata": {},
   "source": [
    "In this example we go to the directory containing the example data files that come with this package."
   ]
  },
  {
   "cell_type": "code",
   "execution_count": null,
   "metadata": {},
   "outputs": [],
   "source": [
    "cd(MendelTwoPointLinkage.datadir())\n",
    "pwd()"
   ]
  },
  {
   "cell_type": "markdown",
   "metadata": {},
   "source": [
    "### Step 1: Preparing the Pedigree files:\n",
    "Recall the structure of a [valid pedigree structure](https://openmendel.github.io/MendelBase.jl/#pedigree-file). Note that we require a header line. Let's examine the first few lines of such an example:"
   ]
  },
  {
   "cell_type": "code",
   "execution_count": null,
   "metadata": {
    "scrolled": true
   },
   "outputs": [],
   "source": [
    ";head -10 \"two-point linkage PedigreeFrame.txt\""
   ]
  },
  {
   "cell_type": "markdown",
   "metadata": {},
   "source": [
    "### Step 2: Preparing the Control file\n",
    "A Control file gives specific instructions to `MendelTwoPointLinkage`. A minimal Control file looks like the following:"
   ]
  },
  {
   "cell_type": "code",
   "execution_count": null,
   "metadata": {
    "scrolled": true
   },
   "outputs": [],
   "source": [
    ";cat \"two-point linkage Control.txt\""
   ]
  },
  {
   "cell_type": "markdown",
   "metadata": {},
   "source": [
    "### Step 3: Run the analysis in Julia REPL or directly in notebook"
   ]
  },
  {
   "cell_type": "code",
   "execution_count": null,
   "metadata": {},
   "outputs": [],
   "source": [
    "TwoPointLinkage(\"two-point linkage Control.txt\")"
   ]
  },
  {
   "cell_type": "markdown",
   "metadata": {},
   "source": [
    "### Step 4: Output File\n",
    "`TwoPointLinkage` should have generated two output files in your local directory: `two-point linkage Output.txt` and `two-point linkage Output LOD Table.txt`. The output file has detailed information on the analysis, and the output table gives the calculated lod scores."
   ]
  },
  {
   "cell_type": "code",
   "execution_count": null,
   "metadata": {},
   "outputs": [],
   "source": [
    ";cat \"two-point linkage Output LOD Table.txt\""
   ]
  },
  {
   "cell_type": "markdown",
   "metadata": {},
   "source": [
    "### Step 4: Interpreting the result\n",
    "\n",
    "`TwoPointLinkage` should have generated the files `two-point linkage Output.txt` and `two-point linkage Output LOD Table.txt` in your local directory. One can directly open the file, or import into the Julia environment for ease of manipulation using the DataFrames package.\n",
    "\n",
    "*jss: Need to explain what each of the columns means.*\n",
    "\n",
    "In this analysis we are considering each marker separately. We find that the LOD (the ratio of Log base 10 of the Odds) is greatest when the recombination fraction between RADIN and PGM1 is 0.20 (20% probability of recombination between RADIN and PGM1), which is roughly equivalent to genetic distance of 20 cMorgans or even more roughly to a physical distance of 20,000,000 basepairs. We find that the LOD is greateest when the recombination fraction is 0.15. We can better determine the order of these three markers and their genetic distances using multiple markers and determining their Location Scores. The OpenMendel option [MendelLocationScores](https://openmendel.github.io/MendelLocationScores.jl/) can be used for this purpose."
   ]
  },
  {
   "cell_type": "markdown",
   "metadata": {},
   "source": [
    "## Citation\n",
    "\n",
    "If you use this analysis package in your research, please cite the following reference in the resulting publications:\n",
    "\n",
    "*Lange K, Papp JC, Sinsheimer JS, Sripracha R, Zhou H, Sobel EM (2013) Mendel: The Swiss army knife of genetic analysis programs. Bioinformatics 29:1568-1570.*"
   ]
  },
  {
   "cell_type": "markdown",
   "metadata": {},
   "source": [
    "## Acknowledgments\n",
    "\n",
    "This project is supported by the National Institutes of Health under NIGMS awards R01GM053275 and R25GM103774 and NHGRI award R01HG006139."
   ]
  }
 ],
 "metadata": {
  "kernelspec": {
   "display_name": "Julia 1.1.0",
   "language": "julia",
   "name": "julia-1.1"
  },
  "language_info": {
   "file_extension": ".jl",
   "mimetype": "application/julia",
   "name": "julia",
   "version": "1.1.0"
  }
 },
 "nbformat": 4,
 "nbformat_minor": 2
}
