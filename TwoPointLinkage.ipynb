{
 "cells": [
  {
   "cell_type": "markdown",
   "metadata": {},
   "source": [
    "# Tutorial of MendelTwoPointLinkage\n",
    "### last update: 2/4/2019"
   ]
  },
  {
   "cell_type": "markdown",
   "metadata": {},
   "source": [
    "## Julia version\n",
    "Current code supports Julia version 1.0+ "
   ]
  },
  {
   "cell_type": "markdown",
   "metadata": {},
   "source": [
    "## Overview\n",
    "Mendel Two Point Linkage is a component of the umbrella [OpenMendel](https://openmendel.github.io) project. This analysis option maps a trait locus using two-point linkage analysis."
   ]
  },
  {
   "cell_type": "markdown",
   "metadata": {},
   "source": [
    "## Installation\n",
    "\n",
    "*Note: Since the OpenMendel packages are not yet registered, the three OpenMendel packages (1) [SnpArrays](https://openmendel.github.io/SnpArrays.jl/latest/), (2) [MendelSearch](https://openmendel.github.io/MendelSearch.jl), and (3) [MendelBase](https://openmendel.github.io/MendelBase.jl) **must** be installed before any other OpenMendel package is installed. It is easiest if these three packages are installed in the above order.*\n",
    "\n",
    "If you have not already installed the MendelGameteCompetition, then within Julia, use the package manager to install MendelGameteCompetition:"
   ]
  },
  {
   "cell_type": "code",
   "execution_count": null,
   "metadata": {},
   "outputs": [],
   "source": [
    "] add https://github.com/OpenMendel/TwoPointLinkage.jl.git"
   ]
  },
  {
   "cell_type": "markdown",
   "metadata": {},
   "source": [
    "or once the OpenMendel packages are registered simply use:\n",
    "\n",
    "`pkg> add TwoPointLinkage`\n",
    "\n",
    "This package supports Julia v1.0+"
   ]
  },
  {
   "cell_type": "markdown",
   "metadata": {},
   "source": [
    "## Input Files\n",
    "The MendelTwoPointLinkage analysis package uses the following input files. Example input files can be found in the [data](https://github.com/OpenMendel/MendelTwoPointLinkage.jl/tree/master/data) subfolder of the MendelTwoPointLinkage project. (An analysis won't always need every file type below.)\n",
    "\n",
    "* [Control File](https://openmendel.github.io/MendelTwoPointLinkage.jl/#control-file): Specifies the names of your data input and output files and any optional parameters (*keywords*) for the analysis. (For a list of common keywords, see [Keywords Table](https://openmendel.github.io/MendelBase.jl/#keywords-table)).\n",
    "* [Locus File](https://openmendel.github.io/MendelBase.jl/#locus-file): Names and describes the genetic loci in your data.\n",
    "* [Pedigree File](https://openmendel.github.io/MendelBase.jl/#pedigree-file): Gives information about your individuals, such as name, sex, family structure, and ancestry.\n",
    "* [Phenotype File](https://openmendel.github.io/MendelBase.jl/#phenotype-file): Lists the available phenotypes.\n",
    "* [SNP Definition File](https://openmendel.github.io/MendelBase.jl/#snp-definition-file): Defines your SNPs with information such as SNP name, chromosome, position, allele names, allele frequencies.\n",
    "* [SNP Data File](https://openmendel.github.io/MendelBase.jl/#snp-data-file): Holds the genotypes for your data set. Must be a standard binary PLINK BED file in SNP major format. If you have a SNP data file you must have a SNP definition file."
   ]
  },
  {
   "cell_type": "markdown",
   "metadata": {},
   "source": [
    "### Control file\n",
    "The Control file is a text file consisting of keywords and their assigned values. The format of the Control file is:\n",
    "\n",
    "\tKeyword = Keyword_Value(s)\n",
    "\n",
    "Below is an example of a simple Control file to run Two Point Linkage:\n",
    "\n",
    "\t#\n",
    "\t# Input and Output files.\n",
    "\t#\n",
    "\tlocus_file = two-point linkage LocusFrame.txt\n",
    "\tpedigree_file = two-point linkage PedigreeFrame.txt\n",
    "\tphenotype_file = two-point linkage PhenotypeFrame.txt\n",
    "\toutput_file = two-point linkage Output.txt\n",
    "\tlod-score-table = two-point linkage Output LOD Table.txt\n",
    "\t#\n",
    "\t# Analysis parameters for Two-Point Linkage option.\n",
    "\t#\n",
    "\ttrait = RADIN\n",
    "\tGENDER-NEUTRAL = true\n",
    "\tstandard_errors = true\n",
    "\ttravel = grid\n",
    "\n",
    "In the example above, there are nine keywords. The first three keywords specify input files: *two-point linkage LocusFrame.txt*, *two-point linkage PedigreeFrame.txt*, *two-point linkage PhenotypeFrame.txt*. The next two keywords specify output files with results of the analysis: *two-point linkage Output.txt* and *two-point linkage LOD Table Output.txt*. The last four keywords specify analysis parameters: *disease_status*, *gender-neutral*, *standard_errors* and *travel*. The text after the '=' are the keyword values."
   ]
  },
  {
   "cell_type": "markdown",
   "metadata": {},
   "source": [
    "## Keywords\n",
    "This is a list of OpenMendel keywords specific to Two Point Linkage. A list of OpenMendel keywords common to most analysis package can be found [here](https://openmendel.github.io/MendelBase.jl/#keywords-table). The names of keywords are *not* case sensitive. (The keyword values *may* be case sensitive.)\n",
    "\n",
    " Keyword          |   Default Value    | Allowed Values |  Short Description       \n",
    "----------------  |  ----------------  |  ------------- |  ----------------\n",
    "   gender_neutral | true               |   true, false  | Forces equal recombination fractions\n",
    "   goal           |  maximize          \n",
    "   lod_score_table|Lod_Score_Frame.txt | User-defined output file name  |  Creates a lod score table output file\n",
    "   output_unit    \n",
    "   parameters     |  1\n",
    "   points         |   9\n",
    "   travel         |  grid              |_                |  Mode of sampling parameter space"
   ]
  },
  {
   "cell_type": "markdown",
   "metadata": {},
   "source": [
    "## Data Files\n",
    "Two Point Linkage requires a [Control file](https://openmendel.github.io/MendelBase.jl/#control-file), and a [Pedigree file](https://openmendel.github.io/MendelBase.jl/#pedigree-file). Genotype data is provided in a [SNP data file](https://openmendel.github.io/MendelBase.jl/#snp-data-file), with a [SNP Definition File](https://openmendel.github.io/MendelBase.jl/#snp-definition-file) describing the SNPs. Details on the format and contents of the Control and data files can be found on the [MendelBase](https://openmendel.github.io/MendelBase.jl) documentation page. There are example data files in the Two Point Linkage [data](https://github.com/OpenMendel/MendelTwoPointLinkage.jl/tree/master/data) folder."
   ]
  },
  {
   "cell_type": "markdown",
   "metadata": {},
   "source": [
    "## Running the Analysis\n",
    "To run this analysis package, first launch Julia. Then load the package with the command:\n",
    "\n",
    "`julia> using MendelTwoPointLinkage`\n",
    "\n",
    "Next, if necessary, change to the directory containing your files, for example,\n",
    "\n",
    "`julia> cd(\"~/path/to/data/files/\")`\n",
    "\n",
    "Finally, to run the analysis using the parameters in your Control file, for example, Control_file.txt, use the command:\n",
    "\n",
    "`julia> TwoPointLinkage(\"Control_file.txt\")`\n",
    "\n",
    "*Note: The package is called* MendelTwoPointLinkage *but the analysis function is called simply* TwoPointLinkage."
   ]
  },
  {
   "cell_type": "markdown",
   "metadata": {},
   "source": [
    "# Example 1: "
   ]
  },
  {
   "cell_type": "markdown",
   "metadata": {},
   "source": [
    "### Step 0: Load the OpenMendel pacakage and then go to the directory containing the data files:\n",
    "In this example, we go to the directory containing the example data files that come with this package."
   ]
  },
  {
   "cell_type": "code",
   "execution_count": null,
   "metadata": {},
   "outputs": [],
   "source": [
    "using MendelTwoPointLinkage\n",
    "cd(MendelTwoPointLinkage.datadir())\n",
    "pwd()"
   ]
  },
  {
   "cell_type": "markdown",
   "metadata": {},
   "source": [
    "### Step 1: Preparing the Pedigree files:\n",
    "Recall the structure of a [valid pedigree structure](https://openmendel.github.io/MendelBase.jl/#pedigree-file). Note that we require a header line. Let's examine the first few lines of such an example:"
   ]
  },
  {
   "cell_type": "code",
   "execution_count": 4,
   "metadata": {
    "scrolled": true
   },
   "outputs": [
    {
     "name": "stdout",
     "output_type": "stream",
     "text": [
      "Pedigree,Person,Mother,Father,Sex,,,simTrait\n",
      "  1       ,  16      ,          ,          ,  F       ,          ,  29.20564,\n",
      "  1       ,  8228    ,          ,          ,  F       ,          ,  31.80179,\n",
      "  1       ,  17008   ,          ,          ,  M       ,          ,  37.82143,\n",
      "  1       ,  9218    ,  17008   ,  16      ,  M       ,          ,  35.08036,\n",
      "  1       ,  3226    ,  9218    ,  8228    ,  F       ,          ,  28.32902,\n",
      "  2       ,  29      ,          ,          ,  F       ,          ,  36.17929,\n",
      "  2       ,  2294    ,          ,          ,  M       ,          ,  42.88099,\n",
      "  2       ,  3416    ,          ,          ,  M       ,          ,  40.98316,\n",
      "  2       ,  17893   ,  2294    ,  29      ,  F       ,          ,  35.55038,\n"
     ]
    }
   ],
   "source": [
    ";head -10 \"two-point linkage PedigreeFrame.txt\""
   ]
  },
  {
   "cell_type": "markdown",
   "metadata": {},
   "source": [
    "### Step 2: Preparing the Control file\n",
    "A Control file gives specific instructions to `MendelTwoPointLinkage`. A minimal Control file looks like the following:"
   ]
  },
  {
   "cell_type": "code",
   "execution_count": 1,
   "metadata": {
    "scrolled": true
   },
   "outputs": [
    {
     "name": "stdout",
     "output_type": "stream",
     "text": [
      "#\n",
      "# Input and Output files.\n",
      "#\n",
      "locus_file = two-point linkage LocusFrame.txt\n",
      "pedigree_file = two-point linkage PedigreeFrame.txt\n",
      "phenotype_file = two-point linkage PhenotypeFrame.txt\n",
      "output_file = two-point linkage Output.txt\n",
      "lod-score-table = two-point linkage Output LOD Table.txt\n",
      "#\n",
      "# Analysis parameters for Two-Point Linkage option.\n",
      "#\n",
      "trait = RADIN\n",
      "GENDER-NEUTRAL = true\n",
      "standard_errors = true\n",
      "travel = grid\n"
     ]
    }
   ],
   "source": [
    ";cat \"two-point linkage Control.txt\""
   ]
  },
  {
   "cell_type": "markdown",
   "metadata": {},
   "source": [
    "### Step 3: Run the analysis in Julia REPL or directly in notebook"
   ]
  },
  {
   "cell_type": "code",
   "execution_count": 2,
   "metadata": {},
   "outputs": [
    {
     "ename": "ArgumentError",
     "evalue": "ArgumentError: Package MendelTwoPointLinkage not found in current path:\n- Run `import Pkg; Pkg.add(\"MendelTwoPointLinkage\")` to install the MendelTwoPointLinkage package.\n",
     "output_type": "error",
     "traceback": [
      "ArgumentError: Package MendelTwoPointLinkage not found in current path:\n- Run `import Pkg; Pkg.add(\"MendelTwoPointLinkage\")` to install the MendelTwoPointLinkage package.\n",
      "",
      "Stacktrace:",
      " [1] require(::Module, ::Symbol) at ./loading.jl:823",
      " [2] top-level scope at In[2]:1"
     ]
    }
   ],
   "source": [
    "using MendelTwoPointLinkage\n",
    "    TwoPointLinkage(\"two-point linkage Control.txt\")"
   ]
  },
  {
   "cell_type": "markdown",
   "metadata": {},
   "source": [
    "### Step 4: Interpreting the result\n",
    "\n",
    "`TwoPointLinkage` should have generated the files `two-point linkage Output.txt` and `two-point linkage Output LOD Table.txt` in your local directory. One can directly open the file, or import into the Julia environment for ease of manipulation using the DataFrames package. "
   ]
  },
  {
   "cell_type": "markdown",
   "metadata": {},
   "source": [
    "## Citation\n",
    "\n",
    "If you use this analysis package in your research, please cite the following reference in the resulting publications:\n",
    "\n",
    "*Lange K, Papp JC, Sinsheimer JS, Sripracha R, Zhou H, Sobel EM (2013) Mendel: The Swiss army knife of genetic analysis programs. Bioinformatics 29:1568-1570.*"
   ]
  },
  {
   "cell_type": "markdown",
   "metadata": {},
   "source": [
    "## Acknowledgments\n",
    "\n",
    "This project is supported by the National Institutes of Health under NIGMS awards R01GM053275 and R25GM103774 and NHGRI award R01HG006139."
   ]
  }
 ],
 "metadata": {
  "kernelspec": {
   "display_name": "Julia 1.1.0",
   "language": "julia",
   "name": "julia-1.1"
  },
  "language_info": {
   "file_extension": ".jl",
   "mimetype": "application/julia",
   "name": "julia",
   "version": "1.1.0"
  }
 },
 "nbformat": 4,
 "nbformat_minor": 2
}
