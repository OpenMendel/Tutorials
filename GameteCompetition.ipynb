{
 "cells": [
  {
   "cell_type": "markdown",
   "metadata": {},
   "source": [
    "# Tutorial of MendelGameteCompetition\n",
    "### last update: 2/4/2019"
   ]
  },
  {
   "cell_type": "markdown",
   "metadata": {},
   "source": [
    "## Julia version\n",
    "Current code supports Julia version 1.0+ "
   ]
  },
  {
   "cell_type": "markdown",
   "metadata": {},
   "source": [
    "## Overview\n",
    "Mendel Gamete Competition is a component of the umbrella [OpenMendel](https://openmendel.github.io) project. The gamete competition model is an application of the Bradley-Terry model and can be considered a parametric form of the TDT for use with pedigree data because, besides getting p-values, we also get a measure of the strength of the allelic associations. The Bradley-Terry model was originally applied to problems such as ranking teams in a sports league based on the intra-league win/loss records. In genetics, alleles assume the role of teams, and transmission parameters (the τs) assume the role of the winning propensities [2](https://openmendel.github.io/MendelGameteCompetition.jl/#2), [3](https://openmendel.github.io/MendelGameteCompetition.jl/#3). As implemented in this version of OpenMendel, the gamete competition is an affected only association analysis and we assume the allele frequencies for the marker are known without error.  Let allele i be assigned a segregation parameter *τi*, then the probability that a heterozygous parent with genotype *i = j* transmits allele i is the ratio *τi/(τ<sub>i</sub>+τ<sub>j</sub>)*.  Because this ratio is invariant when i and j are multiplied by the same constant c, we need to impose the constraint that the most frequent allele k has segregation parameter *τ<sub>k</sub>* = 1. These propensities replace the normally used Mendelian segregation parameters for heterozygous parents' transmissions in the Elston-Stewart-Ott representation of the likelihood of the pedigrees.  In fact, under the null of no association between the marker and the trait in the gamete competition, Mendelian segregation ratios hold for heterozygous parents' transmissions so that *τ<sub>i</sub>*=1 is true for all alleles i and the likelihood reverts to the standard one. Note that the transmissions for homozygous parents always conform to standard Mendelian segregation ratios both under the null or alternative thus, like the TDT, only heterozygous parents are informative.  To test whether Mendelian segregation can be rejected, we estimate these *τs* by maximum likelihood and conduct a likelihood ratio test. P-values are calculated assuming that the likelihood ratio test statistic is asymptotically chi square distributed. The degrees of freedom are equal to the number of alleles minus 1."
   ]
  },
  {
   "cell_type": "markdown",
   "metadata": {},
   "source": [
    "## When to use MendelGameteCompetition\n",
    "The Gamete Competition model applies to pedigrees, including those with missing marker data. With too many marker alleles computational efficiency suffers and large sample statistical assumptions become suspect. We recommend consolidating alleles until at most eight alleles remain and each has a frequency of 0.05 or greater. If the fraction of missing data is large, ethnic stratification may come into play. One remedy is to limit analysis to a single ethnic group; another is to use ethnic-specific allele frequencies. If you opt for the latter strategy, then you cannot simultaneously estimate allele frequencies and transmission parameters."
   ]
  },
  {
   "cell_type": "markdown",
   "metadata": {},
   "source": [
    "## Installation\n",
    "\n",
    "*Note: Since the OpenMendel packages are not yet registered, the three OpenMendel packages (1) [SnpArrays](https://openmendel.github.io/SnpArrays.jl/latest/), (2) [MendelSearch](https://openmendel.github.io/MendelSearch.jl), and (3) [MendelBase](https://openmendel.github.io/MendelBase.jl) **must** be installed before any other OpenMendel package is installed. It is easiest if these three packages are installed in the above order.*\n",
    "\n",
    "If you have not already installed the MendelGameteCompetition, then within Julia, use the package manager to install MendelGameteCompetition:"
   ]
  },
  {
   "cell_type": "code",
   "execution_count": 3,
   "metadata": {},
   "outputs": [
    {
     "name": "stdout",
     "output_type": "stream",
     "text": [
      "\u001b[32m\u001b[1m  Updating\u001b[22m\u001b[39m git-repo `https://github.com/OpenMendel/MendelGameteCompetition.jl.git`\n",
      "\u001b[?25l\u001b[2K\u001b[?25h\u001b[32m\u001b[1m Resolving\u001b[22m\u001b[39m package versions...\n",
      "\u001b[32m\u001b[1m  Updating\u001b[22m\u001b[39m `~/.julia/environments/v1.1/Project.toml`\n",
      "\u001b[90m [no changes]\u001b[39m\n",
      "\u001b[32m\u001b[1m  Updating\u001b[22m\u001b[39m `~/.julia/environments/v1.1/Manifest.toml`\n",
      "\u001b[90m [no changes]\u001b[39m\n"
     ]
    }
   ],
   "source": [
    "] add https://github.com/OpenMendel/MendelGameteCompetition.jl.git"
   ]
  },
  {
   "cell_type": "markdown",
   "metadata": {},
   "source": [
    "or once the OpenMendel packages are registered simply use:\n",
    "\n",
    "`pkg> add MendelGameteCompetition`\n",
    "\n",
    "This package supports Julia v1.0+"
   ]
  },
  {
   "cell_type": "markdown",
   "metadata": {},
   "source": [
    "## Input Files\n",
    "The MendelGameteCompetition analysis package uses the following input files. Example input files can be found in the [data](https://github.com/OpenMendel/MendelGameteCompetition.jl/tree/master/data) subfolder of the MendelGameteCompetition project. (An analysis won't always need every file type below.)\n",
    "\n",
    "* [Control File](https://openmendel.github.io/MendelGameteCompetition.jl/#control-file): Specifies the names of your data input and output files and any optional parameters (*keywords*) for the analysis. (For a list of common keywords, see [Keywords Table](https://openmendel.github.io/MendelBase.jl/#keywords-table)).\n",
    "* [Locus File](https://openmendel.github.io/MendelBase.jl/#locus-file): Names and describes the genetic loci in your data.\n",
    "* [Pedigree File](https://openmendel.github.io/MendelBase.jl/#pedigree-file): Gives information about your individuals, such as name, sex, family structure, and ancestry.\n",
    "* [Phenotype File](https://openmendel.github.io/MendelBase.jl/#phenotype-file): Lists the available phenotypes."
   ]
  },
  {
   "cell_type": "markdown",
   "metadata": {},
   "source": [
    "### Control file\n",
    "The Control file is a text file consisting of keywords and their assigned values. The format of the Control file is:\n",
    "\n",
    "`Keyword = Keyword_Value(s)`\n",
    "\n",
    "Below is an example of a simple Control file to run Gamete Competition:\n",
    "\n",
    "    #\n",
    "    # Input and Output files.`\n",
    "\t#\n",
    "\tlocus_file = gamete competition LocusFrame.txt\n",
    "\tpedigree_file = gamete competition PedigreeFrame.txt\n",
    "\toutput_file = gamete competition Output.txt\n",
    "\t#\n",
    "\t# Analysis parameters for Gamete Competition option.\n",
    "\t#\n",
    "\tdisease_status = ACE\n",
    "\taffected_designator = 1\n",
    "\tstandard_errors = true\n",
    "\n",
    "In the example above, there are six keywords. The first three keywords specify the input and output files: *gamete competition LocusFrame.txt*, *gamete competition PedigreeFrame.txt*, and *gamete competition Output.txt*. The last three keywords specify the analysis parameters: *disease_status*, *affected_designator*, and *standard_errors*. The text after the '=' are the keyword values."
   ]
  },
  {
   "cell_type": "markdown",
   "metadata": {},
   "source": [
    "## Keywords<a id=\"keywords-table\"></a>\n",
    "This is a list of OpenMendel keywords specific to Gamete Competition. A list of OpenMendel keywords common to most analysis package can be found [here](https://openmendel.github.io/MendelBase.jl/#keywords-table). The names of keywords are *not* case sensitive. (The keyword values *may* be case sensitive.)\n",
    "\n",
    "\n",
    "|Keyword          |   Default Value    | Allowed Values |  Short Description       \n",
    "|----------------      |  ----------------       |  ----------------      |  ----------------\n",
    "|GameteCompetition_output_file  |GameteCompetition_Output_File.txt | User defined output file name |   Creates a lod score table output file \n",
    "|repetitions\n",
    "|xlinked_analysis  |  FALSE  |  TRUE, FALSE  |  Whether or not markers are on the X chromosome"
   ]
  },
  {
   "cell_type": "markdown",
   "metadata": {},
   "source": [
    "## Data Files\n",
    "Gamete Competition requires a [Control file](https://openmendel.github.io/MendelBase.jl/#control-file), and a [Pedigree file](https://openmendel.github.io/MendelBase.jl/#pedigree-file). Genotype data can be included in the Pedigree file, in which case a [Locus file](https://openmendel.github.io/MendelBase.jl/#locus-file) is required. Alternatively, genotype data can be provided in a [SNP data file](https://openmendel.github.io/MendelBase.jl/#snp-data-file), in which case a [SNP Definition File](https://openmendel.github.io/MendelBase.jl/#snp-definition-file) is required. Details on the format and contents of the Control and data files can be found on the [MendelBase](https://openmendel.github.io/MendelBase.jl) documentation page. There are example data files in the Gamete Competition [data](https://github.com/OpenMendel/MendelGameteCompetition.jl/tree/master/data) folder."
   ]
  },
  {
   "cell_type": "markdown",
   "metadata": {},
   "source": [
    "## Running the Analysis\n",
    "To run this analysis package, first launch Julia. Then load the package with the command:\n",
    "\n",
    "`julia> using GameteCompetition`\n",
    "\n",
    "Next, if necessary, change to the directory containing your files, for example,\n",
    "\n",
    "`julia> cd(\"~/path/to/data/files/\")`\n",
    "\n",
    "Finally, to run the analysis using the parameters in your Control file, for example, Control_file.txt, use the command:\n",
    "\n",
    "`julia> GameteCompetition(\"Control_file.txt\")`\n",
    "\n",
    "*Note: The package is called* MendelGameteCompetition *but the analysis function is called simply* GameteCompetition."
   ]
  },
  {
   "cell_type": "markdown",
   "metadata": {},
   "source": [
    "# Example 1: "
   ]
  },
  {
   "cell_type": "markdown",
   "metadata": {},
   "source": [
    "### Step 0: Load the OpenMendel package and then go to the directory containing the data files:\n",
    "In this example, we go to the directory containing the example data files that come with this package."
   ]
  },
  {
   "cell_type": "code",
   "execution_count": 1,
   "metadata": {},
   "outputs": [
    {
     "name": "stderr",
     "output_type": "stream",
     "text": [
      "┌ Info: Recompiling stale cache file /Users/jcpapp/.julia/compiled/v1.1/MendelGameteCompetition/cZMhL.ji for MendelGameteCompetition [ea798311-1288-557c-8ffb-c0ae1661b39b]\n",
      "└ @ Base loading.jl:1184\n"
     ]
    },
    {
     "data": {
      "text/plain": [
       "\"/Users/jcpapp/.julia/packages/MendelGameteCompetition/Y3ihd/data\""
      ]
     },
     "execution_count": 1,
     "metadata": {},
     "output_type": "execute_result"
    }
   ],
   "source": [
    "using MendelGameteCompetition\n",
    "cd(MendelGameteCompetition.datadir())\n",
    "pwd()"
   ]
  },
  {
   "cell_type": "markdown",
   "metadata": {},
   "source": [
    "### Step 1: Preparing the Pedigree files:\n",
    "Recall the structure of a [valid pedigree structure](https://openmendel.github.io/MendelBase.jl/#pedigree-file). Note that we require a header line. Let's examine the first few lines of such an example:"
   ]
  },
  {
   "cell_type": "code",
   "execution_count": 5,
   "metadata": {
    "scrolled": true
   },
   "outputs": [
    {
     "name": "stdout",
     "output_type": "stream",
     "text": [
      "Pedigree,Person,Mother,Father,Sex,Twin,SNP1,SNP2,SNP3,SNP4,SNP5,SNP6,SNP7,ID,SNP9,CT,ACE\n",
      "1,1,NA,NA,1,NA,NA,NA,2/2,2/2,2/2,NA,1/2,1/2,1/2,1/2,0\n",
      "1,2,NA,NA,2,NA,1/1,1/1,1/1,1/1,1/1,1/2,1/2,1/2,1/2,1/2,0\n",
      "1,4,NA,NA,1,NA,1/1,1/1,1/2,1/1,1/1,1/2,1/2,1/2,1/2,1/2,0\n",
      "1,8,1,2,2,NA,1/2,1/2,1/2,1/2,1/2,2/2,1/2,1/2,1/2,1/2,0\n",
      "1,7,1,2,2,NA,1/2,1/2,1/2,1/2,1/2,1/2,1/2,1/2,1/2,1/2,0\n",
      "1,6,1,2,2,NA,1/2,NA,1/2,1/2,1/2,2/2,1/2,1/2,1/2,1/2,0\n",
      "1,5,1,2,2,NA,1/2,1/2,1/2,1/2,1/2,1/2,1/2,1/2,1/2,1/2,0\n",
      "1,10,4,5,2,NA,1/1,1/1,1/1,1/1,1/1,1/1,2/2,1/1,1/1,1/1,0\n",
      "1,9,4,5,2,NA,1/2,1/2,1/2,1/2,1/2,1/2,1/2,1/2,1/2,1/2,0\n"
     ]
    }
   ],
   "source": [
    ";head -10 \"gamete competition PedigreeFrame.txt\""
   ]
  },
  {
   "cell_type": "markdown",
   "metadata": {},
   "source": [
    "### Step 2: Preparing the Control file\n",
    "A Control file gives specific instructions to `MendelGameteCompetition`. A minimal Control file looks like the following:"
   ]
  },
  {
   "cell_type": "code",
   "execution_count": 6,
   "metadata": {},
   "outputs": [
    {
     "name": "stdout",
     "output_type": "stream",
     "text": [
      "#\n",
      "# Input and Output files.\n",
      "#\n",
      "locus_file = gamete competition LocusFrame.txt\n",
      "pedigree_file = gamete competition PedigreeFrame.txt\n",
      "output_file = gamete competition Output.txt\n",
      "gamete_competition_output_table = gamete competition Output Table.txt\n",
      "\n",
      "#\n",
      "# Analysis parameters for Gamete Competition option.\n",
      "#\n",
      "trait = ACE\n",
      "affected_designator = 1\n",
      "standard_errors = true\n"
     ]
    }
   ],
   "source": [
    ";cat \"gamete competition Control.txt\""
   ]
  },
  {
   "cell_type": "markdown",
   "metadata": {},
   "source": [
    "### Step 3: Run the analysis in Julia REPL or directly in notebook\n"
   ]
  },
  {
   "cell_type": "code",
   "execution_count": 7,
   "metadata": {},
   "outputs": [
    {
     "name": "stdout",
     "output_type": "stream",
     "text": [
      " \n",
      " \n",
      "     Welcome to OpenMendel's\n",
      " Gamete Competition analysis option\n",
      "        version 0.5.0\n",
      " \n",
      " \n",
      "Reading the data.\n",
      "\n",
      "The current working directory is \"/Users/jcpapp/.julia/packages/MendelGameteCompetition/Y3ihd/data\".\n",
      "\n",
      "Keywords modified by the user:\n",
      "\n",
      "  affected_designator = 1\n",
      "  control_file = gamete competition Control.txt\n",
      "  gamete_competition_output_table = gamete competition Output Table.txt\n",
      "  locus_file = gamete competition LocusFrame.txt\n",
      "  output_file = gamete competition Output.txt\n",
      "  pedigree_file = gamete competition PedigreeFrame.txt\n",
      "  standard_errors = true\n",
      "  trait = ACE\n",
      " \n",
      " \n",
      "Analyzing the data.\n",
      "\n",
      "10×6 DataFrames.DataFrame\n",
      "│ Row │ Marker    │ LowAllele │ LowTau   │ HighAllele │ HighTau │ Pvalue     │\n",
      "│     │ \u001b[90mAbstract…\u001b[39m │ \u001b[90mAbstract…\u001b[39m │ \u001b[90mFloat64\u001b[39m  │ \u001b[90mAbstract…\u001b[39m  │ \u001b[90mFloat64\u001b[39m │ \u001b[90mFloat64\u001b[39m    │\n",
      "├─────┼───────────┼───────────┼──────────┼────────────┼─────────┼────────────┤\n",
      "│ 1   │ SNP1      │ 1         │ 1.0      │ 2          │ 5.41918 │ 2.80892e-5 │\n",
      "│ 2   │ SNP2      │ 1         │ 1.0      │ 2          │ 5.05391 │ 2.57148e-5 │\n",
      "│ 3   │ SNP3      │ 1         │ 1.0      │ 2          │ 5.23133 │ 3.22822e-6 │\n",
      "│ 4   │ SNP4      │ 1         │ 1.0      │ 2          │ 4.52948 │ 3.96425e-5 │\n",
      "│ 5   │ SNP5      │ 1         │ 1.0      │ 2          │ 4.59738 │ 3.25329e-5 │\n",
      "│ 6   │ SNP6      │ 1         │ 0.791317 │ 2          │ 1.0     │ 0.0323222  │\n",
      "│ 7   │ SNP7      │ 2         │ 1.0      │ 1          │ 8.04062 │ 2.28436e-6 │\n",
      "│ 8   │ ID        │ 1         │ 1.0      │ 2          │ 6.67264 │ 4.60103e-6 │\n",
      "│ 9   │ SNP9      │ 1         │ 1.0      │ 2          │ 7.45069 │ 7.69303e-6 │\n",
      "│ 10  │ CT        │ 1         │ 1.0      │ 2          │ 8.51002 │ 7.94566e-7 │ \n",
      " \n",
      "Mendel's analysis is finished.\n",
      "\n"
     ]
    }
   ],
   "source": [
    "using MendelGameteCompetition\n",
    "    GameteCompetition(\"gamete competition Control.txt\")"
   ]
  },
  {
   "cell_type": "markdown",
   "metadata": {},
   "source": [
    "### Step 4: Interpreting the result\n",
    "\n",
    "There are two forms of output.  A table is output to the screen that corresponds to a data frame that can be used in other analyses as desired.  For the SNP data provided in the example data files in the Gamete Competition [data](https://github.com/OpenMendel/MendelGameteCompetition.jl/tree/master/data) folder, the results are:\n",
    "\n",
    "Row | Marker  | LowAllele | Low œÑ   | HighAllele | High œÑ | Pvalue  |\n",
    "----|  -----  |-------    |  --------|--------   |  --------|----     |\n",
    " 1  | SNP1  | 1      | 1.0       | 2       | 5.41918  | 2.80892e-5 |\n",
    " 2  | SNP2  | 1       | 1.0      |  2      | 5.0539   | 2.57148e-5 |\n",
    " 3         | SNP3|  1          | 1.0            |      2        |     5.23133 | 3.22822e-6 | \n",
    " 4         | SNP4|  1          | 1.0            |      2        |     4.52948 | 3.96425e-5 |\n",
    " 5         | SNP5|  1          | 1.0            |      2        |     4.59438 | 3.25329e-5 |\n",
    " 6         | SNP6|  1          | 0.654208 |      2        |     1.0          | 0.00527033|\n",
    " 7         | SNP7|  2          | 1.0            |      1        |     8.04062 | 2.28436e-6 |\n",
    " 8         | ID      | 1           | 1.0            |     2         |     6.67263 | 4.60103e-6 |\n",
    " 9         | SNP9| 1           | 1.0            |     2         |     7.45069 | 7.69303e-6 |\n",
    " 10       | CT     | 1           | 1.0            |    2          |     8.51002 | 7.94566e-7 | \n",
    "\n",
    "For each marker, the allele with the smallest transmission, its corresponding *œÑ*, the allele with the largest transmission, and its corresponding *œÑ* are provided along with the p-value for the test of association of the marker with the trait. In the example provided, the CT Marker is the most associated with the trait because it has the smallest p-value.  The most frequent allele is the 1 allele so it is assigned *œÑ1* = 1.  The 2 allele is ~8.51 times more likely to be transmitted from a 1/2 parent than the 1 allele.  Details of the analysis are provided in the output text file. In this text file, the iterations of the numeric loglikelihood maximization, the maximum likelihood estimates at the maximum log likelihood, their standard errors and their correlations are provided for each marker (see the example output, [gamete competition Output.txt](https://github.com/OpenMendel/MendelGameteCompetition.jl/blob/master/data/archived_output/gamete%20competition%20Output.txt))"
   ]
  },
  {
   "cell_type": "markdown",
   "metadata": {},
   "source": [
    "## Citation\n",
    "\n",
    "If you use this analysis package in your research, please cite the following reference in the resulting publications:\n",
    "\n",
    "*Lange K, Papp JC, Sinsheimer JS, Sripracha R, Zhou H, Sobel EM (2013) Mendel: The Swiss army knife of genetic analysis programs. Bioinformatics 29:1568-1570.*"
   ]
  },
  {
   "cell_type": "markdown",
   "metadata": {},
   "source": [
    "## Acknowledgments\n",
    "\n",
    "This project is supported by the National Institutes of Health under NIGMS awards R01GM053275 and R25GM103774 and NHGRI award R01HG006139."
   ]
  }
 ],
 "metadata": {
  "kernelspec": {
   "display_name": "Julia 1.1.0",
   "language": "julia",
   "name": "julia-1.1"
  },
  "language_info": {
   "file_extension": ".jl",
   "mimetype": "application/julia",
   "name": "julia",
   "version": "1.1.0"
  }
 },
 "nbformat": 4,
 "nbformat_minor": 2
}
