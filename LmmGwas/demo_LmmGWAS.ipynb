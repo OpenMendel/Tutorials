{
 "cells": [
  {
   "cell_type": "markdown",
   "metadata": {},
   "source": [
    "# GWAS Analysis using Linear Mixed Effect Models"
   ]
  },
  {
   "cell_type": "code",
   "execution_count": 1,
   "metadata": {},
   "outputs": [
    {
     "name": "stdout",
     "output_type": "stream",
     "text": [
      "Julia Version 0.6.4\n",
      "Commit 9d11f62bcb (2018-07-09 19:09 UTC)\n",
      "Platform Info:\n",
      "  OS: macOS (x86_64-apple-darwin14.5.0)\n",
      "  CPU: Intel(R) Core(TM) i7-6567U CPU @ 3.30GHz\n",
      "  WORD_SIZE: 64\n",
      "  BLAS: libopenblas (USE64BITINT DYNAMIC_ARCH NO_AFFINITY Haswell MAX_THREADS=16)\n",
      "  LAPACK: libopenblas64_\n",
      "  LIBM: libopenlibm\n",
      "  LLVM: libLLVM-3.9.1 (ORCJIT, skylake)\n"
     ]
    }
   ],
   "source": [
    "versioninfo()"
   ]
  },
  {
   "cell_type": "markdown",
   "metadata": {},
   "source": [
    "### Load packages "
   ]
  },
  {
   "cell_type": "code",
   "execution_count": 2,
   "metadata": {},
   "outputs": [],
   "source": [
    "# packages from openMendel\n",
    "using SnpArrays,VarianceComponentModels\n",
    "# packages from Julia base\n",
    "using Distributions"
   ]
  },
  {
   "cell_type": "markdown",
   "metadata": {},
   "source": [
    "### Read in family structure and trait"
   ]
  },
  {
   "cell_type": "code",
   "execution_count": 3,
   "metadata": {},
   "outputs": [
    {
     "data": {
      "text/plain": [
       "212-element Array{Float64,1}:\n",
       " 1.0\n",
       " 1.0\n",
       " 0.0\n",
       " 0.0\n",
       " 1.0\n",
       " 1.0\n",
       " 0.0\n",
       " 0.0\n",
       " 1.0\n",
       " 0.0\n",
       " 1.0\n",
       " 0.0\n",
       " 1.0\n",
       " ⋮  \n",
       " 0.0\n",
       " 0.0\n",
       " 0.0\n",
       " 1.0\n",
       " 0.0\n",
       " 0.0\n",
       " 0.0\n",
       " 0.0\n",
       " 0.0\n",
       " 0.0\n",
       " 0.0\n",
       " 0.0"
      ]
     },
     "execution_count": 3,
     "metadata": {},
     "output_type": "execute_result"
    }
   ],
   "source": [
    "pedLMM = readcsv(\"SNP_29a.fam\", Any; header = false)\n",
    "Trait1 = convert(Vector{Float64}, pedLMM[:, 7])\n",
    "#Trait2 = convert(Vector{Float64}, pedLMM[:, 8])\n",
    "#Y = [Trait1 Trait2]\n",
    "sex = map(x -> strip(x) == \"F\"? 1.0 : 0.0,  pedLMM[:, 5])"
   ]
  },
  {
   "cell_type": "code",
   "execution_count": 4,
   "metadata": {},
   "outputs": [
    {
     "data": {
      "text/plain": [
       "212-element Array{Float64,1}:\n",
       " 29.2056\n",
       " 31.8018\n",
       " 37.8214\n",
       " 35.0804\n",
       " 28.329 \n",
       " 36.1793\n",
       " 42.881 \n",
       " 40.9832\n",
       " 35.5504\n",
       " 48.0605\n",
       " 37.6057\n",
       " 46.3675\n",
       " 35.0578\n",
       "  ⋮     \n",
       " 38.8598\n",
       " 42.2151\n",
       " 40.2603\n",
       " 36.0904\n",
       " 37.7272\n",
       " 40.46  \n",
       " 36.5984\n",
       " 40.1652\n",
       " 44.1222\n",
       " 37.7962\n",
       " 38.9626\n",
       " 40.5131"
      ]
     },
     "execution_count": 4,
     "metadata": {},
     "output_type": "execute_result"
    }
   ],
   "source": [
    "Trait1"
   ]
  },
  {
   "cell_type": "markdown",
   "metadata": {},
   "source": [
    "### Read in genotypes and calculate GRM"
   ]
  },
  {
   "cell_type": "code",
   "execution_count": 5,
   "metadata": {},
   "outputs": [
    {
     "name": "stderr",
     "output_type": "stream",
     "text": [
      "\u001b[1m\u001b[36mINFO: \u001b[39m\u001b[22m\u001b[36mv1.0 BED file detected\n",
      "\u001b[39m"
     ]
    },
    {
     "data": {
      "text/plain": [
       "212×212 Array{Float64,2}:\n",
       "  0.498264     0.0080878    0.0164327   …   0.0246825    0.00181856\n",
       "  0.0080878    0.498054    -0.0212599      -0.0285927   -0.0226525 \n",
       "  0.0164327   -0.0212599    0.499442       -0.0219661   -0.00748536\n",
       "  0.253627    -0.00160532   0.282542        0.00612693  -0.00339125\n",
       "  0.126098     0.253365     0.128931       -0.0158446   -0.00633959\n",
       " -0.014971    -0.00266073  -0.00243384  …   0.00384757   0.0145936 \n",
       " -0.0221357    0.0100492   -0.0107012      -0.0148443   -0.00127783\n",
       " -0.01629     -0.00749253  -0.015372       -0.0163305   -0.00258392\n",
       " -0.016679     0.00353587  -0.0128844      -0.0332489   -0.00707839\n",
       " -0.0176101   -0.00996912  -0.0158473      -0.00675875  -0.0122339 \n",
       " -0.0162558    0.00938592   0.0064231   …  -0.00510882   0.0168778 \n",
       " -0.0167487    0.00414544  -0.00936538     -0.0134863    0.0020952 \n",
       " -0.031148     0.00112387  -0.010794        0.00383105   0.0198635 \n",
       "  ⋮                                     ⋱   ⋮                      \n",
       " -0.00865735  -0.00335548  -0.0148433   …   0.00806601  -0.0211537 \n",
       "  0.00296028   0.0043655   -0.0183683       0.0012496    0.00898193\n",
       " -0.0204601   -0.0270898   -0.00194048     -0.0185883   -0.0116621 \n",
       " -0.0174561   -0.0128509   -0.0155773      -0.0274183   -0.0063823 \n",
       " -0.00170995   0.0154211   -0.00168146     -0.00684865  -0.0067438 \n",
       "  0.00718047  -0.00525265  -0.00283975  …   0.0309601    0.0261103 \n",
       " -0.0170218   -0.00661916   0.0020924      -0.022858     0.0037451 \n",
       "  0.0142551    0.0208073    0.0096287       0.00598877   0.0094809 \n",
       " -0.00586031  -0.00733706   0.0339257       0.0109116   -0.0177771 \n",
       "  0.00299024  -0.0134027    0.0150825       0.00799507   0.0150077 \n",
       "  0.0246825   -0.0285927   -0.0219661   …   0.593999     0.0497083 \n",
       "  0.00181856  -0.0226525   -0.00748536      0.0497083    0.491743  "
      ]
     },
     "execution_count": 5,
     "metadata": {},
     "output_type": "execute_result"
    }
   ],
   "source": [
    "snpbinLMM = SnpArray(\"SNP_29a\")\n",
    "maf, = summarize(snpbinLMM)\n",
    "snpbinLMM = snpbinLMM[:, maf .> 0.05]\n",
    "ex29agrm = grm(snpbinLMM; method = :GRM)"
   ]
  },
  {
   "cell_type": "code",
   "execution_count": 6,
   "metadata": {},
   "outputs": [
    {
     "data": {
      "text/plain": [
       "137741-element Array{AbstractString,1}:\n",
       " \"rs56343121\" \n",
       " \"rs56182540\" \n",
       " \"rs7260412\"  \n",
       " \"rs8106297\"  \n",
       " \"rs8106302\"  \n",
       " \"rs186451972\"\n",
       " \"rs76534612\" \n",
       " \"rs1975526\"  \n",
       " \"rs62103026\" \n",
       " \"rs62103027\" \n",
       " \"rs67286684\" \n",
       " \"rs59441037\" \n",
       " \"rs57114567\" \n",
       " ⋮            \n",
       " \"rs140264059\"\n",
       " \"rs62114717\" \n",
       " \"rs188169422\"\n",
       " \"rs139879509\"\n",
       " \"rs143250448\"\n",
       " \"rs145384750\"\n",
       " \"rs149215836\"\n",
       " \"rs139221927\"\n",
       " \"rs181848453\"\n",
       " \"rs186913222\"\n",
       " \"rs141816674\"\n",
       " \"rs150801216\""
      ]
     },
     "execution_count": 6,
     "metadata": {},
     "output_type": "execute_result"
    }
   ],
   "source": [
    "# columns are: :chrom, :snpid, :?, :pos, :allele1, :allele2\n",
    "snpLMM = readdlm(\"SNP_29a.bim\"; header = false)\n",
    "snpLMM = snpLMM[maf .> 0.05,:]\n",
    "snpid = map(x -> strip(string(x)), snpLMM[:, 2])"
   ]
  },
  {
   "cell_type": "markdown",
   "metadata": {},
   "source": [
    "### A continuous univariate phenotype (can be multivariate)"
   ]
  },
  {
   "cell_type": "code",
   "execution_count": 7,
   "metadata": {},
   "outputs": [
    {
     "data": {
      "text/plain": [
       "(212, 137741, 2)"
      ]
     },
     "execution_count": 7,
     "metadata": {},
     "output_type": "execute_result"
    }
   ],
   "source": [
    "n, snps = size(snpbinLMM)\n",
    "maf, = summarize(snpbinLMM)\n",
    "X = [ones(n) sex]\n",
    "p = size(X,2)  # no. covariates\n",
    "n, snps, p"
   ]
  },
  {
   "cell_type": "markdown",
   "metadata": {},
   "source": [
    "### Prepare to fit LmmGWAS"
   ]
  },
  {
   "cell_type": "code",
   "execution_count": 8,
   "metadata": {},
   "outputs": [
    {
     "data": {
      "text/plain": [
       "VarianceComponentModels.VarianceComponentModel{Float64,2,Array{Float64,2},Array{Float64,2}}([0.0; 0.0], ([1.0], [1.0]), Array{Float64}(0,2), Char[], Float64[], -Inf, Inf)"
      ]
     },
     "execution_count": 8,
     "metadata": {},
     "output_type": "execute_result"
    }
   ],
   "source": [
    "# fit null model once to store nessary information for alternative model \n",
    "nulldata    = VarianceComponentVariate(Trait1, X, (2ex29agrm, eye(n)))\n",
    "nulldatarot = TwoVarCompVariateRotate(nulldata)\n",
    "nullmodel   = VarianceComponentModel(nulldata)"
   ]
  },
  {
   "cell_type": "code",
   "execution_count": 9,
   "metadata": {},
   "outputs": [
    {
     "data": {
      "text/plain": [
       ":MM"
      ]
     },
     "execution_count": 9,
     "metadata": {},
     "output_type": "execute_result"
    }
   ],
   "source": [
    "algorithm = :MM"
   ]
  },
  {
   "cell_type": "code",
   "execution_count": 10,
   "metadata": {},
   "outputs": [
    {
     "name": "stdout",
     "output_type": "stream",
     "text": [
      "\n",
      "     MM Algorithm\n",
      "  Iter      Objective  \n",
      "--------  -------------\n",
      "       0  -1.487551e+05\n",
      "\n",
      "******************************************************************************\n",
      "This program contains Ipopt, a library for large-scale nonlinear optimization.\n",
      " Ipopt is released as open source code under the Eclipse Public License (EPL).\n",
      "         For more information visit http://projects.coin-or.org/Ipopt\n",
      "******************************************************************************\n",
      "\n",
      "       1  -6.257354e+02\n",
      "       2  -5.420582e+02\n",
      "       3  -5.116720e+02\n",
      "       4  -5.006695e+02\n",
      "       5  -4.957735e+02\n",
      "       6  -4.927804e+02\n",
      "       7  -4.905160e+02\n",
      "       8  -4.886679e+02\n",
      "       9  -4.871412e+02\n",
      "      10  -4.858883e+02\n",
      "      20  -4.813052e+02\n",
      "      30  -4.807972e+02\n",
      "      40  -4.807340e+02\n",
      "      50  -4.807255e+02\n",
      "      60  -4.807244e+02\n",
      "      70  -4.807242e+02\n",
      "\n"
     ]
    },
    {
     "data": {
      "text/plain": [
       "(-480.72419822635624, VarianceComponentModels.VarianceComponentModel{Float64,2,Array{Float64,2},Array{Float64,2}}([40.1916; -6.29444], ([4.87898], [1.92549]), Array{Float64}(0,2), Char[], Float64[], -Inf, Inf), ([1.05478], [0.559104]), [1.11255 -0.407883; -0.407883 0.312597], [0.172756; 0.31492], [0.0298447 -0.0453772; -0.0453772 0.0991749])"
      ]
     },
     "execution_count": 10,
     "metadata": {},
     "output_type": "execute_result"
    }
   ],
   "source": [
    "if algorithm == :MM\n",
    "    logl_null,_,_,Σcov, = mle_mm!(nullmodel, nulldatarot; verbose = true)\n",
    "elseif algorithm == :FS\n",
    "    logl_null,_,_,Σcov, = mle_fs!(nullmodel, nulldatarot; verbose = true)\n",
    "end"
   ]
  },
  {
   "cell_type": "markdown",
   "metadata": {},
   "source": [
    "### Heritablity of `Trait1`"
   ]
  },
  {
   "cell_type": "code",
   "execution_count": 11,
   "metadata": {},
   "outputs": [
    {
     "data": {
      "text/plain": [
       "([0.717026], [0.0622537])"
      ]
     },
     "execution_count": 11,
     "metadata": {},
     "output_type": "execute_result"
    }
   ],
   "source": [
    "h, hse = heritability(nullmodel.Σ, Σcov)"
   ]
  },
  {
   "cell_type": "code",
   "execution_count": 12,
   "metadata": {},
   "outputs": [
    {
     "data": {
      "text/plain": [
       "VarianceComponentModels.VarianceComponentModel{Float64,2,Array{Float64,2},Array{Float64,2}}([0.0; 0.0; … ; 0.0; 0.0], ([1.0], [1.0]), Array{Float64}(0,213), Char[], Float64[], -Inf, Inf)"
      ]
     },
     "execution_count": 12,
     "metadata": {},
     "output_type": "execute_result"
    }
   ],
   "source": [
    "## fit alternative model with SNPs, push null model info to alternative model \n",
    "T = eltype(sex)\n",
    "altdatarot = TwoVarCompVariateRotate(nulldatarot.Yrot,\n",
    "    zeros(T, n, size(X, 1) + 1), nulldatarot.eigval, nulldatarot.eigvec,\n",
    "    nulldatarot.logdetV2)\n",
    "copy!(altdatarot.Xrot, nulldatarot.Xrot) # last column ramains zero\n",
    "altmodel = VarianceComponentModel(altdatarot)"
   ]
  },
  {
   "cell_type": "markdown",
   "metadata": {},
   "source": [
    "### Loop over all SNPs to calculate LRT pvalues for LmmGWAS"
   ]
  },
  {
   "cell_type": "code",
   "execution_count": null,
   "metadata": {},
   "outputs": [
    {
     "name": "stdout",
     "output_type": "stream",
     "text": [
      "1\n",
      "1001\n",
      "2001\n"
     ]
    }
   ],
   "source": [
    "pvalue   = ones(snps)\n",
    "genovec  = zeros(T, n)\n",
    "testrun  = 100\n",
    "#@time for snp in 1:testrun\n",
    "@time for snp in 1:snps\n",
    "    # append (rotated) genotype vector to covariate matrix\n",
    "    copy!(genovec, snpbinLMM[:, snp]; impute = true, center = true, scale = true)\n",
    "    altdatarot.Xrot[:, end] = At_mul_B(altdatarot.eigvec, genovec)\n",
    "    # initialize mean effects to null model fit\n",
    "    fill!(altmodel.B, zero(T))\n",
    "    copy!(altmodel.B, nullmodel.B)\n",
    "    copy!(altmodel.Σ[1], nullmodel.Σ[1])\n",
    "    copy!(altmodel.Σ[2], nullmodel.Σ[2])\n",
    "    # fit alternative model\n",
    "    if algorithm == :MM\n",
    "        logl_alt, vcmodel_mle, Σse, Σcov, Bse, Bcov = mle_mm!(altmodel, altdatarot; verbose = false)\n",
    "    elseif algorithm == :FS\n",
    "        logl_alt, = mle_fs!(altmodel, altdatarot; verbose = false)\n",
    "    end\n",
    "    # LRT statistics and its pvalue\n",
    "    lrt = - 2(logl_null - logl_alt)\n",
    "    pvalue[snp] = ccdf(Chisq(1), lrt)\n",
    "#    println(snp,\": \", hapmap_snpdata.snpid[snp], \n",
    "    if mod(snp, 1000) == 1\n",
    "            println(snp)\n",
    "    end    \n",
    "#        \"\\n\\tMAF: \", @sprintf(\"%0.3f\", maf[snp]), \n",
    "#        \"\\n\\tLRT p: \", @sprintf(\"%0.3f\", pvalue[snp]))\n",
    "end"
   ]
  },
  {
   "cell_type": "markdown",
   "metadata": {},
   "source": [
    "### Output results to file"
   ]
  },
  {
   "cell_type": "code",
   "execution_count": null,
   "metadata": {},
   "outputs": [],
   "source": [
    "using DataFrames\n",
    "using CSV"
   ]
  },
  {
   "cell_type": "code",
   "execution_count": null,
   "metadata": {},
   "outputs": [],
   "source": [
    "#maf, = summarize(snpbinLMM)\n",
    "#plot_frame = DataFrame(snpid = snpLMM[:,2],\n",
    "#    AdjBasepairs = snpLMM[:,4], \n",
    "#    Chromosome = snpLMM[:,1], \n",
    " #   MAF = maf,\n",
    " #   NegativeLogPvalue = -log10.(pvalue))\n",
    "plot_frame = CSV.read(\"lmmGWAS_output.txt\")"
   ]
  },
  {
   "cell_type": "markdown",
   "metadata": {},
   "source": [
    "### Manhattan Plot"
   ]
  },
  {
   "cell_type": "code",
   "execution_count": null,
   "metadata": {},
   "outputs": [],
   "source": [
    "using Plots                             # From package Plots.\n",
    "gr(size=(2000,1600))\n",
    "# testrun was set up early \n",
    "#plot_frame = DataFrame(AdjBasepairs = snpLMM[1:testrun,4], \n",
    "#    Chromosome = snpLMM[1:testrun,1], \n",
    "#    NegativeLogPvalue = -log10.(pvalue[1:testrun]))\n",
    "\n",
    "# for full datasets\n",
    "# plot_frame = DataFrame(AdjBasepairs = snpLMM[:,4], \n",
    "#    Chromosome = snpLMM[:,1], \n",
    "#    NegativeLogPvalue = -log10.(pvalue))\n",
    "\n",
    "plt = scatter(plot_frame[:AdjBasepairs], plot_frame[:NegativeLogPvalue],\n",
    "      group = plot_frame[:Chromosome],\n",
    "      markersize = 10, markerstrokewidth = 0, color_palette = :rainbow)\n",
    "\n",
    "xticks = by(plot_frame, :Chromosome,\n",
    "        plot_frame -> mean(plot_frame[:AdjBasepairs]))\n",
    "xaxis!(plt, xticks = (sort(xticks[:x1])[1:2:end], \n",
    "        xticks[1:2:size(xticks, 1),:Chromosome]),\n",
    "      font(30))\n",
    "xaxis!(plt, xlabel = \"Chromosome\")\n",
    "#\n",
    "# Add the y-axis information.\n",
    "#\n",
    "yaxis!(plt, ylabel = \"-log10(p-value)\",font(20))\n",
    "#\n",
    "# Use a grey grid and remove the legend.\n",
    "#\n",
    "plot!(plt, gridcolor = :lightgrey, legend = false)\n",
    "#\n",
    "# Add an overall title.\n",
    "#\n",
    "#Plots.scalefontsizes(5)\n",
    "plot!(plt, title = \"Manhattan Plot\", window_title = \"Manhattan Plot\")\n",
    "#\n",
    "# Add a dashed horizontal line that indicates the Bonferonni threshold.\n",
    "#\n",
    "Plots.abline!(plt, 0, -log10(.05 / size(plot_frame,1)), color = :black,\n",
    "        line = :dash)"
   ]
  },
  {
   "cell_type": "code",
   "execution_count": null,
   "metadata": {},
   "outputs": [],
   "source": []
  }
 ],
 "metadata": {
  "kernelspec": {
   "display_name": "Julia 0.6.4",
   "language": "julia",
   "name": "julia-0.6"
  },
  "language_info": {
   "file_extension": ".jl",
   "mimetype": "application/julia",
   "name": "julia",
   "version": "0.6.4"
  }
 },
 "nbformat": 4,
 "nbformat_minor": 2
}
