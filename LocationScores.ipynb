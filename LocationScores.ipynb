{
 "cells": [
  {
   "cell_type": "markdown",
   "metadata": {},
   "source": [
    "# Tutorial of MendelLocationScores"
   ]
  },
  {
   "cell_type": "markdown",
   "metadata": {},
   "source": [
    "## Julia version\n",
    "Current code supports Julia version 1.0+ "
   ]
  },
  {
   "cell_type": "markdown",
   "metadata": {},
   "source": [
    "## Overview\n",
    "Mendel Location Scores is a component of the umbrella [OpenMendel](https://openmendel.github.io) project. This package performs multipoint linkage analysis. That is, the analysis considers multiple linked markers in combination when mapping the trait."
   ]
  },
  {
   "cell_type": "markdown",
   "metadata": {},
   "source": [
    "## When to use MendelLocationScores\n",
    "MendelLocationScores analysis can use sib pairs, nuclear families, or large pedigrees, along with marker and trait data, to localize genes."
   ]
  },
  {
   "cell_type": "markdown",
   "metadata": {},
   "source": [
    "## Installation\n",
    "\n",
    "*Note: Since the OpenMendel packages are not yet registered, the three OpenMendel packages (1) [SnpArrays](https://openmendel.github.io/SnpArrays.jl/latest/), (2) [MendelSearch](https://openmendel.github.io/MendelSearch.jl), and (3) [MendelBase](https://openmendel.github.io/MendelBase.jl) **must** be installed before any other OpenMendel package is installed. It is easiest if these three packages are installed in the above order.*\n",
    "\n",
    "If you have not already installed the MendelLocationScores, then within Julia, use the package manager to install MendelLocationScores:"
   ]
  },
  {
   "cell_type": "code",
   "execution_count": null,
   "metadata": {},
   "outputs": [],
   "source": [
    "] add https://github.com/OpenMendel/MendelLocationScores.jl.git"
   ]
  },
  {
   "cell_type": "markdown",
   "metadata": {},
   "source": [
    "or once the OpenMendel packages are registered simply use:\n",
    "\n",
    "`pkg> add MendelLocationScores`\n",
    "\n",
    "This package supports Julia v1.0+"
   ]
  },
  {
   "cell_type": "markdown",
   "metadata": {},
   "source": [
    "## Input Files\n",
    "The MendelLocationScores analysis package accepts the following input files. Example input files can be found in the [data](https://github.com/OpenMendel/MendelLocationScores.jl/tree/master/data) subfolder of the MendelLocationScores project. (An analysis won't always need every file type below.)\n",
    "\n",
    "* [Control File](https://openmendel.github.io/MendelLocationScores.jl/#control-file): Specifies the names of your data input and output files and any optional parameters (*keywords*) for the analysis. (For a list of common keywords, see [Keywords Table](https://openmendel.github.io/MendelBase.jl/#keywords-table)). The Control file is optional. If you don't use a Control file you will enter your keywords directly in the command line.\n",
    "* [Locus File](https://openmendel.github.io/MendelBase.jl/#locus-file): Names and describes the genetic loci in your data.\n",
    "* [Pedigree File](https://openmendel.github.io/MendelBase.jl/#pedigree-file): Gives information about your individuals, such as name, sex, family structure, and ancestry.\n",
    "* [Phenotype File](https://openmendel.github.io/MendelBase.jl/#phenotype-file): Lists the available phenotypes."
   ]
  },
  {
   "cell_type": "markdown",
   "metadata": {},
   "source": [
    "### Control file\n",
    "The Control file is a text file consisting of keywords and their assigned values. The format of the Control file is:\n",
    "\n",
    "\tKeyword = Keyword_Value(s)\n",
    "\n",
    "Below is an example of a simple Control file to run Location Scores:\n",
    "\n",
    "\t#\n",
    "\t# Input and Output files.\n",
    "\t#\n",
    "\tlocus_file = location scores LocusFrame.txt\n",
    "\tpedigree_file = location scores PedigreeFrame.txt\n",
    "\tphenotype_file = location scores PhenotypeFrame.txt\n",
    "\toutput_file = location scores Output.txt\n",
    "\tlod-score-table = location scores Output Table.txt\n",
    "\t#\n",
    "\t# Analysis parameters for Location Scores option.\n",
    "\t#\n",
    "\ttrait = RADIN\n",
    "\ttravel = grid\n",
    "\tgender-neutral = false\n",
    "\tstandard_errors = true\n",
    "\tflanking_distance = 1.0\n",
    "\tflanking_markers = 2\n",
    "\n",
    "In the example above, there are eight keywords. Three keywords specify the input files: *location scores LocusFrame.txt*, *location scores PedigreeFrame.txt*, and *location scores PhenotypeFrame.txt*. The next two keywords specify the output files: *location scores Output.txt* the results file - and *location scores Table Output.txt* - a table of the location scores. The last three keywords specify analysis parameters. The text after the '=' are the keyword values."
   ]
  },
  {
   "cell_type": "markdown",
   "metadata": {},
   "source": [
    "## Keywords\n",
    "This is a list of OpenMendel keywords specific to Location Scores. A list of OpenMendel keywords common to most analysis package can be found [here](https://openmendel.github.io/MendelBase.jl/#keywords-table). The names of keywords are *not* case sensitive. (The keyword values *may* be case sensitive.)\n",
    "\n",
    "Keyword          |   Default Value    | Allowed Values |  Short Description       \n",
    "----------------      |  ----------------       |  ----------------      |  ----------------\n",
    "flanking_distance  |  [0.5, 0.5]  |  Real  |   Marker flanking distance for location scores\n",
    "  flanking_markers  |  1  |  Integer  |  Number of flanking markers in imputation window\n",
    "  gender_neutral  |  TRUE  |  TRUE, FALSE  |  Whether different male/female recombination  fractions are considered\n",
    "lod_score_table  |  \"Lod_Score_Frame.txt\"  | User defined output text file name  |   Creates a lod score table output file"
   ]
  },
  {
   "cell_type": "markdown",
   "metadata": {},
   "source": [
    "## Data Files\n",
    "Location Scores requires a [Control file](https://openmendel.github.io/MendelBase.jl/#control-file), and a [Pedigree file](https://openmendel.github.io/MendelBase.jl/#pedigree-file). Genotype data is provided in a [SNP data file](https://openmendel.github.io/MendelBase.jl/#snp-data-file), with a [SNP Definition File](https://openmendel.github.io/MendelBase.jl/#snp-definition-file) describing the SNPs. Details on the format and contents of the Control and data files can be found on the [MendelBase](https://openmendel.github.io/MendelBase.jl) documentation page. There are example data files in the Location Scores [data](https://github.com/OpenMendel/MendelLocationScores.jl/tree/master/data) folder."
   ]
  },
  {
   "cell_type": "markdown",
   "metadata": {},
   "source": [
    "## Running the Analysis\n",
    "To run this analysis package, first launch Julia. Then load the package with the command:\n",
    "\n",
    "`julia> using MendelLocationScores`\n",
    "\n",
    "Next, if necessary, change to the directory containing your files, for example,\n",
    "\n",
    "`julia> cd(\"~/path/to/data/files/\")`\n",
    "\n",
    "Finally, to run the analysis using the parameters in your Control file, for example, Control_file.txt, use the command:\n",
    "\n",
    "`julia> LocationScores(\"Control_file.txt\")`\n",
    "\n",
    "*Note: The package is called* MendelLocationScores *but the analysis function is called simply* LocationScores."
   ]
  },
  {
   "cell_type": "markdown",
   "metadata": {},
   "source": [
    "## Output Files\n",
    "Each option will create output files specific to that option, and will save them to the same directory that holds the input data files."
   ]
  },
  {
   "cell_type": "markdown",
   "metadata": {},
   "source": [
    "# Example 1: "
   ]
  },
  {
   "cell_type": "markdown",
   "metadata": {},
   "source": [
    "### Step 0: Load the OpenMendel package and then go to the directory containing the data files:\n",
    "First we load the MendelLocationScores package."
   ]
  },
  {
   "cell_type": "code",
   "execution_count": null,
   "metadata": {},
   "outputs": [],
   "source": [
    "using MendelLocationScores"
   ]
  },
  {
   "cell_type": "markdown",
   "metadata": {},
   "source": [
    "In this example we go to the directory containing the example data files that come with this package."
   ]
  },
  {
   "cell_type": "code",
   "execution_count": null,
   "metadata": {},
   "outputs": [],
   "source": [
    "cd(MendelLocationScores.datadir())\n",
    "pwd()"
   ]
  },
  {
   "cell_type": "markdown",
   "metadata": {},
   "source": [
    "### Step 1: Preparing the Pedigree files:\n",
    "Recall the structure of a [valid pedigree structure](https://openmendel.github.io/MendelBase.jl/#pedigree-file). Note that we require a header line. Let's examine the first few lines of such an example:"
   ]
  },
  {
   "cell_type": "code",
   "execution_count": null,
   "metadata": {
    "scrolled": true
   },
   "outputs": [],
   "source": [
    ";head -10 \"location scores PedigreeFrame.txt\""
   ]
  },
  {
   "cell_type": "markdown",
   "metadata": {},
   "source": [
    "### Step 2: Preparing the Control file\n",
    "A Control file gives specific instructions to `MendelLocationScores`. A minimal Control file looks like the following:"
   ]
  },
  {
   "cell_type": "code",
   "execution_count": null,
   "metadata": {},
   "outputs": [],
   "source": [
    ";cat \"location scores Control.txt\""
   ]
  },
  {
   "cell_type": "markdown",
   "metadata": {},
   "source": [
    "### Step 3: Run the analysis in Julia REPL or directly in notebook\n"
   ]
  },
  {
   "cell_type": "code",
   "execution_count": null,
   "metadata": {},
   "outputs": [],
   "source": [
    "LocationScores(\"location scores Control.txt\")"
   ]
  },
  {
   "cell_type": "markdown",
   "metadata": {},
   "source": [
    "### Step 4: Output Files\n",
    "`MendelLocationScores` should have generated the files `location scores Output.txt` and `location scores Output Table.txt` in your local directory. The output file has detailed information on the analysis, and the output table gives the calculated lod scores."
   ]
  },
  {
   "cell_type": "markdown",
   "metadata": {},
   "source": [
    "### Step 5: Interpreting the result\n",
    "In this example, the trait locus is the blood group antigen RADIN with two flanking markers, PGM1 and RH. Looking at the top 11 lines of the output table which show the results for RADIN versus PGM1, we see that the highest lod score is 3.84 at 22.23 CentiMorgans. The XX and XY CentiMorgans are the same."
   ]
  },
  {
   "cell_type": "code",
   "execution_count": null,
   "metadata": {},
   "outputs": [],
   "source": [
    ";head -11 \"location scores Output Table.txt\""
   ]
  },
  {
   "cell_type": "markdown",
   "metadata": {},
   "source": [
    "## Citation\n",
    "\n",
    "If you use this analysis package in your research, please cite the following reference in the resulting publications:\n",
    "\n",
    "*Lange K, Papp JC, Sinsheimer JS, Sripracha R, Zhou H, Sobel EM (2013) Mendel: The Swiss army knife of genetic analysis programs. Bioinformatics 29:1568-1570.*"
   ]
  },
  {
   "cell_type": "markdown",
   "metadata": {},
   "source": [
    "## Acknowledgments\n",
    "\n",
    "This project is supported by the National Institutes of Health under NIGMS awards R01GM053275 and R25GM103774 and NHGRI award R01HG006139."
   ]
  }
 ],
 "metadata": {
  "kernelspec": {
   "display_name": "Julia 1.1.0",
   "language": "julia",
   "name": "julia-1.1"
  },
  "language_info": {
   "file_extension": ".jl",
   "mimetype": "application/julia",
   "name": "julia",
   "version": "1.1.0"
  }
 },
 "nbformat": 4,
 "nbformat_minor": 2
}
