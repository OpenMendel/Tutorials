{
 "cells": [
  {
   "cell_type": "markdown",
   "metadata": {},
   "source": [
    "# Genetic Data Wrangling Using Julia"
   ]
  },
  {
   "cell_type": "markdown",
   "metadata": {},
   "source": [
    "In this lecture, we do some data wrangling of a genetic data set using Julia. The data set is a modified version of Mendel Option 29 (Ped-GWAS) example."
   ]
  },
  {
   "cell_type": "code",
   "execution_count": 1,
   "metadata": {},
   "outputs": [
    {
     "name": "stdout",
     "output_type": "stream",
     "text": [
      "Julia Version 0.6.4\n",
      "Commit 9d11f62bcb (2018-07-09 19:09 UTC)\n",
      "Platform Info:\n",
      "  OS: macOS (x86_64-apple-darwin14.5.0)\n",
      "  CPU: Intel(R) Core(TM) i7-6920HQ CPU @ 2.90GHz\n",
      "  WORD_SIZE: 64\n",
      "  BLAS: libopenblas (USE64BITINT DYNAMIC_ARCH NO_AFFINITY Haswell MAX_THREADS=16)\n",
      "  LAPACK: libopenblas64_\n",
      "  LIBM: libopenlibm\n",
      "  LLVM: libLLVM-3.9.1 (ORCJIT, skylake)\n"
     ]
    }
   ],
   "source": [
    "versioninfo()"
   ]
  },
  {
   "cell_type": "markdown",
   "metadata": {},
   "source": [
    "# Data files\n",
    "\n",
    "We are presented with the following files"
   ]
  },
  {
   "cell_type": "code",
   "execution_count": 2,
   "metadata": {},
   "outputs": [
    {
     "name": "stdout",
     "output_type": "stream",
     "text": [
      "-rw-rw-r--  1 huazhou  staff     18868 Aug 21  2016 Ped29c.in\n",
      "-rw-r--r--  1 huazhou  staff  13416483 Sep 12  2017 SNP_data29a_missing.bed\n",
      "-rw-rw-r--  1 huazhou  staff  11990931 Aug 21  2016 SNP_def29a.in\n"
     ]
    }
   ],
   "source": [
    ";ls -l Ped29c.in SNP_def29a.in SNP_data29a_missing.bed"
   ]
  },
  {
   "cell_type": "markdown",
   "metadata": {},
   "source": [
    "* **Pedigree file** `Ped29c.in` is directly taken from Mendel Option 29 (Ped-GWAS) example. It contains sample information, similar to the `fam` file in Plink.  \n",
    "* **SNP definition file** `SNP_def29a.in` is directly taken from Mendel Option 29 (Ped-GWAS) example. It contains SNP information, similar to the `bim` file in Plink.    \n",
    "* **SNP binary file** `SNP_data29a_missing.bed` is modified from the original SNP binary file `SNP_data29a.bin` by introducing misssing genotypes. It encodes genotype information in binary format, same as the `bed` file in Plink. "
   ]
  },
  {
   "cell_type": "markdown",
   "metadata": {},
   "source": [
    "Before any data analysis, it's always a good idea to know how the data is generated. Quote from the [Mendel Option 29 (Ped-GWAS) documentation (p294)](https://www.genetics.ucla.edu/software/Mendel_current_doc.pdf#page=294)  \n",
    "\n",
    "> We constructed an example data set, 29a, that uses dense SNP data in binary files. To\n",
    "simulate data with realistic linkage disequilibrium (LD) structure, we took advantage of\n",
    "phased sequence data from chromosome 19 on 85 individuals of northern and western\n",
    "European ancestry (originally from the CEPH sample) made publicly available in the 1000\n",
    "Genomes Project [52]. After we removed markers that were mono-allelic in this set of individuals,\n",
    "253,141 SNPs remained. Almost half of the SNPs have minor allele frequencies\n",
    "(MAF) below 5%. The haplotype pairs attributed to the 85 CEPH members were reassigned\n",
    "to the 85 founders of 27 pedigree structures selected from the Framingham Heart\n",
    "Study (FHS, http://www.framinghamheartstudy.org). The selected Framingham pedigrees\n",
    "were chosen to reflect the kind of pedigrees commonly collected in family-based\n",
    "genetic studies. The 27 pedigrees encompass 212 people, range in size from 1 to 36 people\n",
    "and from 1 to 5 generations, and contain sibships of 1 to 5 children. The genotypes of\n",
    "non-founders were simulated, using Option 17, conditional on the haplotypes imposed on\n",
    "the founders. All genotypes were recorded as unordered for subsequent analyses.\n",
    "\n",
    "Note the original genotype data `SNP_data29a.bin` is complete without missing genotypes. We introduced some missingness in  the `SNP_data29a_missing.bed`."
   ]
  },
  {
   "cell_type": "markdown",
   "metadata": {},
   "source": [
    "# Explore non-genetic data"
   ]
  },
  {
   "cell_type": "markdown",
   "metadata": {},
   "source": [
    "## Import pedigree file\n",
    "\n",
    "The pedigree file `Ped29c.in` contains the sample information. Let's take a look at the first 10 lines of the file."
   ]
  },
  {
   "cell_type": "code",
   "execution_count": 4,
   "metadata": {},
   "outputs": [
    {
     "name": "stdout",
     "output_type": "stream",
     "text": [
      "  1       ,  16      ,          ,          ,  F       ,          ,  30.20564,   9.24210,\n",
      "  1       ,  8228    ,          ,          ,  F       ,          ,  35.82143,  15.27458,\n",
      "  1       ,  17008   ,          ,          ,  M       ,          ,  36.05298,  19.50496,\n",
      "  1       ,  9218    ,  17008   ,  16      ,  M       ,          ,  38.96351,  18.98575,\n",
      "  1       ,  3226    ,  9218    ,  8228    ,  F       ,          ,  33.73911,  21.10412,\n",
      "  2       ,  29      ,          ,          ,  F       ,          ,  34.88835,  19.01142,\n",
      "  2       ,  2294    ,          ,          ,  M       ,          ,  37.70105,  19.16556,\n",
      "  2       ,  3416    ,          ,          ,  M       ,          ,  45.13171,  19.84088,\n",
      "  2       ,  17893   ,  2294    ,  29      ,  F       ,          ,  35.15599,  14.14228,\n",
      "  2       ,  6952    ,  3416    ,  17893   ,  M       ,          ,  42.45136,  19.92713,\n"
     ]
    }
   ],
   "source": [
    ";head Ped29c.in"
   ]
  },
  {
   "cell_type": "markdown",
   "metadata": {},
   "source": [
    "The columns are: **FamilyID**, **ID**, **FatherID**, **MotherID**, **Sex**, **Proband**, **SimTrait1**, **SimTrait2**, **GroupID**.\n",
    "\n",
    "We use the [`DataFrames.jl`](https://github.com/JuliaData/DataFrames.jl) package to read in this comma separated file."
   ]
  },
  {
   "cell_type": "code",
   "execution_count": 5,
   "metadata": {},
   "outputs": [
    {
     "data": {
      "text/html": [
       "<table class=\"data-frame\"><thead><tr><th></th><th>famid</th><th>id</th><th>faid</th><th>moid</th><th>sex</th><th>twin</th><th>simtrait1</th><th>simtrait2</th><th>group</th></tr></thead><tbody><tr><th>1</th><td>1</td><td>16</td><td>missing</td><td>missing</td><td>F</td><td>missing</td><td>30.2056</td><td>9.2421</td><td>missing</td></tr><tr><th>2</th><td>1</td><td>8228</td><td>missing</td><td>missing</td><td>F</td><td>missing</td><td>35.8214</td><td>15.2746</td><td>missing</td></tr><tr><th>3</th><td>1</td><td>17008</td><td>missing</td><td>missing</td><td>M</td><td>missing</td><td>36.053</td><td>19.505</td><td>missing</td></tr><tr><th>4</th><td>1</td><td>9218</td><td>17008</td><td>16</td><td>M</td><td>missing</td><td>38.9635</td><td>18.9857</td><td>missing</td></tr><tr><th>5</th><td>1</td><td>3226</td><td>9218</td><td>8228</td><td>F</td><td>missing</td><td>33.7391</td><td>21.1041</td><td>missing</td></tr><tr><th>6</th><td>2</td><td>29</td><td>missing</td><td>missing</td><td>F</td><td>missing</td><td>34.8884</td><td>19.0114</td><td>missing</td></tr><tr><th>7</th><td>2</td><td>2294</td><td>missing</td><td>missing</td><td>M</td><td>missing</td><td>37.7011</td><td>19.1656</td><td>missing</td></tr><tr><th>8</th><td>2</td><td>3416</td><td>missing</td><td>missing</td><td>M</td><td>missing</td><td>45.1317</td><td>19.8409</td><td>missing</td></tr><tr><th>9</th><td>2</td><td>17893</td><td>2294</td><td>29</td><td>F</td><td>missing</td><td>35.156</td><td>14.1423</td><td>missing</td></tr><tr><th>10</th><td>2</td><td>6952</td><td>3416</td><td>17893</td><td>M</td><td>missing</td><td>42.4514</td><td>19.9271</td><td>missing</td></tr><tr><th>11</th><td>2</td><td>14695</td><td>2294</td><td>29</td><td>F</td><td>missing</td><td>35.6426</td><td>17.4191</td><td>missing</td></tr><tr><th>12</th><td>2</td><td>6790</td><td>2294</td><td>29</td><td>M</td><td>missing</td><td>40.6344</td><td>23.6845</td><td>missing</td></tr><tr><th>13</th><td>2</td><td>3916</td><td>2294</td><td>29</td><td>F</td><td>missing</td><td>34.8618</td><td>16.8684</td><td>missing</td></tr><tr><th>14</th><td>3</td><td>39</td><td>missing</td><td>missing</td><td>F</td><td>missing</td><td>37.2552</td><td>16.397</td><td>missing</td></tr><tr><th>15</th><td>3</td><td>4521</td><td>missing</td><td>missing</td><td>F</td><td>missing</td><td>33.0975</td><td>15.3287</td><td>missing</td></tr><tr><th>16</th><td>3</td><td>8366</td><td>missing</td><td>missing</td><td>M</td><td>missing</td><td>37.916</td><td>20.6693</td><td>missing</td></tr><tr><th>17</th><td>3</td><td>16693</td><td>missing</td><td>missing</td><td>F</td><td>missing</td><td>34.839</td><td>17.6651</td><td>missing</td></tr><tr><th>18</th><td>3</td><td>21688</td><td>8366</td><td>16693</td><td>M</td><td>missing</td><td>36.2022</td><td>21.7773</td><td>missing</td></tr><tr><th>19</th><td>3</td><td>25532</td><td>21688</td><td>39</td><td>F</td><td>missing</td><td>30.9314</td><td>17.8042</td><td>missing</td></tr><tr><th>20</th><td>3</td><td>26294</td><td>21688</td><td>39</td><td>M</td><td>missing</td><td>41.5899</td><td>22.0772</td><td>missing</td></tr><tr><th>21</th><td>3</td><td>16795</td><td>21688</td><td>39</td><td>F</td><td>missing</td><td>31.5552</td><td>17.7989</td><td>missing</td></tr><tr><th>22</th><td>3</td><td>17445</td><td>8366</td><td>16693</td><td>M</td><td>missing</td><td>35.5947</td><td>20.0131</td><td>missing</td></tr><tr><th>23</th><td>3</td><td>2039</td><td>17445</td><td>4521</td><td>M</td><td>missing</td><td>36.048</td><td>17.7814</td><td>missing</td></tr><tr><th>24</th><td>3</td><td>2831</td><td>8366</td><td>16693</td><td>M</td><td>missing</td><td>39.1822</td><td>20.747</td><td>missing</td></tr><tr><th>25</th><td>4</td><td>54</td><td>missing</td><td>missing</td><td>F</td><td>missing</td><td>34.7339</td><td>9.88673</td><td>missing</td></tr><tr><th>26</th><td>4</td><td>5072</td><td>missing</td><td>missing</td><td>M</td><td>missing</td><td>37.5677</td><td>14.2164</td><td>missing</td></tr><tr><th>27</th><td>4</td><td>17240</td><td>5072</td><td>54</td><td>F</td><td>missing</td><td>32.9781</td><td>12.9809</td><td>missing</td></tr><tr><th>28</th><td>5</td><td>70</td><td>missing</td><td>missing</td><td>F</td><td>missing</td><td>40.2272</td><td>21.0772</td><td>missing</td></tr><tr><th>29</th><td>5</td><td>24010</td><td>missing</td><td>missing</td><td>M</td><td>missing</td><td>41.7587</td><td>24.1248</td><td>missing</td></tr><tr><th>30</th><td>5</td><td>21999</td><td>24010</td><td>70</td><td>M</td><td>missing</td><td>45.4635</td><td>27.5554</td><td>missing</td></tr><tr><th>&vellip;</th><td>&vellip;</td><td>&vellip;</td><td>&vellip;</td><td>&vellip;</td><td>&vellip;</td><td>&vellip;</td><td>&vellip;</td><td>&vellip;</td><td>&vellip;</td></tr></tbody></table>"
      ],
      "text/plain": [
       "212×9 DataFrames.DataFrame. Omitted printing of 2 columns\n",
       "│ Row │ famid │ id    │ faid    │ moid    │ sex │ twin    │ simtrait1 │\n",
       "├─────┼───────┼───────┼─────────┼─────────┼─────┼─────────┼───────────┤\n",
       "│ 1   │ 1     │ 16    │ \u001b[90mmissing\u001b[39m │ \u001b[90mmissing\u001b[39m │ F   │ \u001b[90mmissing\u001b[39m │ 30.2056   │\n",
       "│ 2   │ 1     │ 8228  │ \u001b[90mmissing\u001b[39m │ \u001b[90mmissing\u001b[39m │ F   │ \u001b[90mmissing\u001b[39m │ 35.8214   │\n",
       "│ 3   │ 1     │ 17008 │ \u001b[90mmissing\u001b[39m │ \u001b[90mmissing\u001b[39m │ M   │ \u001b[90mmissing\u001b[39m │ 36.053    │\n",
       "│ 4   │ 1     │ 9218  │ 17008   │ 16      │ M   │ \u001b[90mmissing\u001b[39m │ 38.9635   │\n",
       "│ 5   │ 1     │ 3226  │ 9218    │ 8228    │ F   │ \u001b[90mmissing\u001b[39m │ 33.7391   │\n",
       "│ 6   │ 2     │ 29    │ \u001b[90mmissing\u001b[39m │ \u001b[90mmissing\u001b[39m │ F   │ \u001b[90mmissing\u001b[39m │ 34.8884   │\n",
       "│ 7   │ 2     │ 2294  │ \u001b[90mmissing\u001b[39m │ \u001b[90mmissing\u001b[39m │ M   │ \u001b[90mmissing\u001b[39m │ 37.7011   │\n",
       "│ 8   │ 2     │ 3416  │ \u001b[90mmissing\u001b[39m │ \u001b[90mmissing\u001b[39m │ M   │ \u001b[90mmissing\u001b[39m │ 45.1317   │\n",
       "│ 9   │ 2     │ 17893 │ 2294    │ 29      │ F   │ \u001b[90mmissing\u001b[39m │ 35.156    │\n",
       "│ 10  │ 2     │ 6952  │ 3416    │ 17893   │ M   │ \u001b[90mmissing\u001b[39m │ 42.4514   │\n",
       "│ 11  │ 2     │ 14695 │ 2294    │ 29      │ F   │ \u001b[90mmissing\u001b[39m │ 35.6426   │\n",
       "⋮\n",
       "│ 201 │ 31    │ 9277  │ 4257    │ 13772   │ M   │ \u001b[90mmissing\u001b[39m │ 40.0522   │\n",
       "│ 202 │ 31    │ 16139 │ 4257    │ 13772   │ M   │ \u001b[90mmissing\u001b[39m │ 39.3161   │\n",
       "│ 203 │ 31    │ 10439 │ 4257    │ 13772   │ M   │ \u001b[90mmissing\u001b[39m │ 41.7913   │\n",
       "│ 204 │ 31    │ 63    │ 17673   │ 19770   │ F   │ \u001b[90mmissing\u001b[39m │ 36.3301   │\n",
       "│ 205 │ 10006 │ 66    │ \u001b[90mmissing\u001b[39m │ \u001b[90mmissing\u001b[39m │ M   │ \u001b[90mmissing\u001b[39m │ 42.9442   │\n",
       "│ 206 │ 10008 │ 92    │ \u001b[90mmissing\u001b[39m │ \u001b[90mmissing\u001b[39m │ M   │ \u001b[90mmissing\u001b[39m │ 39.8927   │\n",
       "│ 207 │ 10014 │ 186   │ \u001b[90mmissing\u001b[39m │ \u001b[90mmissing\u001b[39m │ M   │ \u001b[90mmissing\u001b[39m │ 42.5795   │\n",
       "│ 208 │ 10027 │ 374   │ \u001b[90mmissing\u001b[39m │ \u001b[90mmissing\u001b[39m │ M   │ \u001b[90mmissing\u001b[39m │ 47.8619   │\n",
       "│ 209 │ 10029 │ 434   │ \u001b[90mmissing\u001b[39m │ \u001b[90mmissing\u001b[39m │ M   │ \u001b[90mmissing\u001b[39m │ 41.0531   │\n",
       "│ 210 │ 10033 │ 333   │ \u001b[90mmissing\u001b[39m │ \u001b[90mmissing\u001b[39m │ M   │ \u001b[90mmissing\u001b[39m │ 39.9502   │\n",
       "│ 211 │ 10040 │ 234   │ \u001b[90mmissing\u001b[39m │ \u001b[90mmissing\u001b[39m │ M   │ \u001b[90mmissing\u001b[39m │ 35.4778   │\n",
       "│ 212 │ 10045 │ 789   │ \u001b[90mmissing\u001b[39m │ \u001b[90mmissing\u001b[39m │ M   │ \u001b[90mmissing\u001b[39m │ 44.3932   │"
      ]
     },
     "execution_count": 5,
     "metadata": {},
     "output_type": "execute_result"
    },
    {
     "name": "stderr",
     "output_type": "stream",
     "text": [
      "\u001b[1m\u001b[33mWARNING: \u001b[39m\u001b[22m\u001b[33mreadtable is deprecated, use CSV.read from the CSV package instead\u001b[39m\n",
      "Stacktrace:\n",
      " [1] \u001b[1mdepwarn\u001b[22m\u001b[22m\u001b[1m(\u001b[22m\u001b[22m::String, ::Symbol\u001b[1m)\u001b[22m\u001b[22m at \u001b[1m./deprecated.jl:70\u001b[22m\u001b[22m\n",
      " [2] \u001b[1m#readtable#232\u001b[22m\u001b[22m\u001b[1m(\u001b[22m\u001b[22m::Bool, ::Char, ::Array{Char,1}, ::Char, ::Array{String,1}, ::Array{String,1}, ::Array{String,1}, ::Bool, ::Int64, ::Array{Symbol,1}, ::Array{Any,1}, ::Bool, ::Char, ::Bool, ::Int64, ::Array{Int64,1}, ::Bool, ::Symbol, ::Bool, ::Bool, ::DataFrames.#readtable, ::String\u001b[1m)\u001b[22m\u001b[22m at \u001b[1m/Users/huazhou/.julia/v0.6/DataFrames/src/deprecated.jl:1045\u001b[22m\u001b[22m\n",
      " [3] \u001b[1m(::DataFrames.#kw##readtable)\u001b[22m\u001b[22m\u001b[1m(\u001b[22m\u001b[22m::Array{Any,1}, ::DataFrames.#readtable, ::String\u001b[1m)\u001b[22m\u001b[22m at \u001b[1m./<missing>:0\u001b[22m\u001b[22m\n",
      " [4] \u001b[1minclude_string\u001b[22m\u001b[22m\u001b[1m(\u001b[22m\u001b[22m::String, ::String\u001b[1m)\u001b[22m\u001b[22m at \u001b[1m./loading.jl:522\u001b[22m\u001b[22m\n",
      " [5] \u001b[1mexecute_request\u001b[22m\u001b[22m\u001b[1m(\u001b[22m\u001b[22m::ZMQ.Socket, ::IJulia.Msg\u001b[1m)\u001b[22m\u001b[22m at \u001b[1m/Users/huazhou/.julia/v0.6/IJulia/src/execute_request.jl:180\u001b[22m\u001b[22m\n",
      " [6] \u001b[1m(::Compat.#inner#14{Array{Any,1},IJulia.#execute_request,Tuple{ZMQ.Socket,IJulia.Msg}})\u001b[22m\u001b[22m\u001b[1m(\u001b[22m\u001b[22m\u001b[1m)\u001b[22m\u001b[22m at \u001b[1m/Users/huazhou/.julia/v0.6/Compat/src/Compat.jl:332\u001b[22m\u001b[22m\n",
      " [7] \u001b[1meventloop\u001b[22m\u001b[22m\u001b[1m(\u001b[22m\u001b[22m::ZMQ.Socket\u001b[1m)\u001b[22m\u001b[22m at \u001b[1m/Users/huazhou/.julia/v0.6/IJulia/src/eventloop.jl:8\u001b[22m\u001b[22m\n",
      " [8] \u001b[1m(::IJulia.##15#18)\u001b[22m\u001b[22m\u001b[1m(\u001b[22m\u001b[22m\u001b[1m)\u001b[22m\u001b[22m at \u001b[1m./task.jl:335\u001b[22m\u001b[22m\n",
      "while loading In[5], in expression starting on line 3\n"
     ]
    }
   ],
   "source": [
    "using DataFrames\n",
    "\n",
    "ped29c = readtable(\"Ped29c.in\", header = false, names = [:famid, :id, :faid, \n",
    "    :moid, :sex, :twin, :simtrait1, :simtrait2, :group])"
   ]
  },
  {
   "cell_type": "markdown",
   "metadata": {},
   "source": [
    "`readtable` function is smart to strip the white spaces in data fields, record missing values, and *guess* the data types of each column."
   ]
  },
  {
   "cell_type": "code",
   "execution_count": 6,
   "metadata": {},
   "outputs": [
    {
     "data": {
      "text/plain": [
       "9-element Array{Type,1}:\n",
       " Union{Int64, Missings.Missing}  \n",
       " Union{Int64, Missings.Missing}  \n",
       " Union{Int64, Missings.Missing}  \n",
       " Union{Int64, Missings.Missing}  \n",
       " Union{Missings.Missing, String} \n",
       " Union{Int64, Missings.Missing}  \n",
       " Union{Float64, Missings.Missing}\n",
       " Union{Float64, Missings.Missing}\n",
       " Union{Int64, Missings.Missing}  "
      ]
     },
     "execution_count": 6,
     "metadata": {},
     "output_type": "execute_result"
    }
   ],
   "source": [
    "eltypes(ped29c)"
   ]
  },
  {
   "cell_type": "markdown",
   "metadata": {},
   "source": [
    "## Explore phenotypes\n",
    "\n",
    "There are two traits in the pedigree file. \n",
    "\n",
    "Summary statistics:"
   ]
  },
  {
   "cell_type": "code",
   "execution_count": 7,
   "metadata": {},
   "outputs": [
    {
     "data": {
      "text/html": [
       "<table class=\"data-frame\"><thead><tr><th></th><th>variable</th><th>mean</th><th>min</th><th>median</th><th>max</th><th>nunique</th><th>nmissing</th><th>eltype</th></tr></thead><tbody><tr><th>1</th><td>simtrait1</td><td>37.8602</td><td>29.2403</td><td>37.6538</td><td>47.8619</td><td></td><td>0</td><td>Float64</td></tr><tr><th>2</th><td>simtrait2</td><td>18.472</td><td>9.2421</td><td>18.534</td><td>27.5554</td><td></td><td>0</td><td>Float64</td></tr></tbody></table>"
      ],
      "text/plain": [
       "2×8 DataFrames.DataFrame. Omitted printing of 1 columns\n",
       "│ Row │ variable  │ mean    │ min     │ median  │ max     │ nunique │ nmissing │\n",
       "├─────┼───────────┼─────────┼─────────┼─────────┼─────────┼─────────┼──────────┤\n",
       "│ 1   │ simtrait1 │ 37.8602 │ 29.2403 │ 37.6538 │ 47.8619 │         │ 0        │\n",
       "│ 2   │ simtrait2 │ 18.472  │ 9.2421  │ 18.534  │ 27.5554 │         │ 0        │"
      ]
     },
     "execution_count": 7,
     "metadata": {},
     "output_type": "execute_result"
    }
   ],
   "source": [
    "describe(ped29c[[:simtrait1, :simtrait2]])"
   ]
  },
  {
   "cell_type": "markdown",
   "metadata": {},
   "source": [
    "Summary statistics stratified by sex."
   ]
  },
  {
   "cell_type": "code",
   "execution_count": 8,
   "metadata": {},
   "outputs": [
    {
     "data": {
      "text/html": [
       "<table class=\"data-frame\"><thead><tr><th></th><th>sex</th><th>n</th><th>mean</th><th>std</th></tr></thead><tbody><tr><th>1</th><td>F</td><td>97</td><td>34.403</td><td>2.22</td></tr><tr><th>2</th><td>M</td><td>115</td><td>40.776</td><td>2.728</td></tr></tbody></table>"
      ],
      "text/plain": [
       "2×4 DataFrames.DataFrame\n",
       "│ Row │ sex │ n   │ mean   │ std   │\n",
       "├─────┼─────┼─────┼────────┼───────┤\n",
       "│ 1   │ F   │ 97  │ 34.403 │ 2.22  │\n",
       "│ 2   │ M   │ 115 │ 40.776 │ 2.728 │"
      ]
     },
     "execution_count": 8,
     "metadata": {},
     "output_type": "execute_result"
    }
   ],
   "source": [
    "by(ped29c, :sex) do df\n",
    "  DataFrame(\n",
    "    n = length(df[:simtrait1]),\n",
    "    mean = round(mean(df[:simtrait1]), 3),\n",
    "    std = round(std(df[:simtrait1]), 3)\n",
    "  )\n",
    "end"
   ]
  },
  {
   "cell_type": "code",
   "execution_count": 9,
   "metadata": {},
   "outputs": [
    {
     "data": {
      "text/html": [
       "<table class=\"data-frame\"><thead><tr><th></th><th>sex</th><th>n</th><th>mean</th><th>std</th></tr></thead><tbody><tr><th>1</th><td>F</td><td>97</td><td>16.095</td><td>2.458</td></tr><tr><th>2</th><td>M</td><td>115</td><td>20.477</td><td>2.674</td></tr></tbody></table>"
      ],
      "text/plain": [
       "2×4 DataFrames.DataFrame\n",
       "│ Row │ sex │ n   │ mean   │ std   │\n",
       "├─────┼─────┼─────┼────────┼───────┤\n",
       "│ 1   │ F   │ 97  │ 16.095 │ 2.458 │\n",
       "│ 2   │ M   │ 115 │ 20.477 │ 2.674 │"
      ]
     },
     "execution_count": 9,
     "metadata": {},
     "output_type": "execute_result"
    }
   ],
   "source": [
    "by(ped29c, :sex) do df\n",
    "  DataFrame(\n",
    "    n = length(df[:simtrait2]),\n",
    "    mean = round(mean(df[:simtrait2]), 3),\n",
    "    std = round(std(df[:simtrait2]), 3)\n",
    "  )\n",
    "end"
   ]
  },
  {
   "cell_type": "markdown",
   "metadata": {},
   "source": [
    "Summary statistics stratified by pedigrees:"
   ]
  },
  {
   "cell_type": "code",
   "execution_count": 10,
   "metadata": {},
   "outputs": [
    {
     "data": {
      "text/html": [
       "<table class=\"data-frame\"><thead><tr><th></th><th>famid</th><th>n</th><th>mean</th><th>std</th></tr></thead><tbody><tr><th>1</th><td>1</td><td>5</td><td>34.957</td><td>3.243</td></tr><tr><th>2</th><td>2</td><td>8</td><td>38.308</td><td>3.966</td></tr><tr><th>3</th><td>3</td><td>11</td><td>35.837</td><td>3.19</td></tr><tr><th>4</th><td>4</td><td>3</td><td>35.093</td><td>2.316</td></tr><tr><th>5</th><td>5</td><td>3</td><td>42.483</td><td>2.692</td></tr><tr><th>6</th><td>8</td><td>6</td><td>36.131</td><td>4.304</td></tr><tr><th>7</th><td>10</td><td>4</td><td>35.304</td><td>1.714</td></tr><tr><th>8</th><td>11</td><td>15</td><td>37.874</td><td>3.98</td></tr><tr><th>9</th><td>14</td><td>6</td><td>39.157</td><td>3.612</td></tr><tr><th>10</th><td>17</td><td>23</td><td>38.712</td><td>2.872</td></tr><tr><th>11</th><td>19</td><td>18</td><td>38.41</td><td>4.343</td></tr><tr><th>12</th><td>22</td><td>10</td><td>37.286</td><td>3.188</td></tr><tr><th>13</th><td>23</td><td>18</td><td>37.833</td><td>5.049</td></tr><tr><th>14</th><td>24</td><td>7</td><td>37.877</td><td>5.042</td></tr><tr><th>15</th><td>25</td><td>13</td><td>36.271</td><td>3.489</td></tr><tr><th>16</th><td>27</td><td>7</td><td>37.459</td><td>3.611</td></tr><tr><th>17</th><td>28</td><td>4</td><td>41.304</td><td>4.815</td></tr><tr><th>18</th><td>29</td><td>7</td><td>36.656</td><td>4.122</td></tr><tr><th>19</th><td>31</td><td>36</td><td>37.963</td><td>4.321</td></tr><tr><th>20</th><td>10006</td><td>1</td><td>42.944</td><td>NaN</td></tr><tr><th>21</th><td>10008</td><td>1</td><td>39.893</td><td>NaN</td></tr><tr><th>22</th><td>10014</td><td>1</td><td>42.58</td><td>NaN</td></tr><tr><th>23</th><td>10027</td><td>1</td><td>47.862</td><td>NaN</td></tr><tr><th>24</th><td>10029</td><td>1</td><td>41.053</td><td>NaN</td></tr><tr><th>25</th><td>10033</td><td>1</td><td>39.95</td><td>NaN</td></tr><tr><th>26</th><td>10040</td><td>1</td><td>35.478</td><td>NaN</td></tr><tr><th>27</th><td>10045</td><td>1</td><td>44.393</td><td>NaN</td></tr></tbody></table>"
      ],
      "text/plain": [
       "27×4 DataFrames.DataFrame\n",
       "│ Row │ famid │ n  │ mean   │ std   │\n",
       "├─────┼───────┼────┼────────┼───────┤\n",
       "│ 1   │ 1     │ 5  │ 34.957 │ 3.243 │\n",
       "│ 2   │ 2     │ 8  │ 38.308 │ 3.966 │\n",
       "│ 3   │ 3     │ 11 │ 35.837 │ 3.19  │\n",
       "│ 4   │ 4     │ 3  │ 35.093 │ 2.316 │\n",
       "│ 5   │ 5     │ 3  │ 42.483 │ 2.692 │\n",
       "│ 6   │ 8     │ 6  │ 36.131 │ 4.304 │\n",
       "│ 7   │ 10    │ 4  │ 35.304 │ 1.714 │\n",
       "│ 8   │ 11    │ 15 │ 37.874 │ 3.98  │\n",
       "│ 9   │ 14    │ 6  │ 39.157 │ 3.612 │\n",
       "│ 10  │ 17    │ 23 │ 38.712 │ 2.872 │\n",
       "│ 11  │ 19    │ 18 │ 38.41  │ 4.343 │\n",
       "⋮\n",
       "│ 16  │ 27    │ 7  │ 37.459 │ 3.611 │\n",
       "│ 17  │ 28    │ 4  │ 41.304 │ 4.815 │\n",
       "│ 18  │ 29    │ 7  │ 36.656 │ 4.122 │\n",
       "│ 19  │ 31    │ 36 │ 37.963 │ 4.321 │\n",
       "│ 20  │ 10006 │ 1  │ 42.944 │ NaN   │\n",
       "│ 21  │ 10008 │ 1  │ 39.893 │ NaN   │\n",
       "│ 22  │ 10014 │ 1  │ 42.58  │ NaN   │\n",
       "│ 23  │ 10027 │ 1  │ 47.862 │ NaN   │\n",
       "│ 24  │ 10029 │ 1  │ 41.053 │ NaN   │\n",
       "│ 25  │ 10033 │ 1  │ 39.95  │ NaN   │\n",
       "│ 26  │ 10040 │ 1  │ 35.478 │ NaN   │\n",
       "│ 27  │ 10045 │ 1  │ 44.393 │ NaN   │"
      ]
     },
     "execution_count": 10,
     "metadata": {},
     "output_type": "execute_result"
    }
   ],
   "source": [
    "by(ped29c, :famid) do df\n",
    "  DataFrame(\n",
    "    n = length(df[:simtrait1]),\n",
    "    mean = round(mean(df[:simtrait1]), 3),\n",
    "    std = round(std(df[:simtrait1]), 3)\n",
    "  )\n",
    "end"
   ]
  },
  {
   "cell_type": "markdown",
   "metadata": {},
   "source": [
    "Graphs always help."
   ]
  },
  {
   "cell_type": "code",
   "execution_count": 11,
   "metadata": {},
   "outputs": [
    {
     "name": "stderr",
     "output_type": "stream",
     "text": [
      "\u001b[1m\u001b[36mINFO: \u001b[39m\u001b[22m\u001b[36mPrecompiling module Gadfly.\n",
      "\u001b[39m\u001b[1m\u001b[91mERROR: \u001b[39m\u001b[22mLoadError: LoadError: \u001b[91mUnable to load \n",
      "\n",
      "_jl_libpango (/Users/huazhou/.julia/v0.6/Homebrew/deps/usr/lib/libpango-1.0.dylib)\n",
      "\n",
      "Please re-run Pkg.build(package), and restart Julia.\u001b[39m\n",
      "Stacktrace:\n",
      " [1] \u001b[1minclude_from_node1\u001b[22m\u001b[22m\u001b[1m(\u001b[22m\u001b[22m::String\u001b[1m)\u001b[22m\u001b[22m at \u001b[1m./loading.jl:576\u001b[22m\u001b[22m\n",
      " [2] \u001b[1minclude\u001b[22m\u001b[22m\u001b[1m(\u001b[22m\u001b[22m::String\u001b[1m)\u001b[22m\u001b[22m at \u001b[1m./sysimg.jl:14\u001b[22m\u001b[22m\n",
      " [3] \u001b[1minclude_from_node1\u001b[22m\u001b[22m\u001b[1m(\u001b[22m\u001b[22m::String\u001b[1m)\u001b[22m\u001b[22m at \u001b[1m./loading.jl:576\u001b[22m\u001b[22m\n",
      " [4] \u001b[1minclude\u001b[22m\u001b[22m\u001b[1m(\u001b[22m\u001b[22m::String\u001b[1m)\u001b[22m\u001b[22m at \u001b[1m./sysimg.jl:14\u001b[22m\u001b[22m\n",
      " [5] \u001b[1manonymous\u001b[22m\u001b[22m at \u001b[1m./<missing>:2\u001b[22m\u001b[22m\n",
      "while loading /Users/huazhou/.julia/v0.6/Cairo/src/../deps/deps.jl, in expression starting on line 22\n",
      "while loading /Users/huazhou/.julia/v0.6/Cairo/src/Cairo.jl, in expression starting on line 9\n",
      "\u001b[1m\u001b[91mERROR: \u001b[39m\u001b[22mLoadError: LoadError: \u001b[91mFailed to precompile Cairo to /Users/huazhou/.julia/lib/v0.6/Cairo.ji.\u001b[39m\n",
      "Stacktrace:\n",
      " [1] \u001b[1mcompilecache\u001b[22m\u001b[22m\u001b[1m(\u001b[22m\u001b[22m::String\u001b[1m)\u001b[22m\u001b[22m at \u001b[1m./loading.jl:710\u001b[22m\u001b[22m\n",
      " [2] \u001b[1m_require\u001b[22m\u001b[22m\u001b[1m(\u001b[22m\u001b[22m::Symbol\u001b[1m)\u001b[22m\u001b[22m at \u001b[1m./loading.jl:463\u001b[22m\u001b[22m\n",
      " [3] \u001b[1mrequire\u001b[22m\u001b[22m\u001b[1m(\u001b[22m\u001b[22m::Symbol\u001b[1m)\u001b[22m\u001b[22m at \u001b[1m./loading.jl:405\u001b[22m\u001b[22m\n",
      " [4] \u001b[1minclude_from_node1\u001b[22m\u001b[22m\u001b[1m(\u001b[22m\u001b[22m::String\u001b[1m)\u001b[22m\u001b[22m at \u001b[1m./loading.jl:576\u001b[22m\u001b[22m\n",
      " [5] \u001b[1minclude\u001b[22m\u001b[22m\u001b[1m(\u001b[22m\u001b[22m::String\u001b[1m)\u001b[22m\u001b[22m at \u001b[1m./sysimg.jl:14\u001b[22m\u001b[22m\n",
      " [6] \u001b[1minclude_from_node1\u001b[22m\u001b[22m\u001b[1m(\u001b[22m\u001b[22m::String\u001b[1m)\u001b[22m\u001b[22m at \u001b[1m./loading.jl:576\u001b[22m\u001b[22m\n",
      " [7] \u001b[1minclude\u001b[22m\u001b[22m\u001b[1m(\u001b[22m\u001b[22m::String\u001b[1m)\u001b[22m\u001b[22m at \u001b[1m./sysimg.jl:14\u001b[22m\u001b[22m\n",
      " [8] \u001b[1manonymous\u001b[22m\u001b[22m at \u001b[1m./<missing>:2\u001b[22m\u001b[22m\n",
      "while loading /Users/huazhou/.julia/v0.6/Compose/src/cairo_backends.jl, in expression starting on line 4\n",
      "while loading /Users/huazhou/.julia/v0.6/Compose/src/Compose.jl, in expression starting on line 161\n",
      "\u001b[1m\u001b[91mERROR: \u001b[39m\u001b[22mLoadError: \u001b[91mFailed to precompile Compose to /Users/huazhou/.julia/lib/v0.6/Compose.ji.\u001b[39m\n",
      "Stacktrace:\n",
      " [1] \u001b[1mcompilecache\u001b[22m\u001b[22m\u001b[1m(\u001b[22m\u001b[22m::String\u001b[1m)\u001b[22m\u001b[22m at \u001b[1m./loading.jl:710\u001b[22m\u001b[22m\n",
      " [2] \u001b[1m_require\u001b[22m\u001b[22m\u001b[1m(\u001b[22m\u001b[22m::Symbol\u001b[1m)\u001b[22m\u001b[22m at \u001b[1m./loading.jl:463\u001b[22m\u001b[22m\n",
      " [3] \u001b[1mrequire\u001b[22m\u001b[22m\u001b[1m(\u001b[22m\u001b[22m::Symbol\u001b[1m)\u001b[22m\u001b[22m at \u001b[1m./loading.jl:405\u001b[22m\u001b[22m\n",
      " [4] \u001b[1minclude_from_node1\u001b[22m\u001b[22m\u001b[1m(\u001b[22m\u001b[22m::String\u001b[1m)\u001b[22m\u001b[22m at \u001b[1m./loading.jl:576\u001b[22m\u001b[22m\n",
      " [5] \u001b[1minclude\u001b[22m\u001b[22m\u001b[1m(\u001b[22m\u001b[22m::String\u001b[1m)\u001b[22m\u001b[22m at \u001b[1m./sysimg.jl:14\u001b[22m\u001b[22m\n",
      " [6] \u001b[1manonymous\u001b[22m\u001b[22m at \u001b[1m./<missing>:2\u001b[22m\u001b[22m\n",
      "while loading /Users/huazhou/.julia/v0.6/Gadfly/src/Gadfly.jl, in expression starting on line 7\n"
     ]
    },
    {
     "ename": "LoadError",
     "evalue": "\u001b[91mFailed to precompile Gadfly to /Users/huazhou/.julia/lib/v0.6/Gadfly.ji.\u001b[39m",
     "output_type": "error",
     "traceback": [
      "\u001b[91mFailed to precompile Gadfly to /Users/huazhou/.julia/lib/v0.6/Gadfly.ji.\u001b[39m",
      "",
      "Stacktrace:",
      " [1] \u001b[1mcompilecache\u001b[22m\u001b[22m\u001b[1m(\u001b[22m\u001b[22m::String\u001b[1m)\u001b[22m\u001b[22m at \u001b[1m./loading.jl:710\u001b[22m\u001b[22m",
      " [2] \u001b[1m_require\u001b[22m\u001b[22m\u001b[1m(\u001b[22m\u001b[22m::Symbol\u001b[1m)\u001b[22m\u001b[22m at \u001b[1m./loading.jl:497\u001b[22m\u001b[22m",
      " [3] \u001b[1mrequire\u001b[22m\u001b[22m\u001b[1m(\u001b[22m\u001b[22m::Symbol\u001b[1m)\u001b[22m\u001b[22m at \u001b[1m./loading.jl:405\u001b[22m\u001b[22m",
      " [4] \u001b[1minclude_string\u001b[22m\u001b[22m\u001b[1m(\u001b[22m\u001b[22m::String, ::String\u001b[1m)\u001b[22m\u001b[22m at \u001b[1m./loading.jl:522\u001b[22m\u001b[22m"
     ]
    }
   ],
   "source": [
    "using Gadfly\n",
    "\n",
    "hstack(\n",
    "    plot(ped29c, x = \"sex\", y = \"simtrait1\", Geom.boxplot),\n",
    "    plot(ped29c, x = \"sex\", y = \"simtrait2\", Geom.boxplot)\n",
    ")"
   ]
  },
  {
   "cell_type": "code",
   "execution_count": null,
   "metadata": {
    "collapsed": true
   },
   "outputs": [],
   "source": [
    "hstack(\n",
    "    plot(ped29c, x = \"simtrait1\", color = \"sex\", Geom.histogram(bincount=20, density=true)),\n",
    "    plot(ped29c, x = \"simtrait2\", color = \"sex\", Geom.histogram(bincount=20, density=true))\n",
    ")"
   ]
  },
  {
   "cell_type": "code",
   "execution_count": null,
   "metadata": {
    "collapsed": true
   },
   "outputs": [],
   "source": [
    "plot(ped29c, x = \"simtrait1\", y = \"simtrait2\", Geom.histogram2d(xbincount=10, ybincount=10))"
   ]
  },
  {
   "cell_type": "markdown",
   "metadata": {},
   "source": [
    "## Visualize pedigrees\n",
    "\n",
    "It's desirable to visualize the pedigree structures. Although I don't know of any Julia package capable of pedigree drawing, there are a bunch of pedigree drawing software out there. See a list [here](http://www.soph.uab.edu/ssg/linkage/pedigreedrawing). Fortunately Julia makes it very easy to glue with other languages and programs. Here we show how to draw pedigress **within Julia** using the R package `kinship2`.\n",
    "\n",
    "[`RCall.jl`](https://github.com/JuliaInterop/RCall.jl) is the Julia package that enables running R within Julia. Of course, there should be a working R on your computer and the R package `kinship2` is installed, e.g., by R command\n",
    "```r\n",
    "install.packages(\"kinship2\")\n",
    "```\n",
    "\n",
    "Let's first transfer required data to R."
   ]
  },
  {
   "cell_type": "code",
   "execution_count": 12,
   "metadata": {},
   "outputs": [
    {
     "data": {
      "image/png": "[encoded data removed]"
     },
     "metadata": {},
     "output_type": "display_data"
    },
    {
     "data": {
      "text/plain": [
       "RCall.RObject{RCall.VecSxp}\n",
       "$plist\n",
       "$plist$n\n",
       "[1] 2 7 9\n",
       "\n",
       "$plist$nid\n",
       "     [,1] [,2] [,3] [,4] [,5] [,6] [,7] [,8] [,9]\n",
       "[1,]    2    1    0    0    0    0    0    0    0\n",
       "[2,]    5    6    9   10    4   15    3    0    0\n",
       "[3,]    7    8   11   12   13   14   16   17   18\n",
       "\n",
       "$plist$pos\n",
       "          [,1]     [,2]     [,3]     [,4]     [,5]    [,6]    [,7] [,8] [,9]\n",
       "[1,] 2.6890638 3.689064 0.000000 0.000000 0.000000 0.00000 0.00000    0    0\n",
       "[2,] 0.2818386 1.281839 2.281839 3.281839 4.281839 5.91074 6.91074    0    0\n",
       "[3,] 0.0000000 1.000000 2.000000 3.000000 4.000000 5.00000 6.00000    7    8\n",
       "\n",
       "$plist$fam\n",
       "     [,1] [,2] [,3] [,4] [,5] [,6] [,7] [,8] [,9]\n",
       "[1,]    0    0    0    0    0    0    0    0    0\n",
       "[2,]    0    1    1    1    0    1    0    0    0\n",
       "[3,]    1    1    4    4    4    4    6    6    6\n",
       "\n",
       "$plist$spouse\n",
       "     [,1] [,2] [,3] [,4] [,5] [,6] [,7] [,8] [,9]\n",
       "[1,]    1    0    0    0    0    0    0    0    0\n",
       "[2,]    1    0    0    1    0    1    0    0    0\n",
       "[3,]    0    0    0    0    0    0    0    0    0\n",
       "\n",
       "\n",
       "$x\n",
       " [1] 3.6890638 2.6890638 6.9107397 4.2818386 0.2818386 1.2818386 0.0000000\n",
       " [8] 1.0000000 2.2818386 3.2818386 2.0000000 3.0000000 4.0000000 5.0000000\n",
       "[15] 5.9107397 6.0000000 7.0000000 8.0000000\n",
       "\n",
       "$y\n",
       " [1] 1 1 2 2 2 2 3 3 2 2 3 3 3 3 2 3 3 3\n",
       "\n",
       "$boxw\n",
       "[1] 0.4298893\n",
       "\n",
       "$boxh\n",
       "[1] 0.1972577\n",
       "\n",
       "$call\n",
       "plot.pedigree(x = ped29c[\"19\"])\n",
       "\n"
      ]
     },
     "execution_count": 12,
     "metadata": {},
     "output_type": "execute_result"
    },
    {
     "name": "stderr",
     "output_type": "stream",
     "text": [
      "\u001b[1m\u001b[33mWARNING: \u001b[39m\u001b[22m\u001b[33mRCall.jl: Loading required package: Matrix\n",
      "Loading required package: quadprog\u001b[39m\n"
     ]
    }
   ],
   "source": [
    "# Pkg.add(\"RCall\")\n",
    "using RCall\n",
    "\n",
    "id    = ped29c[:, :id]\n",
    "dadid = ped29c[:, :faid]\n",
    "momid = ped29c[:, :moid]\n",
    "sex   = ped29c[:, :sex]\n",
    "famid = ped29c[:, :famid]\n",
    "\n",
    "@rput id dadid momid sex famid\n",
    "\n",
    "R\"\"\"\n",
    "# install.packages('kinship2', repos = 'http://cran.us.r-project.org')\n",
    "library(kinship2)\n",
    "\n",
    "ped29c = pedigree(id, dadid, momid, sex, famid = famid)\n",
    "# draw pedigree with id '19'\n",
    "plot(ped29c['19'])\n",
    "\"\"\""
   ]
  },
  {
   "cell_type": "markdown",
   "metadata": {},
   "source": [
    "To print all pedigrees into a ps file, use a loop\n",
    "```julia\n",
    "R\"\"\"\n",
    "# draw all pedigrees in a ps file\n",
    "postscript(\"ped29c.ps\")\n",
    "for (p in 1:20) {\n",
    "    plot(ped29c[p])\n",
    "}\n",
    "postscript()\n",
    "\"\"\"\n",
    "```"
   ]
  },
  {
   "cell_type": "markdown",
   "metadata": {},
   "source": [
    "# Explore genetic data using SnpArrays package"
   ]
  },
  {
   "cell_type": "markdown",
   "metadata": {},
   "source": [
    "## Load SNP binary file as SnpArray\n",
    "\n",
    "To read in and manipulate the SNP binary file, which is same as the Plink bed file, we use the `SnpArrays` package."
   ]
  },
  {
   "cell_type": "code",
   "execution_count": 13,
   "metadata": {},
   "outputs": [
    {
     "data": {
      "text/plain": [
       "212×253141 SnpArrays.SnpArray{2}:\n",
       " (true, true)  (true, true)   …  (true, true)    (false, false)\n",
       " (true, true)  (true, true)      (true, true)    (false, false)\n",
       " (true, true)  (true, true)      (true, true)    (false, false)\n",
       " (true, true)  (true, true)      (true, true)    (false, false)\n",
       " (true, true)  (true, true)      (true, true)    (false, false)\n",
       " (true, true)  (true, true)   …  (false, false)  (true, true)  \n",
       " (true, true)  (false, true)     (false, false)  (true, true)  \n",
       " (true, true)  (true, true)      (false, false)  (true, true)  \n",
       " (true, true)  (false, true)     (false, false)  (true, true)  \n",
       " (true, true)  (false, true)     (false, false)  (true, true)  \n",
       " (true, true)  (false, true)  …  (false, false)  (true, true)  \n",
       " (true, true)  (true, true)      (false, false)  (true, true)  \n",
       " (true, true)  (false, true)     (false, false)  (true, true)  \n",
       " ⋮                            ⋱                  ⋮             \n",
       " (true, true)  (true, true)   …  (true, true)    (false, false)\n",
       " (true, true)  (true, true)      (false, true)   (false, true) \n",
       " (true, true)  (true, true)      (true, true)    (false, false)\n",
       " (true, true)  (false, true)     (false, false)  (true, true)  \n",
       " (true, true)  (true, true)      (true, true)    (false, false)\n",
       " (true, true)  (true, true)   …  (false, true)   (false, false)\n",
       " (true, true)  (true, true)      (false, true)   (false, true) \n",
       " (true, true)  (true, true)      (true, true)    (false, false)\n",
       " (true, true)  (false, true)     (false, true)   (false, true) \n",
       " (true, true)  (true, true)      (true, true)    (false, false)\n",
       " (true, true)  (true, true)   …  (true, true)    (false, false)\n",
       " (true, true)  (true, true)      (false, true)   (false, true) "
      ]
     },
     "execution_count": 13,
     "metadata": {},
     "output_type": "execute_result"
    },
    {
     "name": "stderr",
     "output_type": "stream",
     "text": [
      "\u001b[1m\u001b[36mINFO: \u001b[39m\u001b[22m\u001b[36mv1.0 BED file detected\n",
      "\u001b[39m"
     ]
    }
   ],
   "source": [
    "using SnpArrays\n",
    "\n",
    "snpbin29c = SnpArray(\"SNP_data29a_missing\"; people = 212, snps = 253141)"
   ]
  },
  {
   "cell_type": "markdown",
   "metadata": {},
   "source": [
    "`SnpArray` is an array of `Tuple{Bool,Bool}` and adopts the same coding as the [Plink binary format](http://pngu.mgh.harvard.edu/~purcell/plink/binary.shtml). If `A1` and `A2` are the two alleles, the coding rule is  \n",
    "\n",
    "| Genotype | SnpArray |  \n",
    "|:---:|:---:|  \n",
    "| A1,A1 | (false,false) |  \n",
    "| A1,A2 | (false,true) |  \n",
    "| A2,A2 | (true,true) |  \n",
    "| missing | (true,false) |  \n",
    "\n",
    "The code `(true,false)` is reserved for missing genotype. Otherwise, the bit `true` represents one copy of allele `A2`. In a two-dimensional `SnpArray`, each row is a person and each column is a SNP."
   ]
  },
  {
   "cell_type": "markdown",
   "metadata": {},
   "source": [
    "## Summary statistics of genotypes\n",
    "\n",
    "`summarize` function computes the following summary statistics of a `SnpArray`:  \n",
    "\n",
    "* `maf`: minor allele frequencies, taking into account of missingness.  \n",
    "* `minor_allele`: a `BitVector` indicating the minor allele for each SNP.   `minor_allele[j]==true` means A1 is the minor allele for SNP j; `minor_allele[j]==false` means A2 is the minor allele for SNP j.  \n",
    "* `missings_by_snp`: number of missing genotypes for each snp.  \n",
    "* `missings_by_person`: number of missing genotypes for each person.  "
   ]
  },
  {
   "cell_type": "code",
   "execution_count": 14,
   "metadata": {},
   "outputs": [
    {
     "name": "stdout",
     "output_type": "stream",
     "text": [
      "  0.380049 seconds (20.23 k allocations: 4.814 MiB)\n"
     ]
    }
   ],
   "source": [
    "@time maf, minor_allele, missings_by_snp, missings_by_person = summarize(snpbin29c);"
   ]
  },
  {
   "cell_type": "code",
   "execution_count": null,
   "metadata": {
    "collapsed": true
   },
   "outputs": [],
   "source": []
  },
  {
   "cell_type": "markdown",
   "metadata": {},
   "source": [
    "How many missing genotypes in this data set?"
   ]
  },
  {
   "cell_type": "code",
   "execution_count": 16,
   "metadata": {},
   "outputs": [
    {
     "data": {
      "text/plain": [
       "(536722, 536722)"
      ]
     },
     "execution_count": 16,
     "metadata": {},
     "output_type": "execute_result"
    }
   ],
   "source": [
    "# total number of missing genotypes\n",
    "sum(missings_by_snp), sum(missings_by_person)"
   ]
  },
  {
   "cell_type": "code",
   "execution_count": 17,
   "metadata": {},
   "outputs": [
    {
     "data": {
      "text/plain": [
       "0.010001175420693651"
      ]
     },
     "execution_count": 17,
     "metadata": {},
     "output_type": "execute_result"
    }
   ],
   "source": [
    "# proportion of missing genotypes\n",
    "sum(missings_by_snp) / length(snpbin29c)"
   ]
  },
  {
   "cell_type": "code",
   "execution_count": 15,
   "metadata": {},
   "outputs": [
    {
     "data": {
      "text/plain": [
       "1×253141 RowVector{Float64,Array{Float64,1}}:\n",
       " 0.0167464  0.0825472  0.00943396  0.0861244  …  0.217703  0.28066  0.278302"
      ]
     },
     "execution_count": 15,
     "metadata": {},
     "output_type": "execute_result"
    }
   ],
   "source": [
    "# minor allele frequencies\n",
    "maf'"
   ]
  },
  {
   "cell_type": "code",
   "execution_count": null,
   "metadata": {
    "collapsed": true
   },
   "outputs": [],
   "source": [
    "plot(x = maf, Geom.histogram(bincount=30), Guide.XLabel(\"Minor Allele Frequency\"), Guide.YLabel(\"Count\"))"
   ]
  },
  {
   "cell_type": "markdown",
   "metadata": {},
   "source": [
    "## Filtering\n",
    "\n",
    "In almost all analyses, SNPs and individuals with low genotyping success rates are ignored. This filtering step is an important tool for removing likely false positives from association testing, as genotyping failure often occurs preferentially in cases or controls, or is correlated with the quantitative trait. \n",
    "```julia\n",
    "filter(snparray, min_success_rate_per_snp, min_success_rate_per_person)\n",
    "``` \n",
    "does filtering according to the specified success rates for SNPs and people. Default is 0.98 for both."
   ]
  },
  {
   "cell_type": "code",
   "execution_count": 18,
   "metadata": {},
   "outputs": [
    {
     "data": {
      "text/plain": [
       "(Bool[true, true, true, true, true, true, true, true, true, true  …  true, true, true, true, true, true, true, true, true, true], Bool[true, true, true, true, true, true, true, true, true, true  …  true, true, true, true, true, true, true, true, true, true])"
      ]
     },
     "execution_count": 18,
     "metadata": {},
     "output_type": "execute_result"
    }
   ],
   "source": [
    "# filtering SNPs and people to have both success rates above 0.98\n",
    "snp_idx, person_idx = filter(snpbin29c, 0.98, 0.98)"
   ]
  },
  {
   "cell_type": "code",
   "execution_count": 19,
   "metadata": {},
   "outputs": [
    {
     "data": {
      "text/plain": [
       "212×237163 SnpArrays.SnpArray{2}:\n",
       " (true, true)  (true, true)   …  (true, true)    (false, false)\n",
       " (true, true)  (true, true)      (true, true)    (false, false)\n",
       " (true, true)  (true, true)      (true, true)    (false, false)\n",
       " (true, true)  (true, true)      (true, true)    (false, false)\n",
       " (true, true)  (true, true)      (true, true)    (false, false)\n",
       " (true, true)  (true, true)   …  (false, false)  (true, true)  \n",
       " (true, true)  (false, true)     (false, false)  (true, true)  \n",
       " (true, true)  (true, true)      (false, false)  (true, true)  \n",
       " (true, true)  (false, true)     (false, false)  (true, true)  \n",
       " (true, true)  (false, true)     (false, false)  (true, true)  \n",
       " (true, true)  (false, true)  …  (false, false)  (true, true)  \n",
       " (true, true)  (true, true)      (false, false)  (true, true)  \n",
       " (true, true)  (false, true)     (false, false)  (true, true)  \n",
       " ⋮                            ⋱                                \n",
       " (true, true)  (true, true)   …  (true, true)    (false, false)\n",
       " (true, true)  (true, true)      (false, true)   (false, true) \n",
       " (true, true)  (true, true)      (true, true)    (false, false)\n",
       " (true, true)  (false, true)     (false, false)  (true, true)  \n",
       " (true, true)  (true, true)      (true, true)    (false, false)\n",
       " (true, true)  (true, true)   …  (false, true)   (false, false)\n",
       " (true, true)  (true, true)      (false, true)   (false, true) \n",
       " (true, true)  (true, true)      (true, true)    (false, false)\n",
       " (true, true)  (false, true)     (false, true)   (false, true) \n",
       " (true, true)  (true, true)      (true, true)    (false, false)\n",
       " (true, true)  (true, true)   …  (true, true)    (false, false)\n",
       " (true, true)  (true, true)      (false, true)   (false, true) "
      ]
     },
     "execution_count": 19,
     "metadata": {},
     "output_type": "execute_result"
    }
   ],
   "source": [
    "# summary statistics of the filtered SnpArray\n",
    "snpbin29c_filtered = snpbin29c[person_idx, snp_idx]"
   ]
  },
  {
   "cell_type": "markdown",
   "metadata": {},
   "source": [
    "We see the number of SNPs is reduced from 253,141 to 237,163."
   ]
  },
  {
   "cell_type": "code",
   "execution_count": 20,
   "metadata": {
    "collapsed": true
   },
   "outputs": [],
   "source": [
    "_, _, missings_by_snp_filtered, missings_by_person_filtered = summarize(snpbin29c_filtered);"
   ]
  },
  {
   "cell_type": "code",
   "execution_count": 21,
   "metadata": {},
   "outputs": [
    {
     "data": {
      "text/plain": [
       "0.9811320754716981"
      ]
     },
     "execution_count": 21,
     "metadata": {},
     "output_type": "execute_result"
    }
   ],
   "source": [
    "# minimum SNP genotyping success rate after filtering ≥ 0.98\n",
    "1.0 - maximum(missings_by_snp_filtered) / length(missings_by_person_filtered)"
   ]
  },
  {
   "cell_type": "code",
   "execution_count": 22,
   "metadata": {},
   "outputs": [
    {
     "data": {
      "text/plain": [
       "0.9906182667616786"
      ]
     },
     "execution_count": 22,
     "metadata": {},
     "output_type": "execute_result"
    }
   ],
   "source": [
    "# minimum individual genotyping success rate after filtering ≥ 0.98\n",
    "1.0 - maximum(missings_by_person_filtered) / length(missings_by_snp_filtered)"
   ]
  },
  {
   "cell_type": "markdown",
   "metadata": {},
   "source": [
    "## Subsetting SnpArray\n",
    "\n",
    "Subsetting a SnpArray is pretty much the same as subsetting a regular array."
   ]
  },
  {
   "cell_type": "code",
   "execution_count": 23,
   "metadata": {},
   "outputs": [
    {
     "data": {
      "text/plain": [
       "253141-element SnpArrays.SnpArray{1}:\n",
       " (true, true)  \n",
       " (true, true)  \n",
       " (false, false)\n",
       " (true, true)  \n",
       " (true, true)  \n",
       " (true, true)  \n",
       " (false, false)\n",
       " (true, true)  \n",
       " (true, true)  \n",
       " (false, false)\n",
       " (false, true) \n",
       " (false, false)\n",
       " (true, true)  \n",
       " ⋮             \n",
       " (true, true)  \n",
       " (false, false)\n",
       " (false, true) \n",
       " (false, true) \n",
       " (false, true) \n",
       " (false, true) \n",
       " (false, true) \n",
       " (false, true) \n",
       " (false, false)\n",
       " (false, false)\n",
       " (true, true)  \n",
       " (false, false)"
      ]
     },
     "execution_count": 23,
     "metadata": {},
     "output_type": "execute_result"
    }
   ],
   "source": [
    "# genotypes of the 1st person\n",
    "snpbin29c[1, :]"
   ]
  },
  {
   "cell_type": "code",
   "execution_count": 24,
   "metadata": {},
   "outputs": [
    {
     "data": {
      "text/plain": [
       "212-element SnpArrays.SnpArray{1}:\n",
       " (true, true) \n",
       " (false, true)\n",
       " (true, true) \n",
       " (true, true) \n",
       " (true, true) \n",
       " (true, true) \n",
       " (true, true) \n",
       " (true, true) \n",
       " (true, true) \n",
       " (true, true) \n",
       " (true, true) \n",
       " (true, true) \n",
       " (true, true) \n",
       " ⋮            \n",
       " (true, true) \n",
       " (true, true) \n",
       " (true, true) \n",
       " (false, true)\n",
       " (false, true)\n",
       " (true, true) \n",
       " (false, true)\n",
       " (true, true) \n",
       " (true, true) \n",
       " (true, true) \n",
       " (true, true) \n",
       " (true, true) "
      ]
     },
     "execution_count": 24,
     "metadata": {},
     "output_type": "execute_result"
    }
   ],
   "source": [
    "# genotypes of the 5th SNP\n",
    "snpbin29c[:, 5]"
   ]
  },
  {
   "cell_type": "code",
   "execution_count": 25,
   "metadata": {},
   "outputs": [
    {
     "data": {
      "text/plain": [
       "5×6 SnpArrays.SnpArray{2}:\n",
       " (true, true)   (true, true)  (false, false)  …  (true, true)  (false, false)\n",
       " (false, true)  (true, true)  (false, false)     (true, true)  (false, false)\n",
       " (true, true)   (true, true)  (false, false)     (true, true)  (false, false)\n",
       " (true, true)   (true, true)  (false, false)     (true, true)  (false, false)\n",
       " (true, true)   (true, true)  (false, false)     (true, true)  (false, false)"
      ]
     },
     "execution_count": 25,
     "metadata": {},
     "output_type": "execute_result"
    }
   ],
   "source": [
    "# subsetting both persons and SNPs\n",
    "snpbin29c[1:5, 5:10]"
   ]
  },
  {
   "cell_type": "code",
   "execution_count": 26,
   "metadata": {},
   "outputs": [
    {
     "data": {
      "text/plain": [
       "212×138493 SnpArrays.SnpArray{2}:\n",
       " (true, true)   (true, true)   …  (true, true)    (false, false)\n",
       " (true, true)   (false, true)     (true, true)    (false, false)\n",
       " (true, true)   (true, true)      (true, true)    (false, false)\n",
       " (true, true)   (true, true)      (true, true)    (false, false)\n",
       " (true, true)   (true, true)      (true, true)    (false, false)\n",
       " (true, true)   (true, true)   …  (false, false)  (true, true)  \n",
       " (false, true)  (true, true)      (false, false)  (true, true)  \n",
       " (true, true)   (true, true)      (false, false)  (true, true)  \n",
       " (false, true)  (true, true)      (false, false)  (true, true)  \n",
       " (false, true)  (true, true)      (false, false)  (true, true)  \n",
       " (false, true)  (true, true)   …  (false, false)  (true, true)  \n",
       " (true, true)   (true, true)      (false, false)  (true, true)  \n",
       " (false, true)  (true, true)      (false, false)  (true, true)  \n",
       " ⋮                             ⋱                                \n",
       " (true, true)   (true, true)   …  (true, true)    (false, false)\n",
       " (true, true)   (true, true)      (false, true)   (false, true) \n",
       " (true, true)   (true, true)      (true, true)    (false, false)\n",
       " (false, true)  (false, true)     (false, false)  (true, true)  \n",
       " (true, true)   (false, true)     (true, true)    (false, false)\n",
       " (true, true)   (true, true)   …  (false, true)   (false, false)\n",
       " (true, true)   (false, true)     (false, true)   (false, true) \n",
       " (true, true)   (true, true)      (true, true)    (false, false)\n",
       " (false, true)  (true, true)      (false, true)   (false, true) \n",
       " (true, true)   (true, true)      (true, true)    (false, false)\n",
       " (true, true)   (true, true)   …  (true, true)    (false, false)\n",
       " (true, true)   (true, true)      (false, true)   (false, true) "
      ]
     },
     "execution_count": 26,
     "metadata": {},
     "output_type": "execute_result"
    }
   ],
   "source": [
    "# filter out rare SNPs with MAF < 0.05\n",
    "snpbin29c[:, maf .≥ 0.05]"
   ]
  },
  {
   "cell_type": "code",
   "execution_count": 27,
   "metadata": {},
   "outputs": [
    {
     "data": {
      "text/plain": [
       "212×253141 SnpArrays.SnpArray{2}:\n",
       " (true, true)  (true, true)   …  (true, true)    (false, false)\n",
       " (true, true)  (true, true)      (true, true)    (false, false)\n",
       " (true, true)  (true, true)      (true, true)    (false, false)\n",
       " (true, true)  (true, true)      (true, true)    (false, false)\n",
       " (true, true)  (true, true)      (true, true)    (false, false)\n",
       " (true, true)  (true, true)   …  (false, false)  (true, true)  \n",
       " (true, true)  (false, true)     (false, false)  (true, true)  \n",
       " (true, true)  (true, true)      (false, false)  (true, true)  \n",
       " (true, true)  (false, true)     (false, false)  (true, true)  \n",
       " (true, true)  (false, true)     (false, false)  (true, true)  \n",
       " (true, true)  (false, true)  …  (false, false)  (true, true)  \n",
       " (true, true)  (true, true)      (false, false)  (true, true)  \n",
       " (true, true)  (false, true)     (false, false)  (true, true)  \n",
       " ⋮                            ⋱                  ⋮             \n",
       " (true, true)  (true, true)   …  (true, true)    (false, false)\n",
       " (true, true)  (true, true)      (false, true)   (false, true) \n",
       " (true, true)  (true, true)      (true, true)    (false, false)\n",
       " (true, true)  (false, true)     (false, false)  (true, true)  \n",
       " (true, true)  (true, true)      (true, true)    (false, false)\n",
       " (true, true)  (true, true)   …  (false, true)   (false, false)\n",
       " (true, true)  (true, true)      (false, true)   (false, true) \n",
       " (true, true)  (true, true)      (true, true)    (false, false)\n",
       " (true, true)  (false, true)     (false, true)   (false, true) \n",
       " (true, true)  (true, true)      (true, true)    (false, false)\n",
       " (true, true)  (true, true)   …  (true, true)    (false, false)\n",
       " (true, true)  (true, true)      (false, true)   (false, true) "
      ]
     },
     "execution_count": 27,
     "metadata": {},
     "output_type": "execute_result"
    }
   ],
   "source": [
    "# filter out individuals with genotyping success rate < 0.90\n",
    "snpbin29c[missings_by_person / size(snpbin29c, 2) .< 0.1, :]"
   ]
  },
  {
   "cell_type": "markdown",
   "metadata": {},
   "source": [
    "`view()` creates views of subarray without copying data and improve efficiency in many calculations."
   ]
  },
  {
   "cell_type": "code",
   "execution_count": 28,
   "metadata": {},
   "outputs": [
    {
     "data": {
      "text/plain": [
       "1×138493 RowVector{Float64,Array{Float64,1}}:\n",
       " 0.0825472  0.0861244  0.0853081  0.0592417  …  0.217703  0.28066  0.278302"
      ]
     },
     "execution_count": 28,
     "metadata": {},
     "output_type": "execute_result"
    }
   ],
   "source": [
    "mafcommon, = summarize(view(snpbin29c, :, maf .≥ 0.05))\n",
    "mafcommon'"
   ]
  },
  {
   "cell_type": "markdown",
   "metadata": {},
   "source": [
    "## Convert SnpArray to numeric array\n",
    "\n",
    "In most analyses we convert a whole `SnpArray` or slices of it to numeric arrays (matrix of **minor allele counts**) for statistical analysis."
   ]
  },
  {
   "cell_type": "code",
   "execution_count": 29,
   "metadata": {},
   "outputs": [
    {
     "data": {
      "text/plain": [
       "212×253141 Array{Float64,2}:\n",
       " 0.0  0.0  0.0  0.0  0.0  0.0    0.0  …    1.0    1.0  0.0  0.0  0.0  0.0\n",
       " 0.0  0.0  0.0  1.0  1.0  0.0    0.0       0.0    0.0  0.0  0.0  0.0  0.0\n",
       " 0.0  0.0  0.0  0.0  0.0  0.0    0.0       2.0    1.0  0.0  0.0  0.0  0.0\n",
       " 0.0  0.0  0.0  0.0  0.0  0.0    0.0       1.0    0.0  0.0  0.0  0.0  0.0\n",
       " 0.0  0.0  0.0  0.0  0.0  0.0    0.0       0.0    0.0  0.0  0.0  0.0  0.0\n",
       " 0.0  0.0  0.0  0.0  0.0  0.0    0.0  …    0.0    2.0  0.0  0.0  2.0  2.0\n",
       " 0.0  1.0  0.0  0.0  0.0  0.0    0.0       1.0    0.0  0.0  2.0  2.0  2.0\n",
       " 0.0  0.0  0.0  0.0  0.0  0.0    0.0       1.0    0.0  0.0  2.0  2.0  2.0\n",
       " 0.0  1.0  0.0  0.0  0.0  0.0    0.0     NaN      1.0  0.0  1.0  2.0  2.0\n",
       " 0.0  1.0  0.0  0.0  0.0  0.0    0.0       2.0    0.0  0.0  2.0  2.0  2.0\n",
       " 0.0  1.0  0.0  0.0  0.0  0.0    0.0  …    0.0    1.0  0.0  1.0  2.0  2.0\n",
       " 0.0  0.0  0.0  0.0  0.0  0.0  NaN         0.0    1.0  0.0  1.0  2.0  2.0\n",
       " 0.0  1.0  0.0  0.0  0.0  0.0    0.0       1.0    1.0  0.0  1.0  2.0  2.0\n",
       " ⋮                        ⋮           ⋱    ⋮                          ⋮  \n",
       " 0.0  0.0  0.0  0.0  0.0  0.0    0.0  …    0.0    0.0  0.0  0.0  0.0  0.0\n",
       " 0.0  0.0  0.0  0.0  0.0  0.0    0.0       0.0  NaN    0.0  1.0  1.0  1.0\n",
       " 0.0  0.0  0.0  0.0  0.0  0.0    0.0       0.0    1.0  0.0  0.0  0.0  0.0\n",
       " 0.0  1.0  0.0  1.0  1.0  0.0    0.0       1.0    0.0  0.0  2.0  2.0  2.0\n",
       " 0.0  0.0  0.0  1.0  1.0  0.0    0.0       1.0    0.0  0.0  0.0  0.0  0.0\n",
       " 0.0  0.0  0.0  0.0  0.0  0.0    0.0  …    1.0    0.0  0.0  1.0  1.0  0.0\n",
       " 0.0  0.0  0.0  1.0  1.0  0.0    0.0       1.0    0.0  0.0  0.0  1.0  1.0\n",
       " 0.0  0.0  0.0  0.0  0.0  0.0  NaN         0.0    0.0  0.0  0.0  0.0  0.0\n",
       " 0.0  1.0  0.0  0.0  0.0  0.0    0.0       1.0    0.0  0.0  0.0  1.0  1.0\n",
       " 0.0  0.0  0.0  0.0  0.0  0.0    0.0       0.0    0.0  0.0  0.0  0.0  0.0\n",
       " 0.0  0.0  0.0  0.0  0.0  0.0    0.0  …    1.0    0.0  0.0  0.0  0.0  0.0\n",
       " 0.0  0.0  0.0  0.0  0.0  0.0    0.0       0.0    0.0  0.0  1.0  1.0  1.0"
      ]
     },
     "execution_count": 29,
     "metadata": {},
     "output_type": "execute_result"
    },
    {
     "name": "stdout",
     "output_type": "stream",
     "text": [
      "  1.557471 seconds (865.80 k allocations: 473.138 MiB, 12.91% gc time)\n"
     ]
    }
   ],
   "source": [
    "# convert to a matrix of double precision numbers\n",
    "@time snpbin29c_f64 = convert(Matrix{Float64}, snpbin29c)"
   ]
  },
  {
   "cell_type": "markdown",
   "metadata": {},
   "source": [
    "We can see missing genotypes are converted to `NaN` appropriately."
   ]
  },
  {
   "cell_type": "code",
   "execution_count": 30,
   "metadata": {},
   "outputs": [
    {
     "data": {
      "text/plain": [
       "(536722, 536722)"
      ]
     },
     "execution_count": 30,
     "metadata": {},
     "output_type": "execute_result"
    }
   ],
   "source": [
    "# number of missing genotypes\n",
    "countnz(isnan.(snpbin29c)), countnz(isnan.(snpbin29c_f64))"
   ]
  },
  {
   "cell_type": "markdown",
   "metadata": {},
   "source": [
    "We can also convert genotypes to a sparse matrix."
   ]
  },
  {
   "cell_type": "code",
   "execution_count": 31,
   "metadata": {},
   "outputs": [
    {
     "data": {
      "text/plain": [
       "212×253141 SparseMatrixCSC{Float32,UInt32} with 12173883 stored entries:\n",
       "  [113   ,      1]  =  1.0\n",
       "  [118   ,      1]  =  1.0\n",
       "  [119   ,      1]  =  1.0\n",
       "  [120   ,      1]  =  1.0\n",
       "  [121   ,      1]  =  1.0\n",
       "  [123   ,      1]  =  1.0\n",
       "  [125   ,      1]  =  1.0\n",
       "  [7     ,      2]  =  1.0\n",
       "  [9     ,      2]  =  1.0\n",
       "  [10    ,      2]  =  1.0\n",
       "  ⋮\n",
       "  [190   , 253141]  =  1.0\n",
       "  [193   , 253141]  =  1.0\n",
       "  [194   , 253141]  =  1.0\n",
       "  [197   , 253141]  =  1.0\n",
       "  [198   , 253141]  =  2.0\n",
       "  [199   , 253141]  =  1.0\n",
       "  [202   , 253141]  =  1.0\n",
       "  [204   , 253141]  =  2.0\n",
       "  [207   , 253141]  =  1.0\n",
       "  [209   , 253141]  =  1.0\n",
       "  [212   , 253141]  =  1.0"
      ]
     },
     "execution_count": 31,
     "metadata": {},
     "output_type": "execute_result"
    },
    {
     "name": "stdout",
     "output_type": "stream",
     "text": [
      "  1.332790 seconds (302.21 k allocations: 144.884 MiB, 2.05% gc time)\n"
     ]
    }
   ],
   "source": [
    "# convert to SparseMatrixCSC{Float32, UInt32} matrix\n",
    "@time snpbin29c_f32sp = convert(SparseMatrixCSC{Float32, UInt32}, snpbin29c)"
   ]
  },
  {
   "cell_type": "markdown",
   "metadata": {},
   "source": [
    "One can enforce **crude imputation** by setting the optional argument `impute=true`. Imputation is done by generating two random alleles according to the minor allele frequency. This is a neutral but not an optimal strategy, and users should impute missing genotypes by more advanced methods."
   ]
  },
  {
   "cell_type": "code",
   "execution_count": 32,
   "metadata": {},
   "outputs": [
    {
     "data": {
      "text/plain": [
       "0"
      ]
     },
     "execution_count": 32,
     "metadata": {},
     "output_type": "execute_result"
    }
   ],
   "source": [
    "snpbin29c_f64impute = convert(Matrix{Float64}, snpbin29c; impute = true)\n",
    "countnz(isnan.(snpbin29c_f64impute))"
   ]
  },
  {
   "cell_type": "markdown",
   "metadata": {},
   "source": [
    "By default `convert()` translates genotypes according to the *additive* SNP model, which essentially counts the number of **minor allele** (0, 1 or 2) per genotype. Other SNP models are *dominant* and *recessive*, both in terms of the **minor allele**. When `A1` is the minor allele, genotypes are translated to real number according to\n",
    "\n",
    "| Genotype | `SnpArray` | `model=:additive` | `model=:dominant` | `model=:recessive` |    \n",
    "|:---:|:---:|:---:|:---:|:---:|  \n",
    "| A1,A1 | (false,false) | 2 | 1 | 1 |  \n",
    "| A1,A2 | (false,true) | 1 | 1 | 0 |  \n",
    "| A2,A2 | (true,true) | 0 | 0 | 0 |  \n",
    "| missing | (true,false) | NaN | NaN | NaN | \n",
    "\n",
    "When `A2` is the minor allele, genotypes are translated according to\n",
    "\n",
    "| Genotype | `SnpArray` | `model=:additive` | `model=:dominant` | `model=:recessive` |    \n",
    "|:---:|:---:|:---:|:---:|:---:|  \n",
    "| A1,A1 | (false,false) | 0 | 0 | 0 |  \n",
    "| A1,A2 | (false,true) | 1 | 1 | 0 |  \n",
    "| A2,A2 | (true,true) | 2 | 1 | 1 |  \n",
    "| missing | (true,false) | NaN | NaN | NaN |"
   ]
  },
  {
   "cell_type": "code",
   "execution_count": 33,
   "metadata": {},
   "outputs": [
    {
     "data": {
      "text/plain": [
       "10×3 Array{Float64,2}:\n",
       " 0.0  0.0  0.0\n",
       " 1.0  1.0  0.0\n",
       " 0.0  0.0  0.0\n",
       " 0.0  0.0  0.0\n",
       " 0.0  0.0  0.0\n",
       " 0.0  0.0  0.0\n",
       " 0.0  0.0  0.0\n",
       " 0.0  0.0  0.0\n",
       " 0.0  0.0  0.0\n",
       " 0.0  0.0  0.0"
      ]
     },
     "execution_count": 33,
     "metadata": {},
     "output_type": "execute_result"
    }
   ],
   "source": [
    "[convert(Vector{Float64}, snpbin29c[1:10, 5]; model = :additive) convert(Vector{Float64}, snpbin29c[1:10, 5]; model = :dominant) convert(Vector{Float64}, snpbin29c[1:10, 5]; model = :recessive)]"
   ]
  },
  {
   "cell_type": "markdown",
   "metadata": {},
   "source": [
    "By default `convert()` does **not** center and scale genotypes. Setting the optional arguments `center=true, scale=true` centers genotypes at 2MAF and scales them by $[2 \\cdot \\text{MAF} \\cdot (1 - \\text{MAF})]^{-1/2}$. Mono-allelic SNPs (MAF=0) are not scaled."
   ]
  },
  {
   "cell_type": "code",
   "execution_count": 34,
   "metadata": {},
   "outputs": [
    {
     "data": {
      "text/plain": [
       "212×2 Array{Float64,2}:\n",
       " 0.0  -0.431889\n",
       " 1.0   2.09946 \n",
       " 0.0  -0.431889\n",
       " 0.0  -0.431889\n",
       " 0.0  -0.431889\n",
       " 0.0  -0.431889\n",
       " 0.0  -0.431889\n",
       " 0.0  -0.431889\n",
       " 0.0  -0.431889\n",
       " 0.0  -0.431889\n",
       " 0.0  -0.431889\n",
       " 0.0  -0.431889\n",
       " 0.0  -0.431889\n",
       " ⋮             \n",
       " 0.0  -0.431889\n",
       " 0.0  -0.431889\n",
       " 0.0  -0.431889\n",
       " 1.0   2.09946 \n",
       " 1.0   2.09946 \n",
       " 0.0  -0.431889\n",
       " 1.0   2.09946 \n",
       " 0.0  -0.431889\n",
       " 0.0  -0.431889\n",
       " 0.0  -0.431889\n",
       " 0.0  -0.431889\n",
       " 0.0  -0.431889"
      ]
     },
     "execution_count": 34,
     "metadata": {},
     "output_type": "execute_result"
    }
   ],
   "source": [
    "[convert(Vector{Float64}, snpbin29c[:, 5]) convert(Vector{Float64}, snpbin29c[:, 5]; center = true, scale = true)]"
   ]
  },
  {
   "cell_type": "markdown",
   "metadata": {},
   "source": [
    "`copy!()` is the in-place version of `convert()`. Options such as GWAS loop over SNPs and perform statistical anlaysis for each SNP. This can be achieved by"
   ]
  },
  {
   "cell_type": "code",
   "execution_count": 35,
   "metadata": {
    "collapsed": true
   },
   "outputs": [],
   "source": [
    "g = zeros(size(snpbin29c, 1))\n",
    "for j = 1:size(snpbin29c, 1)\n",
    "    copy!(g, snpbin29c[:, j]; model = :additive, impute = true)\n",
    "    # do statistical anlaysis\n",
    "end"
   ]
  },
  {
   "cell_type": "markdown",
   "metadata": {},
   "source": [
    "## Empirical kinship matrix\n",
    "\n",
    "`grm` function computes the empirical kinship matrix using either the genetic relationship matrix, `grm(A, model=:GRM)`, or the method of moment method, `grm(A, model=:MoM)`. \n",
    "\n",
    "!!! note\n",
    "\n",
    "    Missing genotypes are imputed according to minor allele frequencies on the fly.  \n",
    "    \n",
    "\n",
    "By default, grm exlcude SNPs with minor allele frequency below 0.01. This can be changed by the keyword argument `maf_threshold`."
   ]
  },
  {
   "cell_type": "code",
   "execution_count": 36,
   "metadata": {},
   "outputs": [
    {
     "data": {
      "text/plain": [
       "212×212 Array{Float64,2}:\n",
       "  0.489587      0.00420474    0.00937628   …   0.0185867    -0.000447079\n",
       "  0.00420474    0.515319     -0.0183858       -0.0216542    -0.0157378  \n",
       "  0.00937628   -0.0183858     0.488938        -0.0138679    -0.00417373 \n",
       "  0.237634     -0.00238984    0.2616           0.0024223    -0.00393959 \n",
       "  0.122961      0.259594      0.118416        -0.012197     -0.00685806 \n",
       " -0.011824     -0.000174563  -0.00322781   …  -0.000207926   0.0100297  \n",
       " -0.0117455     0.00813242   -0.00954395      -0.0105029     0.000250737\n",
       " -0.0132653    -0.0067572    -0.0101708       -0.0116672    -0.00275978 \n",
       " -0.0114055     0.00424739   -0.0113303       -0.0241969    -0.00645575 \n",
       " -0.0122489    -0.0051352    -0.0124038       -0.00557042   -0.00953423 \n",
       " -0.0127225     0.00957902    0.000674925  …  -0.00381346    0.012333   \n",
       " -0.0119449     0.0027333    -0.00771392      -0.010148      0.00534577 \n",
       " -0.0232192    -0.00258995   -0.0105866        0.000437792   0.0162053  \n",
       "  ⋮                                        ⋱   ⋮                        \n",
       "  0.000409022  -0.0081616    -0.0131131    …   0.00210193   -0.0189338  \n",
       "  0.00308717    0.00109622   -0.0133982       -0.00109687    0.00434342 \n",
       " -0.0130458    -0.0238704    -0.00356723      -0.0167559    -0.0114048  \n",
       " -0.0160694    -0.0139863    -0.0130763       -0.0227967     0.000172398\n",
       " -0.00175488    0.011518     -0.00282121      -0.00317148   -0.0029843  \n",
       "  0.00361086   -0.00184261   -0.00358725   …   0.0235233     0.0220266  \n",
       " -0.0129677    -0.00691639    0.00028612      -0.0115613     0.0078346  \n",
       "  0.0131646     0.0141928     0.0140832        0.00556813    0.00987059 \n",
       " -0.00768018   -0.00235233    0.0224811        0.00711309   -0.0152385  \n",
       "  0.000377643  -0.0143384     0.0107234        0.00494535    0.00905303 \n",
       "  0.0185867    -0.0216542    -0.0138679    …   0.555767      0.0370028  \n",
       " -0.000447079  -0.0157378    -0.00417373       0.0370028     0.50249    "
      ]
     },
     "execution_count": 36,
     "metadata": {},
     "output_type": "execute_result"
    },
    {
     "name": "stdout",
     "output_type": "stream",
     "text": [
      "  1.864490 seconds (748.98 k allocations: 376.123 MiB, 1.56% gc time)\n"
     ]
    }
   ],
   "source": [
    "# GRM using all SNPs with maf > 0.01\n",
    "# same as: grm(snpbin29c; method = :GRM, maf_threshold = 0.01)\n",
    "@time grm(snpbin29c)"
   ]
  },
  {
   "cell_type": "code",
   "execution_count": 38,
   "metadata": {},
   "outputs": [
    {
     "data": {
      "text/plain": [
       "212×212 Array{Float64,2}:\n",
       "  0.492807      0.00382392   0.00838932   …   0.0197591    -0.000826121\n",
       "  0.00382392    0.517241    -0.0192133       -0.0224164    -0.0153464  \n",
       "  0.00838932   -0.0192133    0.488535        -0.0149577    -0.00452583 \n",
       "  0.237645     -0.00358707   0.260869         0.000919337  -0.00462224 \n",
       "  0.121809      0.257372     0.118253        -0.012796     -0.00676845 \n",
       " -0.0119352     0.00145809  -0.00405304   …   3.83347e-6    0.0102863  \n",
       " -0.0131381     0.00816237  -0.00882217      -0.0107946     0.00239909 \n",
       " -0.012577     -0.00636722  -0.0107438       -0.0119601    -0.00285529 \n",
       " -0.0117898     0.00546773  -0.0105128       -0.0247916    -0.00659857 \n",
       " -0.0126017    -0.00355358  -0.0115132       -0.00712491   -0.00975824 \n",
       " -0.0129745     0.0109974    0.000730101  …  -0.00393569    0.0141994  \n",
       " -0.0141061     0.00304311  -0.00675191      -0.0105309     0.00622049 \n",
       " -0.024009     -0.00120045  -0.0100959        0.00133124    0.0195407  \n",
       "  ⋮                                       ⋱   ⋮                        \n",
       "  5.92518e-5   -0.00803524  -0.0139092    …   0.00239281   -0.0189665  \n",
       "  0.00389953    9.52505e-5  -0.0160667        0.000482239   0.00301505 \n",
       " -0.0117647    -0.0241452   -0.0046963       -0.0165692    -0.0111959  \n",
       " -0.015769     -0.0136757   -0.0134346       -0.0220183    -0.00101763 \n",
       " -0.000322901   0.00962811  -0.00293132      -0.00148711   -0.00200427 \n",
       "  0.00276257   -0.00145318  -0.00304216   …   0.0238283     0.0228957  \n",
       " -0.013927     -0.00684481   0.00138857      -0.0122795     0.00790109 \n",
       "  0.0135002     0.0155295    0.0146931        0.00501149    0.0101452  \n",
       " -0.00747071   -0.00216234   0.0234361        0.00786104   -0.0142815  \n",
       "  0.000492017  -0.0139671    0.0106779        0.00395521    0.00851805 \n",
       "  0.0197591    -0.0224164   -0.0149577    …   0.55706       0.037535   \n",
       " -0.000826121  -0.0153464   -0.00452583       0.037535      0.50747    "
      ]
     },
     "execution_count": 38,
     "metadata": {},
     "output_type": "execute_result"
    },
    {
     "name": "stdout",
     "output_type": "stream",
     "text": [
      "  1.005201 seconds (381.28 k allocations: 188.391 MiB, 10.86% gc time)\n"
     ]
    }
   ],
   "source": [
    "# GRM using every other SNP with maf > 0.01\n",
    "@time grm(view(snpbin29c, :, 1:2:size(snpbin29c, 2)))"
   ]
  },
  {
   "cell_type": "code",
   "execution_count": 37,
   "metadata": {},
   "outputs": [
    {
     "data": {
      "text/plain": [
       "212×212 Array{Float64,2}:\n",
       "  0.506844     0.00457878    0.024761     …  -0.00826734   0.00293211 \n",
       "  0.00457878   0.507995     -0.0164373       -0.0579735   -0.0182635  \n",
       "  0.024761    -0.0164373     0.504332        -0.0494868    0.000113776\n",
       "  0.238173    -0.0189918     0.262261        -0.0447051   -0.018749   \n",
       "  0.109227     0.236326      0.112594        -0.0688457   -0.0173768  \n",
       " -0.00567067   0.00470545    0.006331     …  -0.0294207    0.0209927  \n",
       " -0.016089     0.00819934   -0.00785567      -0.0454335   -0.00229289 \n",
       " -0.0106318   -0.00208178   -0.0127218       -0.0386462    0.00161267 \n",
       " -0.00266234   0.0159682     0.004906        -0.055989     0.00863212 \n",
       " -0.0172501   -0.0101885    -0.0163107       -0.0404935   -0.0164479  \n",
       " -0.0191712   -0.000255669   0.00427267   …  -0.0515135    0.00720711 \n",
       " -0.00390789   0.00872712    0.00657378      -0.0399974    0.0141738  \n",
       " -0.0264651    0.00598267   -0.00639901      -0.029864     0.0173193  \n",
       "  ⋮                                       ⋱   ⋮                       \n",
       "  0.00288989   0.00767156   -0.00900623   …  -0.0123207   -0.0141679  \n",
       "  0.00233044   0.00239378   -0.0201107       -0.0341074    0.00065211 \n",
       " -0.00646234  -0.0173135     0.00852656      -0.0432485   -0.0082779  \n",
       " -0.0212401   -0.0141046    -0.0230135       -0.0590713   -0.00664178 \n",
       "  0.00435711   0.0211827     0.00340711      -0.0312151   -0.000319002\n",
       " -0.00975567  -0.0216201    -0.0149807    …  -0.0241007    0.000789332\n",
       " -0.0200579   -0.0109379    -0.00531178      -0.0556618    0.000546554\n",
       "  0.0242755    0.0242227     0.024096        -0.0187807    0.0252043  \n",
       " -0.0187385   -0.0188546     0.0230721       -0.0368518   -0.0308035  \n",
       "  0.00245711  -0.00904845    0.021436        -0.0240901    0.0212777  \n",
       " -0.00826734  -0.0579735    -0.0494868    …   0.500585     0.003196   \n",
       "  0.00293211  -0.0182635     0.000113776      0.003196     0.494262   "
      ]
     },
     "execution_count": 37,
     "metadata": {},
     "output_type": "execute_result"
    }
   ],
   "source": [
    "# MoM using all SNPs with maf > 0.01\n",
    "grm(snpbin29c; method = :MoM)"
   ]
  },
  {
   "cell_type": "markdown",
   "metadata": {},
   "source": [
    "## Read in SNP definition file\n",
    "\n",
    "The SNP definition file `SNP_def29a.in` contains the SNP information. "
   ]
  },
  {
   "cell_type": "code",
   "execution_count": 39,
   "metadata": {},
   "outputs": [
    {
     "name": "stdout",
     "output_type": "stream",
     "text": [
      "    3.00  = FILE FORMAT VERSION NUMBER.\n",
      " \n",
      "rs3020701       ,19,           90974,   1,   2\n",
      "rs56343121      ,19,           91106,   1,   2\n",
      "rs143501051     ,19,           93542,   1,   2\n",
      "rs56182540      ,19,           95981,   1,   2\n",
      "rs7260412       ,19,          105021,   1,   2\n",
      "rs11669393      ,19,          107866,   1,   2\n",
      "rs181646587     ,19,          107894,   1,   2\n",
      "rs8106297       ,19,          107958,   1,   2\n"
     ]
    }
   ],
   "source": [
    ";head SNP_def29a.in"
   ]
  },
  {
   "cell_type": "markdown",
   "metadata": {},
   "source": [
    "We use the Julia base function [`readcsv`](https://docs.julialang.org/en/stable/stdlib/io-network/#Base.DataFmt.readcsv) to read in the SNP definition file in a dataframe. The keyword `skipstart = 2` instructs Julia to skip the first 2 lines."
   ]
  },
  {
   "cell_type": "code",
   "execution_count": 40,
   "metadata": {},
   "outputs": [
    {
     "data": {
      "text/plain": [
       "253141×6 Array{Any,2}:\n",
       " \"rs3020701       \"  19     90974  1  2  \"\"\n",
       " \"rs56343121      \"  19     91106  1  2  \"\"\n",
       " \"rs143501051     \"  19     93542  1  2  \"\"\n",
       " \"rs56182540      \"  19     95981  1  2  \"\"\n",
       " \"rs7260412       \"  19    105021  1  2  \"\"\n",
       " \"rs11669393      \"  19    107866  1  2  \"\"\n",
       " \"rs181646587     \"  19    107894  1  2  \"\"\n",
       " \"rs8106297       \"  19    107958  1  2  \"\"\n",
       " \"rs8106302       \"  19    107962  1  2  \"\"\n",
       " \"rs183568620     \"  19    107987  1  2  \"\"\n",
       " \"rs186451972     \"  19    108003  1  2  \"\"\n",
       " \"rs189699222     \"  19    108032  1  2  \"\"\n",
       " \"rs182902214     \"  19    108090  1  2  \"\"\n",
       " ⋮                                       ⋮ \n",
       " \"rs188169422     \"  19  59116080  1  2  \"\"\n",
       " \"rs144587467     \"  19  59117729  1  2  \"\"\n",
       " \"rs139879509     \"  19  59117949  1  2  \"\"\n",
       " \"rs143250448     \"  19  59117982  1  2  \"\"\n",
       " \"rs145384750     \"  19  59118028  1  2  \"\"\n",
       " \"rs149215836     \"  19  59118040  1  2  \"\"\n",
       " \"rs139221927     \"  19  59118044  1  2  \"\"\n",
       " \"rs181848453     \"  19  59118114  1  2  \"\"\n",
       " \"rs138318162     \"  19  59118148  1  2  \"\"\n",
       " \"rs186913222     \"  19  59118616  1  2  \"\"\n",
       " \"rs141816674     \"  19  59118779  1  2  \"\"\n",
       " \"rs150801216     \"  19  59118783  1  2  \"\""
      ]
     },
     "execution_count": 40,
     "metadata": {},
     "output_type": "execute_result"
    }
   ],
   "source": [
    "## columns are: :snpid, :chrom, :pos, :allele1, :allele2, :groupname\n",
    "# snpdef29c = readtable(\"SNP_def29a.in\", skipstart = 2, header = false)\n",
    "snpdef29c = readcsv(\"SNP_def29a.in\", Any; skipstart = 2, header = false)"
   ]
  },
  {
   "cell_type": "markdown",
   "metadata": {},
   "source": [
    "Unlike `readtable` in the DataFrames.jl package, `readcsv` does try to strip white spaces and infer types for each column. However, it is easy to enforce desired types on the read in data."
   ]
  },
  {
   "cell_type": "code",
   "execution_count": 41,
   "metadata": {},
   "outputs": [
    {
     "data": {
      "text/plain": [
       "253141-element Array{AbstractString,1}:\n",
       " \"rs3020701\"  \n",
       " \"rs56343121\" \n",
       " \"rs143501051\"\n",
       " \"rs56182540\" \n",
       " \"rs7260412\"  \n",
       " \"rs11669393\" \n",
       " \"rs181646587\"\n",
       " \"rs8106297\"  \n",
       " \"rs8106302\"  \n",
       " \"rs183568620\"\n",
       " \"rs186451972\"\n",
       " \"rs189699222\"\n",
       " \"rs182902214\"\n",
       " ⋮            \n",
       " \"rs188169422\"\n",
       " \"rs144587467\"\n",
       " \"rs139879509\"\n",
       " \"rs143250448\"\n",
       " \"rs145384750\"\n",
       " \"rs149215836\"\n",
       " \"rs139221927\"\n",
       " \"rs181848453\"\n",
       " \"rs138318162\"\n",
       " \"rs186913222\"\n",
       " \"rs141816674\"\n",
       " \"rs150801216\""
      ]
     },
     "execution_count": 41,
     "metadata": {},
     "output_type": "execute_result"
    }
   ],
   "source": [
    "snpid = map(x -> strip(string(x)), snpdef29c[:, 1])"
   ]
  },
  {
   "cell_type": "code",
   "execution_count": 42,
   "metadata": {},
   "outputs": [
    {
     "data": {
      "text/plain": [
       "253141-element Array{Int64,1}:\n",
       " 19\n",
       " 19\n",
       " 19\n",
       " 19\n",
       " 19\n",
       " 19\n",
       " 19\n",
       " 19\n",
       " 19\n",
       " 19\n",
       " 19\n",
       " 19\n",
       " 19\n",
       "  ⋮\n",
       " 19\n",
       " 19\n",
       " 19\n",
       " 19\n",
       " 19\n",
       " 19\n",
       " 19\n",
       " 19\n",
       " 19\n",
       " 19\n",
       " 19\n",
       " 19"
      ]
     },
     "execution_count": 42,
     "metadata": {},
     "output_type": "execute_result"
    }
   ],
   "source": [
    "# chr = map(x -> string(x), snpdef29c[:, 2])\n",
    "chr = convert(Vector{Int}, snpdef29c[:, 2])"
   ]
  },
  {
   "cell_type": "code",
   "execution_count": 43,
   "metadata": {},
   "outputs": [
    {
     "data": {
      "text/plain": [
       "253141-element Array{Int64,1}:\n",
       "    90974\n",
       "    91106\n",
       "    93542\n",
       "    95981\n",
       "   105021\n",
       "   107866\n",
       "   107894\n",
       "   107958\n",
       "   107962\n",
       "   107987\n",
       "   108003\n",
       "   108032\n",
       "   108090\n",
       "        ⋮\n",
       " 59116080\n",
       " 59117729\n",
       " 59117949\n",
       " 59117982\n",
       " 59118028\n",
       " 59118040\n",
       " 59118044\n",
       " 59118114\n",
       " 59118148\n",
       " 59118616\n",
       " 59118779\n",
       " 59118783"
      ]
     },
     "execution_count": 43,
     "metadata": {},
     "output_type": "execute_result"
    }
   ],
   "source": [
    "pos = convert(Vector{Int}, snpdef29c[:, 3])"
   ]
  },
  {
   "cell_type": "markdown",
   "metadata": {},
   "source": [
    "# Explore VCF files using VCFTools.jl\n",
    "\n",
    "VCF is a popular format for genetic data.\n",
    "\n",
    "[VCFTools.jl](https://github.com/OpenMendel/VCFTools.jl) implements some Julia utilities for handling VCF files. The package can be installed by\n",
    "```julia\n",
    "Pkg.clone(\"https://github.com/OpenMendel/VCFTools.jl.git\")\n",
    "```\n",
    "\n",
    "## Example VCF file\n",
    "\n",
    "We will demonstrate using an example VCF file `test.08Jun17.d8b.vcf.gz`, which can be downloaded from this [link](http://faculty.washington.edu/browning/beagle/test.08Jun17.d8b.vcf.gz)."
   ]
  },
  {
   "cell_type": "code",
   "execution_count": null,
   "metadata": {
    "collapsed": true
   },
   "outputs": [],
   "source": [
    ";ls -l test.08Jun17.d8b.vcf.gz"
   ]
  },
  {
   "cell_type": "markdown",
   "metadata": {},
   "source": [
    "The first 35 lines of the VCF file are"
   ]
  },
  {
   "cell_type": "code",
   "execution_count": null,
   "metadata": {
    "collapsed": true
   },
   "outputs": [],
   "source": [
    "using VCFTools\n",
    "\n",
    "fh = openvcf(\"test.08Jun17.d8b.vcf.gz\", \"r\")\n",
    "for l in 1:35\n",
    "    println(readline(fh))\n",
    "end\n",
    "close(fh)"
   ]
  },
  {
   "cell_type": "markdown",
   "metadata": {},
   "source": [
    "As in typical VCF files, it has a bunch of meta-information lines, one header line, and then one line for each each marker. In this VCF, genetic data has fields GT (genotype), DS (dosage), and GL (genotype likelihood)."
   ]
  },
  {
   "cell_type": "markdown",
   "metadata": {},
   "source": [
    "## Summary statistics\n",
    "\n",
    "Number of records (markers) in a VCF file."
   ]
  },
  {
   "cell_type": "code",
   "execution_count": null,
   "metadata": {
    "collapsed": true
   },
   "outputs": [],
   "source": [
    "records = nrecords(\"test.08Jun17.d8b.vcf.gz\")"
   ]
  },
  {
   "cell_type": "markdown",
   "metadata": {},
   "source": [
    "Number of samples (individuals) in a VCF file."
   ]
  },
  {
   "cell_type": "code",
   "execution_count": null,
   "metadata": {
    "collapsed": true
   },
   "outputs": [],
   "source": [
    "samples = nsamples(\"test.08Jun17.d8b.vcf.gz\")"
   ]
  },
  {
   "cell_type": "markdown",
   "metadata": {},
   "source": [
    "`gtstats` function calculates genotype statistics for each marker with GT field."
   ]
  },
  {
   "cell_type": "code",
   "execution_count": null,
   "metadata": {
    "collapsed": true
   },
   "outputs": [],
   "source": [
    "@time records, samples, lines, missings_by_sample, missings_by_record, \n",
    "    maf_by_record, minorallele_by_record = gtstats(\"test.08Jun17.d8b.vcf.gz\");"
   ]
  },
  {
   "cell_type": "code",
   "execution_count": null,
   "metadata": {
    "collapsed": true
   },
   "outputs": [],
   "source": [
    "# number of markers\n",
    "records"
   ]
  },
  {
   "cell_type": "code",
   "execution_count": null,
   "metadata": {
    "collapsed": true
   },
   "outputs": [],
   "source": [
    "# number of samples (individuals)\n",
    "samples"
   ]
  },
  {
   "cell_type": "code",
   "execution_count": null,
   "metadata": {
    "collapsed": true
   },
   "outputs": [],
   "source": [
    "# number of markers with GT field\n",
    "lines"
   ]
  },
  {
   "cell_type": "code",
   "execution_count": null,
   "metadata": {
    "collapsed": true
   },
   "outputs": [],
   "source": [
    "# number of missing genotypes in each sample (individual)\n",
    "missings_by_sample'"
   ]
  },
  {
   "cell_type": "code",
   "execution_count": null,
   "metadata": {
    "collapsed": true
   },
   "outputs": [],
   "source": [
    "# number of missing genotypes in each marker with GT field\n",
    "missings_by_record'"
   ]
  },
  {
   "cell_type": "code",
   "execution_count": null,
   "metadata": {
    "collapsed": true
   },
   "outputs": [],
   "source": [
    "# minor allele frequency of each marker with GT field\n",
    "maf_by_record'"
   ]
  },
  {
   "cell_type": "code",
   "execution_count": null,
   "metadata": {
    "collapsed": true
   },
   "outputs": [],
   "source": [
    "# minor allele of each marker (with GT field): true (REF) or false (ALT)\n",
    "minorallele_by_record'"
   ]
  },
  {
   "cell_type": "markdown",
   "metadata": {},
   "source": [
    "The optional second argument of `gtstats` function specifies an output file or IO stream for genotype statistics per marker. Each line has fields:  \n",
    "- 1-8:  VCF fixed fields (CHROM, POS, ID, REF, ALT, QUAL, FILT, INFO)\n",
    "-   9:  Missing genotype count\n",
    "-  10:  Missing genotype frequency\n",
    "-  11:  ALT allele count\n",
    "-  12:  ALT allele frequency\n",
    "-  13:  Minor allele count             (REF allele vs ALT alleles)\n",
    "-  14:  Minor allele frequency         (REF allele vs ALT alleles)\n",
    "-  15:  HWE P-value                    (REF allele vs ALT alleles)"
   ]
  },
  {
   "cell_type": "code",
   "execution_count": null,
   "metadata": {
    "collapsed": true
   },
   "outputs": [],
   "source": [
    "# write genotype statistics in file gtstats.out.txt\n",
    "@time gtstats(\"test.08Jun17.d8b.vcf.gz\", \"gtstats.out.txt\");"
   ]
  },
  {
   "cell_type": "code",
   "execution_count": null,
   "metadata": {
    "collapsed": true
   },
   "outputs": [],
   "source": [
    ";ls -l gtstats.out.txt"
   ]
  },
  {
   "cell_type": "markdown",
   "metadata": {},
   "source": [
    "The output file can be read as a `DataFrame` for further analysis."
   ]
  },
  {
   "cell_type": "code",
   "execution_count": null,
   "metadata": {
    "collapsed": true
   },
   "outputs": [],
   "source": [
    "using DataFrames\n",
    "\n",
    "gstat = readtable(\"gtstats.out.txt\"; \n",
    "    header = false, \n",
    "    separator = '\\t',\n",
    "    names = [:chr, :pos, :id, :ref, :alt, :qual, :filt, :info, :missings, :missfreq, :nalt, :altfreq, :nminor, :maf, :hwe],\n",
    "    eltypes = [String, Int, String, String, String, String, String, String, Int, Float64, Int, Float64, Int, Float64, Float64]\n",
    ")"
   ]
  },
  {
   "cell_type": "markdown",
   "metadata": {},
   "source": [
    "## Filter data fields in a VCF"
   ]
  },
  {
   "cell_type": "markdown",
   "metadata": {},
   "source": [
    "If we are only interested in the GT data in this VCF file, we can call `filter_genotype` function for filtering.  \n",
    "* The first argument is the source VCF.  \n",
    "* The second argument is the output VCF.  \n",
    "* The third argument is a vector of fields to output."
   ]
  },
  {
   "cell_type": "code",
   "execution_count": null,
   "metadata": {
    "collapsed": true
   },
   "outputs": [],
   "source": [
    "@time filter_genotype(\"test.08Jun17.d8b.vcf.gz\", \"test.gt.vcf.gz\", [\"GT\"])"
   ]
  },
  {
   "cell_type": "code",
   "execution_count": null,
   "metadata": {
    "collapsed": true
   },
   "outputs": [],
   "source": [
    ";ls -l test.gt.vcf.gz"
   ]
  },
  {
   "cell_type": "markdown",
   "metadata": {},
   "source": [
    "The first 35 lines of the resultant file are"
   ]
  },
  {
   "cell_type": "code",
   "execution_count": null,
   "metadata": {
    "collapsed": true
   },
   "outputs": [],
   "source": [
    "fh = openvcf(\"test.gt.vcf.gz\", \"r\")\n",
    "for l in 1:35\n",
    "    println(readline(fh))\n",
    "end\n",
    "close(fh)"
   ]
  },
  {
   "cell_type": "markdown",
   "metadata": {},
   "source": [
    "To extract more than one fields, say GT and DS,"
   ]
  },
  {
   "cell_type": "code",
   "execution_count": null,
   "metadata": {
    "collapsed": true
   },
   "outputs": [],
   "source": [
    "@time filter_genotype(\"test.08Jun17.d8b.vcf.gz\", \"test.gt.ds.vcf.gz\", [\"GT\", \"DS\"])"
   ]
  },
  {
   "cell_type": "code",
   "execution_count": null,
   "metadata": {
    "collapsed": true
   },
   "outputs": [],
   "source": [
    ";ls -l test.gt.ds.vcf.gz"
   ]
  },
  {
   "cell_type": "markdown",
   "metadata": {},
   "source": [
    "The first 35 lines of the resultant file are"
   ]
  },
  {
   "cell_type": "code",
   "execution_count": null,
   "metadata": {
    "collapsed": true
   },
   "outputs": [],
   "source": [
    "fh = openvcf(\"test.gt.ds.vcf.gz\", \"r\")\n",
    "for l in 1:35\n",
    "    println(readline(fh))\n",
    "end\n",
    "close(fh)"
   ]
  },
  {
   "cell_type": "markdown",
   "metadata": {},
   "source": [
    "Note the data fields in the output file is in alphabet order, which may be different from the order in original VCF."
   ]
  },
  {
   "cell_type": "markdown",
   "metadata": {},
   "source": [
    "## Convert GT to numeric arrays\n",
    "\n",
    "There are differnt SNP models. The *additive* SNP model essentially counts the number of **minor allele** (0, 1 or 2) per genotype. Other SNP models are *dominant* and *recessive*, both in terms of the **minor allele**. When `ALT` allele is the minor allele, genotypes are translated to real number according to\n",
    "\n",
    "| Genotype | VCF GT | `model=:additive` | `model=:dominant` | `model=:recessive` |    \n",
    "|:---:|:---:|:---:|:---:|:---:|  \n",
    "| ALT,ALT | 0/0, 0&#124;0 | 2 | 1 | 1 |  \n",
    "| REF,ALT | 0/1, 0&#124;1 | 1 | 1 | 0 |  \n",
    "| REF,REF | 1/1, 1&#124;1 | 0 | 0 | 0 |  \n",
    "| missing | . | Null | Null | Null | \n",
    "\n",
    "When `REF` allele is the minor allele, genotypes are translated according to\n",
    "\n",
    "| Genotype | VCF GT | `model=:additive` | `model=:dominant` | `model=:recessive` |    \n",
    "|:---:|:---:|:---:|:---:|:---:|  \n",
    "| ALT,ALT | 0/0, 0&#124;0 | 0 | 0 | 0 |  \n",
    "| REF,ALT | 0/1, 0&#124;1, 1/0, 1&#124;0 | 1 | 1 | 0 |  \n",
    "| REF,REF | 1/1, 1&#124;1 | 2 | 1 | 1 |  \n",
    "| missing | . | Null | Null | Null |\n",
    "\n",
    "To properly record the missing genotypes, VCFTools convert VCF GT data to `NullableArray`s. Each element of a nullable array `A` is of type `Nullable{T}`. `isnull(A[i, j]) == true` indicates that `A[i, j]` is a missing genotype. See the [NullableArrays.jl](https://github.com/JuliaStats/NullableArrays.jl) package for detailed documentation. "
   ]
  },
  {
   "cell_type": "markdown",
   "metadata": {},
   "source": [
    "Convert GT data in VCF file test.08Jun17.d8b.vcf.gz to a `Nullable{Float64}` array. Impute the missing genotypes according to allele frequency, center the dosages around 2MAF, and scale the dosages by `sqrt(2MAF*(1-MAF))`."
   ]
  },
  {
   "cell_type": "code",
   "execution_count": null,
   "metadata": {
    "collapsed": true
   },
   "outputs": [],
   "source": [
    "@time A = convert_gt(Float64, \"test.08Jun17.d8b.vcf.gz\"; model = :additive, impute = true, center = true, scale = true)"
   ]
  },
  {
   "cell_type": "markdown",
   "metadata": {},
   "source": [
    "Large VCF files easily generate numeric arrays that cannot fit into computer memory. Many analyses only need to loop over markers or sets of markers. This can be achieved by the `copy_gt!` function.\n",
    "\n",
    "* To loop over all markers in the VCF file test.08Jun17.d8b.vcf.gz:"
   ]
  },
  {
   "cell_type": "code",
   "execution_count": null,
   "metadata": {
    "collapsed": true
   },
   "outputs": [],
   "source": [
    "using GeneticVariation, NullableArrays, VCFTools\n",
    "\n",
    "# initialize VCF reader\n",
    "people, snps = nsamples(\"test.08Jun17.d8b.vcf.gz\"), nrecords(\"test.08Jun17.d8b.vcf.gz\")\n",
    "reader = VCF.Reader(openvcf(\"test.08Jun17.d8b.vcf.gz\"))\n",
    "# pre-allocate vector for marker data\n",
    "g = NullableArray(zeros(people))\n",
    "for j = 1:snps\n",
    "    copy_gt!(g, reader; model = :additive, impute = true, center = true, scale = true)\n",
    "    # do statistical anlaysis\n",
    "end\n",
    "close(reader)"
   ]
  },
  {
   "cell_type": "markdown",
   "metadata": {},
   "source": [
    "* To loop over markers in windows of size 25:"
   ]
  },
  {
   "cell_type": "code",
   "execution_count": null,
   "metadata": {
    "collapsed": true
   },
   "outputs": [],
   "source": [
    "using GeneticVariation, NullableArrays, VCFTools\n",
    "\n",
    "# initialize VCF reader\n",
    "people, snps = nsamples(\"test.08Jun17.d8b.vcf.gz\"), nrecords(\"test.08Jun17.d8b.vcf.gz\")\n",
    "reader = VCF.Reader(openvcf(\"test.08Jun17.d8b.vcf.gz\"))\n",
    "# pre-allocate matrix for marker data\n",
    "windowsize = 25\n",
    "g = NullableArray(zeros(people, windowsize))\n",
    "nwindows = ceil(Int, snps / windowsize)\n",
    "for j = 1:nwindows\n",
    "    copy_gt!(g, reader; model = :additive, impute = true, center = true, scale = true)\n",
    "    # do statistical anlaysis\n",
    "end\n",
    "close(reader)"
   ]
  },
  {
   "cell_type": "markdown",
   "metadata": {},
   "source": [
    "As the warning suggests, the last window has less than 25 markers. The remaining columns in the matrix `g` are set to missing values."
   ]
  }
 ],
 "metadata": {
  "kernelspec": {
   "display_name": "Julia 0.6.4",
   "language": "julia",
   "name": "julia-0.6"
  },
  "language_info": {
   "file_extension": ".jl",
   "mimetype": "application/julia",
   "name": "julia",
   "version": "0.6.4"
  },
  "toc": {
   "colors": {
    "hover_highlight": "#DAA520",
    "running_highlight": "#FF0000",
    "selected_highlight": "#FFD700"
   },
   "moveMenuLeft": true,
   "nav_menu": {
    "height": "67px",
    "width": "252px"
   },
   "navigate_menu": true,
   "number_sections": true,
   "sideBar": true,
   "threshold": 4,
   "toc_cell": false,
   "toc_position": {
    "height": "623px",
    "left": "0px",
    "right": "auto",
    "top": "105px",
    "width": "212px"
   },
   "toc_section_display": "block",
   "toc_window_display": true,
   "widenNotebook": false
  }
 },
 "nbformat": 4,
 "nbformat_minor": 2
}
