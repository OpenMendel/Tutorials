{
 "cells": [
  {
   "cell_type": "markdown",
   "metadata": {},
   "source": [
    "This notebook is designed to be a guide on how to use the package MendelGWAS in Open Mendel to perform a Genome Wide Association Study (GWAS). It will cover performing a GWAS on both qualitative and quantitative tratits (linear and logistic regression). "
   ]
  },
  {
   "cell_type": "markdown",
   "metadata": {},
   "source": [
    "The data we will be using is from the Mendel version 16 sample files. The data is described in examples under Option 24 in the Mendel Version 16 Manual [Section 24.4,  page 250](http://www.genetics.ucla.edu/software/Mendel_current_doc.pdf). It consists of simulated data where the traits (binary and quantitative) of interest have two contributing SNPs and an interaction between them."
   ]
  },
  {
   "cell_type": "markdown",
   "metadata": {},
   "source": [
    "First, add MendelGWAS.jl to your computer if it's not already installed."
   ]
  },
  {
   "cell_type": "code",
   "execution_count": 1,
   "metadata": {},
   "outputs": [
    {
     "name": "stdout",
     "output_type": "stream",
     "text": [
      " "
     ]
    }
   ],
   "source": [
    "Pkg.clone(\"https://github.com/OpenMendel/MendelGWAS.jl.git\")"
   ]
  },
  {
   "cell_type": "markdown",
   "metadata": {},
   "source": [
    "For reproducability information, run versioninfo()"
   ]
  },
  {
   "cell_type": "code",
   "execution_count": 2,
   "metadata": {},
   "outputs": [
    {
     "name": "stdout",
     "output_type": "stream",
     "text": [
      "Julia Version 0.6.2\n",
      "Commit d386e40c17 (2017-12-13 18:08 UTC)\n",
      "Platform Info:\n",
      "  OS: macOS (x86_64-apple-darwin14.5.0)\n",
      "  CPU: Intel(R) Core(TM) i7-4850HQ CPU @ 2.30GHz\n",
      "  WORD_SIZE: 64\n",
      "  BLAS: libopenblas (USE64BITINT DYNAMIC_ARCH NO_AFFINITY Haswell)\n",
      "  LAPACK: libopenblas64_\n",
      "  LIBM: libopenlibm\n",
      "  LLVM: libLLVM-3.9.1 (ORCJIT, haswell)\n"
     ]
    }
   ],
   "source": [
    "versioninfo()"
   ]
  },
  {
   "cell_type": "markdown",
   "metadata": {},
   "source": [
    "MendelGWAS requires a `.txt` file as input with certain fields in order to run the analysis with additional optional fields for further customization and additional analyses."
   ]
  },
  {
   "cell_type": "markdown",
   "metadata": {},
   "source": [
    "Required Arguments:\n",
    "\n",
    "`pedigree_file` is the file with your covariates. Note: The covariate file must have a row of 1s labeled Person. \n",
    "\n",
    "`snpdefinition_file` is the file where your SNPs are defined (snp, chromosome, basepair).\n",
    "\n",
    "`snpdata_file` is the file with your SNP data.\n",
    "\n",
    "or alternatively instead of the three above, you can use:\n",
    "\n",
    "`plink_input_basename` which is the basename of the plink file.\n",
    "\n",
    "`output_file` is the file that is outputted with the results.\n",
    "\n",
    "`regression` is the choice of regression.\n",
    "\n",
    "`regression_formula` is the formula for the regression written in R-like syntax. The left hand side of formula (to the left of `~`) is the trait variable. \n",
    "\n",
    "$\\hspace{5mm}$\n",
    "\n",
    "Optional arguments:\n",
    "\n",
    "`manhattan_plot_file` is the name of the .png file for the manhattan plot generated from the analysis. A Manhattan Plot will only be generated if this argument is in the `.txt` file. \n",
    "\n",
    "`lrt_threshold` default is set to 5e-8.\n",
    "\n",
    "`maf_threshold` default is set to 0.01.\n",
    "\n",
    "`min_success_rate_per_sample` default is set to 0.98.\n",
    "\n",
    "`min_success_rate_per_snp`  default is set to 0.98.\n",
    "\n",
    "`pcs` is the number of Principal Components to calculate and include in the model, default is set to 0."
   ]
  },
  {
   "cell_type": "markdown",
   "metadata": {},
   "source": [
    "Ensure your directory is set to the correct location containing all relevant files using:\n",
    "\n",
    "`;cd path`"
   ]
  },
  {
   "cell_type": "markdown",
   "metadata": {},
   "source": [
    "$\\bf{Qualitative}$ $\\bf{GWAS}$"
   ]
  },
  {
   "cell_type": "markdown",
   "metadata": {},
   "source": [
    "We will first demonstrate using MendelGWAS to perform an analysis with a dichotomous trait such as disease presence or absence. \n",
    "You will need to have a `.txt` file that has the required information as well as optional keywords. The example file we will use for the analysis is shown below. "
   ]
  },
  {
   "cell_type": "code",
   "execution_count": 3,
   "metadata": {},
   "outputs": [
    {
     "name": "stdout",
     "output_type": "stream",
     "text": [
      "#\n",
      "# Input and Output files.\n",
      "#\n",
      "pedigree_file = gwasped.txt\n",
      "snpdefinition_file = gwassnpdef.txt\n",
      "snpdata_file = gwasdata.bed\n",
      "output_file = qualOutput.txt\n",
      "manhattan_plot_file = qualManhattanPlotOutput.png\n",
      "#\n",
      "# Analysis parameters for GWAS option.\n",
      "#\n",
      "regression = logistic\n",
      "regression_formula = Case_Control ~ Sex + BMI"
     ]
    }
   ],
   "source": [
    ";cat qualControl.txt"
   ]
  },
  {
   "cell_type": "markdown",
   "metadata": {},
   "source": [
    "To run the analysis, simply specify 'Using MendelGWAS' and then enter the commend GWAS(\"file.txt\")."
   ]
  },
  {
   "cell_type": "code",
   "execution_count": 4,
   "metadata": {},
   "outputs": [
    {
     "name": "stdout",
     "output_type": "stream",
     "text": [
      " \n",
      " \n",
      "     Welcome to OpenMendel's\n",
      "      GWAS analysis option\n",
      "        version 0.1.0\n",
      " \n",
      " \n",
      "Reading the data.\n",
      "\n",
      "The current working directory is \"/Users/christophergerman/OpenMendelGWAS\".\n",
      "\n",
      "Keywords modified by the user:\n",
      "\n",
      "  control_file = qualControl.txt\n",
      "  manhattan_plot_file = qualManhattanPlotOutput.png\n",
      "  output_file = qualOutput.txt\n",
      "  pedigree_file = gwasped.txt\n",
      "  regression = logistic\n",
      "  regression_formula = Case_Control ~ Sex + BMI\n",
      "  snpdata_file = gwasdata.bed\n",
      "  snpdefinition_file = gwassnpdef.txt\n",
      " \n"
     ]
    },
    {
     "name": "stderr",
     "output_type": "stream",
     "text": [
      "\u001b[1m\u001b[36mINFO: \u001b[39m\u001b[22m\u001b[36mv1.0 BED file detected\n",
      "\u001b[39m"
     ]
    },
    {
     "name": "stdout",
     "output_type": "stream",
     "text": [
      " \n",
      "Analyzing the data.\n",
      "\n"
     ]
    },
    {
     "name": "stderr",
     "output_type": "stream",
     "text": [
      "\u001b[1m\u001b[33mWARNING: \u001b[39m\u001b[22m\u001b[33mrainbow is found in more than one library: misc, colorcet. Choosing misc\u001b[39m\n"
     ]
    },
    {
     "name": "stdout",
     "output_type": "stream",
     "text": [
      " \n",
      "Creating a Manhattan plot from the GWAS results.\n",
      "\n",
      " \n",
      " \n",
      "Mendel's analysis is finished.\n",
      "\n"
     ]
    }
   ],
   "source": [
    "using MendelGWAS\n",
    "GWAS(\"qualControl.txt\")"
   ]
  },
  {
   "cell_type": "markdown",
   "metadata": {},
   "source": [
    "Now to check on the results. They are stored in the designated output file in the same directory. The file contains the base model information as well as significant SNPs and relevant information for them. In the Analysis, there were 2 SNPs detected to be potentially significant (p-value < 0.05/number of snps), so only their output is included in the output file. "
   ]
  },
  {
   "cell_type": "code",
   "execution_count": 5,
   "metadata": {},
   "outputs": [
    {
     "name": "stdout",
     "output_type": "stream",
     "text": [
      " \n",
      "Summary for Base Model with Formula: Case_Control ~ Sex + BMI\n",
      "Regression model: logistic\n",
      "Link function: canonical\n",
      "Base components' effect estimates: \n",
      "   (Intercept) : -0.699975\n",
      "   Sex : 0.0132831\n",
      "   BMI : -0.00875774\n",
      "Base model loglikelihood: -1315.0784\n",
      " \n",
      " \n",
      "\n",
      "Summary for SNP rs1935681\n",
      " on chromosome 6 at basepair 112651205\n",
      "SNP p-value: 1.515e-9\n",
      "Minor allele frequency: 0.2523\n",
      "Hardy-Weinberg p-value: 0.3666\n",
      "SNP effect estimate: -0.4831\n",
      "SNP model loglikelihood: -1296.8209\n",
      " \n",
      "\n",
      "Summary for SNP rs2256412\n",
      " on chromosome 12 at basepair 41913108\n",
      "SNP p-value: 6.68e-21\n",
      "Minor allele frequency: 0.4741\n",
      "Hardy-Weinberg p-value: 0.1844\n",
      "SNP effect estimate: -0.6371\n",
      "SNP model loglikelihood: -1271.0984\n",
      " \n",
      " \n",
      " \n",
      "        P-value   Number of Passing\n",
      "FDR    Threshold     Predictors \n",
      "\n",
      "0.01    0.00000           2\n",
      "0.05    0.00000           2\n",
      "0.10    0.00000           2\n",
      "0.20    0.00000           2\n",
      "0.30    0.00000           2\n",
      "0.40    0.00000           2\n",
      "0.50    0.00000           2\n",
      "0.60    0.00044           8\n",
      "0.70    0.00108          16\n",
      "0.80    0.00540          68\n",
      "0.90    0.02661         297\n",
      " \n"
     ]
    }
   ],
   "source": [
    ";cat qualOutput.txt"
   ]
  },
  {
   "cell_type": "markdown",
   "metadata": {},
   "source": [
    "For benchmarking purposes: "
   ]
  },
  {
   "cell_type": "code",
   "execution_count": 6,
   "metadata": {},
   "outputs": [
    {
     "name": "stdout",
     "output_type": "stream",
     "text": [
      " \n",
      " \n",
      "     Welcome to OpenMendel's\n",
      "      GWAS analysis option\n",
      "        version 0.1.0\n",
      " \n",
      " \n",
      "Reading the data.\n",
      "\n",
      "The current working directory is \"/Users/christophergerman/OpenMendelGWAS\".\n",
      "\n",
      "Keywords modified by the user:\n",
      "\n",
      "  control_file = qualControl.txt\n",
      "  manhattan_plot_file = qualManhattanPlotOutput.png\n",
      "  output_file = qualOutput.txt\n",
      "  pedigree_file = gwasped.txt\n",
      "  regression = logistic\n",
      "  regression_formula = Case_Control ~ Sex + BMI\n",
      "  snpdata_file = gwasdata.bed\n",
      "  snpdefinition_file = gwassnpdef.txt\n",
      " \n"
     ]
    },
    {
     "name": "stderr",
     "output_type": "stream",
     "text": [
      "\u001b[1m\u001b[36mINFO: \u001b[39m\u001b[22m\u001b[36mv1.0 BED file detected\n",
      "\u001b[39m"
     ]
    },
    {
     "name": "stdout",
     "output_type": "stream",
     "text": [
      " \n",
      "Analyzing the data.\n",
      "\n"
     ]
    },
    {
     "name": "stderr",
     "output_type": "stream",
     "text": [
      "\u001b[1m\u001b[33mWARNING: \u001b[39m\u001b[22m\u001b[33mrainbow is found in more than one library: misc, colorcet. Choosing misc\u001b[39m\n"
     ]
    },
    {
     "name": "stdout",
     "output_type": "stream",
     "text": [
      " \n",
      "Creating a Manhattan plot from the GWAS results.\n",
      "\n",
      " \n",
      " \n",
      "Mendel's analysis is finished.\n",
      "\n",
      " \n",
      " \n",
      "     Welcome to OpenMendel's\n",
      "      GWAS analysis option\n",
      "        version 0.1.0\n",
      " \n",
      " \n",
      "Reading the data.\n",
      "\n",
      "The current working directory is \"/Users/christophergerman/OpenMendelGWAS\".\n",
      "\n",
      "Keywords modified by the user:\n",
      "\n",
      "  control_file = qualControl.txt\n",
      "  manhattan_plot_file = qualManhattanPlotOutput.png\n",
      "  output_file = qualOutput.txt\n",
      "  pedigree_file = gwasped.txt\n",
      "  regression = logistic\n",
      "  regression_formula = Case_Control ~ Sex + BMI\n",
      "  snpdata_file = gwasdata.bed\n",
      "  snpdefinition_file = gwassnpdef.txt\n",
      " \n"
     ]
    },
    {
     "name": "stderr",
     "output_type": "stream",
     "text": [
      "\u001b[1m\u001b[36mINFO: \u001b[39m\u001b[22m\u001b[36mv1.0 BED file detected\n",
      "\u001b[39m"
     ]
    },
    {
     "name": "stdout",
     "output_type": "stream",
     "text": [
      " \n",
      "Analyzing the data.\n",
      "\n"
     ]
    },
    {
     "name": "stderr",
     "output_type": "stream",
     "text": [
      "\u001b[1m\u001b[33mWARNING: \u001b[39m\u001b[22m\u001b[33mrainbow is found in more than one library: misc, colorcet. Choosing misc\u001b[39m\n"
     ]
    },
    {
     "name": "stdout",
     "output_type": "stream",
     "text": [
      " \n",
      "Creating a Manhattan plot from the GWAS results.\n",
      "\n",
      " \n",
      " \n",
      "Mendel's analysis is finished.\n",
      "\n",
      " \n",
      " \n",
      "     Welcome to OpenMendel's\n",
      "      GWAS analysis option\n",
      "        version 0.1.0\n",
      " \n",
      " \n",
      "Reading the data.\n",
      "\n",
      "The current working directory is \"/Users/christophergerman/OpenMendelGWAS\".\n",
      "\n",
      "Keywords modified by the user:\n",
      "\n",
      "  control_file = qualControl.txt\n",
      "  manhattan_plot_file = qualManhattanPlotOutput.png\n",
      "  output_file = qualOutput.txt\n",
      "  pedigree_file = gwasped.txt\n",
      "  regression = logistic\n",
      "  regression_formula = Case_Control ~ Sex + BMI\n",
      "  snpdata_file = gwasdata.bed\n",
      "  snpdefinition_file = gwassnpdef.txt\n",
      " \n"
     ]
    },
    {
     "name": "stderr",
     "output_type": "stream",
     "text": [
      "\u001b[1m\u001b[36mINFO: \u001b[39m\u001b[22m\u001b[36mv1.0 BED file detected\n",
      "\u001b[39m"
     ]
    },
    {
     "name": "stdout",
     "output_type": "stream",
     "text": [
      " \n",
      "Analyzing the data.\n",
      "\n"
     ]
    },
    {
     "name": "stderr",
     "output_type": "stream",
     "text": [
      "\u001b[1m\u001b[33mWARNING: \u001b[39m\u001b[22m\u001b[33mrainbow is found in more than one library: misc, colorcet. Choosing misc\u001b[39m\n"
     ]
    },
    {
     "name": "stdout",
     "output_type": "stream",
     "text": [
      " \n",
      "Creating a Manhattan plot from the GWAS results.\n",
      "\n",
      " \n",
      " \n",
      "Mendel's analysis is finished.\n",
      "\n",
      " \n",
      " \n",
      "     Welcome to OpenMendel's\n",
      "      GWAS analysis option\n",
      "        version 0.1.0\n",
      " \n",
      " \n",
      "Reading the data.\n",
      "\n",
      "The current working directory is \"/Users/christophergerman/OpenMendelGWAS\".\n",
      "\n",
      "Keywords modified by the user:\n",
      "\n",
      "  control_file = qualControl.txt\n",
      "  manhattan_plot_file = qualManhattanPlotOutput.png\n",
      "  output_file = qualOutput.txt\n",
      "  pedigree_file = gwasped.txt\n",
      "  regression = logistic\n",
      "  regression_formula = Case_Control ~ Sex + BMI\n",
      "  snpdata_file = gwasdata.bed\n",
      "  snpdefinition_file = gwassnpdef.txt\n",
      " \n"
     ]
    },
    {
     "name": "stderr",
     "output_type": "stream",
     "text": [
      "\u001b[1m\u001b[36mINFO: \u001b[39m\u001b[22m\u001b[36mv1.0 BED file detected\n",
      "\u001b[39m"
     ]
    },
    {
     "name": "stdout",
     "output_type": "stream",
     "text": [
      " \n",
      "Analyzing the data.\n",
      "\n"
     ]
    },
    {
     "name": "stderr",
     "output_type": "stream",
     "text": [
      "\u001b[1m\u001b[33mWARNING: \u001b[39m\u001b[22m\u001b[33mrainbow is found in more than one library: misc, colorcet. Choosing misc\u001b[39m\n"
     ]
    },
    {
     "name": "stdout",
     "output_type": "stream",
     "text": [
      " \n",
      "Creating a Manhattan plot from the GWAS results.\n",
      "\n",
      " \n",
      " \n",
      "Mendel's analysis is finished.\n",
      "\n",
      " \n",
      " \n",
      "     Welcome to OpenMendel's\n",
      "      GWAS analysis option\n",
      "        version 0.1.0\n",
      " \n",
      " \n",
      "Reading the data.\n",
      "\n",
      "The current working directory is \"/Users/christophergerman/OpenMendelGWAS\".\n",
      "\n",
      "Keywords modified by the user:\n",
      "\n",
      "  control_file = qualControl.txt\n",
      "  manhattan_plot_file = qualManhattanPlotOutput.png\n",
      "  output_file = qualOutput.txt\n",
      "  pedigree_file = gwasped.txt\n",
      "  regression = logistic\n",
      "  regression_formula = Case_Control ~ Sex + BMI\n",
      "  snpdata_file = gwasdata.bed\n",
      "  snpdefinition_file = gwassnpdef.txt\n",
      " \n"
     ]
    },
    {
     "name": "stderr",
     "output_type": "stream",
     "text": [
      "\u001b[1m\u001b[36mINFO: \u001b[39m\u001b[22m\u001b[36mv1.0 BED file detected\n",
      "\u001b[39m"
     ]
    },
    {
     "name": "stdout",
     "output_type": "stream",
     "text": [
      " \n",
      "Analyzing the data.\n",
      "\n"
     ]
    },
    {
     "name": "stderr",
     "output_type": "stream",
     "text": [
      "\u001b[1m\u001b[33mWARNING: \u001b[39m\u001b[22m\u001b[33mrainbow is found in more than one library: misc, colorcet. Choosing misc\u001b[39m\n"
     ]
    },
    {
     "name": "stdout",
     "output_type": "stream",
     "text": [
      " \n",
      "Creating a Manhattan plot from the GWAS results.\n",
      "\n",
      " \n",
      " \n",
      "Mendel's analysis is finished.\n",
      "\n",
      " \n",
      " \n",
      "     Welcome to OpenMendel's\n",
      "      GWAS analysis option\n",
      "        version 0.1.0\n",
      " \n",
      " \n",
      "Reading the data.\n",
      "\n",
      "The current working directory is \"/Users/christophergerman/OpenMendelGWAS\".\n",
      "\n",
      "Keywords modified by the user:\n",
      "\n",
      "  control_file = qualControl.txt\n",
      "  manhattan_plot_file = qualManhattanPlotOutput.png\n",
      "  output_file = qualOutput.txt\n",
      "  pedigree_file = gwasped.txt\n",
      "  regression = logistic\n",
      "  regression_formula = Case_Control ~ Sex + BMI\n",
      "  snpdata_file = gwasdata.bed\n",
      "  snpdefinition_file = gwassnpdef.txt\n",
      " \n"
     ]
    },
    {
     "name": "stderr",
     "output_type": "stream",
     "text": [
      "\u001b[1m\u001b[36mINFO: \u001b[39m\u001b[22m\u001b[36mv1.0 BED file detected\n",
      "\u001b[39m"
     ]
    },
    {
     "name": "stdout",
     "output_type": "stream",
     "text": [
      " \n",
      "Analyzing the data.\n",
      "\n"
     ]
    },
    {
     "name": "stderr",
     "output_type": "stream",
     "text": [
      "\u001b[1m\u001b[33mWARNING: \u001b[39m\u001b[22m\u001b[33mrainbow is found in more than one library: misc, colorcet. Choosing misc\u001b[39m\n"
     ]
    },
    {
     "name": "stdout",
     "output_type": "stream",
     "text": [
      " \n",
      "Creating a Manhattan plot from the GWAS results.\n",
      "\n",
      " \n",
      " \n",
      "Mendel's analysis is finished.\n",
      "\n",
      " \n",
      " \n",
      "     Welcome to OpenMendel's\n",
      "      GWAS analysis option\n",
      "        version 0.1.0\n",
      " \n",
      " \n",
      "Reading the data.\n",
      "\n",
      "The current working directory is \"/Users/christophergerman/OpenMendelGWAS\".\n",
      "\n",
      "Keywords modified by the user:\n",
      "\n",
      "  control_file = qualControl.txt\n",
      "  manhattan_plot_file = qualManhattanPlotOutput.png\n",
      "  output_file = qualOutput.txt\n",
      "  pedigree_file = gwasped.txt\n",
      "  regression = logistic\n",
      "  regression_formula = Case_Control ~ Sex + BMI\n",
      "  snpdata_file = gwasdata.bed\n",
      "  snpdefinition_file = gwassnpdef.txt\n",
      " \n"
     ]
    },
    {
     "name": "stderr",
     "output_type": "stream",
     "text": [
      "\u001b[1m\u001b[36mINFO: \u001b[39m\u001b[22m\u001b[36mv1.0 BED file detected\n",
      "\u001b[39m"
     ]
    },
    {
     "name": "stdout",
     "output_type": "stream",
     "text": [
      " \n",
      "Analyzing the data.\n",
      "\n"
     ]
    },
    {
     "name": "stderr",
     "output_type": "stream",
     "text": [
      "\u001b[1m\u001b[33mWARNING: \u001b[39m\u001b[22m\u001b[33mrainbow is found in more than one library: misc, colorcet. Choosing misc\u001b[39m\n"
     ]
    },
    {
     "name": "stdout",
     "output_type": "stream",
     "text": [
      " \n",
      "Creating a Manhattan plot from the GWAS results.\n",
      "\n",
      " \n",
      " \n",
      "Mendel's analysis is finished.\n",
      "\n"
     ]
    },
    {
     "data": {
      "text/plain": [
       "BenchmarkTools.Trial: \n",
       "  memory estimate:  1.72 GiB\n",
       "  allocs estimate:  1860357\n",
       "  --------------\n",
       "  minimum time:     3.194 s (8.81% GC)\n",
       "  median time:      3.242 s (9.16% GC)\n",
       "  mean time:        3.242 s (9.16% GC)\n",
       "  maximum time:     3.291 s (9.51% GC)\n",
       "  --------------\n",
       "  samples:          2\n",
       "  evals/sample:     1"
      ]
     },
     "execution_count": 6,
     "metadata": {},
     "output_type": "execute_result"
    }
   ],
   "source": [
    "using BenchmarkTools\n",
    "@benchmark GWAS(\"qualControl.txt\")"
   ]
  },
  {
   "cell_type": "markdown",
   "metadata": {},
   "source": [
    "A Manhattan Plot was generated from the analysis, this gives you a clear way to visualize where the significant hits are coming from and if any other SNPs were close to hitting the potentially significant boundary. "
   ]
  },
  {
   "cell_type": "code",
   "execution_count": 7,
   "metadata": {},
   "outputs": [
    {
     "data": {
      "image/png": "[encoded data removed]"
     },
     "metadata": {},
     "output_type": "display_data"
    }
   ],
   "source": [
    "display(\"image/png\", read(\"qualManhattanPlotOutput.png\"))"
   ]
  },
  {
   "cell_type": "markdown",
   "metadata": {},
   "source": [
    " "
   ]
  },
  {
   "cell_type": "markdown",
   "metadata": {},
   "source": [
    " "
   ]
  },
  {
   "cell_type": "markdown",
   "metadata": {},
   "source": [
    "$\\bf{Quantitative}$ $\\bf{GWAS}$"
   ]
  },
  {
   "cell_type": "markdown",
   "metadata": {},
   "source": [
    "We will now run the analysis on the same SNP dataset, but using a quantitative trait variable instead. For the quantiative analysis, we need to specific the quantitative variable on the left hand side in the\n",
    "\n",
    "`regression_formula` section of the .txt file (in our example, Trait).\n",
    "\n",
    "You also must specify the regression as linear instead of logistic on the \n",
    "   \n",
    "`regression` argument in the .txt file. "
   ]
  },
  {
   "cell_type": "code",
   "execution_count": 13,
   "metadata": {},
   "outputs": [
    {
     "name": "stdout",
     "output_type": "stream",
     "text": [
      "#\n",
      "# Input and Output files.\n",
      "#\n",
      "plink_input_basename = gwasdata\n",
      "output_file = quantOutput.txt\n",
      "manhattan_plot_file = quantgwasManhattanPlotOutput.png\n",
      "#\n",
      "# Analysis parameters for GWAS option.\n",
      "#\n",
      "regression = linear\n",
      "regression_formula = Trait ~ Sex\n"
     ]
    }
   ],
   "source": [
    ";cat quantControl.txt"
   ]
  },
  {
   "cell_type": "code",
   "execution_count": 9,
   "metadata": {},
   "outputs": [
    {
     "name": "stdout",
     "output_type": "stream",
     "text": [
      " \n",
      " \n",
      "     Welcome to OpenMendel's\n",
      "      GWAS analysis option\n",
      "        version 0.1.0\n",
      " \n",
      " \n",
      "Reading the data.\n",
      "\n",
      "The current working directory is \"/Users/christophergerman/OpenMendelGWAS\".\n",
      "\n",
      "Keywords modified by the user:\n",
      "\n",
      "  affected_designator = 2\n",
      "  control_file = quantControl.txt\n",
      "  manhattan_plot_file = quantgwasManhattanPlotOutput.png\n",
      "  output_file = quantOutput.txt\n",
      "  pedigree_file = gwasdata.fam\n",
      "  plink_input_basename = gwasdata\n",
      "  regression = linear\n",
      "  regression_formula = Trait ~ Sex\n",
      "  snpdata_file = gwasdata.bed\n",
      "  snpdefinition_file = gwasdata.bim\n",
      " \n"
     ]
    },
    {
     "name": "stderr",
     "output_type": "stream",
     "text": [
      "\u001b[1m\u001b[36mINFO: \u001b[39m\u001b[22m\u001b[36mv1.0 BED file detected\n",
      "\u001b[39m"
     ]
    },
    {
     "name": "stdout",
     "output_type": "stream",
     "text": [
      " \n",
      "Analyzing the data.\n",
      "\n"
     ]
    },
    {
     "name": "stderr",
     "output_type": "stream",
     "text": [
      "\u001b[1m\u001b[33mWARNING: \u001b[39m\u001b[22m\u001b[33mrainbow is found in more than one library: misc, colorcet. Choosing misc\u001b[39m\n"
     ]
    },
    {
     "name": "stdout",
     "output_type": "stream",
     "text": [
      " \n",
      "Creating a Manhattan plot from the GWAS results.\n",
      "\n",
      " \n",
      " \n",
      "Mendel's analysis is finished.\n",
      "\n"
     ]
    }
   ],
   "source": [
    "using MendelGWAS\n",
    "GWAS(\"quantControl.txt\")"
   ]
  },
  {
   "cell_type": "markdown",
   "metadata": {},
   "source": [
    "We can check the output `.txt` file from the analysis. You can see that two SNPs had pvalues under the threshold, so their relevant information is displayed in the .txt file generated along with the regression results. "
   ]
  },
  {
   "cell_type": "code",
   "execution_count": 10,
   "metadata": {},
   "outputs": [
    {
     "name": "stdout",
     "output_type": "stream",
     "text": [
      " \n",
      "Summary for Base Model with Formula: Trait ~ Sex\n",
      "Regression model: linear\n",
      "Link function: canonical\n",
      "Base components' effect estimates: \n",
      "   (Intercept) : 0.142482\n",
      "   Sex : -0.0129378\n",
      "Base model loglikelihood: -1258.177\n",
      " \n",
      " \n",
      "\n",
      "Summary for SNP rs1935681\n",
      " on chromosome 6 at basepair 112651205\n",
      "SNP p-value: 1.124e-11\n",
      "Minor allele frequency: 0.2523\n",
      "Hardy-Weinberg p-value: 0.3666\n",
      "SNP effect estimate: -0.2496\n",
      "SNP model loglikelihood: -1235.1273\n",
      "Proportion of base-model variance explained: 0.0207\n",
      " \n",
      "\n",
      "Summary for SNP rs2256412\n",
      " on chromosome 12 at basepair 41913108\n",
      "SNP p-value: 1.431e-34\n",
      "Minor allele frequency: 0.4741\n",
      "Hardy-Weinberg p-value: 0.1844\n",
      "SNP effect estimate: -0.3857\n",
      "SNP model loglikelihood: -1182.9861\n",
      "Proportion of base-model variance explained: 0.0661\n",
      " \n",
      " \n",
      " \n",
      "        P-value   Number of Passing\n",
      "FDR    Threshold     Predictors \n",
      "\n",
      "0.01    0.00000           2\n",
      "0.05    0.00000           2\n",
      "0.10    0.00000           2\n",
      "0.20    0.00009           5\n",
      "0.30    0.00021           8\n",
      "0.40    0.00048          14\n",
      "0.50    0.00048          14\n",
      "0.60    0.00091          19\n",
      "0.70    0.00177          29\n",
      "0.80    0.00274          39\n",
      "0.90    0.00564          65\n",
      " \n"
     ]
    }
   ],
   "source": [
    ";cat quantOutput.txt"
   ]
  },
  {
   "cell_type": "markdown",
   "metadata": {},
   "source": [
    "For benchmarking purposes"
   ]
  },
  {
   "cell_type": "code",
   "execution_count": 11,
   "metadata": {},
   "outputs": [
    {
     "name": "stdout",
     "output_type": "stream",
     "text": [
      " \n",
      " \n",
      "     Welcome to OpenMendel's\n",
      "      GWAS analysis option\n",
      "        version 0.1.0\n",
      " \n",
      " \n",
      "Reading the data.\n",
      "\n",
      "The current working directory is \"/Users/christophergerman/OpenMendelGWAS\".\n",
      "\n",
      "Keywords modified by the user:\n",
      "\n",
      "  affected_designator = 2\n",
      "  control_file = quantControl.txt\n",
      "  manhattan_plot_file = quantgwasManhattanPlotOutput.png\n",
      "  output_file = quantOutput.txt\n",
      "  pedigree_file = gwasdata.fam\n",
      "  plink_input_basename = gwasdata\n",
      "  regression = linear\n",
      "  regression_formula = Trait ~ Sex\n",
      "  snpdata_file = gwasdata.bed\n",
      "  snpdefinition_file = gwasdata.bim\n",
      " \n"
     ]
    },
    {
     "name": "stderr",
     "output_type": "stream",
     "text": [
      "\u001b[1m\u001b[36mINFO: \u001b[39m\u001b[22m\u001b[36mv1.0 BED file detected\n",
      "\u001b[39m"
     ]
    },
    {
     "name": "stdout",
     "output_type": "stream",
     "text": [
      " \n",
      "Analyzing the data.\n",
      "\n"
     ]
    },
    {
     "name": "stderr",
     "output_type": "stream",
     "text": [
      "\u001b[1m\u001b[33mWARNING: \u001b[39m\u001b[22m\u001b[33mrainbow is found in more than one library: misc, colorcet. Choosing misc\u001b[39m\n"
     ]
    },
    {
     "name": "stdout",
     "output_type": "stream",
     "text": [
      " \n",
      "Creating a Manhattan plot from the GWAS results.\n",
      "\n",
      " \n",
      " \n",
      "Mendel's analysis is finished.\n",
      "\n",
      " \n",
      " \n",
      "     Welcome to OpenMendel's\n",
      "      GWAS analysis option\n",
      "        version 0.1.0\n",
      " \n",
      " \n",
      "Reading the data.\n",
      "\n",
      "The current working directory is \"/Users/christophergerman/OpenMendelGWAS\".\n",
      "\n",
      "Keywords modified by the user:\n",
      "\n",
      "  affected_designator = 2\n",
      "  control_file = quantControl.txt\n",
      "  manhattan_plot_file = quantgwasManhattanPlotOutput.png\n",
      "  output_file = quantOutput.txt\n",
      "  pedigree_file = gwasdata.fam\n",
      "  plink_input_basename = gwasdata\n",
      "  regression = linear\n",
      "  regression_formula = Trait ~ Sex\n",
      "  snpdata_file = gwasdata.bed\n",
      "  snpdefinition_file = gwasdata.bim\n",
      " \n"
     ]
    },
    {
     "name": "stderr",
     "output_type": "stream",
     "text": [
      "\u001b[1m\u001b[36mINFO: \u001b[39m\u001b[22m\u001b[36mv1.0 BED file detected\n",
      "\u001b[39m"
     ]
    },
    {
     "name": "stdout",
     "output_type": "stream",
     "text": [
      " \n",
      "Analyzing the data.\n",
      "\n"
     ]
    },
    {
     "name": "stderr",
     "output_type": "stream",
     "text": [
      "\u001b[1m\u001b[33mWARNING: \u001b[39m\u001b[22m\u001b[33mrainbow is found in more than one library: misc, colorcet. Choosing misc\u001b[39m\n"
     ]
    },
    {
     "name": "stdout",
     "output_type": "stream",
     "text": [
      " \n",
      "Creating a Manhattan plot from the GWAS results.\n",
      "\n",
      " \n",
      " \n",
      "Mendel's analysis is finished.\n",
      "\n",
      " \n",
      " \n",
      "     Welcome to OpenMendel's\n",
      "      GWAS analysis option\n",
      "        version 0.1.0\n",
      " \n",
      " \n",
      "Reading the data.\n",
      "\n",
      "The current working directory is \"/Users/christophergerman/OpenMendelGWAS\".\n",
      "\n",
      "Keywords modified by the user:\n",
      "\n",
      "  affected_designator = 2\n",
      "  control_file = quantControl.txt\n",
      "  manhattan_plot_file = quantgwasManhattanPlotOutput.png\n",
      "  output_file = quantOutput.txt\n",
      "  pedigree_file = gwasdata.fam\n",
      "  plink_input_basename = gwasdata\n",
      "  regression = linear\n",
      "  regression_formula = Trait ~ Sex\n",
      "  snpdata_file = gwasdata.bed\n",
      "  snpdefinition_file = gwasdata.bim\n",
      " \n"
     ]
    },
    {
     "name": "stderr",
     "output_type": "stream",
     "text": [
      "\u001b[1m\u001b[36mINFO: \u001b[39m\u001b[22m\u001b[36mv1.0 BED file detected\n",
      "\u001b[39m"
     ]
    },
    {
     "name": "stdout",
     "output_type": "stream",
     "text": [
      " \n",
      "Analyzing the data.\n",
      "\n"
     ]
    },
    {
     "name": "stderr",
     "output_type": "stream",
     "text": [
      "\u001b[1m\u001b[33mWARNING: \u001b[39m\u001b[22m\u001b[33mrainbow is found in more than one library: misc, colorcet. Choosing misc\u001b[39m\n"
     ]
    },
    {
     "name": "stdout",
     "output_type": "stream",
     "text": [
      " \n",
      "Creating a Manhattan plot from the GWAS results.\n",
      "\n",
      " \n",
      " \n",
      "Mendel's analysis is finished.\n",
      "\n",
      " \n",
      " \n",
      "     Welcome to OpenMendel's\n",
      "      GWAS analysis option\n",
      "        version 0.1.0\n",
      " \n",
      " \n",
      "Reading the data.\n",
      "\n",
      "The current working directory is \"/Users/christophergerman/OpenMendelGWAS\".\n",
      "\n",
      "Keywords modified by the user:\n",
      "\n",
      "  affected_designator = 2\n",
      "  control_file = quantControl.txt\n",
      "  manhattan_plot_file = quantgwasManhattanPlotOutput.png\n",
      "  output_file = quantOutput.txt\n",
      "  pedigree_file = gwasdata.fam\n",
      "  plink_input_basename = gwasdata\n",
      "  regression = linear\n",
      "  regression_formula = Trait ~ Sex\n",
      "  snpdata_file = gwasdata.bed\n",
      "  snpdefinition_file = gwasdata.bim\n",
      " \n"
     ]
    },
    {
     "name": "stderr",
     "output_type": "stream",
     "text": [
      "\u001b[1m\u001b[36mINFO: \u001b[39m\u001b[22m\u001b[36mv1.0 BED file detected\n",
      "\u001b[39m"
     ]
    },
    {
     "name": "stdout",
     "output_type": "stream",
     "text": [
      " \n",
      "Analyzing the data.\n",
      "\n"
     ]
    },
    {
     "name": "stderr",
     "output_type": "stream",
     "text": [
      "\u001b[1m\u001b[33mWARNING: \u001b[39m\u001b[22m\u001b[33mrainbow is found in more than one library: misc, colorcet. Choosing misc\u001b[39m\n"
     ]
    },
    {
     "name": "stdout",
     "output_type": "stream",
     "text": [
      " \n",
      "Creating a Manhattan plot from the GWAS results.\n",
      "\n",
      " \n",
      " \n",
      "Mendel's analysis is finished.\n",
      "\n",
      " \n",
      " \n",
      "     Welcome to OpenMendel's\n",
      "      GWAS analysis option\n",
      "        version 0.1.0\n",
      " \n",
      " \n",
      "Reading the data.\n",
      "\n",
      "The current working directory is \"/Users/christophergerman/OpenMendelGWAS\".\n",
      "\n",
      "Keywords modified by the user:\n",
      "\n",
      "  affected_designator = 2\n",
      "  control_file = quantControl.txt\n",
      "  manhattan_plot_file = quantgwasManhattanPlotOutput.png\n",
      "  output_file = quantOutput.txt\n",
      "  pedigree_file = gwasdata.fam\n",
      "  plink_input_basename = gwasdata\n",
      "  regression = linear\n",
      "  regression_formula = Trait ~ Sex\n",
      "  snpdata_file = gwasdata.bed\n",
      "  snpdefinition_file = gwasdata.bim\n",
      " \n"
     ]
    },
    {
     "name": "stderr",
     "output_type": "stream",
     "text": [
      "\u001b[1m\u001b[36mINFO: \u001b[39m\u001b[22m\u001b[36mv1.0 BED file detected\n",
      "\u001b[39m"
     ]
    },
    {
     "name": "stdout",
     "output_type": "stream",
     "text": [
      " \n",
      "Analyzing the data.\n",
      "\n"
     ]
    },
    {
     "name": "stderr",
     "output_type": "stream",
     "text": [
      "\u001b[1m\u001b[33mWARNING: \u001b[39m\u001b[22m\u001b[33mrainbow is found in more than one library: misc, colorcet. Choosing misc\u001b[39m\n"
     ]
    },
    {
     "name": "stdout",
     "output_type": "stream",
     "text": [
      " \n",
      "Creating a Manhattan plot from the GWAS results.\n",
      "\n",
      " \n",
      " \n",
      "Mendel's analysis is finished.\n",
      "\n",
      " \n",
      " \n",
      "     Welcome to OpenMendel's\n",
      "      GWAS analysis option\n",
      "        version 0.1.0\n",
      " \n",
      " \n",
      "Reading the data.\n",
      "\n",
      "The current working directory is \"/Users/christophergerman/OpenMendelGWAS\".\n",
      "\n",
      "Keywords modified by the user:\n",
      "\n",
      "  affected_designator = 2\n",
      "  control_file = quantControl.txt\n",
      "  manhattan_plot_file = quantgwasManhattanPlotOutput.png\n",
      "  output_file = quantOutput.txt\n",
      "  pedigree_file = gwasdata.fam\n",
      "  plink_input_basename = gwasdata\n",
      "  regression = linear\n",
      "  regression_formula = Trait ~ Sex\n",
      "  snpdata_file = gwasdata.bed\n",
      "  snpdefinition_file = gwasdata.bim\n",
      " \n"
     ]
    },
    {
     "name": "stderr",
     "output_type": "stream",
     "text": [
      "\u001b[1m\u001b[36mINFO: \u001b[39m\u001b[22m\u001b[36mv1.0 BED file detected\n",
      "\u001b[39m"
     ]
    },
    {
     "name": "stdout",
     "output_type": "stream",
     "text": [
      " \n",
      "Analyzing the data.\n",
      "\n"
     ]
    },
    {
     "name": "stderr",
     "output_type": "stream",
     "text": [
      "\u001b[1m\u001b[33mWARNING: \u001b[39m\u001b[22m\u001b[33mrainbow is found in more than one library: misc, colorcet. Choosing misc\u001b[39m\n"
     ]
    },
    {
     "name": "stdout",
     "output_type": "stream",
     "text": [
      " \n",
      "Creating a Manhattan plot from the GWAS results.\n",
      "\n",
      " \n",
      " \n",
      "Mendel's analysis is finished.\n",
      "\n",
      " \n",
      " \n",
      "     Welcome to OpenMendel's\n",
      "      GWAS analysis option\n",
      "        version 0.1.0\n",
      " \n",
      " \n",
      "Reading the data.\n",
      "\n",
      "The current working directory is \"/Users/christophergerman/OpenMendelGWAS\".\n",
      "\n",
      "Keywords modified by the user:\n",
      "\n",
      "  affected_designator = 2\n",
      "  control_file = quantControl.txt\n",
      "  manhattan_plot_file = quantgwasManhattanPlotOutput.png\n",
      "  output_file = quantOutput.txt\n",
      "  pedigree_file = gwasdata.fam\n",
      "  plink_input_basename = gwasdata\n",
      "  regression = linear\n",
      "  regression_formula = Trait ~ Sex\n",
      "  snpdata_file = gwasdata.bed\n",
      "  snpdefinition_file = gwasdata.bim\n",
      " \n"
     ]
    },
    {
     "name": "stderr",
     "output_type": "stream",
     "text": [
      "\u001b[1m\u001b[36mINFO: \u001b[39m\u001b[22m\u001b[36mv1.0 BED file detected\n",
      "\u001b[39m"
     ]
    },
    {
     "name": "stdout",
     "output_type": "stream",
     "text": [
      " \n",
      "Analyzing the data.\n",
      "\n",
      " \n",
      "Creating a Manhattan plot from the GWAS results.\n",
      "\n",
      " \n",
      " \n",
      "Mendel's analysis is finished.\n",
      "\n",
      " \n",
      " \n",
      "     Welcome to OpenMendel's\n",
      "      GWAS analysis option\n",
      "        version 0.1.0\n",
      " \n",
      " \n",
      "Reading the data.\n",
      "\n",
      "The current working directory is \"/Users/christophergerman/OpenMendelGWAS\".\n",
      "\n",
      "Keywords modified by the user:\n",
      "\n",
      "  affected_designator = 2\n",
      "  control_file = quantControl.txt\n",
      "  manhattan_plot_file = quantgwasManhattanPlotOutput.png\n",
      "  output_file = quantOutput.txt\n",
      "  pedigree_file = gwasdata.fam\n",
      "  plink_input_basename = gwasdata\n",
      "  regression = linear\n",
      "  regression_formula = Trait ~ Sex\n",
      "  snpdata_file = gwasdata.bed\n",
      "  snpdefinition_file = gwasdata.bim\n",
      " \n"
     ]
    },
    {
     "name": "stderr",
     "output_type": "stream",
     "text": [
      "\u001b[1m\u001b[33mWARNING: \u001b[39m\u001b[22m\u001b[33mrainbow is found in more than one library: misc, colorcet. Choosing misc\u001b[39m\n"
     ]
    },
    {
     "name": "stdout",
     "output_type": "stream",
     "text": [
      " \n",
      "Analyzing the data.\n",
      "\n"
     ]
    },
    {
     "name": "stderr",
     "output_type": "stream",
     "text": [
      "\u001b[1m\u001b[36mINFO: \u001b[39m\u001b[22m\u001b[36mv1.0 BED file detected\n",
      "\u001b[39m\u001b[1m\u001b[33mWARNING: \u001b[39m\u001b[22m\u001b[33mrainbow is found in more than one library: misc, colorcet. Choosing misc\u001b[39m\n"
     ]
    },
    {
     "name": "stdout",
     "output_type": "stream",
     "text": [
      " \n",
      "Creating a Manhattan plot from the GWAS results.\n",
      "\n",
      " \n",
      " \n",
      "Mendel's analysis is finished.\n",
      "\n"
     ]
    },
    {
     "data": {
      "text/plain": [
       "BenchmarkTools.Trial: \n",
       "  memory estimate:  614.93 MiB\n",
       "  allocs estimate:  2550890\n",
       "  --------------\n",
       "  minimum time:     2.404 s (5.35% GC)\n",
       "  median time:      2.408 s (5.49% GC)\n",
       "  mean time:        2.413 s (5.47% GC)\n",
       "  maximum time:     2.426 s (5.57% GC)\n",
       "  --------------\n",
       "  samples:          3\n",
       "  evals/sample:     1"
      ]
     },
     "execution_count": 11,
     "metadata": {},
     "output_type": "execute_result"
    }
   ],
   "source": [
    "using BenchmarkTools\n",
    "@benchmark GWAS(\"quantControl.txt\")"
   ]
  },
  {
   "cell_type": "markdown",
   "metadata": {},
   "source": [
    "The Manhattan Plot is generated and stored under the file name that was set. "
   ]
  },
  {
   "cell_type": "code",
   "execution_count": 12,
   "metadata": {},
   "outputs": [
    {
     "data": {
      "image/png": "[encoded data removed]"
     },
     "metadata": {},
     "output_type": "display_data"
    }
   ],
   "source": [
    "display(\"image/png\", read(\"quantgwasManhattanPlotOutput.png\"))"
   ]
  },
  {
   "cell_type": "code",
   "execution_count": null,
   "metadata": {
    "collapsed": true
   },
   "outputs": [],
   "source": []
  }
 ],
 "metadata": {
  "kernelspec": {
   "display_name": "Julia 0.6.4",
   "language": "julia",
   "name": "julia-0.6"
  },
  "language_info": {
   "file_extension": ".jl",
   "mimetype": "application/julia",
   "name": "julia",
   "version": "0.6.4"
  },
  "toc": {
   "colors": {
    "hover_highlight": "#DAA520",
    "running_highlight": "#FF0000",
    "selected_highlight": "#FFD700"
   },
   "moveMenuLeft": true,
   "nav_menu": {
    "height": "12px",
    "width": "252px"
   },
   "navigate_menu": true,
   "number_sections": true,
   "sideBar": true,
   "threshold": 4,
   "toc_cell": false,
   "toc_section_display": "block",
   "toc_window_display": false,
   "widenNotebook": false
  }
 },
 "nbformat": 4,
 "nbformat_minor": 2
}
