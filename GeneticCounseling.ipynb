{
 "cells": [
  {
   "cell_type": "markdown",
   "metadata": {},
   "source": [
    "# Tutorial of MendelGeneticCounseling\n",
    "### last update: 2/4/2019"
   ]
  },
  {
   "cell_type": "markdown",
   "metadata": {},
   "source": [
    "## Julia version\n",
    "Current code supports Julia version 1.0+ "
   ]
  },
  {
   "cell_type": "markdown",
   "metadata": {},
   "source": [
    "## Overview\n",
    "MendelGeneticCounseling is a component of the umbrella [OpenMendel](https://openmendel.github.io) project. This analysis option computes risks to individuals in pedigrees segregating Mendelian diseases. As a conditional probability, a genetic risk involves two likelihoods, a numerator likelihood with the riskee having an disease genotype or phenotype at the disease locus and a denominator likelihood with the riskee having an unknown or non-specific phenotype at the disease locus. Depending on the problem, complicating features such as age of onset, mutation, linked markers, and biochemical tests come into play."
   ]
  },
  {
   "cell_type": "markdown",
   "metadata": {},
   "source": [
    "## When to use MendelGeneticCounseling\n",
    "Genetic Counseling will handle fairly complicated problems involving mutation, reduced penetrance, and linked markers. Genetic Counseling does not provide empiric risks or theoretical risks under models for genetic heterogeneity or polygenic inheritance."
   ]
  },
  {
   "cell_type": "markdown",
   "metadata": {},
   "source": [
    "## Installation\n",
    "\n",
    "*Note: Since the OpenMendel packages are not yet registered, the three OpenMendel packages (1) [SnpArrays](https://openmendel.github.io/SnpArrays.jl/latest/), (2) [MendelSearch](https://openmendel.github.io/MendelSearch.jl), and (3) [MendelBase](https://openmendel.github.io/MendelBase.jl) **must** be installed before any other OpenMendel package is installed. It is easiest if these three packages are installed in the above order.*\n",
    "\n",
    "If you have not already installed the MendelGeneticCounseling, then within Julia, use the package manager to install MendelGeneticCounseling:"
   ]
  },
  {
   "cell_type": "code",
   "execution_count": 2,
   "metadata": {},
   "outputs": [
    {
     "name": "stdout",
     "output_type": "stream",
     "text": [
      "\u001b[32m\u001b[1m  Updating\u001b[22m\u001b[39m registry at `~/.julia/registries/General`\n",
      "\u001b[32m\u001b[1m  Updating\u001b[22m\u001b[39m git-repo `https://github.com/JuliaRegistries/General.git`\n",
      "\u001b[?25l\u001b[2K\u001b[?25h\u001b[32m\u001b[1m  Updating\u001b[22m\u001b[39m git-repo `https://github.com/OpenMendel/MendelGeneticCounseling.jl.git`\n",
      "\u001b[2K\u001b[?25h[1mFetching:\u001b[22m\u001b[39m [========================================>]  100.0 %.0 %\u001b[32m\u001b[1m Resolving\u001b[22m\u001b[39m package versions...\n",
      "\u001b[32m\u001b[1m  Updating\u001b[22m\u001b[39m `~/.julia/environments/v1.1/Project.toml`\n",
      " \u001b[90m [5eee5fa4]\u001b[39m\u001b[93m ~ MendelGeneticCounseling v0.5.0 #master (https://github.com/OpenMendel/MendelGeneticCounseling.jl.git) ⇒ v0.5.0 #master (https://github.com/OpenMendel/MendelGeneticCounseling.jl.git)\u001b[39m\n",
      "\u001b[32m\u001b[1m  Updating\u001b[22m\u001b[39m `~/.julia/environments/v1.1/Manifest.toml`\n",
      " \u001b[90m [5eee5fa4]\u001b[39m\u001b[93m ~ MendelGeneticCounseling v0.5.0 #master (https://github.com/OpenMendel/MendelGeneticCounseling.jl.git) ⇒ v0.5.0 #master (https://github.com/OpenMendel/MendelGeneticCounseling.jl.git)\u001b[39m\n"
     ]
    }
   ],
   "source": [
    "] add https://github.com/OpenMendel/MendelGeneticCounseling.jl.git"
   ]
  },
  {
   "cell_type": "markdown",
   "metadata": {},
   "source": [
    "or once the OpenMendel packages are registered simply use:\n",
    "\n",
    "`pkg> add MendelGeneticCounseling`\n",
    "\n",
    "This package supports Julia v1.0+"
   ]
  },
  {
   "cell_type": "markdown",
   "metadata": {},
   "source": [
    "## Input Files\n",
    "The Genetic Counseling analysis package uses the following input files. Example input files can be found in the [data](https://github.com/OpenMendel/MendelGeneticCounseling.jl/tree/master/data) subfolder of the Genetic Counseling project. (An analysis won't always need every file type below.)\n",
    "\n",
    "* [Control File](https://openmendel.github.io/MendelGeneticCounseling.jl/#control-file): Specifies the names of your data input and output files and any optional parameters (*keywords*) for the analysis. (For a list of common keywords, see [Keywords Table](https://openmendel.github.io/MendelBase.jl/#keywords-table)).\n",
    "* [Locus File](https://openmendel.github.io/MendelBase.jl/#locus-file): Names and describes the genetic loci in your data.\n",
    "* [Pedigree File](https://openmendel.github.io/MendelBase.jl/#pedigree-file): Gives information about your individuals, such as name, sex, family structure, and ancestry.\n",
    "* [Phenotype File](https://openmendel.github.io/MendelBase.jl/#phenotype-file): Lists the available phenotypes.\n",
    "* [SNP Definition File](https://openmendel.github.io/MendelBase.jl/#snp-definition-file): Defines your SNPs with information such as SNP name, chromosome, position, allele names, allele frequencies.\n",
    "* [SNP Data File](https://openmendel.github.io/MendelBase.jl/#snp-data-file): Holds the genotypes for your data set. Must be a standard binary PLINK BED file in SNP major format. If you have a SNP data file you must have a SNP definition file."
   ]
  },
  {
   "cell_type": "markdown",
   "metadata": {},
   "source": [
    "### Control file\n",
    "The Control file is a text file consisting of keywords and their assigned values. The format of the Control file is:\n",
    "\n",
    "\tKeyword = Keyword_Value(s)\n",
    "\n",
    "Below is an example of a simple Control file to run Genetic Counseling:\n",
    "\n",
    "\t#\n",
    "\t# Input and Output files.\n",
    "\t#\n",
    "\tlocus_file = genetic counseling 2 LocusFrame.txt\n",
    "\tpedigree_file = genetic counseling 2 PedigreeFrame.txt\n",
    "\tphenotype_file = genetic counseling 2 PhenotypeFrame.txt\n",
    "\toutput_file = genetic counseling 2 Output.txt\n",
    "\t#\n",
    "\t# Analysis parameters for Genetic Counseling option.\n",
    "\t#\n",
    "\teliminate_genotypes\t= false\n",
    "\tlump_alleles\t\t= false\n",
    "\n",
    "In the example above, there are six keywords. The first four keywords specify input and output files: *genetic counseling 2 LocusFrame.txt*, *genetic counseling 2 PedigreeFrame.txt*, *genetic counseling 2 PhenotypeFrame.txt*, and *genetic counseling 2 Output.txt*. The last two keywords specify analysis parameters: *eliminate_genotypes* and *lump_alleles*. The text after the '=' are the keyword values. A list of OpenMendel keywords common to most analysis package can be found [here](https://openmendel.github.io/MendelBase.jl/#keywords-table). The names of keywords are *not* case sensitive. (The keyword values *may* be case sensitive.)"
   ]
  },
  {
   "cell_type": "markdown",
   "metadata": {},
   "source": [
    "## Data Files\n",
    "Genetic Counseling requires a [Control file](https://openmendel.github.io/MendelBase.jl/#control-file), and a [Pedigree file](https://openmendel.github.io/MendelBase.jl/#pedigree-file). Genotype data can be included in the Pedigree file, in which case a [Locus file](https://openmendel.github.io/MendelBase.jl/#locus-file) is required. Details on the format and contents of the Control and data files can be found on the [MendelBase](https://openmendel.github.io/MendelBase.jl) documentation page. There are example data files in the Genetic Counseling [data](https://github.com/OpenMendel/MendelGeneticCounseling.jl/tree/master/data) folder."
   ]
  },
  {
   "cell_type": "markdown",
   "metadata": {},
   "source": [
    "## Running the Analysis\n",
    "To run this analysis package, first launch Julia. Then load the package with the command:\n",
    "\n",
    "`julia> using MendelGeneticCounseling`\n",
    "\n",
    "Next, if necessary, change to the directory containing your files, for example,\n",
    "\n",
    "`julia> cd(\"~/path/to/data/files/\")`\n",
    "\n",
    "Finally, to run the analysis using the parameters in your Control file, for example, Control_file.txt, use the command:\n",
    "\n",
    "`julia> GeneticCounseling(\"Control_file.txt\")`\n",
    "\n",
    "*Note: The package is called* MendelGeneticCounseling *but the analysis function is called simply* GeneticCounseling."
   ]
  },
  {
   "cell_type": "markdown",
   "metadata": {},
   "source": [
    "# Example 1: "
   ]
  },
  {
   "cell_type": "markdown",
   "metadata": {},
   "source": [
    "### Step 0: Load the OpenMendel package and then go to the directory containing the data files:\n",
    "In this example, we go to the directory containing the example data files that come with this package."
   ]
  },
  {
   "cell_type": "markdown",
   "metadata": {},
   "source": [
    "### Step 1: Preparing the Pedigree files:\n",
    "Recall the structure of a [valid pedigree structure](https://openmendel.github.io/MendelBase.jl/#pedigree-file). Note that we require a header line. Let's examine the first few lines of such an example:"
   ]
  },
  {
   "cell_type": "code",
   "execution_count": 1,
   "metadata": {
    "scrolled": true
   },
   "outputs": [
    {
     "name": "stdout",
     "output_type": "stream",
     "text": [
      "Pedigree,Person,Mother,Father,Sex,CF\n",
      "Top,1,,,male,Normal\n",
      "Top,2,,,female,Normal\n",
      "Top,3,,,male,Normal\n",
      "Top,4,2,1,female,Normal\n",
      "Top,5,2,1,male,Normal\n",
      "Top,6,,,female,Normal\n",
      "Top,7,4,3,female,Normal\n",
      "Top,8,4,3,male,Affected\n",
      "Top,9,4,3,male,Normal\n"
     ]
    }
   ],
   "source": [
    ";head -10 \"genetic counseling 1 PedigreeFrame.txt\""
   ]
  },
  {
   "cell_type": "markdown",
   "metadata": {},
   "source": [
    "### Step 2: Preparing the Control file\n",
    "A Control file gives specific instructions to `MendelGeneticCounseling`. A minimal Control file looks like the following:"
   ]
  },
  {
   "cell_type": "code",
   "execution_count": 3,
   "metadata": {},
   "outputs": [
    {
     "name": "stdout",
     "output_type": "stream",
     "text": [
      "#\n",
      "# Input and Output files.\n",
      "#\n",
      "locus_file = genetic counseling 1 LocusFrame.txt\n",
      "pedigree_file = genetic counseling 1 PedigreeFrame.txt\n",
      "phenotype_file = genetic counseling 1 PhenotypeFrame.txt\n",
      "output_file = genetic counseling 1 Output.txt\n",
      "#\n",
      "#  Analysis parameters for Genetic Counseling option.\n",
      "#\n"
     ]
    }
   ],
   "source": [
    ";cat \"genetic counseling 1 Control.txt\""
   ]
  },
  {
   "cell_type": "markdown",
   "metadata": {},
   "source": [
    "### Step 3: Run the analysis in Julia REPL or directly in notebook\n"
   ]
  },
  {
   "cell_type": "code",
   "execution_count": 4,
   "metadata": {},
   "outputs": [
    {
     "name": "stderr",
     "output_type": "stream",
     "text": [
      "┌ Info: Recompiling stale cache file /Users/jcpapp/.julia/compiled/v1.1/MendelGeneticCounseling/l0fXi.ji for MendelGeneticCounseling [5eee5fa4-c0d8-5591-aecf-5d586585de4b]\n",
      "└ @ Base loading.jl:1184\n"
     ]
    },
    {
     "name": "stdout",
     "output_type": "stream",
     "text": [
      " \n",
      " \n",
      "     Welcome to OpenMendel's\n",
      " Genetic Counseling analysis option\n",
      "        version 0.5.0\n",
      " \n",
      " \n",
      "Reading the data.\n",
      "\n",
      "The current working directory is \"/Users/jcpapp/Documents/_Files/Projects/Julia-Mendel/Documentation/Tutorials/Jupyter Notebooks/OpenMendel/New\".\n",
      "\n",
      "Keywords modified by the user:\n",
      "\n",
      "  control_file = genetic counseling 1 Control.txt\n",
      "  locus_file = genetic counseling 1 LocusFrame.txt\n",
      "  output_file = genetic counseling 1 Output.txt\n",
      "  pedigree_file = genetic counseling 1 PedigreeFrame.txt\n",
      "  phenotype_file = genetic counseling 1 PhenotypeFrame.txt\n",
      " \n",
      " \n",
      "Analyzing the data.\n",
      "\n",
      " The risk =  0.03892.\n",
      " \n",
      " \n",
      "Mendel's analysis is finished.\n",
      "\n"
     ]
    }
   ],
   "source": [
    "using MendelGeneticCounseling\n",
    "    GeneticCounseling(\"genetic counseling 1 Control.txt\")"
   ]
  },
  {
   "cell_type": "markdown",
   "metadata": {},
   "source": [
    "### Step 4: Interpreting the result\n",
    "\n",
    "`MendelGeneticCounseling` should have generated the file `genetic counseling 1 Output.txt` in your local directory. One can directly open the file, or import into the Julia environment for ease of manipulation using the DataFrames package. "
   ]
  },
  {
   "cell_type": "markdown",
   "metadata": {},
   "source": [
    "## Citation\n",
    "\n",
    "If you use this analysis package in your research, please cite the following reference in the resulting publications:\n",
    "\n",
    "*Lange K, Papp JC, Sinsheimer JS, Sripracha R, Zhou H, Sobel EM (2013) Mendel: The Swiss army knife of genetic analysis programs. Bioinformatics 29:1568-1570.*"
   ]
  },
  {
   "cell_type": "markdown",
   "metadata": {},
   "source": [
    "## Acknowledgments\n",
    "\n",
    "This project is supported by the National Institutes of Health under NIGMS awards R01GM053275 and R25GM103774 and NHGRI award R01HG006139."
   ]
  }
 ],
 "metadata": {
  "kernelspec": {
   "display_name": "Julia 1.1.0",
   "language": "julia",
   "name": "julia-1.1"
  },
  "language_info": {
   "file_extension": ".jl",
   "mimetype": "application/julia",
   "name": "julia",
   "version": "1.1.0"
  }
 },
 "nbformat": 4,
 "nbformat_minor": 2
}
