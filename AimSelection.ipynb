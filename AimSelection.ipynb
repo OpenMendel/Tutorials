{
 "cells": [
  {
   "cell_type": "markdown",
   "metadata": {},
   "source": [
    "# Tutorial of MendelAimSelection\n",
    "### last update: 2/3/2019"
   ]
  },
  {
   "cell_type": "markdown",
   "metadata": {},
   "source": [
    "## Julia version\n",
    "\n",
    "Current code supports Julia version 1.0+ "
   ]
  },
  {
   "cell_type": "markdown",
   "metadata": {},
   "source": [
    "\n",
    "## When to use MendelAimSelection\n",
    "\n",
    "This [Julia](http://julialang.org/) package selects the SNPs that are most informative at predicting ancestry for your data — the best Ancestry Informative Markers (AIMs). MendelAimSelection is one component of the umbrella [OpenMendel](https://openmendel.github.io) project. "
   ]
  },
  {
   "cell_type": "markdown",
   "metadata": {},
   "source": [
    "## Installation\n",
    "\n",
    "*Note: Since the OpenMendel packages are not yet registered, the three OpenMendel packages (1) [SnpArrays](https://openmendel.github.io/SnpArrays.jl/latest/), (2) [MendelSearch](https://openmendel.github.io/MendelSearch.jl), and (3) [MendelBase](https://openmendel.github.io/MendelBase.jl) **must** be installed before any other OpenMendel package is installed. It is easiest if these three packages are installed in the above order.*\n",
    "\n",
    "If you have not already installed the MendelAimSelection, then within Julia, use the package manager to install MendelAimSelection:"
   ]
  },
  {
   "cell_type": "code",
   "execution_count": 1,
   "metadata": {},
   "outputs": [
    {
     "name": "stdout",
     "output_type": "stream",
     "text": [
      "\u001b[32m\u001b[1m  Updating\u001b[22m\u001b[39m registry at `~/.julia/registries/General`\n",
      "\u001b[32m\u001b[1m  Updating\u001b[22m\u001b[39m git-repo `https://github.com/JuliaRegistries/General.git`\n",
      "\u001b[2K\u001b[?25h[1mFetching:\u001b[22m\u001b[39m [========================================>]  100.0 %.0 %37.2 %>          ]  74.6 %\u001b[32m\u001b[1m  Updating\u001b[22m\u001b[39m git-repo `https://github.com/OpenMendel/MendelAimSelection.jl.git`\n",
      "\u001b[2K\u001b[?25h[1mFetching:\u001b[22m\u001b[39m [========================================>]  100.0 %.0 %\u001b[32m\u001b[1m Resolving\u001b[22m\u001b[39m package versions...\n",
      "\u001b[32m\u001b[1m Installed\u001b[22m\u001b[39m WeakRefStrings ─ v0.5.6\n",
      "\u001b[32m\u001b[1m  Updating\u001b[22m\u001b[39m `~/.julia/environments/v1.1/Project.toml`\n",
      " \u001b[90m [8a9f0eb4]\u001b[39m\u001b[93m ~ MendelAimSelection v0.5.0 #master (https://github.com/OpenMendel/MendelAimSelection.jl.git) ⇒ v0.5.0 #master (https://github.com/OpenMendel/MendelAimSelection.jl.git)\u001b[39m\n",
      "\u001b[32m\u001b[1m  Updating\u001b[22m\u001b[39m `~/.julia/environments/v1.1/Manifest.toml`\n",
      " \u001b[90m [8a9f0eb4]\u001b[39m\u001b[93m ~ MendelAimSelection v0.5.0 #master (https://github.com/OpenMendel/MendelAimSelection.jl.git) ⇒ v0.5.0 #master (https://github.com/OpenMendel/MendelAimSelection.jl.git)\u001b[39m\n",
      " \u001b[90m [ea10d353]\u001b[39m\u001b[93m ↑ WeakRefStrings v0.5.5 ⇒ v0.5.6\u001b[39m\n"
     ]
    }
   ],
   "source": [
    "] add https://github.com/OpenMendel/MendelAimSelection.jl.git"
   ]
  },
  {
   "cell_type": "markdown",
   "metadata": {},
   "source": [
    "or once the OpenMendel packages are registered simply use:\n",
    "\n",
    "`pkg> add MendelAimSelection`\n",
    "\n",
    "This package supports Julia v1.0+"
   ]
  },
  {
   "cell_type": "markdown",
   "metadata": {},
   "source": [
    "## Input Files\n",
    "The MendelAimSelection analysis package uses the following input files. Example input files can be found in the [data](https://github.com/OpenMendel/MendelAimSelection.jl/tree/master/data) subfolder of the MendelAimSelection project. An analysis won't always need every file type below. The input for all examples in this tutorial were obtained from the 1000 genome project.\n",
    "\n",
    "* [Control File](https://openmendel.github.io/MendelAimSelection.jl/#control-file): Specifies the names of your data input and output files and any optional parameters (*keywords*) for the analysis. (For a list of common keywords, see [Keywords Table](https://openmendel.github.io/MendelBase.jl/#keywords-table)).\n",
    "* [Locus File](https://openmendel.github.io/MendelBase.jl/#locus-file): Names and describes the genetic loci in your data.\n",
    "* [Pedigree File](https://openmendel.github.io/MendelBase.jl/#pedigree-file): Gives information about your individuals, such as name, sex, family structure, and ancestry.\n",
    "* [Phenotype File](https://openmendel.github.io/MendelBase.jl/#phenotype-file): Lists the available phenotypes.\n",
    "* [SNP Definition File](https://openmendel.github.io/MendelBase.jl/#snp-definition-file): Defines your SNPs with information such as SNP name, chromosome, position, allele names, allele frequencies.\n",
    "* [SNP Data File](https://openmendel.github.io/MendelBase.jl/#snp-data-file): Holds the genotypes for your data set. Must be a standard binary PLINK BED file in SNP major format. If you have a SNP data file you must have a SNP definition file."
   ]
  },
  {
   "cell_type": "markdown",
   "metadata": {},
   "source": [
    "## Control file\n",
    "The Control file is a text file consisting of keywords and their assigned values. The format of the Control file is:\n",
    "\n",
    "\tKeyword = Keyword_Value(s)\n",
    "\n",
    "Below is an example of a simple Control file to run AIM Selection:\n",
    "\n",
    "\t#\n",
    "\t# Input and Output files.\n",
    "\t#\n",
    "\tfield_separator = ' '\n",
    "\tpedigree_file = 1000genomes_chr1_eas.ped\n",
    "\t\n",
    "\tplink_field_separator = '\t'\n",
    "\tplink_input_basename = 1000genomes_chr1_eas\n",
    "\t\n",
    "\toutput_field_separator = ','\n",
    "\toutput_file = 1000genomes_chr1_eas Output.txt\n",
    "\t#\n",
    "\t# Analysis parameters for AIM Selection option.\n",
    "\t#\n",
    "    \n",
    "In the example above, the four keywords specify the input and output files: *1000genomes_chr1_eas.bed*, *1000genomes_chr1_eas.snp*, *1000genomes_chr1_eas.ped* and *1000genomes_chr1_eas Output.txt*. The text after the '=' are the keyword values. The names of keywords are *not* case sensitive. (The keyword values *may* be case sensitive.) A list of OpenMendel keywords common to most analysis package can be found [here](https://openmendel.github.io/MendelBase.jl/#keywords-table)."
   ]
  },
  {
   "cell_type": "markdown",
   "metadata": {},
   "source": [
    "## Data Files\n",
    "AIM Selection requires a [Control file](https://openmendel.github.io/MendelBase.jl/#control-file), and a [Pedigree file](https://openmendel.github.io/MendelBase.jl/#pedigree-file). Genotype data can be included in the Pedigree file, in which case a [Locus file](https://openmendel.github.io/MendelBase.jl/#locus-file) is required. Alternatively, genotype data can be provided in a [SNP data file](https://openmendel.github.io/MendelBase.jl/#snp-data-file), in which case a [SNP Definition File](https://openmendel.github.io/MendelBase.jl/#snp-definition-file) is required. Mendel AIM Selection will also accept [PLINK format](http://zzz.bwh.harvard.edu/plink) FAM and BIM files. Details on the format and contents of the Control and data files can be found on the [MendelBase](https://openmendel.github.io/MendelBase.jl) documentation page. There are example data files in the AIM Selection [data](https://github.com/OpenMendel/MendelAIMSelection.jl/tree/master/data) folder."
   ]
  },
  {
   "cell_type": "markdown",
   "metadata": {},
   "source": [
    "## Using PLINK compressed file as input\n",
    "\n",
    "MendelAimSelection accepts [PLINK binary format](https://www.cog-genomics.org/plink2/formats#bed) as input, in which case the triplets (`data.bim`, `data.bed`, `data.fam`) must all be present. In this tutorial, there are no examples that use PLINK binary format to import pedigree and SNP information. But if available, one can import the data by specifying the following in the control file:\n",
    "\n",
    "`plink_input_basename = data` \n",
    "\n",
    "However, sometimes the PLINK .fam file contains non-unique person ids (2nd column of .fam file) across different pedigrees, which is currently **not** permitted in OpenMendel. A person's id cannot be repeated in other pedigrees, even if it is contextually clear that they are different persons. This will be fixed in the near future."
   ]
  },
  {
   "cell_type": "markdown",
   "metadata": {},
   "source": [
    "## Running the Analysis\n",
    "\n",
    "To run this analysis package, first launch Julia. Then load the package with the command:\n",
    "\n",
    "`julia> using MendelAimSelection`\n",
    "\n",
    "Next, if necessary, change to the directory containing your files, for example,\n",
    "\n",
    "`julia> cd(\"~/path/to/data/files/\")`\n",
    "\n",
    "Finally, to run the analysis using the parameters in your Control file, for example, Control_file.txt, use the command:\n",
    "\n",
    "`julia> AimSelection(\"Control_file.txt\")`\n",
    "\n",
    "*Note: The package is called* MendelAimSelection *but the analysis function is called simply* AimSelection."
   ]
  },
  {
   "cell_type": "markdown",
   "metadata": {},
   "source": [
    "# Example 1: "
   ]
  },
  {
   "cell_type": "markdown",
   "metadata": {},
   "source": [
    "### Step 0: Load the OpenMendel package and then go to the directory containing the data files:\n",
    "In this example, we go to the directory containing the example data files that come with this package."
   ]
  },
  {
   "cell_type": "code",
   "execution_count": null,
   "metadata": {},
   "outputs": [],
   "source": [
    "using MendelAimSelection\n",
    "cd(MendelAimSelection.datadir())\n",
    "pwd()"
   ]
  },
  {
   "cell_type": "markdown",
   "metadata": {},
   "source": [
    "### Step 1: Preparing the pedigree files:\n",
    "Recall the structure of a [valid pedigree structure](https://openmendel.github.io/MendelBase.jl/#pedigree-file). Note that we require a header line. Let's examine the first few lines of such an example:"
   ]
  },
  {
   "cell_type": "code",
   "execution_count": 2,
   "metadata": {
    "scrolled": true
   },
   "outputs": [
    {
     "name": "stdout",
     "output_type": "stream",
     "text": [
      "Person  Sex  Ethnic\n",
      "HG00403  1  CHS\n",
      "HG00404  2  CHS\n",
      "HG00406  1  CHS\n",
      "HG00407  2  CHS\n",
      "HG00409  1  CHS\n",
      "HG00410  2  CHS\n",
      "HG00419  2  CHS\n",
      "HG00421  1  CHS\n",
      "HG00422  2  CHS\n"
     ]
    }
   ],
   "source": [
    ";head -10 \"1000genomes_chr1_eas.ped\""
   ]
  },
  {
   "cell_type": "markdown",
   "metadata": {},
   "source": [
    "### Step 2: Preparing the control file\n",
    "A control file gives specific instructions to `MendelAimSelection`. To select the SNPs that are most informative at predicting ancestry for your data — the best Ancestry Informative Markers, a minimal control file looks like the following:"
   ]
  },
  {
   "cell_type": "code",
   "execution_count": 3,
   "metadata": {},
   "outputs": [
    {
     "name": "stdout",
     "output_type": "stream",
     "text": [
      "#\n",
      "# Input and Output files.\n",
      "#\n",
      "field_separator = ' '\n",
      "pedigree_file = 1000genomes_chr1_eas.ped\n",
      "\n",
      "plink_field_separator = '\t'\n",
      "plink_input_basename = 1000genomes_chr1_eas\n",
      "\n",
      "output_field_separator = ','\n",
      "output_file = 1000genomes_chr1_eas Output.txt\n",
      "#\n",
      "# Analysis parameters for AIM Selection option.\n",
      "#\n"
     ]
    }
   ],
   "source": [
    ";cat \"AIM 1000genomes_chr1 Control.txt\""
   ]
  },
  {
   "cell_type": "markdown",
   "metadata": {},
   "source": [
    "### Step 3: Run the analysis in Julia REPL or directly in notebook\n"
   ]
  },
  {
   "cell_type": "code",
   "execution_count": 4,
   "metadata": {},
   "outputs": [
    {
     "name": "stderr",
     "output_type": "stream",
     "text": [
      "┌ Info: Recompiling stale cache file /Users/jcpapp/.julia/compiled/v1.1/MendelAimSelection/ku58B.ji for MendelAimSelection [8a9f0eb4-fec1-5450-8bd2-8ca811e15b0d]\n",
      "└ @ Base loading.jl:1184\n"
     ]
    },
    {
     "name": "stdout",
     "output_type": "stream",
     "text": [
      " \n",
      " \n",
      "     Welcome to OpenMendel's\n",
      "   AIM Selection analysis option\n",
      "        version 0.5.0\n",
      " \n",
      " \n",
      "Reading the data.\n",
      "\n",
      "The current working directory is \"/Users/jcpapp/Documents/_Files/Projects/Julia-Mendel/Documentation/Tutorials/Jupyter Notebooks/OpenMendel/New\".\n",
      "\n",
      "Keywords modified by the user:\n",
      "\n",
      "  control_file = AIM 1000genomes_chr1 Control.txt\n",
      "  field_separator =  \n",
      "  output_field_separator = ,\n",
      "  output_file = 1000genomes_chr1_eas Output.txt\n",
      "  pedigree_file = 1000genomes_chr1_eas.ped\n",
      "  plink_field_separator = \t\n",
      "  plink_input_basename = 1000genomes_chr1_eas\n",
      "  snpdata_file = 1000genomes_chr1_eas.bed\n",
      "  snpdefinition_file = 1000genomes_chr1_eas.bim\n",
      " \n",
      " \n",
      "Analyzing the data.\n",
      "\n",
      "100508×7 DataFrames.DataFrame. Omitted printing of 2 columns\n",
      "│ Row    │ Chromosome │ SNP         │ CentiMorgans │ Basepairs │ Allele1 │\n",
      "│        │ \u001b[90mString⍰\u001b[39m    │ \u001b[90mString⍰\u001b[39m     │ \u001b[90mFloat64⍰\u001b[39m     │ \u001b[90mInt64⍰\u001b[39m    │ \u001b[90mString⍰\u001b[39m │\n",
      "├────────┼────────────┼─────────────┼──────────────┼───────────┼─────────┤\n",
      "│ 1      │ 1          │ rs575272151 │ 0.0          │ 11008     │ G       │\n",
      "│ 2      │ 1          │ rs546169444 │ 0.0          │ 14464     │ T       │\n",
      "│ 3      │ 1          │ rs541940975 │ 0.0          │ 14604     │ G       │\n",
      "│ 4      │ 1          │ rs374029747 │ 0.0          │ 15774     │ A       │\n",
      "│ 5      │ 1          │ rs806731    │ 0.0          │ 30923     │ G       │\n",
      "│ 6      │ 1          │ rs569128616 │ 0.0          │ 54716     │ T       │\n",
      "│ 7      │ 1          │ rs28396308  │ 0.0          │ 55545     │ T       │\n",
      "⋮\n",
      "│ 100501 │ 1          │ rs562509172 │ 0.0          │ 249205469 │ C       │\n",
      "│ 100502 │ 1          │ rs182792056 │ 0.0          │ 249205601 │ T       │\n",
      "│ 100503 │ 1          │ rs35062498  │ 0.0          │ 249206119 │ A       │\n",
      "│ 100504 │ 1          │ rs41308182  │ 0.0          │ 249212878 │ G       │\n",
      "│ 100505 │ 1          │ rs28826095  │ 0.0          │ 249214913 │ A       │\n",
      "│ 100506 │ 1          │ rs3890680   │ 0.0          │ 249222325 │ A       │\n",
      "│ 100507 │ 1          │ rs536206700 │ 0.0          │ 249233062 │ A       │\n",
      "│ 100508 │ 1          │ rs547624467 │ 0.0          │ 249236765 │ G       │ \n",
      " \n",
      "Mendel's analysis is finished.\n",
      "\n"
     ]
    }
   ],
   "source": [
    "using MendelAimSelection\n",
    "    AimSelection(\"AIM 1000genomes_chr1 Control.txt\")"
   ]
  },
  {
   "cell_type": "markdown",
   "metadata": {},
   "source": [
    "### Step 4: Interpreting the result\n",
    "\n",
    "`MendelAimSelection` should have generated the file `1000genomes_chr1_eas Output.txt` in your local directory. One can directly open the file, or import into the Julia environment for ease of manipulation using the DataFrames package. "
   ]
  },
  {
   "cell_type": "markdown",
   "metadata": {},
   "source": [
    "## Citation\n",
    "\n",
    "If you use this analysis package in your research, please cite the following reference in the resulting publications:\n",
    "\n",
    "*Lange K, Papp JC, Sinsheimer JS, Sripracha R, Zhou H, Sobel EM (2013) Mendel: The Swiss army knife of genetic analysis programs. Bioinformatics 29:1568-1570.*"
   ]
  },
  {
   "cell_type": "markdown",
   "metadata": {},
   "source": [
    "## Acknowledgments\n",
    "\n",
    "This project is supported by the National Institutes of Health under NIGMS awards R01GM053275 and R25GM103774 and NHGRI award R01HG006139."
   ]
  }
 ],
 "metadata": {
  "kernelspec": {
   "display_name": "Julia 1.1.0",
   "language": "julia",
   "name": "julia-1.1"
  },
  "language_info": {
   "file_extension": ".jl",
   "mimetype": "application/julia",
   "name": "julia",
   "version": "1.1.0"
  }
 },
 "nbformat": 4,
 "nbformat_minor": 2
}
