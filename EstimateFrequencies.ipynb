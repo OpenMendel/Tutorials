{
 "cells": [
  {
   "cell_type": "markdown",
   "metadata": {},
   "source": [
    "# Tutorial of MendelEstimateFrequencies\n",
    "### last update: 2/3/2019"
   ]
  },
  {
   "cell_type": "markdown",
   "metadata": {},
   "source": [
    "## Julia version\n",
    "Current code supports Julia version 1.0+ "
   ]
  },
  {
   "cell_type": "markdown",
   "metadata": {},
   "source": [
    "## When to use MendelEstimateFrequencies\n",
    "The Estimate Frequencies model applies to pedigrees, including those with missing marker data. With too many marker alleles computational efficiency suffers and large sample statistical assumptions become suspect. We recommend consolidating alleles until at most eight alleles remain and each has a frequency of 0.05 or greater. If the fraction of missing data is large, ethnic stratification may come into play. One remedy is to limit analysis to a single ethnic group; another is to use ethnic-specific allele frequencies. If you opt for the latter strategy, then you cannot simultaneously estimate allele frequencies and transmission parameters. "
   ]
  },
  {
   "cell_type": "markdown",
   "metadata": {},
   "source": [
    "## Installation\n",
    "\n",
    "*Note: Since the OpenMendel packages are not yet registered, the three OpenMendel packages (1) [SnpArrays](https://openmendel.github.io/SnpArrays.jl/latest/), (2) [MendelSearch](https://openmendel.github.io/MendelSearch.jl), and (3) [MendelBase](https://openmendel.github.io/MendelBase.jl) **must** be installed before any other OpenMendel package is installed. It is easiest if these three packages are installed in the above order.*\n",
    "\n",
    "If you have not already installed the MendelEstimateFrequencies, then within Julia, use the package manager to install MendelEstimateFrequencies:"
   ]
  },
  {
   "cell_type": "code",
   "execution_count": 1,
   "metadata": {},
   "outputs": [
    {
     "name": "stdout",
     "output_type": "stream",
     "text": [
      "\u001b[32m\u001b[1m  Updating\u001b[22m\u001b[39m registry at `~/.julia/registries/General`\n",
      "\u001b[32m\u001b[1m  Updating\u001b[22m\u001b[39m git-repo `https://github.com/JuliaRegistries/General.git`\n",
      "\u001b[?25l\u001b[2K\u001b[?25h\u001b[32m\u001b[1m  Updating\u001b[22m\u001b[39m git-repo `https://github.com/OpenMendel/MendelEstimateFrequencies.jl.git`\n",
      "\u001b[2K\u001b[?25h[1mFetching:\u001b[22m\u001b[39m [========================================>]  100.0 %.0 %\u001b[32m\u001b[1m Resolving\u001b[22m\u001b[39m package versions...\n",
      "\u001b[32m\u001b[1m  Updating\u001b[22m\u001b[39m `~/.julia/environments/v1.1/Project.toml`\n",
      " \u001b[90m [69c378ae]\u001b[39m\u001b[93m ~ MendelEstimateFrequencies v0.5.0 #master (https://github.com/OpenMendel/MendelEstimateFrequencies.jl.git) ⇒ v0.5.0 #master (https://github.com/OpenMendel/MendelEstimateFrequencies.jl.git)\u001b[39m\n",
      "\u001b[32m\u001b[1m  Updating\u001b[22m\u001b[39m `~/.julia/environments/v1.1/Manifest.toml`\n",
      " \u001b[90m [69c378ae]\u001b[39m\u001b[93m ~ MendelEstimateFrequencies v0.5.0 #master (https://github.com/OpenMendel/MendelEstimateFrequencies.jl.git) ⇒ v0.5.0 #master (https://github.com/OpenMendel/MendelEstimateFrequencies.jl.git)\u001b[39m\n"
     ]
    }
   ],
   "source": [
    "] add https://github.com/OpenMendel/MendelEstimateFrequencies.jl.git"
   ]
  },
  {
   "cell_type": "markdown",
   "metadata": {},
   "source": [
    "or once the OpenMendel packages are registered simply use:\n",
    "\n",
    "`pkg> add MendelEstimateFrequencies`\n",
    "\n",
    "This package supports Julia v1.0+"
   ]
  },
  {
   "cell_type": "markdown",
   "metadata": {},
   "source": [
    "## Input Files\n",
    "The Mendel EstimateFrequencies analysis package uses the following input files. Example input files can be found in the [data]( https://github.com/OpenMendel/MendelEstimateFrequencies.jl/tree/master/data) subfolder of the Mendel EstimateFrequencies project. (An analysis won't always need every file type below.)\n",
    "\n",
    "* [Control File](https://openmendel.github.io/MendelEstimateFrequencies.jl/#control-file): Specifies the names of your data input and output files and any optional parameters (*keywords*) for the analysis. (For a list of common keywords, see [Keywords Table](https://openmendel.github.io/MendelBase.jl/#keywords-table)).\n",
    "* [Locus File]( https://openmendel.github.io/MendelBase.jl/#locus-file): Names and describes the genetic loci in your data.\n",
    "* [Pedigree File]( https://openmendel.github.io/MendelBase.jl/#pedigree-file): Gives information about your individuals, such as name, sex, family structure, and ancestry.\n",
    "* [Phenotype File]( https://openmendel.github.io/MendelBase.jl/#phenotype-file): Lists the available phenotypes.\n",
    "* [SNP Definition File](https://openmendel.github.io/MendelBase.jl/#snp-definition-file): Defines your SNPs with information such as SNP name, chromosome, position, allele names, allele frequencies.\n",
    "* [SNP Data File](https://openmendel.github.io/MendelBase.jl/#snp-data-file): Holds the genotypes for your data set. Must be a standard binary PLINK BED file in SNP major format. If you have a SNP data file you must have a SNP definition file."
   ]
  },
  {
   "cell_type": "markdown",
   "metadata": {},
   "source": [
    "### Control file\n",
    "The Control file is a text file consisting of keywords and their assigned values. The format of the Control file is:\n",
    "\n",
    "\tKeyword = Keyword_Value(s)\n",
    "\n",
    "Below is an example of a simple Control file to run EstimateFrequencies:\n",
    "\n",
    "\t#\n",
    "\t# Input and Output files.\n",
    "\t#\n",
    "\tlocus_file = estimate frequencies 2 LocusFrame.txt\n",
    "\tpedigree_file = estimate frequencies 2 PedigreeFrame.txt\n",
    "\tphenotype_file = estimate frequencies 2 PhenotypeFrame.txt\n",
    "\toutput_file = estimate frequencies 2 Output.txt\n",
    "\t#\n",
    "\t# Analysis parameters for Estimate Frequencies option.\n",
    "\t#\n",
    "\n",
    "In the example above, there are three keywords specifying the input files: *estimate frequencies 2 LocusFrame.txt*, *estimate frequencies 2 PedigreeFrame.txt*, and *estimate frequencies 2 PhenotypeFrame.txt*. There is one keyword specifying the standard output file: *estimate frequencies 2 Output.txt*. There are no analysis parameters specified for this run; all analysis parameters take the default values. The text after the '=' are the keyword values. A list of OpenMendel keywords common to most analysis package can be found [here](https://openmendel.github.io/MendelBase.jl/#keywords-table). The names of keywords are *not* case sensitive. (The keyword values *may* be case sensitive.)"
   ]
  },
  {
   "cell_type": "markdown",
   "metadata": {},
   "source": [
    "## Data Files\n",
    "EstimateFrequencies requires a [Control file](https://openmendel.github.io/MendelBase.jl/#control-file), and a [Pedigree file](https://openmendel.github.io/MendelBase.jl/#pedigree-file). Genotype data can be included in the Pedigree file, in which case a [Locus file](https://openmendel.github.io/MendelBase.jl/#locus-file) is required. Alternatively, genotype data can be provided in a [SNP data file](https://openmendel.github.io/MendelBase.jl/#snp-data-file), in which case a [SNP Definition File](https://openmendel.github.io/MendelBase.jl/#snp-definition-file) is required. Details on the format and contents of the Control and data files can be found on the [MendelBase](https://openmendel.github.io/MendelBase.jl) documentation page. There are example data files in the EstimateFrequencies [data](https://github.com/OpenMendel/MendelEstimateFrequencies.jl/tree/master/data) folder."
   ]
  },
  {
   "cell_type": "markdown",
   "metadata": {},
   "source": [
    "## Running the Analysis\n",
    "To run this analysis package, first launch Julia. Then load the package with the command:\n",
    "\n",
    "`julia> using MendelEstimateFrequencies`\n",
    "\n",
    "Next, if necessary, change to the directory containing your files, for example,\n",
    "\n",
    "`julia> cd(\"~/path/to/data/files/\")`\n",
    "\n",
    "Finally, to run the analysis using the parameters in your Control file, for example, Control_file.txt, use the command:\n",
    "\n",
    "`julia> EstimateFrequencies(\"Control_file.txt\")`\n",
    "\n",
    "*Note: The package is called* MendelEstimateFrequencies *but the analysis function is called simply* EstimateFrequencies.\n",
    "\n"
   ]
  },
  {
   "cell_type": "markdown",
   "metadata": {},
   "source": [
    "# Example 1: "
   ]
  },
  {
   "cell_type": "markdown",
   "metadata": {},
   "source": [
    "### Step 0: Load the OpenMendel package and then go to the directory containing the data files:\n",
    "In this example, we go to the directory containing the example data files that come with this package."
   ]
  },
  {
   "cell_type": "code",
   "execution_count": 2,
   "metadata": {},
   "outputs": [
    {
     "name": "stderr",
     "output_type": "stream",
     "text": [
      "┌ Info: Recompiling stale cache file /Users/jcpapp/.julia/compiled/v1.1/MendelEstimateFrequencies/xL8xm.ji for MendelEstimateFrequencies [69c378ae-356a-5145-bd42-d198b799bb89]\n",
      "└ @ Base loading.jl:1184\n"
     ]
    },
    {
     "data": {
      "text/plain": [
       "\"/Users/jcpapp/.julia/packages/MendelEstimateFrequencies/mamno/data\""
      ]
     },
     "execution_count": 2,
     "metadata": {},
     "output_type": "execute_result"
    }
   ],
   "source": [
    "using MendelEstimateFrequencies\n",
    "cd(MendelEstimateFrequencies.datadir())\n",
    "pwd()"
   ]
  },
  {
   "cell_type": "markdown",
   "metadata": {},
   "source": [
    "### Step 1: Preparing the Pedigree files:\n",
    "Recall the structure of a [valid pedigree structure](https://openmendel.github.io/MendelBase.jl/#pedigree-file). Note that we require a header line. Let's examine the first few lines of such an example:"
   ]
  },
  {
   "cell_type": "code",
   "execution_count": 3,
   "metadata": {
    "scrolled": true
   },
   "outputs": [
    {
     "name": "stdout",
     "output_type": "stream",
     "text": [
      "Pedigree,Person,Mother,Father,Sex,Twin,SNP1,SNP2,SNP3,SNP4,SNP5,SNP6,SNP7,ID,SNP9,CT,ACE\n",
      "1,1,NA,NA,1,NA,NA,NA,2/2,2/2,2/2,NA,1/2,1/2,1/2,1/2,0\n",
      "1,2,NA,NA,2,NA,1/1,1/1,1/1,1/1,1/1,1/2,1/2,1/2,1/2,1/2,0\n",
      "1,4,NA,NA,1,NA,1/1,1/1,1/2,1/1,1/1,1/2,1/2,1/2,1/2,1/2,0\n",
      "1,8,1,2,2,NA,1/2,1/2,1/2,1/2,1/2,2/2,1/2,1/2,1/2,1/2,0\n",
      "1,7,1,2,2,NA,1/2,1/2,1/2,1/2,1/2,1/2,1/2,1/2,1/2,1/2,0\n",
      "1,6,1,2,2,NA,1/2,NA,1/2,1/2,1/2,2/2,1/2,1/2,1/2,1/2,0\n",
      "1,5,1,2,2,NA,1/2,1/2,1/2,1/2,1/2,1/2,1/2,1/2,1/2,1/2,0\n",
      "1,10,4,5,2,NA,1/1,1/1,1/1,1/1,1/1,1/1,2/2,1/1,1/1,1/1,0\n",
      "1,9,4,5,2,NA,1/2,1/2,1/2,1/2,1/2,1/2,1/2,1/2,1/2,1/2,0\n"
     ]
    }
   ],
   "source": [
    ";head -10 \"estimate frequencies 1 PedigreeFrame.txt\""
   ]
  },
  {
   "cell_type": "markdown",
   "metadata": {},
   "source": [
    "### Step 2: Preparing the Control file\n",
    "A Control file gives specific instructions to `MendelEstimateFrequencies`. To estimate allele frequencies, a minimal Control file looks like the following:"
   ]
  },
  {
   "cell_type": "code",
   "execution_count": 3,
   "metadata": {},
   "outputs": [
    {
     "name": "stdout",
     "output_type": "stream",
     "text": [
      "#\n",
      "# Input and Output files.\n",
      "#\n",
      "locus_file = estimate frequencies 1 LocusFrame.txt\n",
      "pedigree_file = estimate frequencies 1 PedigreeFrame.txt\n",
      "output_file = estimate frequencies 1 Output.txt\n",
      "#\n",
      "# Analysis parameters for Estimate Frequencies option.\n",
      "#\n"
     ]
    }
   ],
   "source": [
    ";cat \"estimate frequencies 1 Control.txt\""
   ]
  },
  {
   "cell_type": "markdown",
   "metadata": {},
   "source": [
    "### Step 3: Run the analysis in Julia REPL or directly in notebook"
   ]
  },
  {
   "cell_type": "code",
   "execution_count": 7,
   "metadata": {},
   "outputs": [
    {
     "name": "stdout",
     "output_type": "stream",
     "text": [
      " \n",
      " \n",
      "     Welcome to OpenMendel's\n",
      "  Estimate Frequencies analysis option\n",
      "        version 0.5.0\n",
      " \n",
      " \n",
      "Reading the data.\n",
      "\n",
      "The current working directory is \"/Users/jcpapp/.julia/packages/MendelEstimateFrequencies/xDmwz/data\".\n",
      "\n",
      "Keywords modified by the user:\n",
      "\n",
      "  control_file = estimate frequencies 1 Control.txt\n",
      "  locus_file = estimate frequencies 1 LocusFrame.txt\n",
      "  output_file = estimate frequencies 1 Output.txt\n",
      "  pedigree_file = estimate frequencies 1 PedigreeFrame.txt\n",
      " \n",
      " \n",
      "Analyzing the data.\n",
      "\n",
      "20×6 DataFrames.DataFrame. Omitted printing of 1 columns\n",
      "│ Row │ Locus   │ Allele │ Chromosome │ Frequency │ FemaleMorgans │\n",
      "│     │ \u001b[90mString⍰\u001b[39m │ \u001b[90mInt64⍰\u001b[39m │ \u001b[90mString⍰\u001b[39m    │ \u001b[90mFloat64⍰\u001b[39m  │ \u001b[90mFloat64⍰\u001b[39m      │\n",
      "├─────┼─────────┼────────┼────────────┼───────────┼───────────────┤\n",
      "│ 1   │ SNP1    │ 1      │ AUTOSOME   │ 0.6811    │ 0.0           │\n",
      "│ 2   │ SNP1    │ 2      │ AUTOSOME   │ 0.3189    │ 0.0           │\n",
      "│ 3   │ SNP2    │ 1      │ AUTOSOME   │ 0.6693    │ 1.0           │\n",
      "│ 4   │ SNP2    │ 2      │ AUTOSOME   │ 0.3307    │ 1.0           │\n",
      "│ 5   │ SNP3    │ 1      │ AUTOSOME   │ 0.5799    │ 2.0           │\n",
      "│ 6   │ SNP3    │ 2      │ AUTOSOME   │ 0.4201    │ 2.0           │\n",
      "│ 7   │ SNP4    │ 1      │ AUTOSOME   │ 0.6734    │ 3.0           │\n",
      "⋮\n",
      "│ 13  │ SNP7    │ 1      │ AUTOSOME   │ 0.4942    │ 6.0           │\n",
      "│ 14  │ SNP7    │ 2      │ AUTOSOME   │ 0.5058    │ 6.0           │\n",
      "│ 15  │ ID      │ 1      │ AUTOSOME   │ 0.5022    │ 7.0           │\n",
      "│ 16  │ ID      │ 2      │ AUTOSOME   │ 0.4978    │ 7.0           │\n",
      "│ 17  │ SNP9    │ 1      │ AUTOSOME   │ 0.5012    │ 8.0           │\n",
      "│ 18  │ SNP9    │ 2      │ AUTOSOME   │ 0.4988    │ 8.0           │\n",
      "│ 19  │ CT      │ 1      │ AUTOSOME   │ 0.5134    │ 9.0           │\n",
      "│ 20  │ CT      │ 2      │ AUTOSOME   │ 0.4866    │ 9.0           │ \n",
      " \n",
      "Mendel's analysis is finished.\n",
      "\n"
     ]
    }
   ],
   "source": [
    "using MendelEstimateFrequencies\n",
    "    EstimateFrequencies(\"estimate frequencies 1 Control.txt\")"
   ]
  },
  {
   "cell_type": "markdown",
   "metadata": {},
   "source": [
    "### Step 4: Interpreting the result\n",
    "\n",
    "`MendelEstimateFrequencies` should have generated the file `estimate frequencies 1 Output.txt` in your local directory. One can directly open the file, or import into the Julia environment for ease of manipulation using the DataFrames package."
   ]
  },
  {
   "cell_type": "markdown",
   "metadata": {},
   "source": [
    "## Citation\n",
    "\n",
    "If you use this analysis package in your research, please cite the following reference in the resulting publications:\n",
    "\n",
    "*Lange K, Papp JC, Sinsheimer JS, Sripracha R, Zhou H, Sobel EM (2013) Mendel: The Swiss army knife of genetic analysis programs. Bioinformatics 29:1568-1570.*"
   ]
  },
  {
   "cell_type": "markdown",
   "metadata": {},
   "source": [
    "## Acknowledgments\n",
    "\n",
    "This project is supported by the National Institutes of Health under NIGMS awards R01GM053275 and R25GM103774 and NHGRI award R01HG006139."
   ]
  }
 ],
 "metadata": {
  "kernelspec": {
   "display_name": "Julia 1.1.0",
   "language": "julia",
   "name": "julia-1.1"
  },
  "language_info": {
   "file_extension": ".jl",
   "mimetype": "application/julia",
   "name": "julia",
   "version": "1.1.0"
  }
 },
 "nbformat": 4,
 "nbformat_minor": 2
}
