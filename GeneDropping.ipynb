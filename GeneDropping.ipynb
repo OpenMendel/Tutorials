{
 "cells": [
  {
   "cell_type": "markdown",
   "metadata": {},
   "source": [
    "# Tutorial of MendelGeneDropping\n",
    "### last update: 2/4/2019"
   ]
  },
  {
   "cell_type": "markdown",
   "metadata": {},
   "source": [
    "## Julia version\n",
    "Current code supports Julia version 1.0+ "
   ]
  },
  {
   "cell_type": "markdown",
   "metadata": {},
   "source": [
    "## Overview\n",
    "MendelGeneDropping is a component of the umbrella [OpenMendel](https://openmendel.github.io) project. This analysis option ‚\"drops‚\" genes into a pedigree through the founders and propagates them through the pedigrees. In many circumstances, it is useful to simulate genetic data consistent with a postulated map. For example, you might want to generate p-values empirically or to estimate the power of a collection of pedigrees to detect linkage. Gene dropping randomly fills in genotypes subject to prescribed allele frequencies, a given genetic map, and Hardy-Weinberg and linkage equilibrium. After performing gene dropping the package generates a new Pedigree file for further analysis. The missing data pattern in the new pedigrees can mimic the input pedigrees, or the user can specify a new pattern."
   ]
  },
  {
   "cell_type": "markdown",
   "metadata": {},
   "source": [
    "## When to use MendelGeneDropping\n",
    "The raw material for gene dropping consists of sets of pedigrees and loci. People within the pedigrees must be assigned either blank phenotypes or Mendelian consistent phenotypes. Gene dropping is carried out independently of observed phenotypes at those loci common to the definition and map files. By varying the content of the map file, you can choose exactly which loci to subject to gene dropping. Phenotypes at the remaining loci of the definition file are left untouched. Simulated genotypes rather than simulated phenotypes are reported. There are no limits on the complexity of the pedigrees or the number of loci. You can use founders from different populations, provided these populations are defined. Each founder should be assigned to a population; any unassigned founders are assumed to come from the first population."
   ]
  },
  {
   "cell_type": "markdown",
   "metadata": {},
   "source": [
    "## Installation\n",
    "\n",
    "*Note: Since the OpenMendel packages are not yet registered, the three OpenMendel packages (1) [SnpArrays](https://openmendel.github.io/SnpArrays.jl/latest/), (2) [MendelSearch](https://openmendel.github.io/MendelSearch.jl), and (3) [MendelBase](https://openmendel.github.io/MendelBase.jl) **must** be installed before any other OpenMendel package is installed. It is easiest if these three packages are installed in the above order.*\n",
    "\n",
    "If you have not already installed the MendelGeneDropping, then within Julia, use the package manager to install MendelGeneDropping:"
   ]
  },
  {
   "cell_type": "code",
   "execution_count": 1,
   "metadata": {},
   "outputs": [
    {
     "name": "stdout",
     "output_type": "stream",
     "text": [
      "\u001b[32m\u001b[1m  Updating\u001b[22m\u001b[39m registry at `~/.julia/registries/General`\n",
      "\u001b[32m\u001b[1m  Updating\u001b[22m\u001b[39m git-repo `https://github.com/JuliaRegistries/General.git`\n",
      "\u001b[?25l\u001b[2K\u001b[?25h\u001b[32m\u001b[1m   Cloning\u001b[22m\u001b[39m git-repo `https://github.com/OpenMendel/MendelGeneDropping.jl.git`\n",
      "\u001b[2K\u001b[?25h\u001b[32m\u001b[1m  Updating\u001b[22m\u001b[39m git-repo `https://github.com/OpenMendel/MendelGeneDropping.jl.git`6 %\n",
      "\u001b[?25l\u001b[2K\u001b[?25h\u001b[32m\u001b[1m Resolving\u001b[22m\u001b[39m package versions...\n",
      "\u001b[32m\u001b[1m  Updating\u001b[22m\u001b[39m `~/.julia/environments/v1.1/Project.toml`\n",
      " \u001b[90m [5fe433f5]\u001b[39m\u001b[92m + MendelGeneDropping v0.5.0 #master (https://github.com/OpenMendel/MendelGeneDropping.jl.git)\u001b[39m\n",
      "\u001b[32m\u001b[1m  Updating\u001b[22m\u001b[39m `~/.julia/environments/v1.1/Manifest.toml`\n",
      " \u001b[90m [5fe433f5]\u001b[39m\u001b[92m + MendelGeneDropping v0.5.0 #master (https://github.com/OpenMendel/MendelGeneDropping.jl.git)\u001b[39m\n"
     ]
    }
   ],
   "source": [
    "] add https://github.com/OpenMendel/MendelGeneDropping.jl.git"
   ]
  },
  {
   "cell_type": "markdown",
   "metadata": {},
   "source": [
    "or once the OpenMendel packages are registered simply use:\n",
    "\n",
    "`pkg> add MendelGeneDropping`\n",
    "\n",
    "This package supports Julia v1.0+"
   ]
  },
  {
   "cell_type": "markdown",
   "metadata": {},
   "source": [
    "## Input Files\n",
    "The MendelGeneDropping analysis package uses the following input files. Example input files can be found in the [data](https://github.com/OpenMendel/MendelGeneDropping.jl/tree/master/data) subfolder of the MendelGeneDropping project. (An analysis won't always need every file type below.)\n",
    "\n",
    "* [Control File](https://openmendel.github.io/MendelGeneDropping.jl/#control-file): Specifies the names of your data input and output files and any optional parameters (*keywords*) for the analysis. (For a list of common keywords, see [Keywords Table](https://openmendel.github.io/MendelBase.jl/#keywords-table)).\n",
    "* [Locus File](https://openmendel.github.io/MendelBase.jl/#locus-file): Names and describes the genetic loci in your data.\n",
    "* [Pedigree File](https://openmendel.github.io/MendelBase.jl/#pedigree-file): Gives information about your individuals, such as name, sex, family structure, and ancestry.\n",
    "* [Phenotype File](https://openmendel.github.io/MendelBase.jl/#phenotype-file): Lists the available phenotypes.\n",
    "* [SNP Definition File](https://openmendel.github.io/MendelBase.jl/#snp-definition-file): Defines your SNPs with information such as SNP name, chromosome, position, allele names, allele frequencies.\n",
    "* [SNP Data File](https://openmendel.github.io/MendelBase.jl/#snp-data-file): Holds the genotypes for your data set. Must be a standard binary PLINK BED file in SNP major format. If you have a SNP data file you must have a SNP definition file."
   ]
  },
  {
   "cell_type": "markdown",
   "metadata": {},
   "source": [
    "### Control file\n",
    "The Control file is a text file consisting of keywords and their assigned values. The format of the Control file is:\n",
    "\n",
    "\tKeyword = Keyword_Value(s)\n",
    "\n",
    "Below is an example of a simple Control file to run Gene Dropping:\n",
    "\n",
    "\t#\n",
    "\t# Input and Output files.\n",
    "\t#\n",
    "\tlocus_file = genedropping LocusFrame.txt\n",
    "\tpedigree_file = genedropping PedigreeFrame.txt\n",
    "\tphenotype_file = genedropping PhenotypeFrame.txt\n",
    "\tnew_pedigree_file = genedropping NewPedigreeFrame.txt\n",
    "\toutput_file = genedropping Output.txt\n",
    "\t#\n",
    "\t# Analysis parameters for GeneDropping option.\n",
    "\t#\n",
    "\trepetitions = 2\n",
    "\tpopulations = European, African, Chinese\n",
    "\n",
    "In the example above, there are seven keywords. Three keywords specify the input files: *genedropping LocusFrame.txt*, *genedropping PedigreeFrame.txt*, and *genedropping PhenotypeFrame.txt*. Two keywords specify the output files: *genedropping Output.txt* is the results file and *genedropping NewPedigreeFrame.txt* is the new pedigree OpenMendel generates, with the added simulated genotypes. The last two keywords specify analysis parameters: *repetitions* (2), and *populations* (European, African, and Chinese). The text after the '=' are the keyword values."
   ]
  },
  {
   "cell_type": "markdown",
   "metadata": {},
   "source": [
    "## Keywords<a id=\"keywords-table\"></a>\n",
    "This is a list of OpenMendel keywords specific to Gene Dropping. A list of OpenMendel keywords common to most analysis package can be found [here](https://openmendel.github.io/MendelBase.jl/#keywords-table). The names of keywords are *not* case sensitive. (The keyword values *may* be case sensitive.)\n",
    "\n",
    "Keyword          |   Default Value    | Allowed Values |  Short Description       \n",
    "----------------      |  ----------------       |  ----------------      |  ----------------\n",
    "gene_drop_output  | Unordered | Unordered, Ordered, Sourced, or Population |   Output format style for gene drop pedigrees \n",
    "interleaved          | FALSE |  TRUE, FALSE  |  Whether or not genes are dropped into pedigrees sequentially or interleaved\n",
    "keep_founder_genotypes           | TRUE  |  TRUE, FALSE  |  Whether or not founder genotypes are retained\n",
    "missing_rate   | 0.0 |   Real     |       \n",
    "repetitions    |   1   |   integer     |       Repetitions for sharing statistics"
   ]
  },
  {
   "cell_type": "markdown",
   "metadata": {},
   "source": [
    "## Data Files\n",
    "Gene Dropping requires a [Control file](https://openmendel.github.io/MendelBase.jl/#control-file), and a [Pedigree file](https://openmendel.github.io/MendelBase.jl/#pedigree-file). Genotype data can be included in the Pedigree file, in which case a [Locus file](https://openmendel.github.io/MendelBase.jl/#locus-file) is required. Details on the format and contents of the Control and data files can be found on the [MendelBase](https://openmendel.github.io/MendelBase.jl) documentation page. There are example data files in the Gene Dropping [data](https://github.com/OpenMendel/MendelGeneDropping.jl/tree/master/data) folder."
   ]
  },
  {
   "cell_type": "markdown",
   "metadata": {},
   "source": [
    "## Running the Analysis\n",
    "To run this analysis package, first launch Julia. Then load the package with the command:\n",
    "\n",
    "`julia> using MendelGeneDropping`\n",
    "\n",
    "Next, if necessary, change to the directory containing your files, for example,\n",
    "\n",
    "`julia> cd(\"~/path/to/data/files/\")`\n",
    "\n",
    "Finally, to run the analysis using the parameters in your Control file, for example, Control_file.txt, use the command:\n",
    "\n",
    "`julia> GeneDropping(\"Control_file.txt\")`\n",
    "\n",
    "*Note: The package is called* MendelGeneDropping *but the analysis function is called simply* GeneDropping."
   ]
  },
  {
   "cell_type": "markdown",
   "metadata": {},
   "source": [
    "# Example 1: "
   ]
  },
  {
   "cell_type": "markdown",
   "metadata": {},
   "source": [
    "### Step 0: Load the OpenMendel package and then go to the directory containing the data files:\n",
    "In this example, we go to the directory containing the example data files that come with this package."
   ]
  },
  {
   "cell_type": "code",
   "execution_count": 2,
   "metadata": {},
   "outputs": [
    {
     "name": "stderr",
     "output_type": "stream",
     "text": [
      "┌ Info: Precompiling MendelGeneDropping [5fe433f5-5a6a-5244-bccc-36c1fc03abd2]\n",
      "└ @ Base loading.jl:1186\n"
     ]
    },
    {
     "data": {
      "text/plain": [
       "\"/Users/jcpapp/.julia/packages/MendelGeneDropping/qZrcT/data\""
      ]
     },
     "execution_count": 2,
     "metadata": {},
     "output_type": "execute_result"
    }
   ],
   "source": [
    "using MendelGeneDropping\n",
    "cd(MendelGeneDropping.datadir())\n",
    "pwd()"
   ]
  },
  {
   "cell_type": "markdown",
   "metadata": {},
   "source": [
    "### Step 1: Preparing the Pedigree files:\n",
    "Recall the structure of a [valid pedigree structure](https://openmendel.github.io/MendelBase.jl/#pedigree-file). Note that we require a header line. Let's examine the first few lines of such an example:"
   ]
  },
  {
   "cell_type": "code",
   "execution_count": 3,
   "metadata": {
    "scrolled": true
   },
   "outputs": [
    {
     "name": "stdout",
     "output_type": "stream",
     "text": [
      "Pedigree,Person,Mother,Father,Sex,Twin,BirthYear,Politician,European,African,Chinese,ABO,Rh,Xg,XSNP,HtMeters\n",
      "Bush,George,,,male,0,1946.0,true,1.0,0.0,0.0,AB,+,+,1/1,1.82\n",
      "Bush,Laura,,,female,0,1946.0,false,1.0,0.0,0.0,O,+,+,1/2,NA\n",
      "Bush,\"Henry Hagar\",,,male,0,1978.0,false,1.0,0.0,0.0,A,+,+,1/1,NA\n",
      "Bush,Barbara,Laura,George,female,1,1981.0,false,NA,NA,NA,B,+,-,1/1,NA\n",
      "Bush,Jenna,Laura,George,female,1,1981.0,false,NA,NA,NA,B,+,+,1/2,NA\n",
      "Bush,Margaret,Jenna,\"Henry Hagar\",female,0,2013.0,false,NA,NA,NA,B,-,-,1/2,NA\n",
      "Clinton,Bill,,,male,0,1946.0,true,1.0,0.0,0.0,A,+,+,2/2,1.88\n",
      "Clinton,Hillary,,,female,0,1947.0,true,1.0,0.0,0.0,O,-,-,1/1,NA\n",
      "Clinton,Chelsea,Hillary,Bill,female,0,1980.0,false,NA,NA,NA,A,+,-,1/2,NA\n"
     ]
    }
   ],
   "source": [
    ";head -10 \"genedropping PedigreeFrame.txt\""
   ]
  },
  {
   "cell_type": "markdown",
   "metadata": {},
   "source": [
    "### Step 2: Preparing the Control file\n",
    "A Control file gives specific instructions to `MendelGeneDropping`. A minimal Control file looks like the following:"
   ]
  },
  {
   "cell_type": "code",
   "execution_count": 6,
   "metadata": {},
   "outputs": [
    {
     "name": "stdout",
     "output_type": "stream",
     "text": [
      "#\n",
      "# Input and Output files.\n",
      "#\n",
      "locus_file = genedropping LocusFrame.txt\n",
      "pedigree_file = genedropping PedigreeFrame.txt\n",
      "phenotype_file = genedropping PhenotypeFrame.txt\n",
      "new_pedigree_file = genedropping Output PedigreeFrame.txt\n",
      "output_file = genedropping Output.txt\n",
      "#\n",
      "# Analysis parameters for GeneDropping option.\n",
      "#\n",
      "repetitions = 2\n",
      "populations = European, African, Chinese\n"
     ]
    }
   ],
   "source": [
    ";cat \"genedropping Control.txt\""
   ]
  },
  {
   "cell_type": "markdown",
   "metadata": {},
   "source": [
    "### Step 3: Run the analysis in Julia REPL or directly in notebook\n"
   ]
  },
  {
   "cell_type": "code",
   "execution_count": 7,
   "metadata": {},
   "outputs": [
    {
     "name": "stdout",
     "output_type": "stream",
     "text": [
      " \n",
      " \n",
      "     Welcome to OpenMendel's\n",
      "  Gene Dropping analysis option\n",
      "        version 0.5.0\n",
      " \n",
      " \n",
      "Reading the data.\n",
      "\n",
      "The current working directory is \"/Users/jcpapp/.julia/packages/MendelGeneDropping/qZrcT/data\".\n",
      "\n",
      "Keywords modified by the user:\n",
      "\n",
      "  control_file = genedropping Control.txt\n",
      "  locus_file = genedropping LocusFrame.txt\n",
      "  new_pedigree_file = genedropping Output PedigreeFrame.txt\n",
      "  output_file = genedropping Output.txt\n",
      "  pedigree_file = genedropping PedigreeFrame.txt\n",
      "  phenotype_file = genedropping PhenotypeFrame.txt\n",
      "  populations = Set(AbstractString[\"Chinese\", \"African\", \"European\"])\n",
      "  repetitions = 2\n",
      " \n",
      "Warning: Allele frequencies at locus ABO for population European do not sum to 1.0.\n",
      " \n",
      "Analyzing the data.\n",
      "\n",
      "26×18 DataFrames.DataFrame. Omitted printing of 12 columns\n",
      "│ Row │ Pedigree │ Person      │ Mother   │ Father      │ Sex     │ Twin   │\n",
      "│     │ \u001b[90mString⍰\u001b[39m  │ \u001b[90mString⍰\u001b[39m     │ \u001b[90mString⍰\u001b[39m  │ \u001b[90mString⍰\u001b[39m     │ \u001b[90mString⍰\u001b[39m │ \u001b[90mInt64⍰\u001b[39m │\n",
      "├─────┼──────────┼─────────────┼──────────┼─────────────┼─────────┼────────┤\n",
      "│ 1   │ Bush1    │ George      │          │             │ male    │ 0      │\n",
      "│ 2   │ Bush1    │ Laura       │          │             │ female  │ 0      │\n",
      "│ 3   │ Bush1    │ Henry Hagar │          │             │ male    │ 0      │\n",
      "│ 4   │ Bush1    │ Barbara     │ Laura    │ George      │ female  │ 1      │\n",
      "│ 5   │ Bush1    │ Jenna       │ Laura    │ George      │ female  │ 1      │\n",
      "│ 6   │ Bush1    │ Margaret    │ Jenna    │ Henry Hagar │ female  │ 0      │\n",
      "│ 7   │ Clinton1 │ Bill        │          │             │ male    │ 0      │\n",
      "⋮\n",
      "│ 19  │ Bush2    │ Margaret    │ Jenna    │ Henry Hagar │ female  │ 0      │\n",
      "│ 20  │ Clinton2 │ Bill        │          │             │ male    │ 0      │\n",
      "│ 21  │ Clinton2 │ Hillary     │          │             │ female  │ 0      │\n",
      "│ 22  │ Clinton2 │ Chelsea     │ Hillary  │ Bill        │ female  │ 0      │\n",
      "│ 23  │ Obama2   │ Barack      │          │             │ male    │ 0      │\n",
      "│ 24  │ Obama2   │ Michelle    │          │             │ female  │ 0      │\n",
      "│ 25  │ Obama2   │ Malia       │ Michelle │ Barack      │ female  │ 0      │\n",
      "│ 26  │ Obama2   │ Sasha       │ Michelle │ Barack      │ female  │ 0      │ \n",
      " \n",
      "Mendel's analysis is finished.\n",
      "\n"
     ]
    }
   ],
   "source": [
    "using MendelGeneDropping\n",
    "    GeneDropping(\"genedropping Control.txt\")"
   ]
  },
  {
   "cell_type": "markdown",
   "metadata": {},
   "source": [
    "### Step 4: Interpreting the result\n",
    "\n",
    "`MendelGeneDropping` should have generated the file `genedropping Output PedigreeFrame.txt` in your local directory. One can directly open the file, or import into the Julia environment for ease of manipulation using the DataFrames package. "
   ]
  },
  {
   "cell_type": "markdown",
   "metadata": {},
   "source": [
    "## Citation\n",
    "\n",
    "If you use this analysis package in your research, please cite the following reference in the resulting publications:\n",
    "\n",
    "*Lange K, Papp JC, Sinsheimer JS, Sripracha R, Zhou H, Sobel EM (2013) Mendel: The Swiss army knife of genetic analysis programs. Bioinformatics 29:1568-1570.*"
   ]
  },
  {
   "cell_type": "markdown",
   "metadata": {},
   "source": [
    "## Acknowledgments\n",
    "\n",
    "This project is supported by the National Institutes of Health under NIGMS awards R01GM053275 and R25GM103774 and NHGRI award R01HG006139."
   ]
  }
 ],
 "metadata": {
  "kernelspec": {
   "display_name": "Julia 1.1.0",
   "language": "julia",
   "name": "julia-1.1"
  },
  "language_info": {
   "file_extension": ".jl",
   "mimetype": "application/julia",
   "name": "julia",
   "version": "1.1.0"
  }
 },
 "nbformat": 4,
 "nbformat_minor": 2
}
