{
 "cells": [
  {
   "cell_type": "markdown",
   "metadata": {},
   "source": [
    "# Trait Simulation Demonstration\n",
    "\n",
    "In this notebook we demonstrate how to simulate phenotypic traits. We use the Mendel Option 28e data with known parameter estimates to validate whether the simulation is sensible. In example 2b, we follow Mendel Option 28e with the simulation parameters for Trait1 and Trait2 in Ped28e.out as shown below.\n",
    "\n",
    "The user specifies arbitrary fixed effect sizes in examples 1 and 2. \n",
    "\n",
    "In the Generating Effect Sizes Section of Example 3 we show how the user can generate effect sizes that depend on the minor allele frequencies from a function such as an exponential or chisquare. To aid the user when they wish to include a large number of loci in the model, we created a function that automatically writes out the mean components. At the end of example 3, we demo how to write the results of each simulation to a file on the users own machine.\n",
    "\n",
    "## Mendel Option 28e Data: \n",
    "Mean effect:\n",
    "$$\n",
    "\\mathbf{\\mu} = \\begin{vmatrix}\n",
    "\\mu_1 \\\\\n",
    "\\mu_2 \\\\\n",
    "\\end{vmatrix}\n",
    "= \\begin{vmatrix}\n",
    "40 + 3(sex) - 1.5(locus)\\\\\n",
    "20 + 2(sex) - 1.5(locus)\\\\\n",
    "\\end{vmatrix}\n",
    "\\\\\n",
    "$$\n",
    "\n",
    "Covariance Matrix of Both Traits simulated Simultaneously through Linear Mixed Model (LMM):\n",
    "\n",
    "$$\n",
    "\\Sigma  = V_a \\otimes (2GRM) + V_e \\otimes I_n\n",
    "$$\n",
    "\n",
    "Where we have the additive and environmental variances:\n",
    "\n",
    "$$\n",
    "V_a = \n",
    "\\begin{vmatrix}\n",
    "4 & 1\\\\\n",
    "1 & 4\\\\\n",
    "\\end{vmatrix}\n",
    "$$\n",
    "\n",
    "$$\n",
    "V_e = \n",
    "\\begin{vmatrix}\n",
    "2 & 0\\\\\n",
    "0 & 2\\\\\n",
    "\\end{vmatrix}\n",
    "$$\n",
    "\n",
    "The kinship matrix is derived from the genetic relationship matrix (GRM) across the common SNPs with minor allele frequency at least 0.05. I_n is the n dimensional identity matrix."
   ]
  },
  {
   "cell_type": "markdown",
   "metadata": {},
   "source": [
    "# Reproducibility\n",
    "\n",
    "For reproducibility, we set a random seed using the `Random.jl` package for each simulation using `Random.seed!(1234)`.  If the user wishes to end up with different data, they will need to comment out these commands or use another value in Random.seed!()."
   ]
  },
  {
   "cell_type": "code",
   "execution_count": 1,
   "metadata": {},
   "outputs": [],
   "source": [
    "using Random\n",
    "Random.seed!(1234);"
   ]
  },
  {
   "cell_type": "markdown",
   "metadata": {},
   "source": [
    "Machine information:"
   ]
  },
  {
   "cell_type": "code",
   "execution_count": 40,
   "metadata": {},
   "outputs": [
    {
     "name": "stdout",
     "output_type": "stream",
     "text": [
      "Julia Version 1.0.3\n",
      "Commit 099e826241 (2018-12-18 01:34 UTC)\n",
      "Platform Info:\n",
      "  OS: macOS (x86_64-apple-darwin14.5.0)\n",
      "  CPU: Intel(R) Core(TM) i7-7700HQ CPU @ 2.80GHz\n",
      "  WORD_SIZE: 64\n",
      "  LIBM: libopenlibm\n",
      "  LLVM: libLLVM-6.0.0 (ORCJIT, skylake)\n"
     ]
    }
   ],
   "source": [
    "versioninfo()"
   ]
  },
  {
   "cell_type": "markdown",
   "metadata": {},
   "source": [
    "# The notebook is organized as follows:\n",
    "## Example 1: Generalized Linear Fixed Effects Model (no residual familial correlation)\n",
    "\n",
    "### a) Single IID Non-Normal Trait:<br>\n",
    "We simulate an iid Poisson Trait, location = 5.\n",
    "$$\n",
    "Y_{1a} ∼ Poisson(5)\n",
    "$$\n",
    "\n",
    "### b) Multiple Independent Traits: User specified distributions\n",
    "We simulate two independent Traits from example 1a 1b, simultaneously.<br>\n",
    "$$\n",
    "Y_{1b_{1}} ∼ N(\\mu_{1b}, 2), \\mu_{1b} = 40 + 3(sex) - 1.5(locus)\\\\\n",
    "Y_{1b_{2}} ∼ Poisson(\\mu_{2b}), \\mu_{2b} = 2 + 2(sex) - 1.5(locus)\n",
    "$$\n",
    "\n",
    "## Example 2: Linear Mixed Model (with additive genetic variance component).\n",
    "Note that the residual covariance among two relatives is the additive genetic variance times twice the kinship coefficient.  \n",
    "\n",
    "### (a) Single Trait:\n",
    "We simulate a Normal Trait controlling for family structure, location = $\\mu_{1} and scale = V_{{a}_{1,1}}* 2GRM + V_{{e}_{1,1}}I$. \n",
    "$$\n",
    "Y_{2a} ∼ N(\\mu_{1}, 4* 2GRM + 2I)$$\n",
    "\n",
    "\n",
    "### (b) Multiple Correlated Traits: (Mendel Example 28e Simulation)\n",
    "We simulate two correlated Normal Traits controlling for family structure, location = $\\mu$ and scale = $\\Sigma$. \n",
    "$$\n",
    "Y_{2b} ∼ N(\\mu, \\Sigma) , \\Sigma  = V_{a} \\otimes (2GRM) + V_{e} \\otimes I_{n}\n",
    "$$\n",
    "\n",
    "## Example 3: Rare Variant Linear Mixed Model with effect sizes as a function of the allele frequencies. \n",
    "\n",
    "The example also assumes an additive genetic variance component in the model which includes 20 rare SNPs, defined as snps with minor allele frequencies greater than 0.002 but less than 0.02.  In practice rare SNPs have smaller minor allele frequencies but we are limited in this tutorial by the number of individuals in the data set. We use generated effect sizes to evaluate $\\mu_{rare20}$ <br>\n",
    "\n",
    "### (a) Single Trait: \n",
    "$$\n",
    "Y_{3a} ∼ N(\\mu_{rare20}, 4* 2GRM + 2I)\n",
    "$$"
   ]
  },
  {
   "cell_type": "markdown",
   "metadata": {},
   "source": [
    "# Reading the Mendel 28a data using SnpArrays\n",
    "\n",
    "First use `SnpArrays.jl` to read in the SNP data"
   ]
  },
  {
   "cell_type": "code",
   "execution_count": 2,
   "metadata": {},
   "outputs": [
    {
     "data": {
      "text/plain": [
       "212×253141 SnpArray:\n",
       " 0x03  0x03  0x00  0x03  0x03  0x03  …  0x02  0x02  0x00  0x00  0x03  0x00\n",
       " 0x03  0x03  0x00  0x02  0x02  0x03     0x00  0x03  0x00  0x00  0x03  0x00\n",
       " 0x03  0x03  0x00  0x03  0x03  0x03     0x03  0x02  0x00  0x00  0x03  0x00\n",
       " 0x03  0x03  0x00  0x03  0x03  0x03     0x02  0x03  0x00  0x00  0x03  0x00\n",
       " 0x03  0x03  0x00  0x03  0x03  0x03     0x00  0x03  0x00  0x00  0x03  0x00\n",
       " 0x03  0x03  0x00  0x03  0x03  0x03  …  0x00  0x00  0x00  0x00  0x00  0x03\n",
       " 0x03  0x02  0x00  0x03  0x03  0x03     0x02  0x03  0x00  0x03  0x00  0x03\n",
       " 0x03  0x03  0x00  0x03  0x03  0x03     0x02  0x03  0x00  0x03  0x00  0x03\n",
       " 0x03  0x02  0x00  0x03  0x03  0x03     0x02  0x02  0x00  0x02  0x00  0x03\n",
       " 0x03  0x02  0x00  0x03  0x03  0x03     0x03  0x03  0x00  0x03  0x00  0x03\n",
       " 0x03  0x02  0x00  0x03  0x03  0x03  …  0x00  0x02  0x00  0x02  0x00  0x03\n",
       " 0x03  0x03  0x00  0x03  0x03  0x03     0x00  0x02  0x00  0x02  0x00  0x03\n",
       " 0x03  0x02  0x00  0x03  0x03  0x03     0x02  0x02  0x00  0x02  0x00  0x03\n",
       "    ⋮                             ⋮  ⋱     ⋮                             ⋮\n",
       " 0x03  0x03  0x00  0x03  0x03  0x03  …  0x00  0x03  0x00  0x00  0x03  0x00\n",
       " 0x03  0x03  0x00  0x03  0x03  0x03     0x00  0x03  0x00  0x02  0x02  0x02\n",
       " 0x03  0x03  0x00  0x03  0x03  0x03     0x00  0x02  0x00  0x00  0x03  0x00\n",
       " 0x03  0x02  0x00  0x02  0x02  0x03     0x02  0x03  0x00  0x03  0x00  0x03\n",
       " 0x03  0x03  0x00  0x02  0x02  0x03     0x02  0x03  0x00  0x00  0x03  0x00\n",
       " 0x03  0x03  0x00  0x03  0x03  0x03  …  0x02  0x03  0x00  0x02  0x02  0x00\n",
       " 0x03  0x03  0x00  0x02  0x02  0x03     0x02  0x03  0x00  0x00  0x02  0x02\n",
       " 0x03  0x03  0x00  0x03  0x03  0x03     0x00  0x03  0x00  0x00  0x03  0x00\n",
       " 0x03  0x02  0x00  0x03  0x03  0x03     0x02  0x03  0x00  0x00  0x02  0x02\n",
       " 0x03  0x03  0x00  0x03  0x03  0x03     0x00  0x03  0x00  0x00  0x03  0x00\n",
       " 0x03  0x03  0x00  0x03  0x03  0x03  …  0x02  0x03  0x00  0x00  0x03  0x00\n",
       " 0x03  0x03  0x00  0x03  0x03  0x03     0x00  0x03  0x00  0x02  0x02  0x02"
      ]
     },
     "execution_count": 2,
     "metadata": {},
     "output_type": "execute_result"
    }
   ],
   "source": [
    "using DataFrames, SnpArrays, StatsModels, Random, LinearAlgebra, DelimitedFiles, StatsBase, TraitSimulation\n",
    "snpdata = SnpArray(\"traitsim28e.bed\", 212)"
   ]
  },
  {
   "cell_type": "markdown",
   "metadata": {},
   "source": [
    "Store the FamID and PersonID of Individuals in Mendel 28e data"
   ]
  },
  {
   "cell_type": "code",
   "execution_count": 3,
   "metadata": {},
   "outputs": [
    {
     "data": {
      "text/html": [
       "<table class=\"data-frame\"><thead><tr><th></th><th>FamID</th><th>PID</th></tr><tr><th></th><th>Any</th><th>Any</th></tr></thead><tbody><p>212 rows × 2 columns</p><tr><th>1</th><td>1</td><td>16</td></tr><tr><th>2</th><td>1</td><td>8228</td></tr><tr><th>3</th><td>1</td><td>17008</td></tr><tr><th>4</th><td>1</td><td>9218</td></tr><tr><th>5</th><td>1</td><td>3226</td></tr><tr><th>6</th><td>2</td><td>29</td></tr><tr><th>7</th><td>2</td><td>2294</td></tr><tr><th>8</th><td>2</td><td>3416</td></tr><tr><th>9</th><td>2</td><td>17893</td></tr><tr><th>10</th><td>2</td><td>6952</td></tr><tr><th>11</th><td>2</td><td>14695</td></tr><tr><th>12</th><td>2</td><td>6790</td></tr><tr><th>13</th><td>2</td><td>3916</td></tr><tr><th>14</th><td>3</td><td>39</td></tr><tr><th>15</th><td>3</td><td>4521</td></tr><tr><th>16</th><td>3</td><td>8366</td></tr><tr><th>17</th><td>3</td><td>16693</td></tr><tr><th>18</th><td>3</td><td>21688</td></tr><tr><th>19</th><td>3</td><td>25532</td></tr><tr><th>20</th><td>3</td><td>26294</td></tr><tr><th>21</th><td>3</td><td>16795</td></tr><tr><th>22</th><td>3</td><td>17445</td></tr><tr><th>23</th><td>3</td><td>2039</td></tr><tr><th>24</th><td>3</td><td>2831</td></tr><tr><th>25</th><td>4</td><td>54</td></tr><tr><th>26</th><td>4</td><td>5072</td></tr><tr><th>27</th><td>4</td><td>17240</td></tr><tr><th>28</th><td>5</td><td>70</td></tr><tr><th>29</th><td>5</td><td>24010</td></tr><tr><th>30</th><td>5</td><td>21999</td></tr><tr><th>&vellip;</th><td>&vellip;</td><td>&vellip;</td></tr></tbody></table>"
      ],
      "text/latex": [
       "\\begin{tabular}{r|cc}\n",
       "\t& FamID & PID\\\\\n",
       "\t\\hline\n",
       "\t& Any & Any\\\\\n",
       "\t\\hline\n",
       "\t1 & 1 & 16 \\\\\n",
       "\t2 & 1 & 8228 \\\\\n",
       "\t3 & 1 & 17008 \\\\\n",
       "\t4 & 1 & 9218 \\\\\n",
       "\t5 & 1 & 3226 \\\\\n",
       "\t6 & 2 & 29 \\\\\n",
       "\t7 & 2 & 2294 \\\\\n",
       "\t8 & 2 & 3416 \\\\\n",
       "\t9 & 2 & 17893 \\\\\n",
       "\t10 & 2 & 6952 \\\\\n",
       "\t11 & 2 & 14695 \\\\\n",
       "\t12 & 2 & 6790 \\\\\n",
       "\t13 & 2 & 3916 \\\\\n",
       "\t14 & 3 & 39 \\\\\n",
       "\t15 & 3 & 4521 \\\\\n",
       "\t16 & 3 & 8366 \\\\\n",
       "\t17 & 3 & 16693 \\\\\n",
       "\t18 & 3 & 21688 \\\\\n",
       "\t19 & 3 & 25532 \\\\\n",
       "\t20 & 3 & 26294 \\\\\n",
       "\t21 & 3 & 16795 \\\\\n",
       "\t22 & 3 & 17445 \\\\\n",
       "\t23 & 3 & 2039 \\\\\n",
       "\t24 & 3 & 2831 \\\\\n",
       "\t25 & 4 & 54 \\\\\n",
       "\t26 & 4 & 5072 \\\\\n",
       "\t27 & 4 & 17240 \\\\\n",
       "\t28 & 5 & 70 \\\\\n",
       "\t29 & 5 & 24010 \\\\\n",
       "\t30 & 5 & 21999 \\\\\n",
       "\t$\\dots$ & $\\dots$ & $\\dots$ \\\\\n",
       "\\end{tabular}\n"
      ],
      "text/plain": [
       "212×2 DataFrame\n",
       "│ Row │ FamID │ PID   │\n",
       "│     │ \u001b[90mAny\u001b[39m   │ \u001b[90mAny\u001b[39m   │\n",
       "├─────┼───────┼───────┤\n",
       "│ 1   │ 1     │ 16    │\n",
       "│ 2   │ 1     │ 8228  │\n",
       "│ 3   │ 1     │ 17008 │\n",
       "│ 4   │ 1     │ 9218  │\n",
       "│ 5   │ 1     │ 3226  │\n",
       "│ 6   │ 2     │ 29    │\n",
       "│ 7   │ 2     │ 2294  │\n",
       "│ 8   │ 2     │ 3416  │\n",
       "│ 9   │ 2     │ 17893 │\n",
       "│ 10  │ 2     │ 6952  │\n",
       "⋮\n",
       "│ 202 │ 31    │ 16139 │\n",
       "│ 203 │ 31    │ 10439 │\n",
       "│ 204 │ 31    │ 63    │\n",
       "│ 205 │ 10006 │ 66    │\n",
       "│ 206 │ 10008 │ 92    │\n",
       "│ 207 │ 10014 │ 186   │\n",
       "│ 208 │ 10027 │ 374   │\n",
       "│ 209 │ 10029 │ 434   │\n",
       "│ 210 │ 10033 │ 333   │\n",
       "│ 211 │ 10040 │ 234   │\n",
       "│ 212 │ 10045 │ 789   │"
      ]
     },
     "execution_count": 3,
     "metadata": {},
     "output_type": "execute_result"
    }
   ],
   "source": [
    "famfile = readdlm(\"traitsim28e.fam\", ',')\n",
    "Fam_Person_id = DataFrame(FamID = famfile[:, 1], PID = famfile[:, 2])"
   ]
  },
  {
   "cell_type": "markdown",
   "metadata": {},
   "source": [
    "Note: We subset `traits_original` to compare in Example 2b our simulated traits to these two simulated traits from Mendel Option 28e."
   ]
  },
  {
   "cell_type": "code",
   "execution_count": 4,
   "metadata": {},
   "outputs": [
    {
     "data": {
      "text/html": [
       "<table class=\"data-frame\"><thead><tr><th></th><th>Trait1</th><th>Trait2</th></tr><tr><th></th><th>Any</th><th>Any</th></tr></thead><tbody><p>212 rows × 2 columns</p><tr><th>1</th><td>30.2056</td><td>9.2421</td></tr><tr><th>2</th><td>35.8214</td><td>15.2746</td></tr><tr><th>3</th><td>36.053</td><td>19.505</td></tr><tr><th>4</th><td>38.9635</td><td>18.9857</td></tr><tr><th>5</th><td>33.7391</td><td>21.1041</td></tr><tr><th>6</th><td>34.8884</td><td>19.0114</td></tr><tr><th>7</th><td>37.7011</td><td>19.1656</td></tr><tr><th>8</th><td>45.1317</td><td>19.8409</td></tr><tr><th>9</th><td>35.156</td><td>14.1423</td></tr><tr><th>10</th><td>42.4514</td><td>19.9271</td></tr><tr><th>11</th><td>35.6426</td><td>17.4191</td></tr><tr><th>12</th><td>40.6344</td><td>23.6845</td></tr><tr><th>13</th><td>34.8618</td><td>16.8684</td></tr><tr><th>14</th><td>37.2552</td><td>16.397</td></tr><tr><th>15</th><td>33.0975</td><td>15.3287</td></tr><tr><th>16</th><td>37.916</td><td>20.6693</td></tr><tr><th>17</th><td>34.839</td><td>17.6651</td></tr><tr><th>18</th><td>36.2022</td><td>21.7773</td></tr><tr><th>19</th><td>30.9314</td><td>17.8042</td></tr><tr><th>20</th><td>41.5899</td><td>22.0772</td></tr><tr><th>21</th><td>31.5552</td><td>17.7989</td></tr><tr><th>22</th><td>35.5947</td><td>20.0131</td></tr><tr><th>23</th><td>36.048</td><td>17.7814</td></tr><tr><th>24</th><td>39.1822</td><td>20.747</td></tr><tr><th>25</th><td>34.7339</td><td>9.88673</td></tr><tr><th>26</th><td>37.5677</td><td>14.2164</td></tr><tr><th>27</th><td>32.9781</td><td>12.9809</td></tr><tr><th>28</th><td>40.2272</td><td>21.0772</td></tr><tr><th>29</th><td>41.7587</td><td>24.1248</td></tr><tr><th>30</th><td>45.4635</td><td>27.5554</td></tr><tr><th>&vellip;</th><td>&vellip;</td><td>&vellip;</td></tr></tbody></table>"
      ],
      "text/latex": [
       "\\begin{tabular}{r|cc}\n",
       "\t& Trait1 & Trait2\\\\\n",
       "\t\\hline\n",
       "\t& Any & Any\\\\\n",
       "\t\\hline\n",
       "\t1 & 30.2056 & 9.2421 \\\\\n",
       "\t2 & 35.8214 & 15.2746 \\\\\n",
       "\t3 & 36.053 & 19.505 \\\\\n",
       "\t4 & 38.9635 & 18.9857 \\\\\n",
       "\t5 & 33.7391 & 21.1041 \\\\\n",
       "\t6 & 34.8884 & 19.0114 \\\\\n",
       "\t7 & 37.7011 & 19.1656 \\\\\n",
       "\t8 & 45.1317 & 19.8409 \\\\\n",
       "\t9 & 35.156 & 14.1423 \\\\\n",
       "\t10 & 42.4514 & 19.9271 \\\\\n",
       "\t11 & 35.6426 & 17.4191 \\\\\n",
       "\t12 & 40.6344 & 23.6845 \\\\\n",
       "\t13 & 34.8618 & 16.8684 \\\\\n",
       "\t14 & 37.2552 & 16.397 \\\\\n",
       "\t15 & 33.0975 & 15.3287 \\\\\n",
       "\t16 & 37.916 & 20.6693 \\\\\n",
       "\t17 & 34.839 & 17.6651 \\\\\n",
       "\t18 & 36.2022 & 21.7773 \\\\\n",
       "\t19 & 30.9314 & 17.8042 \\\\\n",
       "\t20 & 41.5899 & 22.0772 \\\\\n",
       "\t21 & 31.5552 & 17.7989 \\\\\n",
       "\t22 & 35.5947 & 20.0131 \\\\\n",
       "\t23 & 36.048 & 17.7814 \\\\\n",
       "\t24 & 39.1822 & 20.747 \\\\\n",
       "\t25 & 34.7339 & 9.88673 \\\\\n",
       "\t26 & 37.5677 & 14.2164 \\\\\n",
       "\t27 & 32.9781 & 12.9809 \\\\\n",
       "\t28 & 40.2272 & 21.0772 \\\\\n",
       "\t29 & 41.7587 & 24.1248 \\\\\n",
       "\t30 & 45.4635 & 27.5554 \\\\\n",
       "\t$\\dots$ & $\\dots$ & $\\dots$ \\\\\n",
       "\\end{tabular}\n"
      ],
      "text/plain": [
       "212×2 DataFrame\n",
       "│ Row │ Trait1  │ Trait2  │\n",
       "│     │ \u001b[90mAny\u001b[39m     │ \u001b[90mAny\u001b[39m     │\n",
       "├─────┼─────────┼─────────┤\n",
       "│ 1   │ 30.2056 │ 9.2421  │\n",
       "│ 2   │ 35.8214 │ 15.2746 │\n",
       "│ 3   │ 36.053  │ 19.505  │\n",
       "│ 4   │ 38.9635 │ 18.9857 │\n",
       "│ 5   │ 33.7391 │ 21.1041 │\n",
       "│ 6   │ 34.8884 │ 19.0114 │\n",
       "│ 7   │ 37.7011 │ 19.1656 │\n",
       "│ 8   │ 45.1317 │ 19.8409 │\n",
       "│ 9   │ 35.156  │ 14.1423 │\n",
       "│ 10  │ 42.4514 │ 19.9271 │\n",
       "⋮\n",
       "│ 202 │ 39.3161 │ 24.8508 │\n",
       "│ 203 │ 41.7913 │ 22.5294 │\n",
       "│ 204 │ 36.3301 │ 17.0813 │\n",
       "│ 205 │ 42.9442 │ 17.1984 │\n",
       "│ 206 │ 39.8927 │ 20.9043 │\n",
       "│ 207 │ 42.5795 │ 15.9365 │\n",
       "│ 208 │ 47.8619 │ 19.8943 │\n",
       "│ 209 │ 41.0531 │ 25.1045 │\n",
       "│ 210 │ 39.9502 │ 19.7227 │\n",
       "│ 211 │ 35.4778 │ 21.935  │\n",
       "│ 212 │ 44.3932 │ 26.1222 │"
      ]
     },
     "execution_count": 4,
     "metadata": {},
     "output_type": "execute_result"
    }
   ],
   "source": [
    "traits_original = DataFrame(Trait1 = famfile[:, 7], Trait2 = famfile[:, 8])"
   ]
  },
  {
   "cell_type": "markdown",
   "metadata": {},
   "source": [
    "Transform sex variable from M/F to 1/-1 as does Mendel 28e data"
   ]
  },
  {
   "cell_type": "code",
   "execution_count": 5,
   "metadata": {},
   "outputs": [
    {
     "data": {
      "text/plain": [
       "212-element Array{Float64,1}:\n",
       " -1.0\n",
       " -1.0\n",
       "  1.0\n",
       "  1.0\n",
       " -1.0\n",
       " -1.0\n",
       "  1.0\n",
       "  1.0\n",
       " -1.0\n",
       "  1.0\n",
       " -1.0\n",
       "  1.0\n",
       " -1.0\n",
       "  ⋮  \n",
       "  1.0\n",
       "  1.0\n",
       "  1.0\n",
       " -1.0\n",
       "  1.0\n",
       "  1.0\n",
       "  1.0\n",
       "  1.0\n",
       "  1.0\n",
       "  1.0\n",
       "  1.0\n",
       "  1.0"
      ]
     },
     "execution_count": 5,
     "metadata": {},
     "output_type": "execute_result"
    }
   ],
   "source": [
    "sex = map(x -> strip(x) == \"F\" ? -1.0 : 1.0, famfile[:, 5])"
   ]
  },
  {
   "cell_type": "markdown",
   "metadata": {},
   "source": [
    "### Names of Variants:"
   ]
  },
  {
   "cell_type": "markdown",
   "metadata": {},
   "source": [
    "We want to find the index of the causal snp, rs10412915, in the snp_definition file and then subset that snp from the genetic marker data above. \n",
    "We subset the SNP names into a vector called `snpid`"
   ]
  },
  {
   "cell_type": "code",
   "execution_count": 6,
   "metadata": {},
   "outputs": [
    {
     "data": {
      "text/plain": [
       "253141-element Array{SubString{String},1}:\n",
       " \"rs3020701\"  \n",
       " \"rs56343121\" \n",
       " \"rs143501051\"\n",
       " \"rs56182540\" \n",
       " \"rs7260412\"  \n",
       " \"rs11669393\" \n",
       " \"rs181646587\"\n",
       " \"rs8106297\"  \n",
       " \"rs8106302\"  \n",
       " \"rs183568620\"\n",
       " \"rs186451972\"\n",
       " \"rs189699222\"\n",
       " \"rs182902214\"\n",
       " ⋮            \n",
       " \"rs188169422\"\n",
       " \"rs144587467\"\n",
       " \"rs139879509\"\n",
       " \"rs143250448\"\n",
       " \"rs145384750\"\n",
       " \"rs149215836\"\n",
       " \"rs139221927\"\n",
       " \"rs181848453\"\n",
       " \"rs138318162\"\n",
       " \"rs186913222\"\n",
       " \"rs141816674\"\n",
       " \"rs150801216\""
      ]
     },
     "execution_count": 6,
     "metadata": {},
     "output_type": "execute_result"
    }
   ],
   "source": [
    "snpdef28_1 = readdlm(\"traitsim28e.bim\", Any; header = false)\n",
    "snpid = map(x -> strip(string(x)), snpdef28_1[:, 1])"
   ]
  },
  {
   "cell_type": "markdown",
   "metadata": {},
   "source": [
    "We see that the causal snp, rs10412915, is the 236074th variant in the snp dataset."
   ]
  },
  {
   "cell_type": "code",
   "execution_count": 7,
   "metadata": {},
   "outputs": [
    {
     "data": {
      "text/plain": [
       "236074"
      ]
     },
     "execution_count": 7,
     "metadata": {},
     "output_type": "execute_result"
    }
   ],
   "source": [
    "ind_rs10412915 = findall(x -> x == \"rs10412915\", snpid)[1]"
   ]
  },
  {
   "cell_type": "markdown",
   "metadata": {},
   "source": [
    "Let's create a design matrix for the alternative model that includes sex and locus rs10412915."
   ]
  },
  {
   "cell_type": "code",
   "execution_count": 8,
   "metadata": {},
   "outputs": [
    {
     "data": {
      "text/html": [
       "<table class=\"data-frame\"><thead><tr><th></th><th>sex</th><th>locus</th></tr><tr><th></th><th>Float64</th><th>Float64</th></tr></thead><tbody><p>212 rows × 2 columns</p><tr><th>1</th><td>-1.0</td><td>2.0</td></tr><tr><th>2</th><td>-1.0</td><td>0.0</td></tr><tr><th>3</th><td>1.0</td><td>2.0</td></tr><tr><th>4</th><td>1.0</td><td>2.0</td></tr><tr><th>5</th><td>-1.0</td><td>1.0</td></tr><tr><th>6</th><td>-1.0</td><td>1.0</td></tr><tr><th>7</th><td>1.0</td><td>1.0</td></tr><tr><th>8</th><td>1.0</td><td>2.0</td></tr><tr><th>9</th><td>-1.0</td><td>1.0</td></tr><tr><th>10</th><td>1.0</td><td>1.0</td></tr><tr><th>11</th><td>-1.0</td><td>0.0</td></tr><tr><th>12</th><td>1.0</td><td>0.0</td></tr><tr><th>13</th><td>-1.0</td><td>0.0</td></tr><tr><th>14</th><td>-1.0</td><td>1.0</td></tr><tr><th>15</th><td>-1.0</td><td>2.0</td></tr><tr><th>16</th><td>1.0</td><td>1.0</td></tr><tr><th>17</th><td>-1.0</td><td>2.0</td></tr><tr><th>18</th><td>1.0</td><td>2.0</td></tr><tr><th>19</th><td>-1.0</td><td>2.0</td></tr><tr><th>20</th><td>1.0</td><td>1.0</td></tr><tr><th>21</th><td>-1.0</td><td>1.0</td></tr><tr><th>22</th><td>1.0</td><td>2.0</td></tr><tr><th>23</th><td>1.0</td><td>2.0</td></tr><tr><th>24</th><td>1.0</td><td>1.0</td></tr><tr><th>25</th><td>-1.0</td><td>2.0</td></tr><tr><th>26</th><td>1.0</td><td>2.0</td></tr><tr><th>27</th><td>-1.0</td><td>2.0</td></tr><tr><th>28</th><td>-1.0</td><td>1.0</td></tr><tr><th>29</th><td>1.0</td><td>1.0</td></tr><tr><th>30</th><td>1.0</td><td>0.0</td></tr><tr><th>&vellip;</th><td>&vellip;</td><td>&vellip;</td></tr></tbody></table>"
      ],
      "text/latex": [
       "\\begin{tabular}{r|cc}\n",
       "\t& sex & locus\\\\\n",
       "\t\\hline\n",
       "\t& Float64 & Float64\\\\\n",
       "\t\\hline\n",
       "\t1 & -1.0 & 2.0 \\\\\n",
       "\t2 & -1.0 & 0.0 \\\\\n",
       "\t3 & 1.0 & 2.0 \\\\\n",
       "\t4 & 1.0 & 2.0 \\\\\n",
       "\t5 & -1.0 & 1.0 \\\\\n",
       "\t6 & -1.0 & 1.0 \\\\\n",
       "\t7 & 1.0 & 1.0 \\\\\n",
       "\t8 & 1.0 & 2.0 \\\\\n",
       "\t9 & -1.0 & 1.0 \\\\\n",
       "\t10 & 1.0 & 1.0 \\\\\n",
       "\t11 & -1.0 & 0.0 \\\\\n",
       "\t12 & 1.0 & 0.0 \\\\\n",
       "\t13 & -1.0 & 0.0 \\\\\n",
       "\t14 & -1.0 & 1.0 \\\\\n",
       "\t15 & -1.0 & 2.0 \\\\\n",
       "\t16 & 1.0 & 1.0 \\\\\n",
       "\t17 & -1.0 & 2.0 \\\\\n",
       "\t18 & 1.0 & 2.0 \\\\\n",
       "\t19 & -1.0 & 2.0 \\\\\n",
       "\t20 & 1.0 & 1.0 \\\\\n",
       "\t21 & -1.0 & 1.0 \\\\\n",
       "\t22 & 1.0 & 2.0 \\\\\n",
       "\t23 & 1.0 & 2.0 \\\\\n",
       "\t24 & 1.0 & 1.0 \\\\\n",
       "\t25 & -1.0 & 2.0 \\\\\n",
       "\t26 & 1.0 & 2.0 \\\\\n",
       "\t27 & -1.0 & 2.0 \\\\\n",
       "\t28 & -1.0 & 1.0 \\\\\n",
       "\t29 & 1.0 & 1.0 \\\\\n",
       "\t30 & 1.0 & 0.0 \\\\\n",
       "\t$\\dots$ & $\\dots$ & $\\dots$ \\\\\n",
       "\\end{tabular}\n"
      ],
      "text/plain": [
       "212×2 DataFrame\n",
       "│ Row │ sex     │ locus   │\n",
       "│     │ \u001b[90mFloat64\u001b[39m │ \u001b[90mFloat64\u001b[39m │\n",
       "├─────┼─────────┼─────────┤\n",
       "│ 1   │ -1.0    │ 2.0     │\n",
       "│ 2   │ -1.0    │ 0.0     │\n",
       "│ 3   │ 1.0     │ 2.0     │\n",
       "│ 4   │ 1.0     │ 2.0     │\n",
       "│ 5   │ -1.0    │ 1.0     │\n",
       "│ 6   │ -1.0    │ 1.0     │\n",
       "│ 7   │ 1.0     │ 1.0     │\n",
       "│ 8   │ 1.0     │ 2.0     │\n",
       "│ 9   │ -1.0    │ 1.0     │\n",
       "│ 10  │ 1.0     │ 1.0     │\n",
       "⋮\n",
       "│ 202 │ 1.0     │ 1.0     │\n",
       "│ 203 │ 1.0     │ 2.0     │\n",
       "│ 204 │ -1.0    │ 1.0     │\n",
       "│ 205 │ 1.0     │ 2.0     │\n",
       "│ 206 │ 1.0     │ 1.0     │\n",
       "│ 207 │ 1.0     │ 1.0     │\n",
       "│ 208 │ 1.0     │ 1.0     │\n",
       "│ 209 │ 1.0     │ 1.0     │\n",
       "│ 210 │ 1.0     │ 1.0     │\n",
       "│ 211 │ 1.0     │ 2.0     │\n",
       "│ 212 │ 1.0     │ 0.0     │"
      ]
     },
     "execution_count": 8,
     "metadata": {},
     "output_type": "execute_result"
    }
   ],
   "source": [
    "locus = convert(Vector{Float64}, @view(snpdata[:, ind_rs10412915]))\n",
    "X = DataFrame(sex = sex, locus = locus)"
   ]
  },
  {
   "cell_type": "markdown",
   "metadata": {},
   "source": [
    "## The Variance Covariance Matrix\n",
    "### Single Trait \n",
    "Recall : $E(\\mathbf{GRM}) = \\Phi$ and $\\mathbf{V} = 2\\mathbf{V_a} \\mathbf{\\Phi} + \\mathbf{V_e} \\mathbf{I}$\n",
    "<br>\n",
    "We will use the same values of $\\mathbf{GRM}$, $V_a$, and $V_e$ for the mixed effect example (2) and for the rare variant example (3)."
   ]
  },
  {
   "cell_type": "markdown",
   "metadata": {},
   "source": [
    "We use the SnpArrays.jl package to compute the Genetic Relationship Matrix (GRM)."
   ]
  },
  {
   "cell_type": "code",
   "execution_count": 9,
   "metadata": {},
   "outputs": [],
   "source": [
    "GRM = grm(snpdata, method = :GRM)\n",
    "V_A = [4 1; 1 4]\n",
    "V_E = [2.0 0.0; 0.0 2.0]\n",
    "I_n = Matrix{Float64}(I, size(GRM));"
   ]
  },
  {
   "cell_type": "markdown",
   "metadata": {},
   "source": [
    "### Multiple Correlated Traits\n",
    "\n",
    "The corresponding variance covariance matrix as specified Mendel Option 28e, $\\mathbf{Σ}$, is generated here: To create a trait different variance components change $\\Sigma  = V_a \\otimes (2GRM) + V_e \\otimes I$. We create the variance component object `variancecomp` below, to simulate our traits in example 2b."
   ]
  },
  {
   "cell_type": "code",
   "execution_count": 10,
   "metadata": {},
   "outputs": [],
   "source": [
    "variancecomp = @vc V_A ⊗ GRM + V_E ⊗ I_n;"
   ]
  },
  {
   "cell_type": "markdown",
   "metadata": {},
   "source": [
    "# Example 1 Generalized Linear Model:\n",
    "\n",
    "This example simulates a case where three snps have fixed effects on the trait. Any apparent genetic correlation between relatives for the trait is due to the effect of these snps, so once these effects of these snps are modelled there should be no residual correlation among relatives. Note that by default, individuals with missing genotype values will have missing phenotype values, unless the user specifies the argument `impute = true` in the convert function above.\n",
    "Be sure to change Random.seed!(1234) to something else (or comment out) if you want to generate a new data set. \n",
    "\n",
    "\n",
    "### a) Single IID Non-Normal Trait: <br>\n",
    "We simulate an iid Poisson Trait, location = 5. We use the Identity Link to simulate this Poisson trait.\n",
    "$$\n",
    "Y_{1a} ∼ Poisson(5)\n",
    "$$"
   ]
  },
  {
   "cell_type": "markdown",
   "metadata": {},
   "source": [
    "# A ) 𝑌_1a ∼𝑃𝑜𝑖𝑠𝑠𝑜𝑛(5)\n"
   ]
  },
  {
   "cell_type": "code",
   "execution_count": 11,
   "metadata": {},
   "outputs": [
    {
     "data": {
      "text/html": [
       "<table class=\"data-frame\"><thead><tr><th></th><th>trait1</th></tr><tr><th></th><th>Int64</th></tr></thead><tbody><p>212 rows × 1 columns</p><tr><th>1</th><td>7</td></tr><tr><th>2</th><td>3</td></tr><tr><th>3</th><td>3</td></tr><tr><th>4</th><td>7</td></tr><tr><th>5</th><td>2</td></tr><tr><th>6</th><td>4</td></tr><tr><th>7</th><td>1</td></tr><tr><th>8</th><td>3</td></tr><tr><th>9</th><td>4</td></tr><tr><th>10</th><td>3</td></tr><tr><th>11</th><td>5</td></tr><tr><th>12</th><td>6</td></tr><tr><th>13</th><td>5</td></tr><tr><th>14</th><td>4</td></tr><tr><th>15</th><td>4</td></tr><tr><th>16</th><td>5</td></tr><tr><th>17</th><td>4</td></tr><tr><th>18</th><td>4</td></tr><tr><th>19</th><td>3</td></tr><tr><th>20</th><td>5</td></tr><tr><th>21</th><td>8</td></tr><tr><th>22</th><td>6</td></tr><tr><th>23</th><td>2</td></tr><tr><th>24</th><td>4</td></tr><tr><th>25</th><td>3</td></tr><tr><th>26</th><td>6</td></tr><tr><th>27</th><td>6</td></tr><tr><th>28</th><td>5</td></tr><tr><th>29</th><td>4</td></tr><tr><th>30</th><td>4</td></tr><tr><th>&vellip;</th><td>&vellip;</td></tr></tbody></table>"
      ],
      "text/latex": [
       "\\begin{tabular}{r|c}\n",
       "\t& trait1\\\\\n",
       "\t\\hline\n",
       "\t& Int64\\\\\n",
       "\t\\hline\n",
       "\t1 & 7 \\\\\n",
       "\t2 & 3 \\\\\n",
       "\t3 & 3 \\\\\n",
       "\t4 & 7 \\\\\n",
       "\t5 & 2 \\\\\n",
       "\t6 & 4 \\\\\n",
       "\t7 & 1 \\\\\n",
       "\t8 & 3 \\\\\n",
       "\t9 & 4 \\\\\n",
       "\t10 & 3 \\\\\n",
       "\t11 & 5 \\\\\n",
       "\t12 & 6 \\\\\n",
       "\t13 & 5 \\\\\n",
       "\t14 & 4 \\\\\n",
       "\t15 & 4 \\\\\n",
       "\t16 & 5 \\\\\n",
       "\t17 & 4 \\\\\n",
       "\t18 & 4 \\\\\n",
       "\t19 & 3 \\\\\n",
       "\t20 & 5 \\\\\n",
       "\t21 & 8 \\\\\n",
       "\t22 & 6 \\\\\n",
       "\t23 & 2 \\\\\n",
       "\t24 & 4 \\\\\n",
       "\t25 & 3 \\\\\n",
       "\t26 & 6 \\\\\n",
       "\t27 & 6 \\\\\n",
       "\t28 & 5 \\\\\n",
       "\t29 & 4 \\\\\n",
       "\t30 & 4 \\\\\n",
       "\t$\\dots$ & $\\dots$ \\\\\n",
       "\\end{tabular}\n"
      ],
      "text/plain": [
       "212×1 DataFrame\n",
       "│ Row │ trait1 │\n",
       "│     │ \u001b[90mInt64\u001b[39m  │\n",
       "├─────┼────────┤\n",
       "│ 1   │ 7      │\n",
       "│ 2   │ 3      │\n",
       "│ 3   │ 3      │\n",
       "│ 4   │ 7      │\n",
       "│ 5   │ 2      │\n",
       "│ 6   │ 4      │\n",
       "│ 7   │ 1      │\n",
       "│ 8   │ 3      │\n",
       "│ 9   │ 4      │\n",
       "│ 10  │ 3      │\n",
       "⋮\n",
       "│ 202 │ 5      │\n",
       "│ 203 │ 6      │\n",
       "│ 204 │ 6      │\n",
       "│ 205 │ 2      │\n",
       "│ 206 │ 4      │\n",
       "│ 207 │ 6      │\n",
       "│ 208 │ 7      │\n",
       "│ 209 │ 5      │\n",
       "│ 210 │ 2      │\n",
       "│ 211 │ 4      │\n",
       "│ 212 │ 5      │"
      ]
     },
     "execution_count": 11,
     "metadata": {},
     "output_type": "execute_result"
    }
   ],
   "source": [
    "GLM_trait_model_Poisson5 = GLMTrait(5, X, PoissonResponse(), IdentityLink())\n",
    "Simulated_GLM_trait = simulate(GLM_trait_model_Poisson5)"
   ]
  },
  {
   "cell_type": "markdown",
   "metadata": {},
   "source": [
    "Descriptive Statistics of Poisson(5) Trait"
   ]
  },
  {
   "cell_type": "code",
   "execution_count": 12,
   "metadata": {},
   "outputs": [
    {
     "name": "stdout",
     "output_type": "stream",
     "text": [
      "Summary Stats:\n",
      "Length:         212\n",
      "Missing Count:  0\n",
      "Mean:           5.080189\n",
      "Minimum:        1.000000\n",
      "1st Quartile:   4.000000\n",
      "Median:         5.000000\n",
      "3rd Quartile:   6.000000\n",
      "Maximum:        11.000000\n",
      "Type:           Int64\n"
     ]
    }
   ],
   "source": [
    "describe(Simulated_GLM_trait[:, 1])"
   ]
  },
  {
   "cell_type": "markdown",
   "metadata": {},
   "source": [
    "# Example 1b) Multiple Independent Traits: User specified distributions\n",
    "\n",
    "Here I simulate two independent traits simultaneously, one from a Normal distribution and the other from a Poisson Distribution. Notice a difference from Example 1a, we use the LogLink to simulate the Poisson Trait this time.\n",
    "\n",
    "$$\n",
    "Y_{1b_{1}} ∼ N(\\mu_{1b}, 2), where \\mu_{1b} = 40 + 3(sex) - 1.5(locus)\\\\\n",
    "Y_{1b_{2}} ∼ Poisson(\\mu_{2b}), where \\mu_{2b} = 2 + 2(sex) - 1.5(locus)\\\\\n",
    "$$"
   ]
  },
  {
   "cell_type": "code",
   "execution_count": 13,
   "metadata": {},
   "outputs": [
    {
     "data": {
      "text/html": [
       "<table class=\"data-frame\"><thead><tr><th></th><th>trait1</th><th>trait2</th></tr><tr><th></th><th>Float64</th><th>Int64</th></tr></thead><tbody><p>212 rows × 2 columns</p><tr><th>1</th><td>33.2534</td><td>0</td></tr><tr><th>2</th><td>35.606</td><td>1</td></tr><tr><th>3</th><td>32.8041</td><td>1</td></tr><tr><th>4</th><td>38.9971</td><td>2</td></tr><tr><th>5</th><td>40.3932</td><td>1</td></tr><tr><th>6</th><td>34.869</td><td>0</td></tr><tr><th>7</th><td>39.7272</td><td>6</td></tr><tr><th>8</th><td>32.5276</td><td>2</td></tr><tr><th>9</th><td>37.8167</td><td>0</td></tr><tr><th>10</th><td>41.8518</td><td>15</td></tr><tr><th>11</th><td>36.8358</td><td>0</td></tr><tr><th>12</th><td>45.4824</td><td>56</td></tr><tr><th>13</th><td>32.0659</td><td>0</td></tr><tr><th>14</th><td>32.0846</td><td>0</td></tr><tr><th>15</th><td>35.8635</td><td>0</td></tr><tr><th>16</th><td>42.6285</td><td>17</td></tr><tr><th>17</th><td>35.9894</td><td>0</td></tr><tr><th>18</th><td>39.6885</td><td>4</td></tr><tr><th>19</th><td>33.1624</td><td>0</td></tr><tr><th>20</th><td>41.0375</td><td>18</td></tr><tr><th>21</th><td>39.2948</td><td>0</td></tr><tr><th>22</th><td>38.2773</td><td>3</td></tr><tr><th>23</th><td>39.5809</td><td>3</td></tr><tr><th>24</th><td>45.7949</td><td>18</td></tr><tr><th>25</th><td>38.3316</td><td>0</td></tr><tr><th>26</th><td>39.5656</td><td>4</td></tr><tr><th>27</th><td>40.0036</td><td>0</td></tr><tr><th>28</th><td>41.4751</td><td>0</td></tr><tr><th>29</th><td>42.7579</td><td>14</td></tr><tr><th>30</th><td>34.4933</td><td>51</td></tr><tr><th>&vellip;</th><td>&vellip;</td><td>&vellip;</td></tr></tbody></table>"
      ],
      "text/latex": [
       "\\begin{tabular}{r|cc}\n",
       "\t& trait1 & trait2\\\\\n",
       "\t\\hline\n",
       "\t& Float64 & Int64\\\\\n",
       "\t\\hline\n",
       "\t1 & 33.2534 & 0 \\\\\n",
       "\t2 & 35.606 & 1 \\\\\n",
       "\t3 & 32.8041 & 1 \\\\\n",
       "\t4 & 38.9971 & 2 \\\\\n",
       "\t5 & 40.3932 & 1 \\\\\n",
       "\t6 & 34.869 & 0 \\\\\n",
       "\t7 & 39.7272 & 6 \\\\\n",
       "\t8 & 32.5276 & 2 \\\\\n",
       "\t9 & 37.8167 & 0 \\\\\n",
       "\t10 & 41.8518 & 15 \\\\\n",
       "\t11 & 36.8358 & 0 \\\\\n",
       "\t12 & 45.4824 & 56 \\\\\n",
       "\t13 & 32.0659 & 0 \\\\\n",
       "\t14 & 32.0846 & 0 \\\\\n",
       "\t15 & 35.8635 & 0 \\\\\n",
       "\t16 & 42.6285 & 17 \\\\\n",
       "\t17 & 35.9894 & 0 \\\\\n",
       "\t18 & 39.6885 & 4 \\\\\n",
       "\t19 & 33.1624 & 0 \\\\\n",
       "\t20 & 41.0375 & 18 \\\\\n",
       "\t21 & 39.2948 & 0 \\\\\n",
       "\t22 & 38.2773 & 3 \\\\\n",
       "\t23 & 39.5809 & 3 \\\\\n",
       "\t24 & 45.7949 & 18 \\\\\n",
       "\t25 & 38.3316 & 0 \\\\\n",
       "\t26 & 39.5656 & 4 \\\\\n",
       "\t27 & 40.0036 & 0 \\\\\n",
       "\t28 & 41.4751 & 0 \\\\\n",
       "\t29 & 42.7579 & 14 \\\\\n",
       "\t30 & 34.4933 & 51 \\\\\n",
       "\t$\\dots$ & $\\dots$ & $\\dots$ \\\\\n",
       "\\end{tabular}\n"
      ],
      "text/plain": [
       "212×2 DataFrame\n",
       "│ Row │ trait1  │ trait2 │\n",
       "│     │ \u001b[90mFloat64\u001b[39m │ \u001b[90mInt64\u001b[39m  │\n",
       "├─────┼─────────┼────────┤\n",
       "│ 1   │ 33.2534 │ 0      │\n",
       "│ 2   │ 35.606  │ 1      │\n",
       "│ 3   │ 32.8041 │ 1      │\n",
       "│ 4   │ 38.9971 │ 2      │\n",
       "│ 5   │ 40.3932 │ 1      │\n",
       "│ 6   │ 34.869  │ 0      │\n",
       "│ 7   │ 39.7272 │ 6      │\n",
       "│ 8   │ 32.5276 │ 2      │\n",
       "│ 9   │ 37.8167 │ 0      │\n",
       "│ 10  │ 41.8518 │ 15     │\n",
       "⋮\n",
       "│ 202 │ 38.3189 │ 16     │\n",
       "│ 203 │ 40.6806 │ 0      │\n",
       "│ 204 │ 29.3412 │ 0      │\n",
       "│ 205 │ 36.0276 │ 1      │\n",
       "│ 206 │ 44.7102 │ 13     │\n",
       "│ 207 │ 38.4963 │ 14     │\n",
       "│ 208 │ 44.362  │ 4      │\n",
       "│ 209 │ 46.0604 │ 10     │\n",
       "│ 210 │ 44.2515 │ 17     │\n",
       "│ 211 │ 39.5121 │ 1      │\n",
       "│ 212 │ 45.5775 │ 58     │"
      ]
     },
     "execution_count": 13,
     "metadata": {},
     "output_type": "execute_result"
    }
   ],
   "source": [
    "#for multiple glm traits from different distributions\n",
    "dist_type_vector = [NormalResponse(4), PoissonResponse()]\n",
    "link_type_vector = [IdentityLink(), LogLink()]\n",
    "\n",
    "Ex1b_formulas = [\"40 + 3(sex) - 1.5(locus)\", \"2 + 2(sex) - 1.5(locus)\"]\n",
    "\n",
    "Multiple_GLM_traits_model_NOTIID = Multiple_GLMTraits(Ex1b_formulas, X, dist_type_vector, link_type_vector)\n",
    "Simulated_GLM_trait_NOTIID = simulate(Multiple_GLM_traits_model_NOTIID)"
   ]
  },
  {
   "cell_type": "code",
   "execution_count": 39,
   "metadata": {},
   "outputs": [
    {
     "data": {
      "text/html": [
       "<table class=\"data-frame\"><thead><tr><th></th><th>variable</th><th>mean</th><th>std</th><th>min</th><th>q25</th><th>median</th><th>q75</th><th>max</th><th>eltype</th></tr><tr><th></th><th>Symbol</th><th>Float64</th><th>Float64</th><th>Real</th><th>Float64</th><th>Float64</th><th>Float64</th><th>Real</th><th>DataType</th></tr></thead><tbody><p>2 rows × 9 columns</p><tr><th>1</th><td>trait1</td><td>38.1454</td><td>5.20123</td><td>24.1389</td><td>34.7277</td><td>38.5765</td><td>41.7131</td><td>50.6483</td><td>Float64</td></tr><tr><th>2</th><td>trait2</td><td>6.1934</td><td>11.9836</td><td>0</td><td>0.0</td><td>1.0</td><td>9.0</td><td>63</td><td>Int64</td></tr></tbody></table>"
      ],
      "text/latex": [
       "\\begin{tabular}{r|ccccccccc}\n",
       "\t& variable & mean & std & min & q25 & median & q75 & max & eltype\\\\\n",
       "\t\\hline\n",
       "\t& Symbol & Float64 & Float64 & Real & Float64 & Float64 & Float64 & Real & DataType\\\\\n",
       "\t\\hline\n",
       "\t1 & trait1 & 38.1454 & 5.20123 & 24.1389 & 34.7277 & 38.5765 & 41.7131 & 50.6483 & Float64 \\\\\n",
       "\t2 & trait2 & 6.1934 & 11.9836 & 0 & 0.0 & 1.0 & 9.0 & 63 & Int64 \\\\\n",
       "\\end{tabular}\n"
      ],
      "text/plain": [
       "2×9 DataFrame. Omitted printing of 2 columns\n",
       "│ Row │ variable │ mean    │ std     │ min     │ q25     │ median  │ q75     │\n",
       "│     │ \u001b[90mSymbol\u001b[39m   │ \u001b[90mFloat64\u001b[39m │ \u001b[90mFloat64\u001b[39m │ \u001b[90mReal\u001b[39m    │ \u001b[90mFloat64\u001b[39m │ \u001b[90mFloat64\u001b[39m │ \u001b[90mFloat64\u001b[39m │\n",
       "├─────┼──────────┼─────────┼─────────┼─────────┼─────────┼─────────┼─────────┤\n",
       "│ 1   │ trait1   │ 38.1454 │ 5.20123 │ 24.1389 │ 34.7277 │ 38.5765 │ 41.7131 │\n",
       "│ 2   │ trait2   │ 6.1934  │ 11.9836 │ 0       │ 0.0     │ 1.0     │ 9.0     │"
      ]
     },
     "execution_count": 39,
     "metadata": {},
     "output_type": "execute_result"
    }
   ],
   "source": [
    "describe(Simulated_GLM_trait_NOTIID, stats = [:mean, :std, :min, :q25, :median, :q75, :max, :eltype])"
   ]
  },
  {
   "cell_type": "markdown",
   "metadata": {},
   "source": [
    "# Example 2: Linear Mixed Model (with additive genetic variance component).\n",
    "Note that the residual covariance among two relatives is the additive genetic variance times twice the kinship coefficient.  \n",
    "\n",
    "\n",
    "## (a) Single Trait:\n",
    "We simulate a Normal Trait controlling for family structure, location = $μ_{1a} and scale = 4* 2GRM + 2I$. \n",
    "$$\n",
    "Y_{2a} ∼ N(μ_{1}, 4* 2GRM + 2I)$$"
   ]
  },
  {
   "cell_type": "code",
   "execution_count": 14,
   "metadata": {},
   "outputs": [
    {
     "data": {
      "text/plain": [
       "1-element Array{String,1}:\n",
       " \"40 + 3(sex) - 1.5(locus)\""
      ]
     },
     "execution_count": 14,
     "metadata": {},
     "output_type": "execute_result"
    }
   ],
   "source": [
    "Ex2a_formula = [\"40 + 3(sex) - 1.5(locus)\"]"
   ]
  },
  {
   "cell_type": "code",
   "execution_count": 15,
   "metadata": {},
   "outputs": [
    {
     "data": {
      "text/html": [
       "<table class=\"data-frame\"><thead><tr><th></th><th>trait1</th></tr><tr><th></th><th>Float64</th></tr></thead><tbody><p>212 rows × 1 columns</p><tr><th>1</th><td>31.4138</td></tr><tr><th>2</th><td>35.8122</td></tr><tr><th>3</th><td>36.6426</td></tr><tr><th>4</th><td>39.8293</td></tr><tr><th>5</th><td>36.6758</td></tr><tr><th>6</th><td>33.7105</td></tr><tr><th>7</th><td>39.885</td></tr><tr><th>8</th><td>40.3451</td></tr><tr><th>9</th><td>35.4798</td></tr><tr><th>10</th><td>37.1198</td></tr><tr><th>11</th><td>33.8952</td></tr><tr><th>12</th><td>42.1619</td></tr><tr><th>13</th><td>36.3646</td></tr><tr><th>14</th><td>33.325</td></tr><tr><th>15</th><td>30.9857</td></tr><tr><th>16</th><td>44.3825</td></tr><tr><th>17</th><td>33.324</td></tr><tr><th>18</th><td>40.9419</td></tr><tr><th>19</th><td>34.9702</td></tr><tr><th>20</th><td>40.4055</td></tr><tr><th>21</th><td>35.5394</td></tr><tr><th>22</th><td>37.4033</td></tr><tr><th>23</th><td>36.3081</td></tr><tr><th>24</th><td>44.0873</td></tr><tr><th>25</th><td>32.472</td></tr><tr><th>26</th><td>40.8334</td></tr><tr><th>27</th><td>28.9687</td></tr><tr><th>28</th><td>36.9979</td></tr><tr><th>29</th><td>41.5167</td></tr><tr><th>30</th><td>47.197</td></tr><tr><th>&vellip;</th><td>&vellip;</td></tr></tbody></table>"
      ],
      "text/latex": [
       "\\begin{tabular}{r|c}\n",
       "\t& trait1\\\\\n",
       "\t\\hline\n",
       "\t& Float64\\\\\n",
       "\t\\hline\n",
       "\t1 & 31.4138 \\\\\n",
       "\t2 & 35.8122 \\\\\n",
       "\t3 & 36.6426 \\\\\n",
       "\t4 & 39.8293 \\\\\n",
       "\t5 & 36.6758 \\\\\n",
       "\t6 & 33.7105 \\\\\n",
       "\t7 & 39.885 \\\\\n",
       "\t8 & 40.3451 \\\\\n",
       "\t9 & 35.4798 \\\\\n",
       "\t10 & 37.1198 \\\\\n",
       "\t11 & 33.8952 \\\\\n",
       "\t12 & 42.1619 \\\\\n",
       "\t13 & 36.3646 \\\\\n",
       "\t14 & 33.325 \\\\\n",
       "\t15 & 30.9857 \\\\\n",
       "\t16 & 44.3825 \\\\\n",
       "\t17 & 33.324 \\\\\n",
       "\t18 & 40.9419 \\\\\n",
       "\t19 & 34.9702 \\\\\n",
       "\t20 & 40.4055 \\\\\n",
       "\t21 & 35.5394 \\\\\n",
       "\t22 & 37.4033 \\\\\n",
       "\t23 & 36.3081 \\\\\n",
       "\t24 & 44.0873 \\\\\n",
       "\t25 & 32.472 \\\\\n",
       "\t26 & 40.8334 \\\\\n",
       "\t27 & 28.9687 \\\\\n",
       "\t28 & 36.9979 \\\\\n",
       "\t29 & 41.5167 \\\\\n",
       "\t30 & 47.197 \\\\\n",
       "\t$\\dots$ & $\\dots$ \\\\\n",
       "\\end{tabular}\n"
      ],
      "text/plain": [
       "212×1 DataFrame\n",
       "│ Row │ trait1  │\n",
       "│     │ \u001b[90mFloat64\u001b[39m │\n",
       "├─────┼─────────┤\n",
       "│ 1   │ 31.4138 │\n",
       "│ 2   │ 35.8122 │\n",
       "│ 3   │ 36.6426 │\n",
       "│ 4   │ 39.8293 │\n",
       "│ 5   │ 36.6758 │\n",
       "│ 6   │ 33.7105 │\n",
       "│ 7   │ 39.885  │\n",
       "│ 8   │ 40.3451 │\n",
       "│ 9   │ 35.4798 │\n",
       "│ 10  │ 37.1198 │\n",
       "⋮\n",
       "│ 202 │ 37.4042 │\n",
       "│ 203 │ 38.4982 │\n",
       "│ 204 │ 32.4915 │\n",
       "│ 205 │ 42.8844 │\n",
       "│ 206 │ 42.8051 │\n",
       "│ 207 │ 36.6462 │\n",
       "│ 208 │ 41.7347 │\n",
       "│ 209 │ 41.7135 │\n",
       "│ 210 │ 40.7745 │\n",
       "│ 211 │ 32.8245 │\n",
       "│ 212 │ 43.7153 │"
      ]
     },
     "execution_count": 15,
     "metadata": {},
     "output_type": "execute_result"
    }
   ],
   "source": [
    "Ex2a_model = LMMTrait(Ex2a_formula, X, 4*(2*GRM) + 2*(I_n))\n",
    "trait_2a = simulate(Ex2a_model)"
   ]
  },
  {
   "cell_type": "code",
   "execution_count": 16,
   "metadata": {},
   "outputs": [
    {
     "data": {
      "text/html": [
       "<table class=\"data-frame\"><thead><tr><th></th><th>variable</th><th>mean</th><th>std</th><th>min</th><th>q25</th><th>median</th><th>q75</th><th>max</th><th>eltype</th></tr><tr><th></th><th>Symbol</th><th>Float64</th><th>Float64</th><th>Float64</th><th>Float64</th><th>Float64</th><th>Float64</th><th>Float64</th><th>DataType</th></tr></thead><tbody><p>1 rows × 9 columns</p><tr><th>1</th><td>trait1</td><td>38.0685</td><td>4.12272</td><td>27.4444</td><td>34.7404</td><td>37.9142</td><td>41.1204</td><td>47.197</td><td>Float64</td></tr></tbody></table>"
      ],
      "text/latex": [
       "\\begin{tabular}{r|ccccccccc}\n",
       "\t& variable & mean & std & min & q25 & median & q75 & max & eltype\\\\\n",
       "\t\\hline\n",
       "\t& Symbol & Float64 & Float64 & Float64 & Float64 & Float64 & Float64 & Float64 & DataType\\\\\n",
       "\t\\hline\n",
       "\t1 & trait1 & 38.0685 & 4.12272 & 27.4444 & 34.7404 & 37.9142 & 41.1204 & 47.197 & Float64 \\\\\n",
       "\\end{tabular}\n"
      ],
      "text/plain": [
       "1×9 DataFrame. Omitted printing of 2 columns\n",
       "│ Row │ variable │ mean    │ std     │ min     │ q25     │ median  │ q75     │\n",
       "│     │ \u001b[90mSymbol\u001b[39m   │ \u001b[90mFloat64\u001b[39m │ \u001b[90mFloat64\u001b[39m │ \u001b[90mFloat64\u001b[39m │ \u001b[90mFloat64\u001b[39m │ \u001b[90mFloat64\u001b[39m │ \u001b[90mFloat64\u001b[39m │\n",
       "├─────┼──────────┼─────────┼─────────┼─────────┼─────────┼─────────┼─────────┤\n",
       "│ 1   │ trait1   │ 38.0685 │ 4.12272 │ 27.4444 │ 34.7404 │ 37.9142 │ 41.1204 │"
      ]
     },
     "execution_count": 16,
     "metadata": {},
     "output_type": "execute_result"
    }
   ],
   "source": [
    "describe(trait_2a, stats = [:mean, :std, :min, :q25, :median, :q75, :max, :eltype])"
   ]
  },
  {
   "cell_type": "markdown",
   "metadata": {},
   "source": [
    "## Example 2b) Simulating Two Correlated Traits with Mendel Option 28e paramaters\n",
    "\n",
    "\n",
    "### (b) Multiple Correlated Traits: (Mendel Example 28e Simulation)\n",
    "We simulate two correlated Normal Traits controlling for family structure, location = $μ_{1a}$ and scale = $4* 2GRM + 2I$. \n",
    "$$\n",
    "Y_{2b} ∼ N(μ, \\Sigma) , where \\Sigma  = V_a \\otimes (2GRM) + V_e \\otimes I_n\n",
    "$$\n"
   ]
  },
  {
   "cell_type": "markdown",
   "metadata": {},
   "source": [
    "These are the formulas for the fixed effects, as specified by Mendel Option 28e."
   ]
  },
  {
   "cell_type": "code",
   "execution_count": 17,
   "metadata": {},
   "outputs": [
    {
     "data": {
      "text/plain": [
       "2-element Array{String,1}:\n",
       " \"40 + 3(sex) - 1.5(locus)\"\n",
       " \"20 + 2(sex) - 1.5(locus)\""
      ]
     },
     "execution_count": 17,
     "metadata": {},
     "output_type": "execute_result"
    }
   ],
   "source": [
    "Example2b_formulas = [\"40 + 3(sex) - 1.5(locus)\", \"20 + 2(sex) - 1.5(locus)\"]"
   ]
  },
  {
   "cell_type": "code",
   "execution_count": 18,
   "metadata": {},
   "outputs": [
    {
     "data": {
      "text/html": [
       "<table class=\"data-frame\"><thead><tr><th></th><th>trait1</th><th>trait2</th></tr><tr><th></th><th>Float64</th><th>Float64</th></tr></thead><tbody><p>212 rows × 2 columns</p><tr><th>1</th><td>33.0168</td><td>15.7839</td></tr><tr><th>2</th><td>41.9126</td><td>23.6211</td></tr><tr><th>3</th><td>38.8357</td><td>16.794</td></tr><tr><th>4</th><td>39.2944</td><td>17.6285</td></tr><tr><th>5</th><td>41.0893</td><td>20.9907</td></tr><tr><th>6</th><td>35.9302</td><td>19.2215</td></tr><tr><th>7</th><td>45.7619</td><td>24.5611</td></tr><tr><th>8</th><td>39.3657</td><td>21.864</td></tr><tr><th>9</th><td>38.4263</td><td>16.3262</td></tr><tr><th>10</th><td>44.8287</td><td>20.6457</td></tr><tr><th>11</th><td>39.0155</td><td>22.9064</td></tr><tr><th>12</th><td>45.4798</td><td>23.9656</td></tr><tr><th>13</th><td>39.7997</td><td>18.0201</td></tr><tr><th>14</th><td>30.1119</td><td>18.7001</td></tr><tr><th>15</th><td>33.9653</td><td>18.3682</td></tr><tr><th>16</th><td>43.3639</td><td>17.5587</td></tr><tr><th>17</th><td>34.6556</td><td>14.5154</td></tr><tr><th>18</th><td>39.897</td><td>17.364</td></tr><tr><th>19</th><td>36.4253</td><td>14.2676</td></tr><tr><th>20</th><td>39.8447</td><td>20.2986</td></tr><tr><th>21</th><td>36.1676</td><td>21.2479</td></tr><tr><th>22</th><td>38.2446</td><td>18.4224</td></tr><tr><th>23</th><td>35.4735</td><td>18.8768</td></tr><tr><th>24</th><td>45.7014</td><td>19.8418</td></tr><tr><th>25</th><td>30.2414</td><td>12.0008</td></tr><tr><th>26</th><td>43.7561</td><td>21.5899</td></tr><tr><th>27</th><td>36.4549</td><td>18.0473</td></tr><tr><th>28</th><td>40.2431</td><td>17.9578</td></tr><tr><th>29</th><td>43.7295</td><td>27.3088</td></tr><tr><th>30</th><td>47.6865</td><td>29.2223</td></tr><tr><th>&vellip;</th><td>&vellip;</td><td>&vellip;</td></tr></tbody></table>"
      ],
      "text/latex": [
       "\\begin{tabular}{r|cc}\n",
       "\t& trait1 & trait2\\\\\n",
       "\t\\hline\n",
       "\t& Float64 & Float64\\\\\n",
       "\t\\hline\n",
       "\t1 & 33.0168 & 15.7839 \\\\\n",
       "\t2 & 41.9126 & 23.6211 \\\\\n",
       "\t3 & 38.8357 & 16.794 \\\\\n",
       "\t4 & 39.2944 & 17.6285 \\\\\n",
       "\t5 & 41.0893 & 20.9907 \\\\\n",
       "\t6 & 35.9302 & 19.2215 \\\\\n",
       "\t7 & 45.7619 & 24.5611 \\\\\n",
       "\t8 & 39.3657 & 21.864 \\\\\n",
       "\t9 & 38.4263 & 16.3262 \\\\\n",
       "\t10 & 44.8287 & 20.6457 \\\\\n",
       "\t11 & 39.0155 & 22.9064 \\\\\n",
       "\t12 & 45.4798 & 23.9656 \\\\\n",
       "\t13 & 39.7997 & 18.0201 \\\\\n",
       "\t14 & 30.1119 & 18.7001 \\\\\n",
       "\t15 & 33.9653 & 18.3682 \\\\\n",
       "\t16 & 43.3639 & 17.5587 \\\\\n",
       "\t17 & 34.6556 & 14.5154 \\\\\n",
       "\t18 & 39.897 & 17.364 \\\\\n",
       "\t19 & 36.4253 & 14.2676 \\\\\n",
       "\t20 & 39.8447 & 20.2986 \\\\\n",
       "\t21 & 36.1676 & 21.2479 \\\\\n",
       "\t22 & 38.2446 & 18.4224 \\\\\n",
       "\t23 & 35.4735 & 18.8768 \\\\\n",
       "\t24 & 45.7014 & 19.8418 \\\\\n",
       "\t25 & 30.2414 & 12.0008 \\\\\n",
       "\t26 & 43.7561 & 21.5899 \\\\\n",
       "\t27 & 36.4549 & 18.0473 \\\\\n",
       "\t28 & 40.2431 & 17.9578 \\\\\n",
       "\t29 & 43.7295 & 27.3088 \\\\\n",
       "\t30 & 47.6865 & 29.2223 \\\\\n",
       "\t$\\dots$ & $\\dots$ & $\\dots$ \\\\\n",
       "\\end{tabular}\n"
      ],
      "text/plain": [
       "212×2 DataFrame\n",
       "│ Row │ trait1  │ trait2  │\n",
       "│     │ \u001b[90mFloat64\u001b[39m │ \u001b[90mFloat64\u001b[39m │\n",
       "├─────┼─────────┼─────────┤\n",
       "│ 1   │ 33.0168 │ 15.7839 │\n",
       "│ 2   │ 41.9126 │ 23.6211 │\n",
       "│ 3   │ 38.8357 │ 16.794  │\n",
       "│ 4   │ 39.2944 │ 17.6285 │\n",
       "│ 5   │ 41.0893 │ 20.9907 │\n",
       "│ 6   │ 35.9302 │ 19.2215 │\n",
       "│ 7   │ 45.7619 │ 24.5611 │\n",
       "│ 8   │ 39.3657 │ 21.864  │\n",
       "│ 9   │ 38.4263 │ 16.3262 │\n",
       "│ 10  │ 44.8287 │ 20.6457 │\n",
       "⋮\n",
       "│ 202 │ 36.0423 │ 26.778  │\n",
       "│ 203 │ 42.3619 │ 27.0163 │\n",
       "│ 204 │ 33.6147 │ 23.0388 │\n",
       "│ 205 │ 39.2977 │ 17.9658 │\n",
       "│ 206 │ 45.9045 │ 23.4151 │\n",
       "│ 207 │ 44.7868 │ 25.6603 │\n",
       "│ 208 │ 43.0558 │ 21.0232 │\n",
       "│ 209 │ 41.1698 │ 25.3909 │\n",
       "│ 210 │ 35.7118 │ 20.2    │\n",
       "│ 211 │ 43.1629 │ 22.2278 │\n",
       "│ 212 │ 44.6295 │ 21.5558 │"
      ]
     },
     "execution_count": 18,
     "metadata": {},
     "output_type": "execute_result"
    }
   ],
   "source": [
    "Ex2b_model = LMMTrait(Example2b_formulas, X, variancecomp)\n",
    "trait_2b = simulate(Ex2b_model)"
   ]
  },
  {
   "cell_type": "markdown",
   "metadata": {},
   "source": [
    "### Summary Statistics of Our Simulated Traits"
   ]
  },
  {
   "cell_type": "code",
   "execution_count": 19,
   "metadata": {},
   "outputs": [
    {
     "data": {
      "text/html": [
       "<table class=\"data-frame\"><thead><tr><th></th><th>variable</th><th>mean</th><th>std</th><th>min</th><th>max</th><th>eltype</th></tr><tr><th></th><th>Symbol</th><th>Float64</th><th>Float64</th><th>Float64</th><th>Float64</th><th>DataType</th></tr></thead><tbody><p>2 rows × 6 columns</p><tr><th>1</th><td>trait1</td><td>38.315</td><td>4.48644</td><td>26.0719</td><td>47.6865</td><td>Float64</td></tr><tr><th>2</th><td>trait2</td><td>18.2868</td><td>4.214</td><td>5.85156</td><td>29.2223</td><td>Float64</td></tr></tbody></table>"
      ],
      "text/latex": [
       "\\begin{tabular}{r|cccccc}\n",
       "\t& variable & mean & std & min & max & eltype\\\\\n",
       "\t\\hline\n",
       "\t& Symbol & Float64 & Float64 & Float64 & Float64 & DataType\\\\\n",
       "\t\\hline\n",
       "\t1 & trait1 & 38.315 & 4.48644 & 26.0719 & 47.6865 & Float64 \\\\\n",
       "\t2 & trait2 & 18.2868 & 4.214 & 5.85156 & 29.2223 & Float64 \\\\\n",
       "\\end{tabular}\n"
      ],
      "text/plain": [
       "2×6 DataFrame\n",
       "│ Row │ variable │ mean    │ std     │ min     │ max     │ eltype   │\n",
       "│     │ \u001b[90mSymbol\u001b[39m   │ \u001b[90mFloat64\u001b[39m │ \u001b[90mFloat64\u001b[39m │ \u001b[90mFloat64\u001b[39m │ \u001b[90mFloat64\u001b[39m │ \u001b[90mDataType\u001b[39m │\n",
       "├─────┼──────────┼─────────┼─────────┼─────────┼─────────┼──────────┤\n",
       "│ 1   │ trait1   │ 38.315  │ 4.48644 │ 26.0719 │ 47.6865 │ Float64  │\n",
       "│ 2   │ trait2   │ 18.2868 │ 4.214   │ 5.85156 │ 29.2223 │ Float64  │"
      ]
     },
     "execution_count": 19,
     "metadata": {},
     "output_type": "execute_result"
    }
   ],
   "source": [
    "describe(trait_2b, stats = [:mean, :std, :min, :max, :eltype])"
   ]
  },
  {
   "cell_type": "markdown",
   "metadata": {},
   "source": [
    "### Summary Statistics of the original Mendel 28e dataset Traits:\n",
    "\n",
    "Note we want to see similar values from our simulated traits!"
   ]
  },
  {
   "cell_type": "code",
   "execution_count": 20,
   "metadata": {},
   "outputs": [
    {
     "data": {
      "text/html": [
       "<table class=\"data-frame\"><thead><tr><th></th><th>variable</th><th>mean</th><th>std</th><th>min</th><th>max</th><th>eltype</th></tr><tr><th></th><th>Symbol</th><th>Float64</th><th>Float64</th><th>Float64</th><th>Float64</th><th>DataType</th></tr></thead><tbody><p>2 rows × 6 columns</p><tr><th>1</th><td>Trait1</td><td>37.8602</td><td>4.04887</td><td>29.2403</td><td>47.8619</td><td>Any</td></tr><tr><th>2</th><td>Trait2</td><td>18.472</td><td>3.37633</td><td>9.2421</td><td>27.5554</td><td>Any</td></tr></tbody></table>"
      ],
      "text/latex": [
       "\\begin{tabular}{r|cccccc}\n",
       "\t& variable & mean & std & min & max & eltype\\\\\n",
       "\t\\hline\n",
       "\t& Symbol & Float64 & Float64 & Float64 & Float64 & DataType\\\\\n",
       "\t\\hline\n",
       "\t1 & Trait1 & 37.8602 & 4.04887 & 29.2403 & 47.8619 & Any \\\\\n",
       "\t2 & Trait2 & 18.472 & 3.37633 & 9.2421 & 27.5554 & Any \\\\\n",
       "\\end{tabular}\n"
      ],
      "text/plain": [
       "2×6 DataFrame\n",
       "│ Row │ variable │ mean    │ std     │ min     │ max     │ eltype   │\n",
       "│     │ \u001b[90mSymbol\u001b[39m   │ \u001b[90mFloat64\u001b[39m │ \u001b[90mFloat64\u001b[39m │ \u001b[90mFloat64\u001b[39m │ \u001b[90mFloat64\u001b[39m │ \u001b[90mDataType\u001b[39m │\n",
       "├─────┼──────────┼─────────┼─────────┼─────────┼─────────┼──────────┤\n",
       "│ 1   │ Trait1   │ 37.8602 │ 4.04887 │ 29.2403 │ 47.8619 │ Any      │\n",
       "│ 2   │ Trait2   │ 18.472  │ 3.37633 │ 9.2421  │ 27.5554 │ Any      │"
      ]
     },
     "execution_count": 20,
     "metadata": {},
     "output_type": "execute_result"
    }
   ],
   "source": [
    "describe(traits_original, stats = [:mean, :std, :min, :max, :eltype])"
   ]
  },
  {
   "cell_type": "markdown",
   "metadata": {},
   "source": [
    "# Example 3: 20 Rare SNPs for Simulation\n",
    "\n",
    "\n",
    "## Example 3: Rare Variant Linear Mixed Model with effect sizes as a function of the allele frequencies. \n",
    "\n",
    "In this example we first subset only the rare SNP's with minor allele frequency greater than 0.002 but less than 0.02, then we simulate traits on 20 of the rare SNP's as fixed effects. Here are the 20 SNP's that will be used for trait simulation in this example. \n",
    "\n",
    "For this demo, the indexing `snpid[rare_index][1:2:40]` allows us to subset every other rare snp in the first 40 SNPs, to get our list of 20 rare SNPs. Change the range and number of SNPs to simulate with more or less SNPs and from different regions of the genome. \n",
    "\n",
    "In practice rare SNPs have smaller minor allele frequencies but we are limited in this tutorial by the number of individuals in the data set. We use generated effect sizes to evaluate $\\mu_{rare20}$ <br>\n",
    "\n",
    "### (a) Single Trait: \n",
    "$$\n",
    "Y_{3a} ∼ N(\\mu_{rare20}, 4* 2GRM + 2I)\n",
    "$$"
   ]
  },
  {
   "cell_type": "code",
   "execution_count": 21,
   "metadata": {},
   "outputs": [
    {
     "data": {
      "text/plain": [
       "212×80493 Array{UInt8,2}:\n",
       " 0x03  0x00  0x00  0x00  0x03  0x03  …  0x00  0x00  0x00  0x00  0x00  0x00\n",
       " 0x03  0x00  0x00  0x00  0x03  0x03     0x00  0x00  0x00  0x00  0x00  0x00\n",
       " 0x03  0x00  0x00  0x00  0x03  0x03     0x02  0x02  0x00  0x00  0x00  0x00\n",
       " 0x03  0x00  0x00  0x00  0x03  0x03     0x00  0x00  0x00  0x00  0x00  0x00\n",
       " 0x03  0x00  0x00  0x00  0x03  0x03     0x00  0x00  0x00  0x00  0x00  0x00\n",
       " 0x03  0x00  0x00  0x00  0x03  0x03  …  0x00  0x00  0x00  0x00  0x00  0x00\n",
       " 0x03  0x00  0x00  0x00  0x03  0x03     0x00  0x00  0x00  0x00  0x00  0x00\n",
       " 0x03  0x00  0x00  0x00  0x03  0x03     0x00  0x00  0x00  0x00  0x00  0x00\n",
       " 0x03  0x00  0x00  0x00  0x03  0x03     0x00  0x00  0x00  0x00  0x00  0x00\n",
       " 0x03  0x00  0x00  0x00  0x03  0x03     0x00  0x00  0x00  0x00  0x00  0x00\n",
       " 0x03  0x00  0x00  0x00  0x03  0x03  …  0x00  0x00  0x00  0x00  0x00  0x00\n",
       " 0x03  0x00  0x00  0x00  0x03  0x03     0x00  0x00  0x00  0x00  0x00  0x00\n",
       " 0x03  0x00  0x00  0x00  0x03  0x03     0x00  0x00  0x00  0x00  0x00  0x00\n",
       "    ⋮                             ⋮  ⋱                       ⋮            \n",
       " 0x03  0x00  0x00  0x00  0x03  0x03  …  0x00  0x00  0x00  0x00  0x00  0x00\n",
       " 0x03  0x00  0x00  0x00  0x03  0x03     0x00  0x00  0x00  0x00  0x00  0x00\n",
       " 0x03  0x00  0x00  0x00  0x03  0x03     0x00  0x00  0x00  0x00  0x00  0x00\n",
       " 0x03  0x00  0x00  0x00  0x03  0x03     0x00  0x00  0x00  0x00  0x00  0x00\n",
       " 0x03  0x00  0x00  0x00  0x03  0x03     0x00  0x00  0x00  0x00  0x00  0x00\n",
       " 0x03  0x00  0x00  0x00  0x03  0x03  …  0x00  0x00  0x00  0x00  0x00  0x00\n",
       " 0x03  0x00  0x00  0x00  0x03  0x03     0x00  0x00  0x00  0x00  0x00  0x00\n",
       " 0x03  0x00  0x00  0x00  0x03  0x02     0x00  0x00  0x00  0x00  0x00  0x00\n",
       " 0x03  0x00  0x00  0x00  0x03  0x03     0x00  0x00  0x00  0x00  0x00  0x00\n",
       " 0x03  0x00  0x00  0x00  0x03  0x03     0x00  0x00  0x00  0x00  0x00  0x00\n",
       " 0x03  0x00  0x00  0x00  0x03  0x03  …  0x00  0x00  0x00  0x00  0x00  0x00\n",
       " 0x03  0x00  0x00  0x00  0x03  0x03     0x00  0x00  0x00  0x00  0x00  0x00"
      ]
     },
     "execution_count": 21,
     "metadata": {},
     "output_type": "execute_result"
    }
   ],
   "source": [
    "# filter out rare SNPS, get a subset of uncommon SNPs with 0.002 < MAF ≤ 0.02\n",
    "minor_allele_frequency = maf(snpdata)\n",
    "rare_index = (0.002 .< minor_allele_frequency .≤ 0.02)\n",
    "data_rare = snpdata[:, rare_index]"
   ]
  },
  {
   "cell_type": "code",
   "execution_count": 22,
   "metadata": {},
   "outputs": [
    {
     "data": {
      "text/plain": [
       "20-element Array{Float64,1}:\n",
       " 0.01650943396226412  \n",
       " 0.014150943396226415 \n",
       " 0.009433962264150941 \n",
       " 0.018867924528301886 \n",
       " 0.009433962264150941 \n",
       " 0.004716981132075526 \n",
       " 0.007075471698113208 \n",
       " 0.009433962264150941 \n",
       " 0.007075471698113178 \n",
       " 0.002358490566037763 \n",
       " 0.014150943396226415 \n",
       " 0.0047169811320754715\n",
       " 0.002358490566037763 \n",
       " 0.004716981132075526 \n",
       " 0.018867924528301886 \n",
       " 0.002358490566037763 \n",
       " 0.002358490566037763 \n",
       " 0.0023584905660377358\n",
       " 0.018867924528301886 \n",
       " 0.004716981132075526 "
      ]
     },
     "execution_count": 22,
     "metadata": {},
     "output_type": "execute_result"
    }
   ],
   "source": [
    "maf_20_rare_snps = minor_allele_frequency[rare_index][1:2:40]"
   ]
  },
  {
   "cell_type": "code",
   "execution_count": 23,
   "metadata": {},
   "outputs": [
    {
     "data": {
      "text/plain": [
       "20-element Array{SubString{String},1}:\n",
       " \"rs3020701\"  \n",
       " \"rs181646587\"\n",
       " \"rs182902214\"\n",
       " \"rs184527030\"\n",
       " \"rs10409990\" \n",
       " \"rs185166611\"\n",
       " \"rs181637538\"\n",
       " \"rs186213888\"\n",
       " \"rs184010370\"\n",
       " \"rs11667161\" \n",
       " \"rs188819713\"\n",
       " \"rs182378235\"\n",
       " \"rs146361744\"\n",
       " \"rs190575937\"\n",
       " \"rs149949827\"\n",
       " \"rs117671630\"\n",
       " \"rs149171388\"\n",
       " \"rs188520640\"\n",
       " \"rs142722885\"\n",
       " \"rs146938393\""
      ]
     },
     "execution_count": 23,
     "metadata": {},
     "output_type": "execute_result"
    }
   ],
   "source": [
    "#rare_snps = minor_allele_frequency(0.002 .< maf .≤ 0.02)\n",
    "rare_snps_for_simulation = snpid[rare_index][1:2:40]"
   ]
  },
  {
   "cell_type": "code",
   "execution_count": 24,
   "metadata": {},
   "outputs": [
    {
     "data": {
      "text/html": [
       "<table class=\"data-frame\"><thead><tr><th></th><th>rs3020701</th><th>rs181646587</th><th>rs182902214</th><th>rs184527030</th><th>rs10409990</th><th>rs185166611</th><th>rs181637538</th><th>rs186213888</th><th>rs184010370</th><th>rs11667161</th><th>rs188819713</th><th>rs182378235</th><th>rs146361744</th><th>rs190575937</th><th>rs149949827</th><th>rs117671630</th><th>rs149171388</th><th>rs188520640</th><th>rs142722885</th><th>rs146938393</th></tr><tr><th></th><th>Float64</th><th>Float64</th><th>Float64</th><th>Float64</th><th>Float64</th><th>Float64</th><th>Float64</th><th>Float64</th><th>Float64</th><th>Float64</th><th>Float64</th><th>Float64</th><th>Float64</th><th>Float64</th><th>Float64</th><th>Float64</th><th>Float64</th><th>Float64</th><th>Float64</th><th>Float64</th></tr></thead><tbody><p>212 rows × 20 columns</p><tr><th>1</th><td>3.0</td><td>0.0</td><td>3.0</td><td>0.0</td><td>3.0</td><td>3.0</td><td>0.0</td><td>3.0</td><td>3.0</td><td>3.0</td><td>0.0</td><td>0.0</td><td>3.0</td><td>3.0</td><td>0.0</td><td>3.0</td><td>3.0</td><td>0.0</td><td>0.0</td><td>3.0</td></tr><tr><th>2</th><td>3.0</td><td>0.0</td><td>3.0</td><td>0.0</td><td>3.0</td><td>3.0</td><td>0.0</td><td>3.0</td><td>3.0</td><td>3.0</td><td>0.0</td><td>0.0</td><td>3.0</td><td>3.0</td><td>0.0</td><td>3.0</td><td>3.0</td><td>0.0</td><td>0.0</td><td>3.0</td></tr><tr><th>3</th><td>3.0</td><td>0.0</td><td>3.0</td><td>0.0</td><td>3.0</td><td>3.0</td><td>0.0</td><td>3.0</td><td>3.0</td><td>3.0</td><td>0.0</td><td>0.0</td><td>3.0</td><td>3.0</td><td>0.0</td><td>3.0</td><td>3.0</td><td>0.0</td><td>0.0</td><td>3.0</td></tr><tr><th>4</th><td>3.0</td><td>0.0</td><td>3.0</td><td>0.0</td><td>3.0</td><td>3.0</td><td>0.0</td><td>3.0</td><td>3.0</td><td>3.0</td><td>0.0</td><td>0.0</td><td>3.0</td><td>3.0</td><td>0.0</td><td>3.0</td><td>3.0</td><td>0.0</td><td>0.0</td><td>3.0</td></tr><tr><th>5</th><td>3.0</td><td>0.0</td><td>3.0</td><td>0.0</td><td>3.0</td><td>3.0</td><td>0.0</td><td>3.0</td><td>3.0</td><td>3.0</td><td>0.0</td><td>0.0</td><td>3.0</td><td>3.0</td><td>0.0</td><td>3.0</td><td>3.0</td><td>0.0</td><td>0.0</td><td>3.0</td></tr><tr><th>6</th><td>3.0</td><td>0.0</td><td>3.0</td><td>0.0</td><td>3.0</td><td>3.0</td><td>0.0</td><td>3.0</td><td>3.0</td><td>3.0</td><td>0.0</td><td>0.0</td><td>3.0</td><td>3.0</td><td>0.0</td><td>3.0</td><td>3.0</td><td>0.0</td><td>0.0</td><td>3.0</td></tr><tr><th>7</th><td>3.0</td><td>0.0</td><td>3.0</td><td>0.0</td><td>3.0</td><td>3.0</td><td>0.0</td><td>3.0</td><td>3.0</td><td>3.0</td><td>0.0</td><td>0.0</td><td>3.0</td><td>3.0</td><td>0.0</td><td>3.0</td><td>3.0</td><td>0.0</td><td>0.0</td><td>3.0</td></tr><tr><th>8</th><td>3.0</td><td>0.0</td><td>3.0</td><td>0.0</td><td>3.0</td><td>3.0</td><td>0.0</td><td>3.0</td><td>3.0</td><td>3.0</td><td>0.0</td><td>2.0</td><td>3.0</td><td>3.0</td><td>0.0</td><td>3.0</td><td>3.0</td><td>0.0</td><td>0.0</td><td>3.0</td></tr><tr><th>9</th><td>3.0</td><td>0.0</td><td>3.0</td><td>0.0</td><td>3.0</td><td>3.0</td><td>0.0</td><td>3.0</td><td>3.0</td><td>3.0</td><td>0.0</td><td>0.0</td><td>3.0</td><td>3.0</td><td>0.0</td><td>3.0</td><td>3.0</td><td>0.0</td><td>0.0</td><td>3.0</td></tr><tr><th>10</th><td>3.0</td><td>0.0</td><td>3.0</td><td>0.0</td><td>3.0</td><td>3.0</td><td>0.0</td><td>3.0</td><td>3.0</td><td>3.0</td><td>0.0</td><td>2.0</td><td>3.0</td><td>3.0</td><td>0.0</td><td>3.0</td><td>3.0</td><td>0.0</td><td>0.0</td><td>3.0</td></tr><tr><th>11</th><td>3.0</td><td>0.0</td><td>3.0</td><td>0.0</td><td>3.0</td><td>3.0</td><td>0.0</td><td>3.0</td><td>3.0</td><td>3.0</td><td>0.0</td><td>0.0</td><td>3.0</td><td>3.0</td><td>0.0</td><td>3.0</td><td>3.0</td><td>0.0</td><td>0.0</td><td>3.0</td></tr><tr><th>12</th><td>3.0</td><td>0.0</td><td>3.0</td><td>0.0</td><td>3.0</td><td>3.0</td><td>0.0</td><td>3.0</td><td>3.0</td><td>3.0</td><td>0.0</td><td>0.0</td><td>3.0</td><td>3.0</td><td>0.0</td><td>3.0</td><td>3.0</td><td>0.0</td><td>0.0</td><td>3.0</td></tr><tr><th>13</th><td>3.0</td><td>0.0</td><td>3.0</td><td>0.0</td><td>3.0</td><td>3.0</td><td>0.0</td><td>3.0</td><td>3.0</td><td>3.0</td><td>0.0</td><td>0.0</td><td>3.0</td><td>3.0</td><td>0.0</td><td>3.0</td><td>3.0</td><td>0.0</td><td>0.0</td><td>3.0</td></tr><tr><th>14</th><td>3.0</td><td>0.0</td><td>3.0</td><td>0.0</td><td>3.0</td><td>3.0</td><td>0.0</td><td>3.0</td><td>3.0</td><td>3.0</td><td>0.0</td><td>0.0</td><td>3.0</td><td>3.0</td><td>0.0</td><td>3.0</td><td>3.0</td><td>0.0</td><td>0.0</td><td>3.0</td></tr><tr><th>15</th><td>3.0</td><td>0.0</td><td>3.0</td><td>0.0</td><td>3.0</td><td>3.0</td><td>0.0</td><td>3.0</td><td>3.0</td><td>3.0</td><td>0.0</td><td>0.0</td><td>3.0</td><td>3.0</td><td>0.0</td><td>3.0</td><td>3.0</td><td>0.0</td><td>0.0</td><td>3.0</td></tr><tr><th>16</th><td>3.0</td><td>0.0</td><td>3.0</td><td>0.0</td><td>3.0</td><td>3.0</td><td>0.0</td><td>3.0</td><td>3.0</td><td>3.0</td><td>0.0</td><td>0.0</td><td>3.0</td><td>3.0</td><td>2.0</td><td>3.0</td><td>3.0</td><td>0.0</td><td>0.0</td><td>3.0</td></tr><tr><th>17</th><td>3.0</td><td>0.0</td><td>3.0</td><td>0.0</td><td>3.0</td><td>3.0</td><td>0.0</td><td>3.0</td><td>3.0</td><td>3.0</td><td>0.0</td><td>0.0</td><td>3.0</td><td>3.0</td><td>0.0</td><td>3.0</td><td>3.0</td><td>0.0</td><td>0.0</td><td>3.0</td></tr><tr><th>18</th><td>3.0</td><td>0.0</td><td>3.0</td><td>0.0</td><td>3.0</td><td>3.0</td><td>0.0</td><td>3.0</td><td>3.0</td><td>3.0</td><td>0.0</td><td>0.0</td><td>3.0</td><td>3.0</td><td>0.0</td><td>3.0</td><td>3.0</td><td>0.0</td><td>0.0</td><td>3.0</td></tr><tr><th>19</th><td>3.0</td><td>0.0</td><td>3.0</td><td>0.0</td><td>3.0</td><td>3.0</td><td>0.0</td><td>3.0</td><td>3.0</td><td>3.0</td><td>0.0</td><td>0.0</td><td>3.0</td><td>3.0</td><td>0.0</td><td>3.0</td><td>3.0</td><td>0.0</td><td>0.0</td><td>3.0</td></tr><tr><th>20</th><td>3.0</td><td>0.0</td><td>3.0</td><td>0.0</td><td>3.0</td><td>3.0</td><td>0.0</td><td>3.0</td><td>3.0</td><td>3.0</td><td>0.0</td><td>0.0</td><td>3.0</td><td>3.0</td><td>0.0</td><td>3.0</td><td>3.0</td><td>0.0</td><td>0.0</td><td>3.0</td></tr><tr><th>21</th><td>3.0</td><td>0.0</td><td>3.0</td><td>0.0</td><td>3.0</td><td>3.0</td><td>0.0</td><td>3.0</td><td>3.0</td><td>3.0</td><td>0.0</td><td>0.0</td><td>3.0</td><td>3.0</td><td>0.0</td><td>3.0</td><td>3.0</td><td>0.0</td><td>0.0</td><td>3.0</td></tr><tr><th>22</th><td>3.0</td><td>0.0</td><td>3.0</td><td>0.0</td><td>3.0</td><td>3.0</td><td>0.0</td><td>3.0</td><td>3.0</td><td>3.0</td><td>0.0</td><td>0.0</td><td>3.0</td><td>3.0</td><td>2.0</td><td>3.0</td><td>3.0</td><td>0.0</td><td>0.0</td><td>3.0</td></tr><tr><th>23</th><td>3.0</td><td>0.0</td><td>3.0</td><td>0.0</td><td>3.0</td><td>3.0</td><td>0.0</td><td>3.0</td><td>3.0</td><td>3.0</td><td>0.0</td><td>0.0</td><td>3.0</td><td>3.0</td><td>2.0</td><td>3.0</td><td>3.0</td><td>0.0</td><td>0.0</td><td>3.0</td></tr><tr><th>24</th><td>3.0</td><td>0.0</td><td>3.0</td><td>0.0</td><td>3.0</td><td>3.0</td><td>0.0</td><td>3.0</td><td>3.0</td><td>3.0</td><td>0.0</td><td>0.0</td><td>3.0</td><td>3.0</td><td>2.0</td><td>3.0</td><td>3.0</td><td>0.0</td><td>0.0</td><td>3.0</td></tr><tr><th>25</th><td>3.0</td><td>0.0</td><td>3.0</td><td>0.0</td><td>3.0</td><td>3.0</td><td>0.0</td><td>3.0</td><td>3.0</td><td>3.0</td><td>0.0</td><td>0.0</td><td>3.0</td><td>3.0</td><td>0.0</td><td>3.0</td><td>3.0</td><td>0.0</td><td>0.0</td><td>3.0</td></tr><tr><th>26</th><td>3.0</td><td>0.0</td><td>3.0</td><td>2.0</td><td>3.0</td><td>3.0</td><td>0.0</td><td>3.0</td><td>3.0</td><td>3.0</td><td>0.0</td><td>0.0</td><td>3.0</td><td>3.0</td><td>0.0</td><td>3.0</td><td>3.0</td><td>0.0</td><td>0.0</td><td>3.0</td></tr><tr><th>27</th><td>3.0</td><td>0.0</td><td>3.0</td><td>2.0</td><td>3.0</td><td>3.0</td><td>0.0</td><td>3.0</td><td>3.0</td><td>3.0</td><td>0.0</td><td>0.0</td><td>3.0</td><td>3.0</td><td>0.0</td><td>3.0</td><td>3.0</td><td>0.0</td><td>0.0</td><td>3.0</td></tr><tr><th>28</th><td>3.0</td><td>0.0</td><td>3.0</td><td>0.0</td><td>3.0</td><td>3.0</td><td>0.0</td><td>3.0</td><td>3.0</td><td>3.0</td><td>0.0</td><td>0.0</td><td>3.0</td><td>3.0</td><td>0.0</td><td>3.0</td><td>3.0</td><td>0.0</td><td>0.0</td><td>3.0</td></tr><tr><th>29</th><td>3.0</td><td>0.0</td><td>3.0</td><td>0.0</td><td>3.0</td><td>3.0</td><td>2.0</td><td>3.0</td><td>3.0</td><td>3.0</td><td>0.0</td><td>0.0</td><td>3.0</td><td>3.0</td><td>0.0</td><td>3.0</td><td>3.0</td><td>0.0</td><td>0.0</td><td>3.0</td></tr><tr><th>30</th><td>3.0</td><td>0.0</td><td>3.0</td><td>0.0</td><td>3.0</td><td>3.0</td><td>0.0</td><td>3.0</td><td>3.0</td><td>3.0</td><td>0.0</td><td>0.0</td><td>3.0</td><td>3.0</td><td>0.0</td><td>3.0</td><td>3.0</td><td>0.0</td><td>0.0</td><td>3.0</td></tr><tr><th>&vellip;</th><td>&vellip;</td><td>&vellip;</td><td>&vellip;</td><td>&vellip;</td><td>&vellip;</td><td>&vellip;</td><td>&vellip;</td><td>&vellip;</td><td>&vellip;</td><td>&vellip;</td><td>&vellip;</td><td>&vellip;</td><td>&vellip;</td><td>&vellip;</td><td>&vellip;</td><td>&vellip;</td><td>&vellip;</td><td>&vellip;</td><td>&vellip;</td><td>&vellip;</td></tr></tbody></table>"
      ],
      "text/latex": [
       "\\begin{tabular}{r|cccccccccccccccccccc}\n",
       "\t& rs3020701 & rs181646587 & rs182902214 & rs184527030 & rs10409990 & rs185166611 & rs181637538 & rs186213888 & rs184010370 & rs11667161 & rs188819713 & rs182378235 & rs146361744 & rs190575937 & rs149949827 & rs117671630 & rs149171388 & rs188520640 & rs142722885 & rs146938393\\\\\n",
       "\t\\hline\n",
       "\t& Float64 & Float64 & Float64 & Float64 & Float64 & Float64 & Float64 & Float64 & Float64 & Float64 & Float64 & Float64 & Float64 & Float64 & Float64 & Float64 & Float64 & Float64 & Float64 & Float64\\\\\n",
       "\t\\hline\n",
       "\t1 & 3.0 & 0.0 & 3.0 & 0.0 & 3.0 & 3.0 & 0.0 & 3.0 & 3.0 & 3.0 & 0.0 & 0.0 & 3.0 & 3.0 & 0.0 & 3.0 & 3.0 & 0.0 & 0.0 & 3.0 \\\\\n",
       "\t2 & 3.0 & 0.0 & 3.0 & 0.0 & 3.0 & 3.0 & 0.0 & 3.0 & 3.0 & 3.0 & 0.0 & 0.0 & 3.0 & 3.0 & 0.0 & 3.0 & 3.0 & 0.0 & 0.0 & 3.0 \\\\\n",
       "\t3 & 3.0 & 0.0 & 3.0 & 0.0 & 3.0 & 3.0 & 0.0 & 3.0 & 3.0 & 3.0 & 0.0 & 0.0 & 3.0 & 3.0 & 0.0 & 3.0 & 3.0 & 0.0 & 0.0 & 3.0 \\\\\n",
       "\t4 & 3.0 & 0.0 & 3.0 & 0.0 & 3.0 & 3.0 & 0.0 & 3.0 & 3.0 & 3.0 & 0.0 & 0.0 & 3.0 & 3.0 & 0.0 & 3.0 & 3.0 & 0.0 & 0.0 & 3.0 \\\\\n",
       "\t5 & 3.0 & 0.0 & 3.0 & 0.0 & 3.0 & 3.0 & 0.0 & 3.0 & 3.0 & 3.0 & 0.0 & 0.0 & 3.0 & 3.0 & 0.0 & 3.0 & 3.0 & 0.0 & 0.0 & 3.0 \\\\\n",
       "\t6 & 3.0 & 0.0 & 3.0 & 0.0 & 3.0 & 3.0 & 0.0 & 3.0 & 3.0 & 3.0 & 0.0 & 0.0 & 3.0 & 3.0 & 0.0 & 3.0 & 3.0 & 0.0 & 0.0 & 3.0 \\\\\n",
       "\t7 & 3.0 & 0.0 & 3.0 & 0.0 & 3.0 & 3.0 & 0.0 & 3.0 & 3.0 & 3.0 & 0.0 & 0.0 & 3.0 & 3.0 & 0.0 & 3.0 & 3.0 & 0.0 & 0.0 & 3.0 \\\\\n",
       "\t8 & 3.0 & 0.0 & 3.0 & 0.0 & 3.0 & 3.0 & 0.0 & 3.0 & 3.0 & 3.0 & 0.0 & 2.0 & 3.0 & 3.0 & 0.0 & 3.0 & 3.0 & 0.0 & 0.0 & 3.0 \\\\\n",
       "\t9 & 3.0 & 0.0 & 3.0 & 0.0 & 3.0 & 3.0 & 0.0 & 3.0 & 3.0 & 3.0 & 0.0 & 0.0 & 3.0 & 3.0 & 0.0 & 3.0 & 3.0 & 0.0 & 0.0 & 3.0 \\\\\n",
       "\t10 & 3.0 & 0.0 & 3.0 & 0.0 & 3.0 & 3.0 & 0.0 & 3.0 & 3.0 & 3.0 & 0.0 & 2.0 & 3.0 & 3.0 & 0.0 & 3.0 & 3.0 & 0.0 & 0.0 & 3.0 \\\\\n",
       "\t11 & 3.0 & 0.0 & 3.0 & 0.0 & 3.0 & 3.0 & 0.0 & 3.0 & 3.0 & 3.0 & 0.0 & 0.0 & 3.0 & 3.0 & 0.0 & 3.0 & 3.0 & 0.0 & 0.0 & 3.0 \\\\\n",
       "\t12 & 3.0 & 0.0 & 3.0 & 0.0 & 3.0 & 3.0 & 0.0 & 3.0 & 3.0 & 3.0 & 0.0 & 0.0 & 3.0 & 3.0 & 0.0 & 3.0 & 3.0 & 0.0 & 0.0 & 3.0 \\\\\n",
       "\t13 & 3.0 & 0.0 & 3.0 & 0.0 & 3.0 & 3.0 & 0.0 & 3.0 & 3.0 & 3.0 & 0.0 & 0.0 & 3.0 & 3.0 & 0.0 & 3.0 & 3.0 & 0.0 & 0.0 & 3.0 \\\\\n",
       "\t14 & 3.0 & 0.0 & 3.0 & 0.0 & 3.0 & 3.0 & 0.0 & 3.0 & 3.0 & 3.0 & 0.0 & 0.0 & 3.0 & 3.0 & 0.0 & 3.0 & 3.0 & 0.0 & 0.0 & 3.0 \\\\\n",
       "\t15 & 3.0 & 0.0 & 3.0 & 0.0 & 3.0 & 3.0 & 0.0 & 3.0 & 3.0 & 3.0 & 0.0 & 0.0 & 3.0 & 3.0 & 0.0 & 3.0 & 3.0 & 0.0 & 0.0 & 3.0 \\\\\n",
       "\t16 & 3.0 & 0.0 & 3.0 & 0.0 & 3.0 & 3.0 & 0.0 & 3.0 & 3.0 & 3.0 & 0.0 & 0.0 & 3.0 & 3.0 & 2.0 & 3.0 & 3.0 & 0.0 & 0.0 & 3.0 \\\\\n",
       "\t17 & 3.0 & 0.0 & 3.0 & 0.0 & 3.0 & 3.0 & 0.0 & 3.0 & 3.0 & 3.0 & 0.0 & 0.0 & 3.0 & 3.0 & 0.0 & 3.0 & 3.0 & 0.0 & 0.0 & 3.0 \\\\\n",
       "\t18 & 3.0 & 0.0 & 3.0 & 0.0 & 3.0 & 3.0 & 0.0 & 3.0 & 3.0 & 3.0 & 0.0 & 0.0 & 3.0 & 3.0 & 0.0 & 3.0 & 3.0 & 0.0 & 0.0 & 3.0 \\\\\n",
       "\t19 & 3.0 & 0.0 & 3.0 & 0.0 & 3.0 & 3.0 & 0.0 & 3.0 & 3.0 & 3.0 & 0.0 & 0.0 & 3.0 & 3.0 & 0.0 & 3.0 & 3.0 & 0.0 & 0.0 & 3.0 \\\\\n",
       "\t20 & 3.0 & 0.0 & 3.0 & 0.0 & 3.0 & 3.0 & 0.0 & 3.0 & 3.0 & 3.0 & 0.0 & 0.0 & 3.0 & 3.0 & 0.0 & 3.0 & 3.0 & 0.0 & 0.0 & 3.0 \\\\\n",
       "\t21 & 3.0 & 0.0 & 3.0 & 0.0 & 3.0 & 3.0 & 0.0 & 3.0 & 3.0 & 3.0 & 0.0 & 0.0 & 3.0 & 3.0 & 0.0 & 3.0 & 3.0 & 0.0 & 0.0 & 3.0 \\\\\n",
       "\t22 & 3.0 & 0.0 & 3.0 & 0.0 & 3.0 & 3.0 & 0.0 & 3.0 & 3.0 & 3.0 & 0.0 & 0.0 & 3.0 & 3.0 & 2.0 & 3.0 & 3.0 & 0.0 & 0.0 & 3.0 \\\\\n",
       "\t23 & 3.0 & 0.0 & 3.0 & 0.0 & 3.0 & 3.0 & 0.0 & 3.0 & 3.0 & 3.0 & 0.0 & 0.0 & 3.0 & 3.0 & 2.0 & 3.0 & 3.0 & 0.0 & 0.0 & 3.0 \\\\\n",
       "\t24 & 3.0 & 0.0 & 3.0 & 0.0 & 3.0 & 3.0 & 0.0 & 3.0 & 3.0 & 3.0 & 0.0 & 0.0 & 3.0 & 3.0 & 2.0 & 3.0 & 3.0 & 0.0 & 0.0 & 3.0 \\\\\n",
       "\t25 & 3.0 & 0.0 & 3.0 & 0.0 & 3.0 & 3.0 & 0.0 & 3.0 & 3.0 & 3.0 & 0.0 & 0.0 & 3.0 & 3.0 & 0.0 & 3.0 & 3.0 & 0.0 & 0.0 & 3.0 \\\\\n",
       "\t26 & 3.0 & 0.0 & 3.0 & 2.0 & 3.0 & 3.0 & 0.0 & 3.0 & 3.0 & 3.0 & 0.0 & 0.0 & 3.0 & 3.0 & 0.0 & 3.0 & 3.0 & 0.0 & 0.0 & 3.0 \\\\\n",
       "\t27 & 3.0 & 0.0 & 3.0 & 2.0 & 3.0 & 3.0 & 0.0 & 3.0 & 3.0 & 3.0 & 0.0 & 0.0 & 3.0 & 3.0 & 0.0 & 3.0 & 3.0 & 0.0 & 0.0 & 3.0 \\\\\n",
       "\t28 & 3.0 & 0.0 & 3.0 & 0.0 & 3.0 & 3.0 & 0.0 & 3.0 & 3.0 & 3.0 & 0.0 & 0.0 & 3.0 & 3.0 & 0.0 & 3.0 & 3.0 & 0.0 & 0.0 & 3.0 \\\\\n",
       "\t29 & 3.0 & 0.0 & 3.0 & 0.0 & 3.0 & 3.0 & 2.0 & 3.0 & 3.0 & 3.0 & 0.0 & 0.0 & 3.0 & 3.0 & 0.0 & 3.0 & 3.0 & 0.0 & 0.0 & 3.0 \\\\\n",
       "\t30 & 3.0 & 0.0 & 3.0 & 0.0 & 3.0 & 3.0 & 0.0 & 3.0 & 3.0 & 3.0 & 0.0 & 0.0 & 3.0 & 3.0 & 0.0 & 3.0 & 3.0 & 0.0 & 0.0 & 3.0 \\\\\n",
       "\t$\\dots$ & $\\dots$ & $\\dots$ & $\\dots$ & $\\dots$ & $\\dots$ & $\\dots$ & $\\dots$ & $\\dots$ & $\\dots$ & $\\dots$ & $\\dots$ & $\\dots$ & $\\dots$ & $\\dots$ & $\\dots$ & $\\dots$ & $\\dots$ & $\\dots$ & $\\dots$ & $\\dots$ \\\\\n",
       "\\end{tabular}\n"
      ],
      "text/plain": [
       "212×20 DataFrame. Omitted printing of 15 columns\n",
       "│ Row │ rs3020701 │ rs181646587 │ rs182902214 │ rs184527030 │ rs10409990 │\n",
       "│     │ \u001b[90mFloat64\u001b[39m   │ \u001b[90mFloat64\u001b[39m     │ \u001b[90mFloat64\u001b[39m     │ \u001b[90mFloat64\u001b[39m     │ \u001b[90mFloat64\u001b[39m    │\n",
       "├─────┼───────────┼─────────────┼─────────────┼─────────────┼────────────┤\n",
       "│ 1   │ 3.0       │ 0.0         │ 3.0         │ 0.0         │ 3.0        │\n",
       "│ 2   │ 3.0       │ 0.0         │ 3.0         │ 0.0         │ 3.0        │\n",
       "│ 3   │ 3.0       │ 0.0         │ 3.0         │ 0.0         │ 3.0        │\n",
       "│ 4   │ 3.0       │ 0.0         │ 3.0         │ 0.0         │ 3.0        │\n",
       "│ 5   │ 3.0       │ 0.0         │ 3.0         │ 0.0         │ 3.0        │\n",
       "│ 6   │ 3.0       │ 0.0         │ 3.0         │ 0.0         │ 3.0        │\n",
       "│ 7   │ 3.0       │ 0.0         │ 3.0         │ 0.0         │ 3.0        │\n",
       "│ 8   │ 3.0       │ 0.0         │ 3.0         │ 0.0         │ 3.0        │\n",
       "│ 9   │ 3.0       │ 0.0         │ 3.0         │ 0.0         │ 3.0        │\n",
       "│ 10  │ 3.0       │ 0.0         │ 3.0         │ 0.0         │ 3.0        │\n",
       "⋮\n",
       "│ 202 │ 3.0       │ 0.0         │ 3.0         │ 0.0         │ 3.0        │\n",
       "│ 203 │ 3.0       │ 0.0         │ 3.0         │ 0.0         │ 3.0        │\n",
       "│ 204 │ 3.0       │ 0.0         │ 3.0         │ 0.0         │ 3.0        │\n",
       "│ 205 │ 3.0       │ 0.0         │ 3.0         │ 0.0         │ 3.0        │\n",
       "│ 206 │ 3.0       │ 0.0         │ 3.0         │ 0.0         │ 3.0        │\n",
       "│ 207 │ 3.0       │ 0.0         │ 3.0         │ 0.0         │ 3.0        │\n",
       "│ 208 │ 3.0       │ 0.0         │ 3.0         │ 0.0         │ 3.0        │\n",
       "│ 209 │ 3.0       │ 0.0         │ 3.0         │ 0.0         │ 3.0        │\n",
       "│ 210 │ 3.0       │ 0.0         │ 3.0         │ 0.0         │ 3.0        │\n",
       "│ 211 │ 3.0       │ 0.0         │ 3.0         │ 0.0         │ 3.0        │\n",
       "│ 212 │ 3.0       │ 0.0         │ 3.0         │ 0.0         │ 3.0        │"
      ]
     },
     "execution_count": 24,
     "metadata": {},
     "output_type": "execute_result"
    }
   ],
   "source": [
    "geno_rare20_converted = convert(DataFrame, convert(Matrix{Float64}, @view(data_rare[:, 1:2:40])))\n",
    "names!(geno_rare20_converted, Symbol.(rare_snps_for_simulation))"
   ]
  },
  {
   "cell_type": "markdown",
   "metadata": {},
   "source": [
    "## Generating Effect Sizes Based on MAF\n",
    "\n",
    "For demonstration purposes, we simulate effect sizes from the Chi-squared(df = 1) distribution, where we use the minor allele frequency (maf) as x and find f(x) where f is the pdf for the Chi-squared (df = 1) density, so that the rarest SNP's have the biggest effect sizes. The effect sizes are rounded to the second digit, throughout this example. Notice there is a random +1 or -1, so that there are effects that both increase and decrease the simulated trait value.\n",
    "\n",
    "In addition to the Chi-Squared distribution, we also demo how to simulate from the Exponential distribution, where we use the minor allele frequency (maf) as x and find f(x) where f is the pdf for the Exponential density. "
   ]
  },
  {
   "cell_type": "markdown",
   "metadata": {},
   "source": [
    "## Chisquared(df = 1)"
   ]
  },
  {
   "cell_type": "code",
   "execution_count": 25,
   "metadata": {},
   "outputs": [],
   "source": [
    "# Generating Effect Sizes from Chisquared(df = 1) density\n",
    "using StatsFuns\n",
    "n = length(maf_20_rare_snps)\n",
    "chisq_coeff = zeros(n)\n",
    "\n",
    "for i in 1:n\n",
    "    chisq_coeff[i] = sign(rand() - .5) * chisqpdf(1, maf_20_rare_snps[i])/5.0\n",
    "end"
   ]
  },
  {
   "cell_type": "markdown",
   "metadata": {},
   "source": [
    "Take a look at the simulated coefficients on the left, next to the corresponding minor allele frequency. Notice how the more rare SNP's have the largest effect sizes."
   ]
  },
  {
   "cell_type": "code",
   "execution_count": 26,
   "metadata": {},
   "outputs": [
    {
     "data": {
      "text/html": [
       "<table class=\"data-frame\"><thead><tr><th></th><th>Chisq_Coefficient</th><th>MAF_rare</th></tr><tr><th></th><th>Float64</th><th>Float64</th></tr></thead><tbody><p>20 rows × 2 columns</p><tr><th>1</th><td>0.616</td><td>0.017</td></tr><tr><th>2</th><td>-0.666</td><td>0.014</td></tr><tr><th>3</th><td>0.818</td><td>0.009</td></tr><tr><th>4</th><td>-0.575</td><td>0.019</td></tr><tr><th>5</th><td>0.818</td><td>0.009</td></tr><tr><th>6</th><td>1.159</td><td>0.005</td></tr><tr><th>7</th><td>-0.945</td><td>0.007</td></tr><tr><th>8</th><td>-0.818</td><td>0.009</td></tr><tr><th>9</th><td>0.945</td><td>0.007</td></tr><tr><th>10</th><td>-1.641</td><td>0.002</td></tr><tr><th>11</th><td>0.666</td><td>0.014</td></tr><tr><th>12</th><td>-1.159</td><td>0.005</td></tr><tr><th>13</th><td>1.641</td><td>0.002</td></tr><tr><th>14</th><td>-1.159</td><td>0.005</td></tr><tr><th>15</th><td>-0.575</td><td>0.019</td></tr><tr><th>16</th><td>1.641</td><td>0.002</td></tr><tr><th>17</th><td>-1.641</td><td>0.002</td></tr><tr><th>18</th><td>1.641</td><td>0.002</td></tr><tr><th>19</th><td>0.575</td><td>0.019</td></tr><tr><th>20</th><td>-1.159</td><td>0.005</td></tr></tbody></table>"
      ],
      "text/latex": [
       "\\begin{tabular}{r|cc}\n",
       "\t& Chisq\\_Coefficient & MAF\\_rare\\\\\n",
       "\t\\hline\n",
       "\t& Float64 & Float64\\\\\n",
       "\t\\hline\n",
       "\t1 & 0.616 & 0.017 \\\\\n",
       "\t2 & -0.666 & 0.014 \\\\\n",
       "\t3 & 0.818 & 0.009 \\\\\n",
       "\t4 & -0.575 & 0.019 \\\\\n",
       "\t5 & 0.818 & 0.009 \\\\\n",
       "\t6 & 1.159 & 0.005 \\\\\n",
       "\t7 & -0.945 & 0.007 \\\\\n",
       "\t8 & -0.818 & 0.009 \\\\\n",
       "\t9 & 0.945 & 0.007 \\\\\n",
       "\t10 & -1.641 & 0.002 \\\\\n",
       "\t11 & 0.666 & 0.014 \\\\\n",
       "\t12 & -1.159 & 0.005 \\\\\n",
       "\t13 & 1.641 & 0.002 \\\\\n",
       "\t14 & -1.159 & 0.005 \\\\\n",
       "\t15 & -0.575 & 0.019 \\\\\n",
       "\t16 & 1.641 & 0.002 \\\\\n",
       "\t17 & -1.641 & 0.002 \\\\\n",
       "\t18 & 1.641 & 0.002 \\\\\n",
       "\t19 & 0.575 & 0.019 \\\\\n",
       "\t20 & -1.159 & 0.005 \\\\\n",
       "\\end{tabular}\n"
      ],
      "text/plain": [
       "20×2 DataFrame\n",
       "│ Row │ Chisq_Coefficient │ MAF_rare │\n",
       "│     │ \u001b[90mFloat64\u001b[39m           │ \u001b[90mFloat64\u001b[39m  │\n",
       "├─────┼───────────────────┼──────────┤\n",
       "│ 1   │ 0.616             │ 0.017    │\n",
       "│ 2   │ -0.666            │ 0.014    │\n",
       "│ 3   │ 0.818             │ 0.009    │\n",
       "│ 4   │ -0.575            │ 0.019    │\n",
       "│ 5   │ 0.818             │ 0.009    │\n",
       "│ 6   │ 1.159             │ 0.005    │\n",
       "│ 7   │ -0.945            │ 0.007    │\n",
       "│ 8   │ -0.818            │ 0.009    │\n",
       "│ 9   │ 0.945             │ 0.007    │\n",
       "│ 10  │ -1.641            │ 0.002    │\n",
       "│ 11  │ 0.666             │ 0.014    │\n",
       "│ 12  │ -1.159            │ 0.005    │\n",
       "│ 13  │ 1.641             │ 0.002    │\n",
       "│ 14  │ -1.159            │ 0.005    │\n",
       "│ 15  │ -0.575            │ 0.019    │\n",
       "│ 16  │ 1.641             │ 0.002    │\n",
       "│ 17  │ -1.641            │ 0.002    │\n",
       "│ 18  │ 1.641             │ 0.002    │\n",
       "│ 19  │ 0.575             │ 0.019    │\n",
       "│ 20  │ -1.159            │ 0.005    │"
      ]
     },
     "execution_count": 26,
     "metadata": {},
     "output_type": "execute_result"
    }
   ],
   "source": [
    "Ex3_rare = round.([chisq_coeff maf_20_rare_snps], digits = 3)\n",
    "Ex3_rare = DataFrame(Chisq_Coefficient = Ex3_rare[:, 1] , MAF_rare = Ex3_rare[:, 2] )"
   ]
  },
  {
   "cell_type": "code",
   "execution_count": 27,
   "metadata": {},
   "outputs": [
    {
     "data": {
      "text/plain": [
       "20-element Array{Float64,1}:\n",
       "  0.616\n",
       " -0.666\n",
       "  0.818\n",
       " -0.575\n",
       "  0.818\n",
       "  1.159\n",
       " -0.945\n",
       " -0.818\n",
       "  0.945\n",
       " -1.641\n",
       "  0.666\n",
       " -1.159\n",
       "  1.641\n",
       " -1.159\n",
       " -0.575\n",
       "  1.641\n",
       " -1.641\n",
       "  1.641\n",
       "  0.575\n",
       " -1.159"
      ]
     },
     "execution_count": 27,
     "metadata": {},
     "output_type": "execute_result"
    }
   ],
   "source": [
    "simulated_effectsizes_chisq = Ex3_rare[:, 1]"
   ]
  },
  {
   "cell_type": "markdown",
   "metadata": {},
   "source": [
    "### Simulating effect sizes from the Exponential distribution, where we use the maf as x and find f(x) where f is the pdf for the Exponential density"
   ]
  },
  {
   "cell_type": "code",
   "execution_count": 28,
   "metadata": {},
   "outputs": [
    {
     "data": {
      "text/plain": [
       "20-element Array{Float64,1}:\n",
       " 0.221\n",
       " 0.354\n",
       " 0.909\n",
       " 0.138\n",
       " 0.909\n",
       " 2.336\n",
       " 1.457\n",
       " 0.909\n",
       " 1.457\n",
       " 3.744\n",
       " 0.354\n",
       " 2.336\n",
       " 3.744\n",
       " 2.336\n",
       " 0.138\n",
       " 3.744\n",
       " 3.744\n",
       " 3.744\n",
       " 0.138\n",
       " 2.336"
      ]
     },
     "execution_count": 28,
     "metadata": {},
     "output_type": "execute_result"
    }
   ],
   "source": [
    "simulated_effectsizes_exp = round.(6*exp.(-200*maf_20_rare_snps), digits = 3)"
   ]
  },
  {
   "cell_type": "markdown",
   "metadata": {},
   "source": [
    "## Function for Mean Model Expression\n",
    "\n",
    "In some cases a large number of variants may be used for simulation. Thus, in this example we create a function where the user inputs a vector of coefficients and a vector of variants for simulation, then the function outputs the mean model expression. \n",
    "\n",
    "The function `FixedEffectTerms`, creates the proper evaluated expression for the simulation process, using the specified vectors of coefficients and snp names. The function outputs `evaluated_fixed_expression` which will be used to estimate the mean effect, `μ` in our mixed effects model. We make use of this function in this example, instead of having to write out all 20 of the coefficients and variant locus names."
   ]
  },
  {
   "cell_type": "code",
   "execution_count": 29,
   "metadata": {},
   "outputs": [
    {
     "data": {
      "text/plain": [
       "20-element Array{SubString{String},1}:\n",
       " \"rs3020701\"  \n",
       " \"rs181646587\"\n",
       " \"rs182902214\"\n",
       " \"rs184527030\"\n",
       " \"rs10409990\" \n",
       " \"rs185166611\"\n",
       " \"rs181637538\"\n",
       " \"rs186213888\"\n",
       " \"rs184010370\"\n",
       " \"rs11667161\" \n",
       " \"rs188819713\"\n",
       " \"rs182378235\"\n",
       " \"rs146361744\"\n",
       " \"rs190575937\"\n",
       " \"rs149949827\"\n",
       " \"rs117671630\"\n",
       " \"rs149171388\"\n",
       " \"rs188520640\"\n",
       " \"rs142722885\"\n",
       " \"rs146938393\""
      ]
     },
     "execution_count": 29,
     "metadata": {},
     "output_type": "execute_result"
    }
   ],
   "source": [
    "rare_snps_for_simulation"
   ]
  },
  {
   "cell_type": "code",
   "execution_count": 30,
   "metadata": {},
   "outputs": [
    {
     "data": {
      "text/plain": [
       "FixedEffectTerms (generic function with 1 method)"
      ]
     },
     "execution_count": 30,
     "metadata": {},
     "output_type": "execute_result"
    }
   ],
   "source": [
    "function FixedEffectTerms(effectsizes::AbstractVecOrMat, snps::AbstractVecOrMat)\n",
    " # implementation\n",
    "    fixed_terms = \"\"\n",
    "for i in 1:length(simulated_effectsizes_chisq) - 1\n",
    "expression = \" + \" * string(simulated_effectsizes_chisq[i]) * \"(\" * rare_snps_for_simulation[i] * \")\"\n",
    "    fixed_terms = fixed_terms * expression\n",
    "end\n",
    "    return String(fixed_terms)\n",
    "end\n"
   ]
  },
  {
   "cell_type": "code",
   "execution_count": 31,
   "metadata": {},
   "outputs": [
    {
     "data": {
      "text/plain": [
       "\" + 0.616(rs3020701) + -0.666(rs181646587) + 0.818(rs182902214) + -0.575(rs184527030) + 0.818(rs10409990) + 1.159(rs185166611) + -0.945(rs181637538) + -0.818(rs186213888) + 0.945(rs184010370) + -1.641(rs11667161) + 0.666(rs188819713) + -1.159(rs182378235) + 1.641(rs146361744) + -1.159(rs190575937) + -0.575(rs149949827) + 1.641(rs117671630) + -1.641(rs149171388) + 1.641(rs188520640) + 0.575(rs142722885)\""
      ]
     },
     "execution_count": 31,
     "metadata": {},
     "output_type": "execute_result"
    }
   ],
   "source": [
    "formula_20_rare_snps = FixedEffectTerms(simulated_effectsizes_chisq, rare_snps_for_simulation)"
   ]
  },
  {
   "cell_type": "markdown",
   "metadata": {},
   "source": [
    "## Example 3(a) Mixed effects model Single Trait:\n",
    "$$\n",
    "Y_{3a} ∼ N(μ_{20raresnps}, 4* 2GRM + 2I)$$\n"
   ]
  },
  {
   "cell_type": "markdown",
   "metadata": {},
   "source": [
    "This intermediate step uses the `mean_formula` function to evaluate the `formula_20_rare_snps` above on the 20 rare snp data, `geno_rare20_converted`,  to get the fixed effects mean vector (rounded to the third digit)."
   ]
  },
  {
   "cell_type": "code",
   "execution_count": 32,
   "metadata": {},
   "outputs": [
    {
     "data": {
      "text/plain": [
       "212-element Array{Float64,1}:\n",
       "  7.137\n",
       "  7.137\n",
       "  7.137\n",
       "  7.137\n",
       "  7.137\n",
       "  7.137\n",
       "  7.137\n",
       "  4.819\n",
       "  7.137\n",
       "  4.819\n",
       "  7.137\n",
       "  7.137\n",
       "  7.137\n",
       "  ⋮    \n",
       "  7.137\n",
       "  7.137\n",
       "  7.137\n",
       "  8.469\n",
       " 10.419\n",
       "  7.137\n",
       "  7.137\n",
       "  7.137\n",
       "  7.137\n",
       "  7.137\n",
       "  7.137\n",
       "  7.137"
      ]
     },
     "execution_count": 32,
     "metadata": {},
     "output_type": "execute_result"
    }
   ],
   "source": [
    "μ_20_rare_snps = round.(mean_formula(formula_20_rare_snps, geno_rare20_converted), digits = 3)"
   ]
  },
  {
   "cell_type": "code",
   "execution_count": 33,
   "metadata": {},
   "outputs": [
    {
     "data": {
      "text/html": [
       "<table class=\"data-frame\"><thead><tr><th></th><th>trait1</th></tr><tr><th></th><th>Float64</th></tr></thead><tbody><p>212 rows × 1 columns</p><tr><th>1</th><td>13.1579</td></tr><tr><th>2</th><td>8.96176</td></tr><tr><th>3</th><td>4.97421</td></tr><tr><th>4</th><td>11.8191</td></tr><tr><th>5</th><td>9.14336</td></tr><tr><th>6</th><td>4.33189</td></tr><tr><th>7</th><td>6.03755</td></tr><tr><th>8</th><td>2.22563</td></tr><tr><th>9</th><td>7.45517</td></tr><tr><th>10</th><td>5.35407</td></tr><tr><th>11</th><td>8.16541</td></tr><tr><th>12</th><td>8.98044</td></tr><tr><th>13</th><td>4.96722</td></tr><tr><th>14</th><td>8.01831</td></tr><tr><th>15</th><td>7.06155</td></tr><tr><th>16</th><td>7.91725</td></tr><tr><th>17</th><td>5.15377</td></tr><tr><th>18</th><td>6.83082</td></tr><tr><th>19</th><td>9.13601</td></tr><tr><th>20</th><td>7.60777</td></tr><tr><th>21</th><td>6.91318</td></tr><tr><th>22</th><td>7.29399</td></tr><tr><th>23</th><td>8.99032</td></tr><tr><th>24</th><td>6.8346</td></tr><tr><th>25</th><td>0.74973</td></tr><tr><th>26</th><td>4.37454</td></tr><tr><th>27</th><td>6.58846</td></tr><tr><th>28</th><td>5.22018</td></tr><tr><th>29</th><td>6.85733</td></tr><tr><th>30</th><td>8.18656</td></tr><tr><th>&vellip;</th><td>&vellip;</td></tr></tbody></table>"
      ],
      "text/latex": [
       "\\begin{tabular}{r|c}\n",
       "\t& trait1\\\\\n",
       "\t\\hline\n",
       "\t& Float64\\\\\n",
       "\t\\hline\n",
       "\t1 & 13.1579 \\\\\n",
       "\t2 & 8.96176 \\\\\n",
       "\t3 & 4.97421 \\\\\n",
       "\t4 & 11.8191 \\\\\n",
       "\t5 & 9.14336 \\\\\n",
       "\t6 & 4.33189 \\\\\n",
       "\t7 & 6.03755 \\\\\n",
       "\t8 & 2.22563 \\\\\n",
       "\t9 & 7.45517 \\\\\n",
       "\t10 & 5.35407 \\\\\n",
       "\t11 & 8.16541 \\\\\n",
       "\t12 & 8.98044 \\\\\n",
       "\t13 & 4.96722 \\\\\n",
       "\t14 & 8.01831 \\\\\n",
       "\t15 & 7.06155 \\\\\n",
       "\t16 & 7.91725 \\\\\n",
       "\t17 & 5.15377 \\\\\n",
       "\t18 & 6.83082 \\\\\n",
       "\t19 & 9.13601 \\\\\n",
       "\t20 & 7.60777 \\\\\n",
       "\t21 & 6.91318 \\\\\n",
       "\t22 & 7.29399 \\\\\n",
       "\t23 & 8.99032 \\\\\n",
       "\t24 & 6.8346 \\\\\n",
       "\t25 & 0.74973 \\\\\n",
       "\t26 & 4.37454 \\\\\n",
       "\t27 & 6.58846 \\\\\n",
       "\t28 & 5.22018 \\\\\n",
       "\t29 & 6.85733 \\\\\n",
       "\t30 & 8.18656 \\\\\n",
       "\t$\\dots$ & $\\dots$ \\\\\n",
       "\\end{tabular}\n"
      ],
      "text/plain": [
       "212×1 DataFrame\n",
       "│ Row │ trait1   │\n",
       "│     │ \u001b[90mFloat64\u001b[39m  │\n",
       "├─────┼──────────┤\n",
       "│ 1   │ 13.1579  │\n",
       "│ 2   │ 8.96176  │\n",
       "│ 3   │ 4.97421  │\n",
       "│ 4   │ 11.8191  │\n",
       "│ 5   │ 9.14336  │\n",
       "│ 6   │ 4.33189  │\n",
       "│ 7   │ 6.03755  │\n",
       "│ 8   │ 2.22563  │\n",
       "│ 9   │ 7.45517  │\n",
       "│ 10  │ 5.35407  │\n",
       "⋮\n",
       "│ 202 │ 10.862   │\n",
       "│ 203 │ 6.61089  │\n",
       "│ 204 │ 7.47991  │\n",
       "│ 205 │ 14.0576  │\n",
       "│ 206 │ 6.41074  │\n",
       "│ 207 │ 7.16167  │\n",
       "│ 208 │ 0.548453 │\n",
       "│ 209 │ 7.37823  │\n",
       "│ 210 │ 8.43519  │\n",
       "│ 211 │ 13.2743  │\n",
       "│ 212 │ 8.32269  │"
      ]
     },
     "execution_count": 33,
     "metadata": {},
     "output_type": "execute_result"
    }
   ],
   "source": [
    "rare_20_snp_model = LMMTrait([formula_20_rare_snps], geno_rare20_converted, 4*(2*GRM) + 2*(I_n))\n",
    "trait_rare_20_snps = simulate(rare_20_snp_model)"
   ]
  },
  {
   "cell_type": "code",
   "execution_count": 34,
   "metadata": {},
   "outputs": [
    {
     "data": {
      "text/html": [
       "<table class=\"data-frame\"><thead><tr><th></th><th>variable</th><th>mean</th><th>std</th><th>min</th><th>max</th><th>eltype</th></tr><tr><th></th><th>Symbol</th><th>Float64</th><th>Float64</th><th>Float64</th><th>Float64</th><th>DataType</th></tr></thead><tbody><p>1 rows × 6 columns</p><tr><th>1</th><td>trait1</td><td>7.01025</td><td>2.53983</td><td>0.548453</td><td>14.0576</td><td>Float64</td></tr></tbody></table>"
      ],
      "text/latex": [
       "\\begin{tabular}{r|cccccc}\n",
       "\t& variable & mean & std & min & max & eltype\\\\\n",
       "\t\\hline\n",
       "\t& Symbol & Float64 & Float64 & Float64 & Float64 & DataType\\\\\n",
       "\t\\hline\n",
       "\t1 & trait1 & 7.01025 & 2.53983 & 0.548453 & 14.0576 & Float64 \\\\\n",
       "\\end{tabular}\n"
      ],
      "text/plain": [
       "1×6 DataFrame\n",
       "│ Row │ variable │ mean    │ std     │ min      │ max     │ eltype   │\n",
       "│     │ \u001b[90mSymbol\u001b[39m   │ \u001b[90mFloat64\u001b[39m │ \u001b[90mFloat64\u001b[39m │ \u001b[90mFloat64\u001b[39m  │ \u001b[90mFloat64\u001b[39m │ \u001b[90mDataType\u001b[39m │\n",
       "├─────┼──────────┼─────────┼─────────┼──────────┼─────────┼──────────┤\n",
       "│ 1   │ trait1   │ 7.01025 │ 2.53983 │ 0.548453 │ 14.0576 │ Float64  │"
      ]
     },
     "execution_count": 34,
     "metadata": {},
     "output_type": "execute_result"
    }
   ],
   "source": [
    "describe(trait_rare_20_snps, stats = [:mean, :std, :min, :max, :eltype])"
   ]
  },
  {
   "cell_type": "markdown",
   "metadata": {},
   "source": [
    "## Saving Simulation Results to Local Machine"
   ]
  },
  {
   "cell_type": "markdown",
   "metadata": {},
   "source": [
    "Write the newly simulated trait into a comma separated (csv) file for later use. Note that the user can specify the separator to '\\t' for tab separated, or another separator of choice. "
   ]
  },
  {
   "cell_type": "markdown",
   "metadata": {},
   "source": [
    "Here we output the simulated trait values for each of the 849 individuals, labeled by their pedigree ID and person ID.\n",
    "\n",
    "In addition, we output the genotypes for the variants used to simulate this trait."
   ]
  },
  {
   "cell_type": "code",
   "execution_count": 35,
   "metadata": {},
   "outputs": [
    {
     "data": {
      "text/html": [
       "<table class=\"data-frame\"><thead><tr><th></th><th>FamID</th><th>PID</th><th>trait1</th><th>rs3020701</th><th>rs181646587</th><th>rs182902214</th><th>rs184527030</th><th>rs10409990</th><th>rs185166611</th><th>rs181637538</th><th>rs186213888</th><th>rs184010370</th><th>rs11667161</th><th>rs188819713</th><th>rs182378235</th><th>rs146361744</th><th>rs190575937</th><th>rs149949827</th><th>rs117671630</th><th>rs149171388</th><th>rs188520640</th><th>rs142722885</th><th>rs146938393</th></tr><tr><th></th><th>Any</th><th>Any</th><th>Float64</th><th>Float64</th><th>Float64</th><th>Float64</th><th>Float64</th><th>Float64</th><th>Float64</th><th>Float64</th><th>Float64</th><th>Float64</th><th>Float64</th><th>Float64</th><th>Float64</th><th>Float64</th><th>Float64</th><th>Float64</th><th>Float64</th><th>Float64</th><th>Float64</th><th>Float64</th><th>Float64</th></tr></thead><tbody><p>212 rows × 23 columns</p><tr><th>1</th><td>1</td><td>16</td><td>13.1579</td><td>3.0</td><td>0.0</td><td>3.0</td><td>0.0</td><td>3.0</td><td>3.0</td><td>0.0</td><td>3.0</td><td>3.0</td><td>3.0</td><td>0.0</td><td>0.0</td><td>3.0</td><td>3.0</td><td>0.0</td><td>3.0</td><td>3.0</td><td>0.0</td><td>0.0</td><td>3.0</td></tr><tr><th>2</th><td>1</td><td>8228</td><td>8.96176</td><td>3.0</td><td>0.0</td><td>3.0</td><td>0.0</td><td>3.0</td><td>3.0</td><td>0.0</td><td>3.0</td><td>3.0</td><td>3.0</td><td>0.0</td><td>0.0</td><td>3.0</td><td>3.0</td><td>0.0</td><td>3.0</td><td>3.0</td><td>0.0</td><td>0.0</td><td>3.0</td></tr><tr><th>3</th><td>1</td><td>17008</td><td>4.97421</td><td>3.0</td><td>0.0</td><td>3.0</td><td>0.0</td><td>3.0</td><td>3.0</td><td>0.0</td><td>3.0</td><td>3.0</td><td>3.0</td><td>0.0</td><td>0.0</td><td>3.0</td><td>3.0</td><td>0.0</td><td>3.0</td><td>3.0</td><td>0.0</td><td>0.0</td><td>3.0</td></tr><tr><th>4</th><td>1</td><td>9218</td><td>11.8191</td><td>3.0</td><td>0.0</td><td>3.0</td><td>0.0</td><td>3.0</td><td>3.0</td><td>0.0</td><td>3.0</td><td>3.0</td><td>3.0</td><td>0.0</td><td>0.0</td><td>3.0</td><td>3.0</td><td>0.0</td><td>3.0</td><td>3.0</td><td>0.0</td><td>0.0</td><td>3.0</td></tr><tr><th>5</th><td>1</td><td>3226</td><td>9.14336</td><td>3.0</td><td>0.0</td><td>3.0</td><td>0.0</td><td>3.0</td><td>3.0</td><td>0.0</td><td>3.0</td><td>3.0</td><td>3.0</td><td>0.0</td><td>0.0</td><td>3.0</td><td>3.0</td><td>0.0</td><td>3.0</td><td>3.0</td><td>0.0</td><td>0.0</td><td>3.0</td></tr><tr><th>6</th><td>2</td><td>29</td><td>4.33189</td><td>3.0</td><td>0.0</td><td>3.0</td><td>0.0</td><td>3.0</td><td>3.0</td><td>0.0</td><td>3.0</td><td>3.0</td><td>3.0</td><td>0.0</td><td>0.0</td><td>3.0</td><td>3.0</td><td>0.0</td><td>3.0</td><td>3.0</td><td>0.0</td><td>0.0</td><td>3.0</td></tr><tr><th>7</th><td>2</td><td>2294</td><td>6.03755</td><td>3.0</td><td>0.0</td><td>3.0</td><td>0.0</td><td>3.0</td><td>3.0</td><td>0.0</td><td>3.0</td><td>3.0</td><td>3.0</td><td>0.0</td><td>0.0</td><td>3.0</td><td>3.0</td><td>0.0</td><td>3.0</td><td>3.0</td><td>0.0</td><td>0.0</td><td>3.0</td></tr><tr><th>8</th><td>2</td><td>3416</td><td>2.22563</td><td>3.0</td><td>0.0</td><td>3.0</td><td>0.0</td><td>3.0</td><td>3.0</td><td>0.0</td><td>3.0</td><td>3.0</td><td>3.0</td><td>0.0</td><td>2.0</td><td>3.0</td><td>3.0</td><td>0.0</td><td>3.0</td><td>3.0</td><td>0.0</td><td>0.0</td><td>3.0</td></tr><tr><th>9</th><td>2</td><td>17893</td><td>7.45517</td><td>3.0</td><td>0.0</td><td>3.0</td><td>0.0</td><td>3.0</td><td>3.0</td><td>0.0</td><td>3.0</td><td>3.0</td><td>3.0</td><td>0.0</td><td>0.0</td><td>3.0</td><td>3.0</td><td>0.0</td><td>3.0</td><td>3.0</td><td>0.0</td><td>0.0</td><td>3.0</td></tr><tr><th>10</th><td>2</td><td>6952</td><td>5.35407</td><td>3.0</td><td>0.0</td><td>3.0</td><td>0.0</td><td>3.0</td><td>3.0</td><td>0.0</td><td>3.0</td><td>3.0</td><td>3.0</td><td>0.0</td><td>2.0</td><td>3.0</td><td>3.0</td><td>0.0</td><td>3.0</td><td>3.0</td><td>0.0</td><td>0.0</td><td>3.0</td></tr><tr><th>11</th><td>2</td><td>14695</td><td>8.16541</td><td>3.0</td><td>0.0</td><td>3.0</td><td>0.0</td><td>3.0</td><td>3.0</td><td>0.0</td><td>3.0</td><td>3.0</td><td>3.0</td><td>0.0</td><td>0.0</td><td>3.0</td><td>3.0</td><td>0.0</td><td>3.0</td><td>3.0</td><td>0.0</td><td>0.0</td><td>3.0</td></tr><tr><th>12</th><td>2</td><td>6790</td><td>8.98044</td><td>3.0</td><td>0.0</td><td>3.0</td><td>0.0</td><td>3.0</td><td>3.0</td><td>0.0</td><td>3.0</td><td>3.0</td><td>3.0</td><td>0.0</td><td>0.0</td><td>3.0</td><td>3.0</td><td>0.0</td><td>3.0</td><td>3.0</td><td>0.0</td><td>0.0</td><td>3.0</td></tr><tr><th>13</th><td>2</td><td>3916</td><td>4.96722</td><td>3.0</td><td>0.0</td><td>3.0</td><td>0.0</td><td>3.0</td><td>3.0</td><td>0.0</td><td>3.0</td><td>3.0</td><td>3.0</td><td>0.0</td><td>0.0</td><td>3.0</td><td>3.0</td><td>0.0</td><td>3.0</td><td>3.0</td><td>0.0</td><td>0.0</td><td>3.0</td></tr><tr><th>14</th><td>3</td><td>39</td><td>8.01831</td><td>3.0</td><td>0.0</td><td>3.0</td><td>0.0</td><td>3.0</td><td>3.0</td><td>0.0</td><td>3.0</td><td>3.0</td><td>3.0</td><td>0.0</td><td>0.0</td><td>3.0</td><td>3.0</td><td>0.0</td><td>3.0</td><td>3.0</td><td>0.0</td><td>0.0</td><td>3.0</td></tr><tr><th>15</th><td>3</td><td>4521</td><td>7.06155</td><td>3.0</td><td>0.0</td><td>3.0</td><td>0.0</td><td>3.0</td><td>3.0</td><td>0.0</td><td>3.0</td><td>3.0</td><td>3.0</td><td>0.0</td><td>0.0</td><td>3.0</td><td>3.0</td><td>0.0</td><td>3.0</td><td>3.0</td><td>0.0</td><td>0.0</td><td>3.0</td></tr><tr><th>16</th><td>3</td><td>8366</td><td>7.91725</td><td>3.0</td><td>0.0</td><td>3.0</td><td>0.0</td><td>3.0</td><td>3.0</td><td>0.0</td><td>3.0</td><td>3.0</td><td>3.0</td><td>0.0</td><td>0.0</td><td>3.0</td><td>3.0</td><td>2.0</td><td>3.0</td><td>3.0</td><td>0.0</td><td>0.0</td><td>3.0</td></tr><tr><th>17</th><td>3</td><td>16693</td><td>5.15377</td><td>3.0</td><td>0.0</td><td>3.0</td><td>0.0</td><td>3.0</td><td>3.0</td><td>0.0</td><td>3.0</td><td>3.0</td><td>3.0</td><td>0.0</td><td>0.0</td><td>3.0</td><td>3.0</td><td>0.0</td><td>3.0</td><td>3.0</td><td>0.0</td><td>0.0</td><td>3.0</td></tr><tr><th>18</th><td>3</td><td>21688</td><td>6.83082</td><td>3.0</td><td>0.0</td><td>3.0</td><td>0.0</td><td>3.0</td><td>3.0</td><td>0.0</td><td>3.0</td><td>3.0</td><td>3.0</td><td>0.0</td><td>0.0</td><td>3.0</td><td>3.0</td><td>0.0</td><td>3.0</td><td>3.0</td><td>0.0</td><td>0.0</td><td>3.0</td></tr><tr><th>19</th><td>3</td><td>25532</td><td>9.13601</td><td>3.0</td><td>0.0</td><td>3.0</td><td>0.0</td><td>3.0</td><td>3.0</td><td>0.0</td><td>3.0</td><td>3.0</td><td>3.0</td><td>0.0</td><td>0.0</td><td>3.0</td><td>3.0</td><td>0.0</td><td>3.0</td><td>3.0</td><td>0.0</td><td>0.0</td><td>3.0</td></tr><tr><th>20</th><td>3</td><td>26294</td><td>7.60777</td><td>3.0</td><td>0.0</td><td>3.0</td><td>0.0</td><td>3.0</td><td>3.0</td><td>0.0</td><td>3.0</td><td>3.0</td><td>3.0</td><td>0.0</td><td>0.0</td><td>3.0</td><td>3.0</td><td>0.0</td><td>3.0</td><td>3.0</td><td>0.0</td><td>0.0</td><td>3.0</td></tr><tr><th>21</th><td>3</td><td>16795</td><td>6.91318</td><td>3.0</td><td>0.0</td><td>3.0</td><td>0.0</td><td>3.0</td><td>3.0</td><td>0.0</td><td>3.0</td><td>3.0</td><td>3.0</td><td>0.0</td><td>0.0</td><td>3.0</td><td>3.0</td><td>0.0</td><td>3.0</td><td>3.0</td><td>0.0</td><td>0.0</td><td>3.0</td></tr><tr><th>22</th><td>3</td><td>17445</td><td>7.29399</td><td>3.0</td><td>0.0</td><td>3.0</td><td>0.0</td><td>3.0</td><td>3.0</td><td>0.0</td><td>3.0</td><td>3.0</td><td>3.0</td><td>0.0</td><td>0.0</td><td>3.0</td><td>3.0</td><td>2.0</td><td>3.0</td><td>3.0</td><td>0.0</td><td>0.0</td><td>3.0</td></tr><tr><th>23</th><td>3</td><td>2039</td><td>8.99032</td><td>3.0</td><td>0.0</td><td>3.0</td><td>0.0</td><td>3.0</td><td>3.0</td><td>0.0</td><td>3.0</td><td>3.0</td><td>3.0</td><td>0.0</td><td>0.0</td><td>3.0</td><td>3.0</td><td>2.0</td><td>3.0</td><td>3.0</td><td>0.0</td><td>0.0</td><td>3.0</td></tr><tr><th>24</th><td>3</td><td>2831</td><td>6.8346</td><td>3.0</td><td>0.0</td><td>3.0</td><td>0.0</td><td>3.0</td><td>3.0</td><td>0.0</td><td>3.0</td><td>3.0</td><td>3.0</td><td>0.0</td><td>0.0</td><td>3.0</td><td>3.0</td><td>2.0</td><td>3.0</td><td>3.0</td><td>0.0</td><td>0.0</td><td>3.0</td></tr><tr><th>25</th><td>4</td><td>54</td><td>0.74973</td><td>3.0</td><td>0.0</td><td>3.0</td><td>0.0</td><td>3.0</td><td>3.0</td><td>0.0</td><td>3.0</td><td>3.0</td><td>3.0</td><td>0.0</td><td>0.0</td><td>3.0</td><td>3.0</td><td>0.0</td><td>3.0</td><td>3.0</td><td>0.0</td><td>0.0</td><td>3.0</td></tr><tr><th>26</th><td>4</td><td>5072</td><td>4.37454</td><td>3.0</td><td>0.0</td><td>3.0</td><td>2.0</td><td>3.0</td><td>3.0</td><td>0.0</td><td>3.0</td><td>3.0</td><td>3.0</td><td>0.0</td><td>0.0</td><td>3.0</td><td>3.0</td><td>0.0</td><td>3.0</td><td>3.0</td><td>0.0</td><td>0.0</td><td>3.0</td></tr><tr><th>27</th><td>4</td><td>17240</td><td>6.58846</td><td>3.0</td><td>0.0</td><td>3.0</td><td>2.0</td><td>3.0</td><td>3.0</td><td>0.0</td><td>3.0</td><td>3.0</td><td>3.0</td><td>0.0</td><td>0.0</td><td>3.0</td><td>3.0</td><td>0.0</td><td>3.0</td><td>3.0</td><td>0.0</td><td>0.0</td><td>3.0</td></tr><tr><th>28</th><td>5</td><td>70</td><td>5.22018</td><td>3.0</td><td>0.0</td><td>3.0</td><td>0.0</td><td>3.0</td><td>3.0</td><td>0.0</td><td>3.0</td><td>3.0</td><td>3.0</td><td>0.0</td><td>0.0</td><td>3.0</td><td>3.0</td><td>0.0</td><td>3.0</td><td>3.0</td><td>0.0</td><td>0.0</td><td>3.0</td></tr><tr><th>29</th><td>5</td><td>24010</td><td>6.85733</td><td>3.0</td><td>0.0</td><td>3.0</td><td>0.0</td><td>3.0</td><td>3.0</td><td>2.0</td><td>3.0</td><td>3.0</td><td>3.0</td><td>0.0</td><td>0.0</td><td>3.0</td><td>3.0</td><td>0.0</td><td>3.0</td><td>3.0</td><td>0.0</td><td>0.0</td><td>3.0</td></tr><tr><th>30</th><td>5</td><td>21999</td><td>8.18656</td><td>3.0</td><td>0.0</td><td>3.0</td><td>0.0</td><td>3.0</td><td>3.0</td><td>0.0</td><td>3.0</td><td>3.0</td><td>3.0</td><td>0.0</td><td>0.0</td><td>3.0</td><td>3.0</td><td>0.0</td><td>3.0</td><td>3.0</td><td>0.0</td><td>0.0</td><td>3.0</td></tr><tr><th>&vellip;</th><td>&vellip;</td><td>&vellip;</td><td>&vellip;</td><td>&vellip;</td><td>&vellip;</td><td>&vellip;</td><td>&vellip;</td><td>&vellip;</td><td>&vellip;</td><td>&vellip;</td><td>&vellip;</td><td>&vellip;</td><td>&vellip;</td><td>&vellip;</td><td>&vellip;</td><td>&vellip;</td><td>&vellip;</td><td>&vellip;</td><td>&vellip;</td><td>&vellip;</td><td>&vellip;</td><td>&vellip;</td><td>&vellip;</td></tr></tbody></table>"
      ],
      "text/latex": [
       "\\begin{tabular}{r|ccccccccccccccccccccccc}\n",
       "\t& FamID & PID & trait1 & rs3020701 & rs181646587 & rs182902214 & rs184527030 & rs10409990 & rs185166611 & rs181637538 & rs186213888 & rs184010370 & rs11667161 & rs188819713 & rs182378235 & rs146361744 & rs190575937 & rs149949827 & rs117671630 & rs149171388 & rs188520640 & rs142722885 & rs146938393\\\\\n",
       "\t\\hline\n",
       "\t& Any & Any & Float64 & Float64 & Float64 & Float64 & Float64 & Float64 & Float64 & Float64 & Float64 & Float64 & Float64 & Float64 & Float64 & Float64 & Float64 & Float64 & Float64 & Float64 & Float64 & Float64 & Float64\\\\\n",
       "\t\\hline\n",
       "\t1 & 1 & 16 & 13.1579 & 3.0 & 0.0 & 3.0 & 0.0 & 3.0 & 3.0 & 0.0 & 3.0 & 3.0 & 3.0 & 0.0 & 0.0 & 3.0 & 3.0 & 0.0 & 3.0 & 3.0 & 0.0 & 0.0 & 3.0 \\\\\n",
       "\t2 & 1 & 8228 & 8.96176 & 3.0 & 0.0 & 3.0 & 0.0 & 3.0 & 3.0 & 0.0 & 3.0 & 3.0 & 3.0 & 0.0 & 0.0 & 3.0 & 3.0 & 0.0 & 3.0 & 3.0 & 0.0 & 0.0 & 3.0 \\\\\n",
       "\t3 & 1 & 17008 & 4.97421 & 3.0 & 0.0 & 3.0 & 0.0 & 3.0 & 3.0 & 0.0 & 3.0 & 3.0 & 3.0 & 0.0 & 0.0 & 3.0 & 3.0 & 0.0 & 3.0 & 3.0 & 0.0 & 0.0 & 3.0 \\\\\n",
       "\t4 & 1 & 9218 & 11.8191 & 3.0 & 0.0 & 3.0 & 0.0 & 3.0 & 3.0 & 0.0 & 3.0 & 3.0 & 3.0 & 0.0 & 0.0 & 3.0 & 3.0 & 0.0 & 3.0 & 3.0 & 0.0 & 0.0 & 3.0 \\\\\n",
       "\t5 & 1 & 3226 & 9.14336 & 3.0 & 0.0 & 3.0 & 0.0 & 3.0 & 3.0 & 0.0 & 3.0 & 3.0 & 3.0 & 0.0 & 0.0 & 3.0 & 3.0 & 0.0 & 3.0 & 3.0 & 0.0 & 0.0 & 3.0 \\\\\n",
       "\t6 & 2 & 29 & 4.33189 & 3.0 & 0.0 & 3.0 & 0.0 & 3.0 & 3.0 & 0.0 & 3.0 & 3.0 & 3.0 & 0.0 & 0.0 & 3.0 & 3.0 & 0.0 & 3.0 & 3.0 & 0.0 & 0.0 & 3.0 \\\\\n",
       "\t7 & 2 & 2294 & 6.03755 & 3.0 & 0.0 & 3.0 & 0.0 & 3.0 & 3.0 & 0.0 & 3.0 & 3.0 & 3.0 & 0.0 & 0.0 & 3.0 & 3.0 & 0.0 & 3.0 & 3.0 & 0.0 & 0.0 & 3.0 \\\\\n",
       "\t8 & 2 & 3416 & 2.22563 & 3.0 & 0.0 & 3.0 & 0.0 & 3.0 & 3.0 & 0.0 & 3.0 & 3.0 & 3.0 & 0.0 & 2.0 & 3.0 & 3.0 & 0.0 & 3.0 & 3.0 & 0.0 & 0.0 & 3.0 \\\\\n",
       "\t9 & 2 & 17893 & 7.45517 & 3.0 & 0.0 & 3.0 & 0.0 & 3.0 & 3.0 & 0.0 & 3.0 & 3.0 & 3.0 & 0.0 & 0.0 & 3.0 & 3.0 & 0.0 & 3.0 & 3.0 & 0.0 & 0.0 & 3.0 \\\\\n",
       "\t10 & 2 & 6952 & 5.35407 & 3.0 & 0.0 & 3.0 & 0.0 & 3.0 & 3.0 & 0.0 & 3.0 & 3.0 & 3.0 & 0.0 & 2.0 & 3.0 & 3.0 & 0.0 & 3.0 & 3.0 & 0.0 & 0.0 & 3.0 \\\\\n",
       "\t11 & 2 & 14695 & 8.16541 & 3.0 & 0.0 & 3.0 & 0.0 & 3.0 & 3.0 & 0.0 & 3.0 & 3.0 & 3.0 & 0.0 & 0.0 & 3.0 & 3.0 & 0.0 & 3.0 & 3.0 & 0.0 & 0.0 & 3.0 \\\\\n",
       "\t12 & 2 & 6790 & 8.98044 & 3.0 & 0.0 & 3.0 & 0.0 & 3.0 & 3.0 & 0.0 & 3.0 & 3.0 & 3.0 & 0.0 & 0.0 & 3.0 & 3.0 & 0.0 & 3.0 & 3.0 & 0.0 & 0.0 & 3.0 \\\\\n",
       "\t13 & 2 & 3916 & 4.96722 & 3.0 & 0.0 & 3.0 & 0.0 & 3.0 & 3.0 & 0.0 & 3.0 & 3.0 & 3.0 & 0.0 & 0.0 & 3.0 & 3.0 & 0.0 & 3.0 & 3.0 & 0.0 & 0.0 & 3.0 \\\\\n",
       "\t14 & 3 & 39 & 8.01831 & 3.0 & 0.0 & 3.0 & 0.0 & 3.0 & 3.0 & 0.0 & 3.0 & 3.0 & 3.0 & 0.0 & 0.0 & 3.0 & 3.0 & 0.0 & 3.0 & 3.0 & 0.0 & 0.0 & 3.0 \\\\\n",
       "\t15 & 3 & 4521 & 7.06155 & 3.0 & 0.0 & 3.0 & 0.0 & 3.0 & 3.0 & 0.0 & 3.0 & 3.0 & 3.0 & 0.0 & 0.0 & 3.0 & 3.0 & 0.0 & 3.0 & 3.0 & 0.0 & 0.0 & 3.0 \\\\\n",
       "\t16 & 3 & 8366 & 7.91725 & 3.0 & 0.0 & 3.0 & 0.0 & 3.0 & 3.0 & 0.0 & 3.0 & 3.0 & 3.0 & 0.0 & 0.0 & 3.0 & 3.0 & 2.0 & 3.0 & 3.0 & 0.0 & 0.0 & 3.0 \\\\\n",
       "\t17 & 3 & 16693 & 5.15377 & 3.0 & 0.0 & 3.0 & 0.0 & 3.0 & 3.0 & 0.0 & 3.0 & 3.0 & 3.0 & 0.0 & 0.0 & 3.0 & 3.0 & 0.0 & 3.0 & 3.0 & 0.0 & 0.0 & 3.0 \\\\\n",
       "\t18 & 3 & 21688 & 6.83082 & 3.0 & 0.0 & 3.0 & 0.0 & 3.0 & 3.0 & 0.0 & 3.0 & 3.0 & 3.0 & 0.0 & 0.0 & 3.0 & 3.0 & 0.0 & 3.0 & 3.0 & 0.0 & 0.0 & 3.0 \\\\\n",
       "\t19 & 3 & 25532 & 9.13601 & 3.0 & 0.0 & 3.0 & 0.0 & 3.0 & 3.0 & 0.0 & 3.0 & 3.0 & 3.0 & 0.0 & 0.0 & 3.0 & 3.0 & 0.0 & 3.0 & 3.0 & 0.0 & 0.0 & 3.0 \\\\\n",
       "\t20 & 3 & 26294 & 7.60777 & 3.0 & 0.0 & 3.0 & 0.0 & 3.0 & 3.0 & 0.0 & 3.0 & 3.0 & 3.0 & 0.0 & 0.0 & 3.0 & 3.0 & 0.0 & 3.0 & 3.0 & 0.0 & 0.0 & 3.0 \\\\\n",
       "\t21 & 3 & 16795 & 6.91318 & 3.0 & 0.0 & 3.0 & 0.0 & 3.0 & 3.0 & 0.0 & 3.0 & 3.0 & 3.0 & 0.0 & 0.0 & 3.0 & 3.0 & 0.0 & 3.0 & 3.0 & 0.0 & 0.0 & 3.0 \\\\\n",
       "\t22 & 3 & 17445 & 7.29399 & 3.0 & 0.0 & 3.0 & 0.0 & 3.0 & 3.0 & 0.0 & 3.0 & 3.0 & 3.0 & 0.0 & 0.0 & 3.0 & 3.0 & 2.0 & 3.0 & 3.0 & 0.0 & 0.0 & 3.0 \\\\\n",
       "\t23 & 3 & 2039 & 8.99032 & 3.0 & 0.0 & 3.0 & 0.0 & 3.0 & 3.0 & 0.0 & 3.0 & 3.0 & 3.0 & 0.0 & 0.0 & 3.0 & 3.0 & 2.0 & 3.0 & 3.0 & 0.0 & 0.0 & 3.0 \\\\\n",
       "\t24 & 3 & 2831 & 6.8346 & 3.0 & 0.0 & 3.0 & 0.0 & 3.0 & 3.0 & 0.0 & 3.0 & 3.0 & 3.0 & 0.0 & 0.0 & 3.0 & 3.0 & 2.0 & 3.0 & 3.0 & 0.0 & 0.0 & 3.0 \\\\\n",
       "\t25 & 4 & 54 & 0.74973 & 3.0 & 0.0 & 3.0 & 0.0 & 3.0 & 3.0 & 0.0 & 3.0 & 3.0 & 3.0 & 0.0 & 0.0 & 3.0 & 3.0 & 0.0 & 3.0 & 3.0 & 0.0 & 0.0 & 3.0 \\\\\n",
       "\t26 & 4 & 5072 & 4.37454 & 3.0 & 0.0 & 3.0 & 2.0 & 3.0 & 3.0 & 0.0 & 3.0 & 3.0 & 3.0 & 0.0 & 0.0 & 3.0 & 3.0 & 0.0 & 3.0 & 3.0 & 0.0 & 0.0 & 3.0 \\\\\n",
       "\t27 & 4 & 17240 & 6.58846 & 3.0 & 0.0 & 3.0 & 2.0 & 3.0 & 3.0 & 0.0 & 3.0 & 3.0 & 3.0 & 0.0 & 0.0 & 3.0 & 3.0 & 0.0 & 3.0 & 3.0 & 0.0 & 0.0 & 3.0 \\\\\n",
       "\t28 & 5 & 70 & 5.22018 & 3.0 & 0.0 & 3.0 & 0.0 & 3.0 & 3.0 & 0.0 & 3.0 & 3.0 & 3.0 & 0.0 & 0.0 & 3.0 & 3.0 & 0.0 & 3.0 & 3.0 & 0.0 & 0.0 & 3.0 \\\\\n",
       "\t29 & 5 & 24010 & 6.85733 & 3.0 & 0.0 & 3.0 & 0.0 & 3.0 & 3.0 & 2.0 & 3.0 & 3.0 & 3.0 & 0.0 & 0.0 & 3.0 & 3.0 & 0.0 & 3.0 & 3.0 & 0.0 & 0.0 & 3.0 \\\\\n",
       "\t30 & 5 & 21999 & 8.18656 & 3.0 & 0.0 & 3.0 & 0.0 & 3.0 & 3.0 & 0.0 & 3.0 & 3.0 & 3.0 & 0.0 & 0.0 & 3.0 & 3.0 & 0.0 & 3.0 & 3.0 & 0.0 & 0.0 & 3.0 \\\\\n",
       "\t$\\dots$ & $\\dots$ & $\\dots$ & $\\dots$ & $\\dots$ & $\\dots$ & $\\dots$ & $\\dots$ & $\\dots$ & $\\dots$ & $\\dots$ & $\\dots$ & $\\dots$ & $\\dots$ & $\\dots$ & $\\dots$ & $\\dots$ & $\\dots$ & $\\dots$ & $\\dots$ & $\\dots$ & $\\dots$ & $\\dots$ & $\\dots$ \\\\\n",
       "\\end{tabular}\n"
      ],
      "text/plain": [
       "212×23 DataFrame. Omitted printing of 17 columns\n",
       "│ Row │ FamID │ PID   │ trait1   │ rs3020701 │ rs181646587 │ rs182902214 │\n",
       "│     │ \u001b[90mAny\u001b[39m   │ \u001b[90mAny\u001b[39m   │ \u001b[90mFloat64\u001b[39m  │ \u001b[90mFloat64\u001b[39m   │ \u001b[90mFloat64\u001b[39m     │ \u001b[90mFloat64\u001b[39m     │\n",
       "├─────┼───────┼───────┼──────────┼───────────┼─────────────┼─────────────┤\n",
       "│ 1   │ 1     │ 16    │ 13.1579  │ 3.0       │ 0.0         │ 3.0         │\n",
       "│ 2   │ 1     │ 8228  │ 8.96176  │ 3.0       │ 0.0         │ 3.0         │\n",
       "│ 3   │ 1     │ 17008 │ 4.97421  │ 3.0       │ 0.0         │ 3.0         │\n",
       "│ 4   │ 1     │ 9218  │ 11.8191  │ 3.0       │ 0.0         │ 3.0         │\n",
       "│ 5   │ 1     │ 3226  │ 9.14336  │ 3.0       │ 0.0         │ 3.0         │\n",
       "│ 6   │ 2     │ 29    │ 4.33189  │ 3.0       │ 0.0         │ 3.0         │\n",
       "│ 7   │ 2     │ 2294  │ 6.03755  │ 3.0       │ 0.0         │ 3.0         │\n",
       "│ 8   │ 2     │ 3416  │ 2.22563  │ 3.0       │ 0.0         │ 3.0         │\n",
       "│ 9   │ 2     │ 17893 │ 7.45517  │ 3.0       │ 0.0         │ 3.0         │\n",
       "│ 10  │ 2     │ 6952  │ 5.35407  │ 3.0       │ 0.0         │ 3.0         │\n",
       "⋮\n",
       "│ 202 │ 31    │ 16139 │ 10.862   │ 3.0       │ 0.0         │ 3.0         │\n",
       "│ 203 │ 31    │ 10439 │ 6.61089  │ 3.0       │ 0.0         │ 3.0         │\n",
       "│ 204 │ 31    │ 63    │ 7.47991  │ 3.0       │ 0.0         │ 3.0         │\n",
       "│ 205 │ 10006 │ 66    │ 14.0576  │ 3.0       │ 0.0         │ 3.0         │\n",
       "│ 206 │ 10008 │ 92    │ 6.41074  │ 3.0       │ 0.0         │ 3.0         │\n",
       "│ 207 │ 10014 │ 186   │ 7.16167  │ 3.0       │ 0.0         │ 3.0         │\n",
       "│ 208 │ 10027 │ 374   │ 0.548453 │ 3.0       │ 0.0         │ 3.0         │\n",
       "│ 209 │ 10029 │ 434   │ 7.37823  │ 3.0       │ 0.0         │ 3.0         │\n",
       "│ 210 │ 10033 │ 333   │ 8.43519  │ 3.0       │ 0.0         │ 3.0         │\n",
       "│ 211 │ 10040 │ 234   │ 13.2743  │ 3.0       │ 0.0         │ 3.0         │\n",
       "│ 212 │ 10045 │ 789   │ 8.32269  │ 3.0       │ 0.0         │ 3.0         │"
      ]
     },
     "execution_count": 35,
     "metadata": {},
     "output_type": "execute_result"
    }
   ],
   "source": [
    "Trait3_mixed = hcat(Fam_Person_id, trait_rare_20_snps, geno_rare20_converted)"
   ]
  },
  {
   "cell_type": "code",
   "execution_count": 36,
   "metadata": {},
   "outputs": [
    {
     "data": {
      "text/html": [
       "<table class=\"data-frame\"><thead><tr><th></th><th>Coefficients</th><th>SNPs</th></tr><tr><th></th><th>Float64</th><th>SubStrin…</th></tr></thead><tbody><p>20 rows × 2 columns</p><tr><th>1</th><td>0.616</td><td>rs3020701</td></tr><tr><th>2</th><td>-0.666</td><td>rs181646587</td></tr><tr><th>3</th><td>0.818</td><td>rs182902214</td></tr><tr><th>4</th><td>-0.575</td><td>rs184527030</td></tr><tr><th>5</th><td>0.818</td><td>rs10409990</td></tr><tr><th>6</th><td>1.159</td><td>rs185166611</td></tr><tr><th>7</th><td>-0.945</td><td>rs181637538</td></tr><tr><th>8</th><td>-0.818</td><td>rs186213888</td></tr><tr><th>9</th><td>0.945</td><td>rs184010370</td></tr><tr><th>10</th><td>-1.641</td><td>rs11667161</td></tr><tr><th>11</th><td>0.666</td><td>rs188819713</td></tr><tr><th>12</th><td>-1.159</td><td>rs182378235</td></tr><tr><th>13</th><td>1.641</td><td>rs146361744</td></tr><tr><th>14</th><td>-1.159</td><td>rs190575937</td></tr><tr><th>15</th><td>-0.575</td><td>rs149949827</td></tr><tr><th>16</th><td>1.641</td><td>rs117671630</td></tr><tr><th>17</th><td>-1.641</td><td>rs149171388</td></tr><tr><th>18</th><td>1.641</td><td>rs188520640</td></tr><tr><th>19</th><td>0.575</td><td>rs142722885</td></tr><tr><th>20</th><td>-1.159</td><td>rs146938393</td></tr></tbody></table>"
      ],
      "text/latex": [
       "\\begin{tabular}{r|cc}\n",
       "\t& Coefficients & SNPs\\\\\n",
       "\t\\hline\n",
       "\t& Float64 & SubStrin…\\\\\n",
       "\t\\hline\n",
       "\t1 & 0.616 & rs3020701 \\\\\n",
       "\t2 & -0.666 & rs181646587 \\\\\n",
       "\t3 & 0.818 & rs182902214 \\\\\n",
       "\t4 & -0.575 & rs184527030 \\\\\n",
       "\t5 & 0.818 & rs10409990 \\\\\n",
       "\t6 & 1.159 & rs185166611 \\\\\n",
       "\t7 & -0.945 & rs181637538 \\\\\n",
       "\t8 & -0.818 & rs186213888 \\\\\n",
       "\t9 & 0.945 & rs184010370 \\\\\n",
       "\t10 & -1.641 & rs11667161 \\\\\n",
       "\t11 & 0.666 & rs188819713 \\\\\n",
       "\t12 & -1.159 & rs182378235 \\\\\n",
       "\t13 & 1.641 & rs146361744 \\\\\n",
       "\t14 & -1.159 & rs190575937 \\\\\n",
       "\t15 & -0.575 & rs149949827 \\\\\n",
       "\t16 & 1.641 & rs117671630 \\\\\n",
       "\t17 & -1.641 & rs149171388 \\\\\n",
       "\t18 & 1.641 & rs188520640 \\\\\n",
       "\t19 & 0.575 & rs142722885 \\\\\n",
       "\t20 & -1.159 & rs146938393 \\\\\n",
       "\\end{tabular}\n"
      ],
      "text/plain": [
       "20×2 DataFrame\n",
       "│ Row │ Coefficients │ SNPs        │\n",
       "│     │ \u001b[90mFloat64\u001b[39m      │ \u001b[90mSubStrin…\u001b[39m   │\n",
       "├─────┼──────────────┼─────────────┤\n",
       "│ 1   │ 0.616        │ rs3020701   │\n",
       "│ 2   │ -0.666       │ rs181646587 │\n",
       "│ 3   │ 0.818        │ rs182902214 │\n",
       "│ 4   │ -0.575       │ rs184527030 │\n",
       "│ 5   │ 0.818        │ rs10409990  │\n",
       "│ 6   │ 1.159        │ rs185166611 │\n",
       "│ 7   │ -0.945       │ rs181637538 │\n",
       "│ 8   │ -0.818       │ rs186213888 │\n",
       "│ 9   │ 0.945        │ rs184010370 │\n",
       "│ 10  │ -1.641       │ rs11667161  │\n",
       "│ 11  │ 0.666        │ rs188819713 │\n",
       "│ 12  │ -1.159       │ rs182378235 │\n",
       "│ 13  │ 1.641        │ rs146361744 │\n",
       "│ 14  │ -1.159       │ rs190575937 │\n",
       "│ 15  │ -0.575       │ rs149949827 │\n",
       "│ 16  │ 1.641        │ rs117671630 │\n",
       "│ 17  │ -1.641       │ rs149171388 │\n",
       "│ 18  │ 1.641        │ rs188520640 │\n",
       "│ 19  │ 0.575        │ rs142722885 │\n",
       "│ 20  │ -1.159       │ rs146938393 │"
      ]
     },
     "execution_count": 36,
     "metadata": {},
     "output_type": "execute_result"
    }
   ],
   "source": [
    "Coefficients = DataFrame(Coefficients = simulated_effectsizes_chisq)\n",
    "SNPs_rare = DataFrame(SNPs = rare_snps_for_simulation)\n",
    "Trait3_mixed_sim = hcat(Coefficients, SNPs_rare)"
   ]
  },
  {
   "cell_type": "code",
   "execution_count": 37,
   "metadata": {},
   "outputs": [],
   "source": [
    "#cd(\"/Users\") #change to home directory\n",
    "using CSV\n",
    "CSV.write(\"Trait3_mixed.csv\", Trait3_mixed)\n",
    "CSV.write(\"Trait3_mixed_sim.csv\", Trait3_mixed_sim);"
   ]
  }
 ],
 "metadata": {
  "kernelspec": {
   "display_name": "Julia 1.0.3",
   "language": "julia",
   "name": "julia-1.0"
  },
  "language_info": {
   "file_extension": ".jl",
   "mimetype": "application/julia",
   "name": "julia",
   "version": "1.0.3"
  },
  "toc": {
   "base_numbering": 1,
   "nav_menu": {},
   "number_sections": true,
   "sideBar": true,
   "skip_h1_title": false,
   "title_cell": "Table of Contents",
   "title_sidebar": "Contents",
   "toc_cell": false,
   "toc_position": {},
   "toc_section_display": true,
   "toc_window_display": false
  }
 },
 "nbformat": 4,
 "nbformat_minor": 2
}
