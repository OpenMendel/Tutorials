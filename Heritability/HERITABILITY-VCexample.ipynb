{
 "cells": [
  {
   "cell_type": "markdown",
   "metadata": {},
   "source": [
    "# Estimating Heritability and Testing SNP Association using Maximum Likelihoods of Variance Component Models"
   ]
  },
  {
   "cell_type": "markdown",
   "metadata": {},
   "source": [
    "Authors: Sarah Ji, Janet Sinsheimer and Hua Zhou"
   ]
  },
  {
   "cell_type": "markdown",
   "metadata": {},
   "source": [
    "We will use a variance component model to estimate heritability of a trait and then test for association to specified markers. This example is equivalent to a replication or a candidate SNP approach.  Normally if we had no prior hypothesis regarding particular loci (candidate gene approach), we would be first be testing markers genomewide using a GWAS approach that can handle pedigree data appropriately.  In that case, we would probably be using a fast score test approach rather than by maximum likelihood. However, maximum likelihood provides more accurate inference and parameters estimates and can be used to refine interference after screening. As an extension of the univariate case, at the end of the notebook we also demonstrate how to how to run a bivariate trait. We will also use the variance component frame work with maximum likelihood tests when conducting Mendelian Randomization with families so it's useful for us to understand how the Julia package, VarianceComponentModels.jl, works and how to load in large data sets into Julia using the package, SnpArrays.jl. "
   ]
  },
  {
   "cell_type": "markdown",
   "metadata": {},
   "source": [
    "Machine information:"
   ]
  },
  {
   "cell_type": "code",
   "execution_count": 1,
   "metadata": {},
   "outputs": [
    {
     "name": "stdout",
     "output_type": "stream",
     "text": [
      "Julia Version 0.6.4\n",
      "Commit 9d11f62bcb (2018-07-09 19:09 UTC)\n",
      "Platform Info:\n",
      "  OS: macOS (x86_64-apple-darwin14.5.0)\n",
      "  CPU: Intel(R) Core(TM) i7-6567U CPU @ 3.30GHz\n",
      "  WORD_SIZE: 64\n",
      "  BLAS: libopenblas (USE64BITINT DYNAMIC_ARCH NO_AFFINITY Haswell MAX_THREADS=16)\n",
      "  LAPACK: libopenblas64_\n",
      "  LIBM: libopenlibm\n",
      "  LLVM: libLLVM-3.9.1 (ORCJIT, skylake)\n"
     ]
    }
   ],
   "source": [
    "versioninfo()"
   ]
  },
  {
   "cell_type": "markdown",
   "metadata": {},
   "source": [
    "## Data files\n",
    "\n",
    "As an application of the variance component model, this notebook demonstrates the workflow for heritability analysis in genetics, using a sample data set, `SNP_29C`, of **212** individuals and **253,141** SNPs from the Mendel version 16.0 sample input files. \n",
    "\n",
    "`SNP_29a.bed`, `SNP_29a.bim`, and `SNP_29C.fam` is the set of Plink files in binary format used in this notebook. The datafiles and software packages associated with Mendel can be downloaded for free on the UCLA genetics page. http://www.genetics.ucla.edu/software/mendel\n",
    "\n",
    "For more information on Mendel version 16.0 see: Lange K, Papp JC, Sinsheimer JS, Sripracha R, Zhou H, Sobel EM (2013) Mendel: The Swiss army knife of genetic analysis programs. Bioinformatics 29:1568-1570. http://www.genetics.ucla.edu/software/Mendel_current_doc.pdf\n",
    "\n",
    ">SNP29C Dataset was simulated with a realistic linkage disequilibrium (LD) structure and constructed from phased sequence data from chromosome 19 on 85 individuals of northern and western European ancestry. After removing mono-allelic markers this set of individuals, 253,141 SNPs remained. Almost half of the SNPs have minor allele frequencies (MAF) below 5%. The haplotype pairs attributed to the 85 CEPH members were reassigned to the 85 founders of 27 pedigree structures selected from the Framingham Heart Study (FHS, https://urldefense.proofpoint.com/v2/url?u=http-3A__www.framinghamheartstudy.org&d=DwIGaQ&c=UXmaowRpu5bLSLEQRunJ2z-YIUZuUoa9Rw_x449Hd_Y&r=wHxKeA_lx9mDDcQzMuXnw0mnB8LqTwv284d9wI2rbj8&m=n_5BED1Bi6R2LnYLvkHz5CsSDwtGyOxoRCauLhk2aS8&s=sFXWg1BPiQozvyRFoPhFmvRzGTeR8xgkbMeUgHHRRmU&e=). The selected Framingham pedigrees were chosen to reflect the kind of pedigrees commonly collected in family-based genetic studies. The 27 pedigrees encompass 212 people, range in size from 1 to 36 peo- ple and from 1 to 5 generations, and contain sibships of 1 to 5 children. The genotypes of non-founders were simulated, using Option 17, conditional on the haplotypes imposed on the founders. All genotypes were recorded as unordered for subsequent analyses.\n",
    "\n",
    "Genome-wide QTL and eQTL analyses using Mendel, Hua Zhou, Jin Zhou, Tao Hu, Eric M. Sobel, Kenneth Lange https://urldefense.proofpoint.com/v2/url?u=https-3A__www.ncbi.nlm.nih.gov_pmc_articles_PMC5133530_&d=DwIGaQ&c=UXmaowRpu5bLSLEQRunJ2z-YIUZuUoa9Rw_x449Hd_Y&r=wHxKeA_lx9mDDcQzMuXnw0mnB8LqTwv284d9wI2rbj8&m=n_5BED1Bi6R2LnYLvkHz5CsSDwtGyOxoRCauLhk2aS8&s=mmcAomV-h34hb3uYWxJWkUEN_XRGZ0ZmHAZyNakRb3s&e=\n"
   ]
  },
  {
   "cell_type": "markdown",
   "metadata": {},
   "source": [
    "## Read in the data\n",
    "\n",
    "Take a look at the first 10 lines of the pedigree file, SNP_29C.fam. The columns are comma separated. This file is in the classic Mendel format, Family Id, Person ID, Father ID, Mother Id, sex as F (female) or M (male), monozygotic twin indicator, Trait1 and Trait2.  The traits were simulated using Option 28 of the Mendel Software Program based on the major locus rs10412915. Here we simulated two correlated quantitative traits, Trait1 and Trait2.\n",
    "\n",
    "Trait1 was simulated with a grand mean $\\mu_1$ = 40, sex effect $\\beta_{sex, 1}$ = 6, major locus effect $\\beta_{snp, 1}$ = -1.5, additive variance $\\sigma_{a1}$ = 4, and environmental variance $\\sigma_{e1}$ = 2. \n",
    "Trait2 was simulated with a grand mean $\\mu_2$ = 20, sex effect $\\beta_{sex, 2}$ = 4, major locus effect $\\beta_{snp, 2}$ = -1.5, additive variance $\\sigma_{a2}$ = 4, and environmental variance $\\sigma_{e2}$ = 2. \n",
    "The covariances between the traits are $\\sigma_{a1, a2}$ = 1 and $\\sigma_{e1, e2}$ = 0."
   ]
  },
  {
   "cell_type": "code",
   "execution_count": 2,
   "metadata": {},
   "outputs": [
    {
     "name": "stdout",
     "output_type": "stream",
     "text": [
      "  1       ,  16      ,          ,          ,  F       ,          ,  30.20564,   9.24210,\n",
      "  1       ,  8228    ,          ,          ,  F       ,          ,  35.82143,  15.27458,\n",
      "  1       ,  17008   ,          ,          ,  M       ,          ,  36.05298,  19.50496,\n",
      "  1       ,  9218    ,  17008   ,  16      ,  M       ,          ,  38.96351,  18.98575,\n",
      "  1       ,  3226    ,  9218    ,  8228    ,  F       ,          ,  33.73911,  21.10412,\n",
      "  2       ,  29      ,          ,          ,  F       ,          ,  34.88835,  19.01142,\n",
      "  2       ,  2294    ,          ,          ,  M       ,          ,  37.70105,  19.16556,\n",
      "  2       ,  3416    ,          ,          ,  M       ,          ,  45.13171,  19.84088,\n",
      "  2       ,  17893   ,  2294    ,  29      ,  F       ,          ,  35.15599,  14.14228,\n",
      "  2       ,  6952    ,  3416    ,  17893   ,  M       ,          ,  42.45136,  19.92713,\n"
     ]
    }
   ],
   "source": [
    ";head SNP_29C.fam"
   ]
  },
  {
   "cell_type": "markdown",
   "metadata": {},
   "source": [
    "Read in the pedigree file into an array."
   ]
  },
  {
   "cell_type": "code",
   "execution_count": 3,
   "metadata": {},
   "outputs": [
    {
     "data": {
      "text/plain": [
       "212×9 Array{Any,2}:\n",
       "     1     16       \"          \"  …  \"          \"  30.2056   9.2421  \"\"\n",
       "     1   8228       \"          \"     \"          \"  35.8214  15.2746  \"\"\n",
       "     1  17008       \"          \"     \"          \"  36.053   19.505   \"\"\n",
       "     1   9218  17008                 \"          \"  38.9635  18.9857  \"\"\n",
       "     1   3226   9218                 \"          \"  33.7391  21.1041  \"\"\n",
       "     2     29       \"          \"  …  \"          \"  34.8884  19.0114  \"\"\n",
       "     2   2294       \"          \"     \"          \"  37.7011  19.1656  \"\"\n",
       "     2   3416       \"          \"     \"          \"  45.1317  19.8409  \"\"\n",
       "     2  17893   2294                 \"          \"  35.156   14.1423  \"\"\n",
       "     2   6952   3416                 \"          \"  42.4514  19.9271  \"\"\n",
       "     2  14695   2294              …  \"          \"  35.6426  17.4191  \"\"\n",
       "     2   6790   2294                 \"          \"  40.6344  23.6845  \"\"\n",
       "     2   3916   2294                 \"          \"  34.8618  16.8684  \"\"\n",
       "     ⋮                            ⋱  ⋮                                 \n",
       "    31   9277   4257              …  \"          \"  40.0522  21.5122  \"\"\n",
       "    31  16139   4257                 \"          \"  39.3161  24.8508  \"\"\n",
       "    31  10439   4257                 \"          \"  41.7913  22.5294  \"\"\n",
       "    31     63  17673                 \"          \"  36.3301  17.0813  \"\"\n",
       " 10006     66       \"          \"     \"          \"  42.9442  17.1984  \"\"\n",
       " 10008     92       \"          \"  …  \"          \"  39.8927  20.9043  \"\"\n",
       " 10014    186       \"          \"     \"          \"  42.5795  15.9365  \"\"\n",
       " 10027    374       \"          \"     \"          \"  47.8619  19.8943  \"\"\n",
       " 10029    434       \"          \"     \"          \"  41.0531  25.1045  \"\"\n",
       " 10033    333       \"          \"     \"          \"  39.9502  19.7227  \"\"\n",
       " 10040    234       \"          \"  …  \"          \"  35.4778  21.935   \"\"\n",
       " 10045    789       \"          \"     \"          \"  44.3932  26.1222  \"\""
      ]
     },
     "execution_count": 3,
     "metadata": {},
     "output_type": "execute_result"
    }
   ],
   "source": [
    "# columns are: :famid, :id, :moid, :faid, :sex, :twin, :Trait1,:Trait2\n",
    "pedLMM = readcsv(\"SNP_29C.fam\", Any; header = false)"
   ]
  },
  {
   "cell_type": "markdown",
   "metadata": {},
   "source": [
    "We don't need to retain the ids so we retrieve the two phenotypes and put them in an array Y."
   ]
  },
  {
   "cell_type": "code",
   "execution_count": 4,
   "metadata": {},
   "outputs": [
    {
     "data": {
      "text/plain": [
       "212×2 Array{Float64,2}:\n",
       " 30.2056   9.2421\n",
       " 35.8214  15.2746\n",
       " 36.053   19.505 \n",
       " 38.9635  18.9857\n",
       " 33.7391  21.1041\n",
       " 34.8884  19.0114\n",
       " 37.7011  19.1656\n",
       " 45.1317  19.8409\n",
       " 35.156   14.1423\n",
       " 42.4514  19.9271\n",
       " 35.6426  17.4191\n",
       " 40.6344  23.6845\n",
       " 34.8618  16.8684\n",
       "  ⋮              \n",
       " 40.0522  21.5122\n",
       " 39.3161  24.8508\n",
       " 41.7913  22.5294\n",
       " 36.3301  17.0813\n",
       " 42.9442  17.1984\n",
       " 39.8927  20.9043\n",
       " 42.5795  15.9365\n",
       " 47.8619  19.8943\n",
       " 41.0531  25.1045\n",
       " 39.9502  19.7227\n",
       " 35.4778  21.935 \n",
       " 44.3932  26.1222"
      ]
     },
     "execution_count": 4,
     "metadata": {},
     "output_type": "execute_result"
    }
   ],
   "source": [
    "Trait1 = convert(Vector{Float64}, pedLMM[:, 7])\n",
    "Trait2 = convert(Vector{Float64}, pedLMM[:, 8])\n",
    "Y = [Trait1 Trait2]"
   ]
  },
  {
   "cell_type": "markdown",
   "metadata": {},
   "source": [
    "We retrieve sex data coded as 0 (male) or 1 (female), which means male is the reference group.  You can change the \n",
    "code to sex = map(x -> strip(x) == \"M\"? 1.0 : 0.0,  pedLMM[:, 5]) if you want female to be the reference group. "
   ]
  },
  {
   "cell_type": "code",
   "execution_count": 5,
   "metadata": {},
   "outputs": [
    {
     "data": {
      "text/plain": [
       "212-element Array{Float64,1}:\n",
       " 1.0\n",
       " 1.0\n",
       " 0.0\n",
       " 0.0\n",
       " 1.0\n",
       " 1.0\n",
       " 0.0\n",
       " 0.0\n",
       " 1.0\n",
       " 0.0\n",
       " 1.0\n",
       " 0.0\n",
       " 1.0\n",
       " ⋮  \n",
       " 0.0\n",
       " 0.0\n",
       " 0.0\n",
       " 1.0\n",
       " 0.0\n",
       " 0.0\n",
       " 0.0\n",
       " 0.0\n",
       " 0.0\n",
       " 0.0\n",
       " 0.0\n",
       " 0.0"
      ]
     },
     "execution_count": 5,
     "metadata": {},
     "output_type": "execute_result"
    }
   ],
   "source": [
    "sex = map(x -> strip(x) == \"F\"? 1.0 : 0.0,  pedLMM[:, 5])"
   ]
  },
  {
   "cell_type": "markdown",
   "metadata": {},
   "source": [
    "Take a look at the first 10 lines of the SNP definition file before we read in into an array using a unix command."
   ]
  },
  {
   "cell_type": "code",
   "execution_count": 7,
   "metadata": {},
   "outputs": [
    {
     "name": "stdout",
     "output_type": "stream",
     "text": [
      "19\trs3020701       \t0\t90974\t1\t2\n",
      "19\trs56343121      \t0\t91106\t1\t2\n",
      "19\trs143501051     \t0\t93542\t1\t2\n",
      "19\trs56182540      \t0\t95981\t1\t2\n",
      "19\trs7260412       \t0\t105021\t1\t2\n",
      "19\trs11669393      \t0\t107866\t1\t2\n",
      "19\trs181646587     \t0\t107894\t1\t2\n",
      "19\trs8106297       \t0\t107958\t1\t2\n",
      "19\trs8106302       \t0\t107962\t1\t2\n",
      "19\trs183568620     \t0\t107987\t1\t2\n"
     ]
    }
   ],
   "source": [
    ";head SNP_29a.bim"
   ]
  },
  {
   "cell_type": "markdown",
   "metadata": {},
   "source": [
    "Read in the SNP definition file into a Julia array."
   ]
  },
  {
   "cell_type": "code",
   "execution_count": 8,
   "metadata": {},
   "outputs": [
    {
     "data": {
      "text/plain": [
       "253141×6 Array{Any,2}:\n",
       " 19  \"rs3020701\"    0     90974  1  2\n",
       " 19  \"rs56343121\"   0     91106  1  2\n",
       " 19  \"rs143501051\"  0     93542  1  2\n",
       " 19  \"rs56182540\"   0     95981  1  2\n",
       " 19  \"rs7260412\"    0    105021  1  2\n",
       " 19  \"rs11669393\"   0    107866  1  2\n",
       " 19  \"rs181646587\"  0    107894  1  2\n",
       " 19  \"rs8106297\"    0    107958  1  2\n",
       " 19  \"rs8106302\"    0    107962  1  2\n",
       " 19  \"rs183568620\"  0    107987  1  2\n",
       " 19  \"rs186451972\"  0    108003  1  2\n",
       " 19  \"rs189699222\"  0    108032  1  2\n",
       " 19  \"rs182902214\"  0    108090  1  2\n",
       "  ⋮                                 ⋮\n",
       " 19  \"rs188169422\"  0  59116080  1  2\n",
       " 19  \"rs144587467\"  0  59117729  1  2\n",
       " 19  \"rs139879509\"  0  59117949  1  2\n",
       " 19  \"rs143250448\"  0  59117982  1  2\n",
       " 19  \"rs145384750\"  0  59118028  1  2\n",
       " 19  \"rs149215836\"  0  59118040  1  2\n",
       " 19  \"rs139221927\"  0  59118044  1  2\n",
       " 19  \"rs181848453\"  0  59118114  1  2\n",
       " 19  \"rs138318162\"  0  59118148  1  2\n",
       " 19  \"rs186913222\"  0  59118616  1  2\n",
       " 19  \"rs141816674\"  0  59118779  1  2\n",
       " 19  \"rs150801216\"  0  59118783  1  2"
      ]
     },
     "execution_count": 8,
     "metadata": {},
     "output_type": "execute_result"
    }
   ],
   "source": [
    "# columns are: :chrom, :snpid, :?, :pos, :allele1, :allele2\n",
    "snpLMM = readdlm(\"SNP_29a.bim\"; header = false)"
   ]
  },
  {
   "cell_type": "markdown",
   "metadata": {},
   "source": [
    "We don't need the relative position of the snps in this case so we just retrieve SNP IDs."
   ]
  },
  {
   "cell_type": "code",
   "execution_count": 9,
   "metadata": {},
   "outputs": [
    {
     "data": {
      "text/plain": [
       "253141-element Array{AbstractString,1}:\n",
       " \"rs3020701\"  \n",
       " \"rs56343121\" \n",
       " \"rs143501051\"\n",
       " \"rs56182540\" \n",
       " \"rs7260412\"  \n",
       " \"rs11669393\" \n",
       " \"rs181646587\"\n",
       " \"rs8106297\"  \n",
       " \"rs8106302\"  \n",
       " \"rs183568620\"\n",
       " \"rs186451972\"\n",
       " \"rs189699222\"\n",
       " \"rs182902214\"\n",
       " ⋮            \n",
       " \"rs188169422\"\n",
       " \"rs144587467\"\n",
       " \"rs139879509\"\n",
       " \"rs143250448\"\n",
       " \"rs145384750\"\n",
       " \"rs149215836\"\n",
       " \"rs139221927\"\n",
       " \"rs181848453\"\n",
       " \"rs138318162\"\n",
       " \"rs186913222\"\n",
       " \"rs141816674\"\n",
       " \"rs150801216\""
      ]
     },
     "execution_count": 9,
     "metadata": {},
     "output_type": "execute_result"
    }
   ],
   "source": [
    "snpid = map(x -> strip(string(x)), snpLMM[:, 2])"
   ]
  },
  {
   "cell_type": "markdown",
   "metadata": {},
   "source": [
    "Read in the SNP binary file using the SnpArray.jl package."
   ]
  },
  {
   "cell_type": "code",
   "execution_count": 10,
   "metadata": {},
   "outputs": [
    {
     "name": "stderr",
     "output_type": "stream",
     "text": [
      "\u001b[1m\u001b[36mINFO: \u001b[39m\u001b[22m\u001b[36mv1.0 BED file detected\n",
      "\u001b[39m"
     ]
    },
    {
     "data": {
      "text/plain": [
       "212×253141 SnpArrays.SnpArray{2}:\n",
       " (true, true)  (true, true)   …  (true, true)    (false, false)\n",
       " (true, true)  (true, true)      (true, true)    (false, false)\n",
       " (true, true)  (true, true)      (true, true)    (false, false)\n",
       " (true, true)  (true, true)      (true, true)    (false, false)\n",
       " (true, true)  (true, true)      (true, true)    (false, false)\n",
       " (true, true)  (true, true)   …  (false, false)  (true, true)  \n",
       " (true, true)  (false, true)     (false, false)  (true, true)  \n",
       " (true, true)  (true, true)      (false, false)  (true, true)  \n",
       " (true, true)  (false, true)     (false, false)  (true, true)  \n",
       " (true, true)  (false, true)     (false, false)  (true, true)  \n",
       " (true, true)  (false, true)  …  (false, false)  (true, true)  \n",
       " (true, true)  (true, true)      (false, false)  (true, true)  \n",
       " (true, true)  (false, true)     (false, false)  (true, true)  \n",
       " ⋮                            ⋱                  ⋮             \n",
       " (true, true)  (true, true)   …  (true, true)    (false, false)\n",
       " (true, true)  (true, true)      (false, true)   (false, true) \n",
       " (true, true)  (true, true)      (true, true)    (false, false)\n",
       " (true, true)  (false, true)     (false, false)  (true, true)  \n",
       " (true, true)  (true, true)      (true, true)    (false, false)\n",
       " (true, true)  (true, true)   …  (false, true)   (false, false)\n",
       " (true, true)  (true, true)      (false, true)   (false, true) \n",
       " (true, true)  (true, true)      (true, true)    (false, false)\n",
       " (true, true)  (false, true)     (false, true)   (false, true) \n",
       " (true, true)  (true, true)      (true, true)    (false, false)\n",
       " (true, true)  (true, true)   …  (true, true)    (false, false)\n",
       " (true, true)  (true, true)      (false, true)   (false, true) "
      ]
     },
     "execution_count": 10,
     "metadata": {},
     "output_type": "execute_result"
    }
   ],
   "source": [
    "using SnpArrays\n",
    "snpbinLMM = SnpArray(\"SNP_29a\")"
   ]
  },
  {
   "cell_type": "markdown",
   "metadata": {},
   "source": [
    "### Filtering the variant data to improve the quality of the GRM"
   ]
  },
  {
   "cell_type": "markdown",
   "metadata": {},
   "source": [
    "First we get an idea of the minor allele frequencies. We can see by checking the quantiles that many of the loci are invariant or rather rare. By default the GRM function uses only variants with minor allele frequencies greater than 0.01 but we want to impose additional restrictions so that the MAF >0.05 and the percent success rate is >98% to avoid potential biases"
   ]
  },
  {
   "cell_type": "code",
   "execution_count": 11,
   "metadata": {},
   "outputs": [
    {
     "data": {
      "text/plain": [
       "([0.0165094, 0.0825472, 0.00943396, 0.0872642, 0.0849057, 0.0259434, 0.0141509, 0.0589623, 0.0589623, 0.0188679  …  0.313679, 0.28066, 0.287736, 0.370283, 0.306604, 0.0707547, 0.0448113, 0.216981, 0.28066, 0.278302], Bool[true, true, false, true, true, true, false, true, true, false  …  true, true, true, false, false, true, false, false, true, false], [0, 0, 0, 0, 0, 0, 0, 0, 0, 0  …  0, 0, 0, 0, 0, 0, 0, 0, 0, 0], [0, 0, 0, 0, 0, 0, 0, 0, 0, 0  …  0, 0, 0, 0, 0, 0, 0, 0, 0, 0])"
      ]
     },
     "execution_count": 11,
     "metadata": {},
     "output_type": "execute_result"
    }
   ],
   "source": [
    "maf, minor_allele, missings_by_snp, missings_by_person = summarize(snpbinLMM)"
   ]
  },
  {
   "cell_type": "code",
   "execution_count": 12,
   "metadata": {},
   "outputs": [
    {
     "data": {
      "text/plain": [
       "1×5 Array{Float64,2}:\n",
       " 0.00235849  0.0117925  0.0683962  0.228774  0.5"
      ]
     },
     "execution_count": 12,
     "metadata": {},
     "output_type": "execute_result"
    }
   ],
   "source": [
    "quantile(maf, [0.0 .25 .5 .75 1.0])"
   ]
  },
  {
   "cell_type": "code",
   "execution_count": 13,
   "metadata": {},
   "outputs": [
    {
     "data": {
      "text/plain": [
       "(Bool[true, true, true, true, true, true, true, true, true, true  …  true, true, true, true, true, true, true, true, true, true], Bool[true, true, true, true, true, true, true, true, true, true  …  true, true, true, true, true, true, true, true, true, true])"
      ]
     },
     "execution_count": 13,
     "metadata": {},
     "output_type": "execute_result"
    }
   ],
   "source": [
    "#first we filter out snps with genotype success rates < 98% and get the snp id's of snps with MAF>0.98\n",
    "snp_idx, _ = filter(snpbinLMM, 0.98)"
   ]
  },
  {
   "cell_type": "code",
   "execution_count": 14,
   "metadata": {},
   "outputs": [],
   "source": [
    "#now we find the index of the common snps (MAF greater than or equal to 0.05) with success rates >0.98\n",
    "common_index = snp_idx .& (0.05 .≤ maf);"
   ]
  },
  {
   "cell_type": "code",
   "execution_count": 15,
   "metadata": {},
   "outputs": [
    {
     "data": {
      "text/plain": [
       "212×137741 SnpArrays.SnpArray{2}:\n",
       " (true, true)   (true, true)   …  (true, true)    (false, false)\n",
       " (true, true)   (false, true)     (true, true)    (false, false)\n",
       " (true, true)   (true, true)      (true, true)    (false, false)\n",
       " (true, true)   (true, true)      (true, true)    (false, false)\n",
       " (true, true)   (true, true)      (true, true)    (false, false)\n",
       " (true, true)   (true, true)   …  (false, false)  (true, true)  \n",
       " (false, true)  (true, true)      (false, false)  (true, true)  \n",
       " (true, true)   (true, true)      (false, false)  (true, true)  \n",
       " (false, true)  (true, true)      (false, false)  (true, true)  \n",
       " (false, true)  (true, true)      (false, false)  (true, true)  \n",
       " (false, true)  (true, true)   …  (false, false)  (true, true)  \n",
       " (true, true)   (true, true)      (false, false)  (true, true)  \n",
       " (false, true)  (true, true)      (false, false)  (true, true)  \n",
       " ⋮                             ⋱                  ⋮             \n",
       " (true, true)   (true, true)   …  (true, true)    (false, false)\n",
       " (true, true)   (true, true)      (false, true)   (false, true) \n",
       " (true, true)   (true, true)      (true, true)    (false, false)\n",
       " (false, true)  (false, true)     (false, false)  (true, true)  \n",
       " (true, true)   (false, true)     (true, true)    (false, false)\n",
       " (true, true)   (true, true)   …  (false, true)   (false, false)\n",
       " (true, true)   (false, true)     (false, true)   (false, true) \n",
       " (true, true)   (true, true)      (true, true)    (false, false)\n",
       " (false, true)  (true, true)      (false, true)   (false, true) \n",
       " (true, true)   (true, true)      (true, true)    (false, false)\n",
       " (true, true)   (true, true)   …  (true, true)    (false, false)\n",
       " (true, true)   (true, true)      (false, true)   (false, true) "
      ]
     },
     "execution_count": 15,
     "metadata": {},
     "output_type": "execute_result"
    }
   ],
   "source": [
    "# now we put these snps into an array for use with the GRM function. \n",
    "data_common = snpbinLMM[ : , common_index]"
   ]
  },
  {
   "cell_type": "markdown",
   "metadata": {},
   "source": [
    "## Kinship via Genetic Relationship Matrix (GRM)\n",
    "\n",
    "Recall that in using variance components (linear mixed models) we need a measure of the relatedness among individuals. In this example we use the GRM, so that the estimate of the global kinship coefficient of individuals $i$ and $j$ is,\n",
    "$$ \\widehat\\Phi_{GRMij} = \\frac{1}{2S} \\sum_{k=1}^S \\frac{(x_{ik} -2p_k)(x_{jk} - 2p_k)}{2 p_k (1-p_k)}$$\n",
    "where $k$ ranges over the selected $S$ SNPs, $p_k$ is the minor allele frequency of SNP $k$, and $x_{ik}$ is the number of minor alleles in individual $i$s genotype at SNP $k$."
   ]
  },
  {
   "cell_type": "markdown",
   "metadata": {},
   "source": [
    "## Calculate the GRM matrix\n",
    "\n",
    "As mentioned above, by default, `grm` excludes SNPs with maf < 0.01 but we will use only the common snps (>0.05) with good success rates (>0.98). "
   ]
  },
  {
   "cell_type": "code",
   "execution_count": 16,
   "metadata": {},
   "outputs": [
    {
     "data": {
      "text/plain": [
       "212×212 Array{Float64,2}:\n",
       "  0.498264     0.0080878    0.0164327   …   0.0246825    0.00181856\n",
       "  0.0080878    0.498054    -0.0212599      -0.0285927   -0.0226525 \n",
       "  0.0164327   -0.0212599    0.499442       -0.0219661   -0.00748536\n",
       "  0.253627    -0.00160532   0.282542        0.00612693  -0.00339125\n",
       "  0.126098     0.253365     0.128931       -0.0158446   -0.00633959\n",
       " -0.014971    -0.00266073  -0.00243384  …   0.00384757   0.0145936 \n",
       " -0.0221357    0.0100492   -0.0107012      -0.0148443   -0.00127783\n",
       " -0.01629     -0.00749253  -0.015372       -0.0163305   -0.00258392\n",
       " -0.016679     0.00353587  -0.0128844      -0.0332489   -0.00707839\n",
       " -0.0176101   -0.00996912  -0.0158473      -0.00675875  -0.0122339 \n",
       " -0.0162558    0.00938592   0.0064231   …  -0.00510882   0.0168778 \n",
       " -0.0167487    0.00414544  -0.00936538     -0.0134863    0.0020952 \n",
       " -0.031148     0.00112387  -0.010794        0.00383105   0.0198635 \n",
       "  ⋮                                     ⋱   ⋮                      \n",
       " -0.00865735  -0.00335548  -0.0148433   …   0.00806601  -0.0211537 \n",
       "  0.00296028   0.0043655   -0.0183683       0.0012496    0.00898193\n",
       " -0.0204601   -0.0270898   -0.00194048     -0.0185883   -0.0116621 \n",
       " -0.0174561   -0.0128509   -0.0155773      -0.0274183   -0.0063823 \n",
       " -0.00170995   0.0154211   -0.00168146     -0.00684865  -0.0067438 \n",
       "  0.00718047  -0.00525265  -0.00283975  …   0.0309601    0.0261103 \n",
       " -0.0170218   -0.00661916   0.0020924      -0.022858     0.0037451 \n",
       "  0.0142551    0.0208073    0.0096287       0.00598877   0.0094809 \n",
       " -0.00586031  -0.00733706   0.0339257       0.0109116   -0.0177771 \n",
       "  0.00299024  -0.0134027    0.0150825       0.00799507   0.0150077 \n",
       "  0.0246825   -0.0285927   -0.0219661   …   0.593999     0.0497083 \n",
       "  0.00181856  -0.0226525   -0.00748536      0.0497083    0.491743  "
      ]
     },
     "execution_count": 16,
     "metadata": {},
     "output_type": "execute_result"
    }
   ],
   "source": [
    "Φgrm = grm(data_common)"
   ]
  },
  {
   "cell_type": "markdown",
   "metadata": {},
   "source": [
    "## Fit the null variance component model\n",
    "\n",
    "Recall that we are using a variance component model with Trait1 as the outcome. Under the null hypothesis Trait1 is associated with sex (as a fixed effect).  We also need to account for the relatedness among individuals.  To do that we include a random effect and use the GRM matrix to describe the covariation structure. \n",
    "    $$ Y_{2i} = \\mu +\\beta_{sex} sex_i + A_i + e_i$$ \n",
    "    $$ A_i \\sim N(0,\\sigma^2_a)$$ $$e_i \\sim N(0,\\sigma^2_e)$$\n",
    "    $$ Cov(Y_{2i},Y_{2j})=2\\Phi_{ij} \\sigma^2_a + 1_{i = j}\\sigma^2_e$$"
   ]
  },
  {
   "cell_type": "code",
   "execution_count": 17,
   "metadata": {},
   "outputs": [
    {
     "data": {
      "text/plain": [
       "VarianceComponentModels.VarianceComponentVariate{Float64,2,Array{Float64,1},Array{Float64,2},Array{Float64,2}}([30.2056, 35.8214, 36.053, 38.9635, 33.7391, 34.8884, 37.7011, 45.1317, 35.156, 42.4514  …  41.7913, 36.3301, 42.9442, 39.8927, 42.5795, 47.8619, 41.0531, 39.9502, 35.4778, 44.3932], [1.0 1.0; 1.0 1.0; … ; 1.0 0.0; 1.0 0.0], ([0.996528 0.0161756 … 0.049365 0.00363711; 0.0161756 0.996108 … -0.0571855 -0.0453049; … ; 0.049365 -0.0571855 … 1.188 0.0994167; 0.00363711 -0.0453049 … 0.0994167 0.983485], [1.0 0.0 … 0.0 0.0; 0.0 1.0 … 0.0 0.0; … ; 0.0 0.0 … 1.0 0.0; 0.0 0.0 … 0.0 1.0]))"
      ]
     },
     "execution_count": 17,
     "metadata": {},
     "output_type": "execute_result"
    }
   ],
   "source": [
    "using VarianceComponentModels\n",
    "# Null data model has two variance components but no SNP fixed effects\n",
    "# form data as VarianceComponentVariate matrix \n",
    "# change the next two commands if you want to run trait 2 or both traits (Y)\n",
    "X = [ones(length(Trait1)) sex]\n",
    "nulldata = VarianceComponentVariate(Y[:,1], X, (2Φgrm, eye(length(Trait1))))"
   ]
  },
  {
   "cell_type": "code",
   "execution_count": 18,
   "metadata": {},
   "outputs": [
    {
     "data": {
      "text/plain": [
       "VarianceComponentModels.VarianceComponentModel{Float64,2,Array{Float64,2},Array{Float64,2}}([0.0; 0.0], ([1.0], [1.0]), Array{Float64}(0,2), Char[], Float64[], -Inf, Inf)"
      ]
     },
     "execution_count": 18,
     "metadata": {},
     "output_type": "execute_result"
    }
   ],
   "source": [
    "nullmodel = VarianceComponentModel(nulldata)"
   ]
  },
  {
   "cell_type": "code",
   "execution_count": 19,
   "metadata": {},
   "outputs": [
    {
     "name": "stdout",
     "output_type": "stream",
     "text": [
      "\n",
      "******************************************************************************\n",
      "This program contains Ipopt, a library for large-scale nonlinear optimization.\n",
      " Ipopt is released as open source code under the Eclipse Public License (EPL).\n",
      "         For more information visit http://projects.coin-or.org/Ipopt\n",
      "******************************************************************************\n",
      "\n",
      "This is Ipopt version 3.12.8, running with linear solver mumps.\n",
      "NOTE: Other linear solvers might be more efficient (see Ipopt documentation).\n",
      "\n",
      "Number of nonzeros in equality constraint Jacobian...:        0\n",
      "Number of nonzeros in inequality constraint Jacobian.:        0\n",
      "Number of nonzeros in Lagrangian Hessian.............:        3\n",
      "\n",
      "Total number of variables............................:        2\n",
      "                     variables with only lower bounds:        0\n",
      "                variables with lower and upper bounds:        0\n",
      "                     variables with only upper bounds:        0\n",
      "Total number of equality constraints.................:        0\n",
      "Total number of inequality constraints...............:        0\n",
      "        inequality constraints with only lower bounds:        0\n",
      "   inequality constraints with lower and upper bounds:        0\n",
      "        inequality constraints with only upper bounds:        0\n",
      "\n",
      "iter    objective    inf_pr   inf_du lg(mu)  ||d||  lg(rg) alpha_du alpha_pr  ls\n",
      "   0  5.6573934e+02 0.00e+00 1.00e+02   0.0 0.00e+00    -  0.00e+00 0.00e+00   0 \n",
      "   5  4.7521663e+02 0.00e+00 7.09e-02 -11.0 2.88e-02    -  1.00e+00 1.00e+00f  1 MaxS\n",
      "  10  4.7521651e+02 0.00e+00 3.58e-09 -11.0 5.15e-09    -  1.00e+00 1.00e+00f  1 MaxS\n",
      "\n",
      "Number of Iterations....: 10\n",
      "\n",
      "                                   (scaled)                 (unscaled)\n",
      "Objective...............:   2.0960187441038576e+02    4.7521651097110305e+02\n",
      "Dual infeasibility......:   3.5821383450550896e-09    8.1215461023020907e-09\n",
      "Constraint violation....:   0.0000000000000000e+00    0.0000000000000000e+00\n",
      "Complementarity.........:   0.0000000000000000e+00    0.0000000000000000e+00\n",
      "Overall NLP error.......:   3.5821383450550896e-09    8.1215461023020907e-09\n",
      "\n",
      "\n",
      "Number of objective function evaluations             = 11\n",
      "Number of objective gradient evaluations             = 11\n",
      "Number of equality constraint evaluations            = 0\n",
      "Number of inequality constraint evaluations          = 0\n",
      "Number of equality constraint Jacobian evaluations   = 0\n",
      "Number of inequality constraint Jacobian evaluations = 0\n",
      "Number of Lagrangian Hessian evaluations             = 10\n",
      "Total CPU secs in IPOPT (w/o function evaluations)   =      2.149\n",
      "Total CPU secs in NLP function evaluations           =      0.268\n",
      "\n",
      "EXIT: Optimal Solution Found.\n",
      "  6.048931 seconds (3.89 M allocations: 183.101 MiB, 1.35% gc time)\n"
     ]
    },
    {
     "data": {
      "text/plain": [
       "(-475.21651097110305, VarianceComponentModels.VarianceComponentModel{Float64,2,Array{Float64,2},Array{Float64,2}}([40.8917; -6.6255], ([4.06929], [2.15102]), Array{Float64}(0,2), Char[], Float64[], -Inf, Inf), ([0.963035], [0.558179]), [0.927437 -0.371979; -0.371979 0.311564], [0.173131; 0.307754], [0.0299744 -0.0433355; -0.0433355 0.0947127])"
      ]
     },
     "execution_count": 19,
     "metadata": {},
     "output_type": "execute_result"
    }
   ],
   "source": [
    "@time nulllogl, nullmodel, = fit_mle!(nullmodel, nulldata; algo = :FS)"
   ]
  },
  {
   "cell_type": "code",
   "execution_count": 20,
   "metadata": {},
   "outputs": [
    {
     "data": {
      "text/plain": [
       "-475.21651097110305"
      ]
     },
     "execution_count": 20,
     "metadata": {},
     "output_type": "execute_result"
    }
   ],
   "source": [
    "# null model log-likelihood for no SNP effects\n",
    "nulllogl"
   ]
  },
  {
   "cell_type": "code",
   "execution_count": 21,
   "metadata": {},
   "outputs": [
    {
     "data": {
      "text/plain": [
       "2×1 Array{Float64,2}:\n",
       " 40.8917\n",
       " -6.6255"
      ]
     },
     "execution_count": 21,
     "metadata": {},
     "output_type": "execute_result"
    }
   ],
   "source": [
    "# null model mean effects - in this case a grand mean and a sex effect\n",
    "nullmodel.B"
   ]
  },
  {
   "cell_type": "code",
   "execution_count": 22,
   "metadata": {},
   "outputs": [
    {
     "data": {
      "text/plain": [
       "1×1 Array{Float64,2}:\n",
       " 4.06929"
      ]
     },
     "execution_count": 22,
     "metadata": {},
     "output_type": "execute_result"
    }
   ],
   "source": [
    "# null model additive genetic variance\n",
    "nullmodel.Σ[1]"
   ]
  },
  {
   "cell_type": "code",
   "execution_count": 23,
   "metadata": {},
   "outputs": [
    {
     "data": {
      "text/plain": [
       "1×1 Array{Float64,2}:\n",
       " 2.15102"
      ]
     },
     "execution_count": 23,
     "metadata": {},
     "output_type": "execute_result"
    }
   ],
   "source": [
    "# null model environmental variance\n",
    "nullmodel.Σ[2]"
   ]
  },
  {
   "cell_type": "markdown",
   "metadata": {},
   "source": [
    "### Heritability \n",
    "Calculate the proportion of the variance that can be attributed to additive genetic effects, the narrow sense heritability.  We calculate it here without any SNPs included. "
   ]
  },
  {
   "cell_type": "code",
   "execution_count": 24,
   "metadata": {},
   "outputs": [
    {
     "data": {
      "text/plain": [
       "1×1 Array{Float64,2}:\n",
       " 0.654194"
      ]
     },
     "execution_count": 24,
     "metadata": {},
     "output_type": "execute_result"
    }
   ],
   "source": [
    "her_null = nullmodel.Σ[1]/(nullmodel.Σ[1] + nullmodel.Σ[2])"
   ]
  },
  {
   "cell_type": "markdown",
   "metadata": {},
   "source": [
    "# Fit the variance component model with SNPs as fixed effects\n",
    "\n",
    "## Processing the SNP data\n",
    "These data were simulated under a scenario in which one snp has a large main effect. First we find the index of that SNP, \"rs10412915,\" and for the sake of demonstrating how to test for interactions we also find index of SNP \"rs1036231.\" "
   ]
  },
  {
   "cell_type": "code",
   "execution_count": 25,
   "metadata": {},
   "outputs": [
    {
     "data": {
      "text/plain": [
       "236108"
      ]
     },
     "execution_count": 25,
     "metadata": {},
     "output_type": "execute_result"
    }
   ],
   "source": [
    "ind_rs10412915 = find(x -> x == \"rs10412915\", snpid)[1]\n",
    "ind_rs1036231 = find(x -> x == \"rs1036231\", snpid)[1]"
   ]
  },
  {
   "cell_type": "markdown",
   "metadata": {},
   "source": [
    "Now we convert the SNP data into 0, 1, or 2 copies of the minor allele and form the data for the interaction of the two SNPs. "
   ]
  },
  {
   "cell_type": "code",
   "execution_count": 26,
   "metadata": {},
   "outputs": [
    {
     "data": {
      "text/plain": [
       "212-element Array{Float64,1}:\n",
       " 0.0\n",
       " 4.0\n",
       " 0.0\n",
       " 0.0\n",
       " 1.0\n",
       " 1.0\n",
       " 1.0\n",
       " 0.0\n",
       " 1.0\n",
       " 1.0\n",
       " 4.0\n",
       " 4.0\n",
       " 4.0\n",
       " ⋮  \n",
       " 0.0\n",
       " 1.0\n",
       " 0.0\n",
       " 1.0\n",
       " 0.0\n",
       " 1.0\n",
       " 1.0\n",
       " 1.0\n",
       " 0.0\n",
       " 1.0\n",
       " 0.0\n",
       " 4.0"
      ]
     },
     "execution_count": 26,
     "metadata": {},
     "output_type": "execute_result"
    }
   ],
   "source": [
    "snp_rs10412915 = convert(Vector{Float64}, snpbinLMM[:, ind_rs10412915])\n",
    "snp_rs1036231 = convert(Vector{Float64}, snpbinLMM[:, ind_rs1036231])\n",
    "interaction = snp_rs10412915 .* snp_rs1036231"
   ]
  },
  {
   "cell_type": "markdown",
   "metadata": {},
   "source": [
    "## Look at the effect of a single SNP snp_rs10412915\n",
    "\n",
    "We first test whether snp_rs10412915 has a significant effect. We form the correct design matrix Xalt with an ntercept, sex, and the snp of interest snp_rs10412915. Then we form the Variance Component Model by calling the VarainceComponents.jl package. "
   ]
  },
  {
   "cell_type": "code",
   "execution_count": 27,
   "metadata": {},
   "outputs": [
    {
     "data": {
      "text/plain": [
       "VarianceComponentModels.VarianceComponentVariate{Float64,2,Array{Float64,1},Array{Float64,2},Array{Float64,2}}([30.2056, 35.8214, 36.053, 38.9635, 33.7391, 34.8884, 37.7011, 45.1317, 35.156, 42.4514  …  41.7913, 36.3301, 42.9442, 39.8927, 42.5795, 47.8619, 41.0531, 39.9502, 35.4778, 44.3932], [1.0 1.0 0.0; 1.0 1.0 2.0; … ; 1.0 0.0 0.0; 1.0 0.0 2.0], ([0.996528 0.0161756 … 0.049365 0.00363711; 0.0161756 0.996108 … -0.0571855 -0.0453049; … ; 0.049365 -0.0571855 … 1.188 0.0994167; 0.00363711 -0.0453049 … 0.0994167 0.983485], [1.0 0.0 … 0.0 0.0; 0.0 1.0 … 0.0 0.0; … ; 0.0 0.0 … 1.0 0.0; 0.0 0.0 … 0.0 1.0]))"
      ]
     },
     "execution_count": 27,
     "metadata": {},
     "output_type": "execute_result"
    }
   ],
   "source": [
    "# form data as VarianceComponentVariate - put the data in a form that VarianceComponentModels can use\n",
    "Xalt = [ones(length(Trait1)) sex snp_rs10412915]\n",
    "altdata = VarianceComponentVariate(Y[:, 1], Xalt, (2Φgrm, eye(length(Trait1))))"
   ]
  },
  {
   "cell_type": "code",
   "execution_count": 28,
   "metadata": {},
   "outputs": [
    {
     "data": {
      "text/plain": [
       "VarianceComponentModels.VarianceComponentModel{Float64,2,Array{Float64,2},Array{Float64,2}}([0.0; 0.0; 0.0], ([1.0], [1.0]), Array{Float64}(0,3), Char[], Float64[], -Inf, Inf)"
      ]
     },
     "execution_count": 28,
     "metadata": {},
     "output_type": "execute_result"
    }
   ],
   "source": [
    "altmodel = VarianceComponentModel(altdata)"
   ]
  },
  {
   "cell_type": "markdown",
   "metadata": {},
   "source": [
    "### Set the starting values for the maximum likelihood estimation\n",
    "Use the null model estimates as start values for the alternative model."
   ]
  },
  {
   "cell_type": "code",
   "execution_count": 29,
   "metadata": {},
   "outputs": [
    {
     "data": {
      "text/plain": [
       "3×1 Array{Float64,2}:\n",
       " 40.8917\n",
       " -6.6255\n",
       "  0.0   "
      ]
     },
     "execution_count": 29,
     "metadata": {},
     "output_type": "execute_result"
    }
   ],
   "source": [
    "altmodel.B[1:2, :] = nullmodel.B\n",
    "altmodel.B"
   ]
  },
  {
   "cell_type": "code",
   "execution_count": 30,
   "metadata": {},
   "outputs": [
    {
     "data": {
      "text/plain": [
       "([4.06929], [2.15102])"
      ]
     },
     "execution_count": 30,
     "metadata": {},
     "output_type": "execute_result"
    }
   ],
   "source": [
    "copy!(altmodel.Σ[1], nullmodel.Σ[1])\n",
    "copy!(altmodel.Σ[2], nullmodel.Σ[2])\n",
    "altmodel.Σ"
   ]
  },
  {
   "cell_type": "code",
   "execution_count": 31,
   "metadata": {},
   "outputs": [
    {
     "name": "stdout",
     "output_type": "stream",
     "text": [
      "This is Ipopt version 3.12.8, running with linear solver mumps.\n",
      "NOTE: Other linear solvers might be more efficient (see Ipopt documentation).\n",
      "\n",
      "Number of nonzeros in equality constraint Jacobian...:        0\n",
      "Number of nonzeros in inequality constraint Jacobian.:        0\n",
      "Number of nonzeros in Lagrangian Hessian.............:        3\n",
      "\n",
      "Total number of variables............................:        2\n",
      "                     variables with only lower bounds:        0\n",
      "                variables with lower and upper bounds:        0\n",
      "                     variables with only upper bounds:        0\n",
      "Total number of equality constraints.................:        0\n",
      "Total number of inequality constraints...............:        0\n",
      "        inequality constraints with only lower bounds:        0\n",
      "   inequality constraints with lower and upper bounds:        0\n",
      "        inequality constraints with only upper bounds:        0\n",
      "\n",
      "iter    objective    inf_pr   inf_du lg(mu)  ||d||  lg(rg) alpha_du alpha_pr  ls\n",
      "   0  5.4087548e+02 0.00e+00 2.04e+02   0.0 0.00e+00    -  0.00e+00 0.00e+00   0 \n",
      "   5  4.6687637e+02 0.00e+00 7.64e-03 -11.0 4.74e-03    -  1.00e+00 1.00e+00f  1 MaxS\n",
      "  10  4.6687637e+02 0.00e+00 3.88e-10 -11.0 2.77e-10    -  1.00e+00 1.00e+00f  1 MaxS\n",
      "\n",
      "Number of Iterations....: 10\n",
      "\n",
      "                                   (scaled)                 (unscaled)\n",
      "Objective...............:   4.6687636522664411e+02    4.6687636522664411e+02\n",
      "Dual infeasibility......:   3.8802671029269996e-10    3.8802671029269996e-10\n",
      "Constraint violation....:   0.0000000000000000e+00    0.0000000000000000e+00\n",
      "Complementarity.........:   0.0000000000000000e+00    0.0000000000000000e+00\n",
      "Overall NLP error.......:   3.8802671029269996e-10    3.8802671029269996e-10\n",
      "\n",
      "\n",
      "Number of objective function evaluations             = 11\n",
      "Number of objective gradient evaluations             = 11\n",
      "Number of equality constraint evaluations            = 0\n",
      "Number of inequality constraint evaluations          = 0\n",
      "Number of equality constraint Jacobian evaluations   = 0\n",
      "Number of inequality constraint Jacobian evaluations = 0\n",
      "Number of Lagrangian Hessian evaluations             = 10\n",
      "Total CPU secs in IPOPT (w/o function evaluations)   =      0.013\n",
      "Total CPU secs in NLP function evaluations           =      0.105\n",
      "\n",
      "EXIT: Optimal Solution Found.\n",
      "  0.085607 seconds (14.70 k allocations: 2.230 MiB)\n"
     ]
    },
    {
     "data": {
      "text/plain": [
       "(-466.8763652266441, VarianceComponentModels.VarianceComponentModel{Float64,2,Array{Float64,2},Array{Float64,2}}([40.1067; -6.50856; 1.25051], ([3.37415], [2.2211]), Array{Float64}(0,3), Char[], Float64[], -Inf, Inf), ([0.860443], [0.533578]), [0.740362 -0.317562; -0.317562 0.284705], [0.251915; 0.297616; 0.298098], [0.0634613 -0.0449424 -0.0554297; -0.0449424 0.0885754 0.00754819; -0.0554297 0.00754819 0.0888623])"
      ]
     },
     "execution_count": 31,
     "metadata": {},
     "output_type": "execute_result"
    }
   ],
   "source": [
    "@time altlogl1, altmodel, = fit_mle!(altmodel, altdata; algo = :FS)"
   ]
  },
  {
   "cell_type": "code",
   "execution_count": 32,
   "metadata": {},
   "outputs": [
    {
     "data": {
      "text/plain": [
       "-466.8763652266441"
      ]
     },
     "execution_count": 32,
     "metadata": {},
     "output_type": "execute_result"
    }
   ],
   "source": [
    "# alt model log-likelihood for the single SNP, snp_c1_1235710\n",
    "altlogl1"
   ]
  },
  {
   "cell_type": "code",
   "execution_count": 33,
   "metadata": {},
   "outputs": [
    {
     "data": {
      "text/plain": [
       "3×1 Array{Float64,2}:\n",
       " 40.1067 \n",
       " -6.50856\n",
       "  1.25051"
      ]
     },
     "execution_count": 33,
     "metadata": {},
     "output_type": "execute_result"
    }
   ],
   "source": [
    "# alt model mean effects\n",
    "altmodel.B"
   ]
  },
  {
   "cell_type": "code",
   "execution_count": 34,
   "metadata": {},
   "outputs": [
    {
     "data": {
      "text/plain": [
       "1×1 Array{Float64,2}:\n",
       " 3.37415"
      ]
     },
     "execution_count": 34,
     "metadata": {},
     "output_type": "execute_result"
    }
   ],
   "source": [
    "# alt model additive genetic variance\n",
    "altmodel.Σ[1]"
   ]
  },
  {
   "cell_type": "code",
   "execution_count": 35,
   "metadata": {},
   "outputs": [
    {
     "data": {
      "text/plain": [
       "1×1 Array{Float64,2}:\n",
       " 2.2211"
      ]
     },
     "execution_count": 35,
     "metadata": {},
     "output_type": "execute_result"
    }
   ],
   "source": [
    "# alt model environmental variance\n",
    "altmodel.Σ[2]"
   ]
  },
  {
   "cell_type": "markdown",
   "metadata": {},
   "source": [
    "Notice that the additive genetic variance and the environmental variance have both decreased."
   ]
  },
  {
   "cell_type": "markdown",
   "metadata": {},
   "source": [
    "To test the significance of the SNP, we use LRT"
   ]
  },
  {
   "cell_type": "code",
   "execution_count": 36,
   "metadata": {},
   "outputs": [
    {
     "data": {
      "text/plain": [
       "16.680291488917874"
      ]
     },
     "execution_count": 36,
     "metadata": {},
     "output_type": "execute_result"
    }
   ],
   "source": [
    "using Distributions\n",
    "LRT1 = 2(altlogl1 - nulllogl)"
   ]
  },
  {
   "cell_type": "code",
   "execution_count": 37,
   "metadata": {},
   "outputs": [
    {
     "data": {
      "text/plain": [
       "4.423820951296014e-5"
      ]
     },
     "execution_count": 37,
     "metadata": {},
     "output_type": "execute_result"
    }
   ],
   "source": [
    "#change the degrees of freedom if running a bivariate outcome\n",
    "pval_snp_rs10412915 = ccdf(Chisq(1), LRT1)"
   ]
  },
  {
   "cell_type": "markdown",
   "metadata": {},
   "source": [
    "Although snp_rs10412915 has a small pvalue, the results aren't genomewide significant."
   ]
  },
  {
   "cell_type": "markdown",
   "metadata": {},
   "source": [
    "## Check for an interaction.  \n",
    "### First calculate the log likelihood for additive effects of the two snps snp_rs10412915 and snp_rs1036231 without the interaction\n",
    "\n",
    "Similar to the single snp case, we first form the design matrix Xalt2 with an intercept, sex, snp_rs10412915 and snp_rs1036231. Then we form the Variance Component Model by calling the VarainceComponents.jl package. "
   ]
  },
  {
   "cell_type": "code",
   "execution_count": 38,
   "metadata": {},
   "outputs": [
    {
     "data": {
      "text/plain": [
       "VarianceComponentModels.VarianceComponentVariate{Float64,2,Array{Float64,1},Array{Float64,2},Array{Float64,2}}([30.2056, 35.8214, 36.053, 38.9635, 33.7391, 34.8884, 37.7011, 45.1317, 35.156, 42.4514  …  41.7913, 36.3301, 42.9442, 39.8927, 42.5795, 47.8619, 41.0531, 39.9502, 35.4778, 44.3932], [1.0 1.0 0.0 0.0; 1.0 1.0 2.0 2.0; … ; 1.0 0.0 0.0 0.0; 1.0 0.0 2.0 2.0], ([0.996528 0.0161756 … 0.049365 0.00363711; 0.0161756 0.996108 … -0.0571855 -0.0453049; … ; 0.049365 -0.0571855 … 1.188 0.0994167; 0.00363711 -0.0453049 … 0.0994167 0.983485], [1.0 0.0 … 0.0 0.0; 0.0 1.0 … 0.0 0.0; … ; 0.0 0.0 … 1.0 0.0; 0.0 0.0 … 0.0 1.0]))"
      ]
     },
     "execution_count": 38,
     "metadata": {},
     "output_type": "execute_result"
    }
   ],
   "source": [
    "# form data as VarianceComponentVariate\n",
    "Xalt2 = [ones(length(Trait1)) sex snp_rs10412915 snp_rs1036231]\n",
    "altdata2 = VarianceComponentVariate(Y[:,1], Xalt2, (2Φgrm, eye(length(Trait1))))"
   ]
  },
  {
   "cell_type": "code",
   "execution_count": 39,
   "metadata": {},
   "outputs": [
    {
     "data": {
      "text/plain": [
       "VarianceComponentModels.VarianceComponentModel{Float64,2,Array{Float64,2},Array{Float64,2}}([0.0; 0.0; 0.0; 0.0], ([1.0], [1.0]), Array{Float64}(0,4), Char[], Float64[], -Inf, Inf)"
      ]
     },
     "execution_count": 39,
     "metadata": {},
     "output_type": "execute_result"
    }
   ],
   "source": [
    "altmodel2 = VarianceComponentModel(altdata2)"
   ]
  },
  {
   "cell_type": "code",
   "execution_count": 40,
   "metadata": {},
   "outputs": [
    {
     "data": {
      "text/plain": [
       "4×1 Array{Float64,2}:\n",
       " 40.8917\n",
       " -6.6255\n",
       "  0.0   \n",
       "  0.0   "
      ]
     },
     "execution_count": 40,
     "metadata": {},
     "output_type": "execute_result"
    }
   ],
   "source": [
    "altmodel2.B[1:2, :] = nullmodel.B\n",
    "altmodel2.B"
   ]
  },
  {
   "cell_type": "code",
   "execution_count": 41,
   "metadata": {},
   "outputs": [
    {
     "data": {
      "text/plain": [
       "([4.06929], [2.15102])"
      ]
     },
     "execution_count": 41,
     "metadata": {},
     "output_type": "execute_result"
    }
   ],
   "source": [
    "copy!(altmodel2.Σ[1], nullmodel.Σ[1])\n",
    "copy!(altmodel2.Σ[2], nullmodel.Σ[2])\n",
    "altmodel2.Σ"
   ]
  },
  {
   "cell_type": "code",
   "execution_count": 42,
   "metadata": {},
   "outputs": [
    {
     "name": "stdout",
     "output_type": "stream",
     "text": [
      "This is Ipopt version 3.12.8, running with linear solver mumps.\n",
      "NOTE: Other linear solvers might be more efficient (see Ipopt documentation).\n",
      "\n",
      "Number of nonzeros in equality constraint Jacobian...:        0\n",
      "Number of nonzeros in inequality constraint Jacobian.:        0\n",
      "Number of nonzeros in Lagrangian Hessian.............:        3\n",
      "\n",
      "Total number of variables............................:        2\n",
      "                     variables with only lower bounds:        0\n",
      "                variables with lower and upper bounds:        0\n",
      "                     variables with only upper bounds:        0\n",
      "Total number of equality constraints.................:        0\n",
      "Total number of inequality constraints...............:        0\n",
      "        inequality constraints with only lower bounds:        0\n",
      "   inequality constraints with lower and upper bounds:        0\n",
      "        inequality constraints with only upper bounds:        0\n",
      "\n",
      "iter    objective    inf_pr   inf_du lg(mu)  ||d||  lg(rg) alpha_du alpha_pr  ls\n",
      "   0  5.4075110e+02 0.00e+00 2.04e+02   0.0 0.00e+00    -  0.00e+00 0.00e+00   0 \n",
      "   5  4.6685472e+02 0.00e+00 8.67e-03 -11.0 4.67e-03    -  1.00e+00 1.00e+00f  1 MaxS\n",
      "  10  4.6685471e+02 0.00e+00 1.29e-09 -11.0 7.55e-10    -  1.00e+00 1.00e+00f  1 MaxS\n",
      "\n",
      "Number of Iterations....: 10\n",
      "\n",
      "                                   (scaled)                 (unscaled)\n",
      "Objective...............:   4.6685471421070332e+02    4.6685471421070332e+02\n",
      "Dual infeasibility......:   1.2867360510426806e-09    1.2867360510426806e-09\n",
      "Constraint violation....:   0.0000000000000000e+00    0.0000000000000000e+00\n",
      "Complementarity.........:   0.0000000000000000e+00    0.0000000000000000e+00\n",
      "Overall NLP error.......:   1.2867360510426806e-09    1.2867360510426806e-09\n",
      "\n",
      "\n",
      "Number of objective function evaluations             = 11\n",
      "Number of objective gradient evaluations             = 11\n",
      "Number of equality constraint evaluations            = 0\n",
      "Number of inequality constraint evaluations          = 0\n",
      "Number of equality constraint Jacobian evaluations   = 0\n",
      "Number of inequality constraint Jacobian evaluations = 0\n",
      "Number of Lagrangian Hessian evaluations             = 10\n",
      "Total CPU secs in IPOPT (w/o function evaluations)   =      0.329\n",
      "Total CPU secs in NLP function evaluations           =      0.122\n",
      "\n",
      "EXIT: Optimal Solution Found.\n",
      "  0.838921 seconds (572.34 k allocations: 30.051 MiB, 1.05% gc time)\n"
     ]
    },
    {
     "data": {
      "text/plain": [
       "(-466.8547142107033, VarianceComponentModels.VarianceComponentModel{Float64,2,Array{Float64,2},Array{Float64,2}}([40.1013; -6.5027; 1.05363; 0.203213], ([3.35452], [2.23228]), Array{Float64}(0,4), Char[], Float64[], -Inf, Inf), ([0.858738], [0.534305]), [0.737431 -0.317352; -0.317352 0.285482], [0.253095; 0.298687; 0.98677; 0.970398], [0.0640571 -0.0455503 -0.0324548 -0.0236183; -0.0455503 0.0892141 -0.0162411 0.0245267; -0.0324548 -0.0162411 0.973715 -0.912885; -0.0236183 0.0245267 -0.912885 0.941673])"
      ]
     },
     "execution_count": 42,
     "metadata": {},
     "output_type": "execute_result"
    }
   ],
   "source": [
    "@time altlogl2, altmodel2, = fit_mle!(altmodel2, altdata2; algo = :FS)"
   ]
  },
  {
   "cell_type": "code",
   "execution_count": 43,
   "metadata": {},
   "outputs": [
    {
     "data": {
      "text/plain": [
       "-466.8547142107033"
      ]
     },
     "execution_count": 43,
     "metadata": {},
     "output_type": "execute_result"
    }
   ],
   "source": [
    "altlogl2"
   ]
  },
  {
   "cell_type": "code",
   "execution_count": 44,
   "metadata": {},
   "outputs": [
    {
     "data": {
      "text/plain": [
       "4×1 Array{Float64,2}:\n",
       " 40.1013  \n",
       " -6.5027  \n",
       "  1.05363 \n",
       "  0.203213"
      ]
     },
     "execution_count": 44,
     "metadata": {},
     "output_type": "execute_result"
    }
   ],
   "source": [
    "# alt model mean effects\n",
    "altmodel2.B"
   ]
  },
  {
   "cell_type": "code",
   "execution_count": 45,
   "metadata": {},
   "outputs": [
    {
     "data": {
      "text/plain": [
       "1×1 Array{Float64,2}:\n",
       " 3.35452"
      ]
     },
     "execution_count": 45,
     "metadata": {},
     "output_type": "execute_result"
    }
   ],
   "source": [
    "# alt model additive variance\n",
    "altmodel2.Σ[1]"
   ]
  },
  {
   "cell_type": "code",
   "execution_count": 46,
   "metadata": {},
   "outputs": [
    {
     "data": {
      "text/plain": [
       "1×1 Array{Float64,2}:\n",
       " 2.23228"
      ]
     },
     "execution_count": 46,
     "metadata": {},
     "output_type": "execute_result"
    }
   ],
   "source": [
    "# alt model environmental variance\n",
    "altmodel2.Σ[2]"
   ]
  },
  {
   "cell_type": "markdown",
   "metadata": {},
   "source": [
    "### Test whether the addition of the second SNP improves the model fit by comparing the loglikelihood with just snp snp_rs10412915 to the loglikelihood with both snp_rs10412915 and snp_rs1036231"
   ]
  },
  {
   "cell_type": "code",
   "execution_count": 47,
   "metadata": {},
   "outputs": [
    {
     "data": {
      "text/plain": [
       "0.04330203188158066"
      ]
     },
     "execution_count": 47,
     "metadata": {},
     "output_type": "execute_result"
    }
   ],
   "source": [
    "using Distributions\n",
    "LRT2 = 2(altlogl2 - altlogl1)"
   ]
  },
  {
   "cell_type": "code",
   "execution_count": 48,
   "metadata": {},
   "outputs": [
    {
     "data": {
      "text/plain": [
       "0.8351575998764647"
      ]
     },
     "execution_count": 48,
     "metadata": {},
     "output_type": "execute_result"
    }
   ],
   "source": [
    "#change the degrees of freedom if running a bivariate outcome\n",
    "pval_two_snps = ccdf(Chisq(1), LRT2)"
   ]
  },
  {
   "cell_type": "markdown",
   "metadata": {},
   "source": [
    "We see that adding snp_rs1036231 as an additional covariate to the single snp model with snp_rs10412915 does not explain more of the variation in Trait1."
   ]
  },
  {
   "cell_type": "markdown",
   "metadata": {},
   "source": [
    "## Check for evidence of an interaction between the two SNPs\n",
    "\n",
    "Say, now you want to test for an interaction effect between snp_rs10412915 and snp_rs1036231. We first form the design matrix Xalt3 with an intercept, sex, snp_rs10412915, snp_rs1036231 and interaction. Then we create the Variance Component Model by calling the VarainceComponents.jl package. "
   ]
  },
  {
   "cell_type": "code",
   "execution_count": 49,
   "metadata": {},
   "outputs": [
    {
     "data": {
      "text/plain": [
       "VarianceComponentModels.VarianceComponentVariate{Float64,2,Array{Float64,1},Array{Float64,2},Array{Float64,2}}([30.2056, 35.8214, 36.053, 38.9635, 33.7391, 34.8884, 37.7011, 45.1317, 35.156, 42.4514  …  41.7913, 36.3301, 42.9442, 39.8927, 42.5795, 47.8619, 41.0531, 39.9502, 35.4778, 44.3932], [1.0 1.0 … 0.0 0.0; 1.0 1.0 … 2.0 4.0; … ; 1.0 0.0 … 0.0 0.0; 1.0 0.0 … 2.0 4.0], ([0.996528 0.0161756 … 0.049365 0.00363711; 0.0161756 0.996108 … -0.0571855 -0.0453049; … ; 0.049365 -0.0571855 … 1.188 0.0994167; 0.00363711 -0.0453049 … 0.0994167 0.983485], [1.0 0.0 … 0.0 0.0; 0.0 1.0 … 0.0 0.0; … ; 0.0 0.0 … 1.0 0.0; 0.0 0.0 … 0.0 1.0]))"
      ]
     },
     "execution_count": 49,
     "metadata": {},
     "output_type": "execute_result"
    }
   ],
   "source": [
    "# form data as VarianceComponentVariate\n",
    "Xalt3 = [ones(length(Trait1)) sex snp_rs10412915 snp_rs1036231 interaction]\n",
    "altdata3 = VarianceComponentVariate(Trait1, Xalt3, (2Φgrm, eye(length(Trait1))))"
   ]
  },
  {
   "cell_type": "markdown",
   "metadata": {},
   "source": [
    "Use the results of the two snp additive model as the starting point for the interaction model"
   ]
  },
  {
   "cell_type": "code",
   "execution_count": 50,
   "metadata": {},
   "outputs": [
    {
     "data": {
      "text/plain": [
       "VarianceComponentModels.VarianceComponentModel{Float64,2,Array{Float64,2},Array{Float64,2}}([0.0; 0.0; … ; 0.0; 0.0], ([1.0], [1.0]), Array{Float64}(0,5), Char[], Float64[], -Inf, Inf)"
      ]
     },
     "execution_count": 50,
     "metadata": {},
     "output_type": "execute_result"
    }
   ],
   "source": [
    "altmodel3 = VarianceComponentModel(altdata3)"
   ]
  },
  {
   "cell_type": "code",
   "execution_count": 51,
   "metadata": {},
   "outputs": [
    {
     "data": {
      "text/plain": [
       "5×1 Array{Float64,2}:\n",
       " 40.1013  \n",
       " -6.5027  \n",
       "  1.05363 \n",
       "  0.203213\n",
       "  0.0     "
      ]
     },
     "execution_count": 51,
     "metadata": {},
     "output_type": "execute_result"
    }
   ],
   "source": [
    "altmodel3.B[1:4, :] = altmodel2.B\n",
    "altmodel3.B"
   ]
  },
  {
   "cell_type": "code",
   "execution_count": 52,
   "metadata": {},
   "outputs": [
    {
     "data": {
      "text/plain": [
       "([3.35452], [2.23228])"
      ]
     },
     "execution_count": 52,
     "metadata": {},
     "output_type": "execute_result"
    }
   ],
   "source": [
    "copy!(altmodel3.Σ[1], altmodel2.Σ[1])\n",
    "copy!(altmodel3.Σ[2], altmodel2.Σ[2])\n",
    "altmodel3.Σ"
   ]
  },
  {
   "cell_type": "code",
   "execution_count": 53,
   "metadata": {},
   "outputs": [
    {
     "name": "stdout",
     "output_type": "stream",
     "text": [
      "This is Ipopt version 3.12.8, running with linear solver mumps.\n",
      "NOTE: Other linear solvers might be more efficient (see Ipopt documentation).\n",
      "\n",
      "Number of nonzeros in equality constraint Jacobian...:        0\n",
      "Number of nonzeros in inequality constraint Jacobian.:        0\n",
      "Number of nonzeros in Lagrangian Hessian.............:        3\n",
      "\n",
      "Total number of variables............................:        2\n",
      "                     variables with only lower bounds:        0\n",
      "                variables with lower and upper bounds:        0\n",
      "                     variables with only upper bounds:        0\n",
      "Total number of equality constraints.................:        0\n",
      "Total number of inequality constraints...............:        0\n",
      "        inequality constraints with only lower bounds:        0\n",
      "   inequality constraints with lower and upper bounds:        0\n",
      "        inequality constraints with only upper bounds:        0\n",
      "\n",
      "iter    objective    inf_pr   inf_du lg(mu)  ||d||  lg(rg) alpha_du alpha_pr  ls\n",
      "   0  5.4064693e+02 0.00e+00 2.04e+02   0.0 0.00e+00    -  0.00e+00 0.00e+00   0 \n",
      "   5  4.6679524e+02 0.00e+00 9.75e-03 -11.0 4.96e-03    -  1.00e+00 1.00e+00f  1 MaxS\n",
      "  10  4.6679524e+02 0.00e+00 1.79e-09 -11.0 1.00e-09    -  1.00e+00 1.00e+00f  1 MaxS\n",
      "\n",
      "Number of Iterations....: 10\n",
      "\n",
      "                                   (scaled)                 (unscaled)\n",
      "Objective...............:   4.6679524084075194e+02    4.6679524084075194e+02\n",
      "Dual infeasibility......:   1.7917187733473838e-09    1.7917187733473838e-09\n",
      "Constraint violation....:   0.0000000000000000e+00    0.0000000000000000e+00\n",
      "Complementarity.........:   0.0000000000000000e+00    0.0000000000000000e+00\n",
      "Overall NLP error.......:   1.7917187733473838e-09    1.7917187733473838e-09\n",
      "\n",
      "\n",
      "Number of objective function evaluations             = 11\n",
      "Number of objective gradient evaluations             = 11\n",
      "Number of equality constraint evaluations            = 0\n",
      "Number of inequality constraint evaluations          = 0\n",
      "Number of equality constraint Jacobian evaluations   = 0\n",
      "Number of inequality constraint Jacobian evaluations = 0\n",
      "Number of Lagrangian Hessian evaluations             = 10\n",
      "Total CPU secs in IPOPT (w/o function evaluations)   =      0.014\n",
      "Total CPU secs in NLP function evaluations           =      0.115\n",
      "\n",
      "EXIT: Optimal Solution Found.\n",
      "  0.098652 seconds (15.00 k allocations: 2.303 MiB)\n"
     ]
    },
    {
     "data": {
      "text/plain": [
       "(-466.79524084075194, VarianceComponentModels.VarianceComponentModel{Float64,2,Array{Float64,2},Array{Float64,2}}([40.0792; -6.50488; … ; 0.311402; -0.121256], ([3.37194], [2.21917]), Array{Float64}(0,5), Char[], Float64[], -Inf, Inf), ([0.859815], [0.533153]), [0.739281 -0.317078; -0.317078 0.284252], [0.261231; 0.298608; … ; 1.02201; 0.350703], [0.0682415 -0.0452335 … -0.044493 0.022822; -0.0452335 0.0891668 … 0.0231133 0.00156835; … ; -0.044493 0.0231133 … 1.0445 -0.112267; 0.022822 0.00156835 … -0.112267 0.122992])"
      ]
     },
     "execution_count": 53,
     "metadata": {},
     "output_type": "execute_result"
    }
   ],
   "source": [
    "@time altlogl3, altmodel3, = fit_mle!(altmodel3, altdata3; algo = :FS)"
   ]
  },
  {
   "cell_type": "code",
   "execution_count": 54,
   "metadata": {},
   "outputs": [
    {
     "data": {
      "text/plain": [
       "-466.79524084075194"
      ]
     },
     "execution_count": 54,
     "metadata": {},
     "output_type": "execute_result"
    }
   ],
   "source": [
    "altlogl3"
   ]
  },
  {
   "cell_type": "code",
   "execution_count": 55,
   "metadata": {},
   "outputs": [
    {
     "data": {
      "text/plain": [
       "5×1 Array{Float64,2}:\n",
       " 40.0792  \n",
       " -6.50488 \n",
       "  1.13837 \n",
       "  0.311402\n",
       " -0.121256"
      ]
     },
     "execution_count": 55,
     "metadata": {},
     "output_type": "execute_result"
    }
   ],
   "source": [
    "# alt model mean effects\n",
    "altmodel3.B"
   ]
  },
  {
   "cell_type": "code",
   "execution_count": 56,
   "metadata": {},
   "outputs": [
    {
     "data": {
      "text/plain": [
       "1×1 Array{Float64,2}:\n",
       " 3.37194"
      ]
     },
     "execution_count": 56,
     "metadata": {},
     "output_type": "execute_result"
    }
   ],
   "source": [
    "# alt model additive variance\n",
    "altmodel3.Σ[1]"
   ]
  },
  {
   "cell_type": "code",
   "execution_count": 57,
   "metadata": {},
   "outputs": [
    {
     "data": {
      "text/plain": [
       "1×1 Array{Float64,2}:\n",
       " 2.21917"
      ]
     },
     "execution_count": 57,
     "metadata": {},
     "output_type": "execute_result"
    }
   ],
   "source": [
    "# alt model environmental variance\n",
    "altmodel3.Σ[2]"
   ]
  },
  {
   "cell_type": "markdown",
   "metadata": {},
   "source": [
    "Test whether the interaction improves the model fit over the effects of the two SNPs alone"
   ]
  },
  {
   "cell_type": "code",
   "execution_count": 58,
   "metadata": {},
   "outputs": [
    {
     "data": {
      "text/plain": [
       "0.1189467399027535"
      ]
     },
     "execution_count": 58,
     "metadata": {},
     "output_type": "execute_result"
    }
   ],
   "source": [
    "using Distributions\n",
    "LRT3 = 2(altlogl3 - altlogl2)"
   ]
  },
  {
   "cell_type": "code",
   "execution_count": 59,
   "metadata": {},
   "outputs": [
    {
     "data": {
      "text/plain": [
       "0.7301796542888648"
      ]
     },
     "execution_count": 59,
     "metadata": {},
     "output_type": "execute_result"
    }
   ],
   "source": [
    "#change the degrees of freedom if running a bivariate outcome\n",
    "pval_snp_interact = ccdf(Chisq(1), LRT3)"
   ]
  },
  {
   "cell_type": "markdown",
   "metadata": {},
   "source": [
    "We see that adding the interaction effect as an additional covariate does not explain more of the variation in Trait1."
   ]
  },
  {
   "cell_type": "markdown",
   "metadata": {},
   "source": [
    "Thus, we report that: \n",
    "    (1) The snp rs10412915 displays suggestive association but it is not genomewide significant. \n",
    "    (2) Adding the second snp_rs1036231 to the model with just snp_rs10412915 does not improve the model fit\n",
    "    (3) Adding the interaction term does not improve the model fit over the effects of the two SNPS alone"
   ]
  },
  {
   "cell_type": "markdown",
   "metadata": {},
   "source": [
    "Residual Heritability. The proportion of additive genetic variation remaining after including the SNPs and their interaction in the model.  "
   ]
  },
  {
   "cell_type": "code",
   "execution_count": 60,
   "metadata": {},
   "outputs": [
    {
     "data": {
      "text/plain": [
       "1×1 Array{Float64,2}:\n",
       " 0.60309"
      ]
     },
     "execution_count": 60,
     "metadata": {},
     "output_type": "execute_result"
    }
   ],
   "source": [
    "# ignore if running a bivariate outcome\n",
    "her_alt = altmodel3.Σ[1]/(altmodel3.Σ[1] + altmodel3.Σ[2])"
   ]
  },
  {
   "cell_type": "markdown",
   "metadata": {},
   "source": [
    "Portion of the genetic variation explained by the snp is a measure of the effect of the snp on a signal trait. Note that in this simulated example the SNP effect is very large indeed. "
   ]
  },
  {
   "cell_type": "code",
   "execution_count": 61,
   "metadata": {},
   "outputs": [
    {
     "data": {
      "text/plain": [
       "1×1 Array{Float64,2}:\n",
       " 0.171368"
      ]
     },
     "execution_count": 61,
     "metadata": {},
     "output_type": "execute_result"
    }
   ],
   "source": [
    "add_proport = (nullmodel.Σ[1] - altmodel3.Σ[1])/nullmodel.Σ[1]"
   ]
  },
  {
   "cell_type": "markdown",
   "metadata": {},
   "source": [
    "Portion of total variation explained by the snp is an alterative way to assess the effect of the snp. Again, typically the effects are not nearly so large.  "
   ]
  },
  {
   "cell_type": "code",
   "execution_count": 62,
   "metadata": {},
   "outputs": [
    {
     "data": {
      "text/plain": [
       "1×1 Array{Float64,2}:\n",
       " 0.101151"
      ]
     },
     "execution_count": 62,
     "metadata": {},
     "output_type": "execute_result"
    }
   ],
   "source": [
    "pheno_proport = (nullmodel.Σ[1] + nullmodel.Σ[2] - altmodel3.Σ[1] - altmodel3.Σ[2])/(nullmodel.Σ[1] + nullmodel.Σ[2])"
   ]
  },
  {
   "cell_type": "markdown",
   "metadata": {},
   "source": [
    "# Pairwise Trait Analysis\n",
    "\n",
    "When we ran with just Trait1, snp_rs10412915 was not genomewide significant. However the 29c data have two traits, so we now test if the reference snp_rs10412915 is genomewide significant when we use both traits simultaneously. Similar to the univariate trait analysis above, we will perform a Likelihood Ratio Test to test for significance. \n",
    "\n",
    "Following code snippet does the joint analysis of n_traits = 2 traits. Note that if the dataset has more than two traits, the user can just pre-assign n_traits to the number of traits in the dataset and all pairwise analyses will be conducted."
   ]
  },
  {
   "cell_type": "code",
   "execution_count": 63,
   "metadata": {},
   "outputs": [
    {
     "data": {
      "text/plain": [
       "2"
      ]
     },
     "execution_count": 63,
     "metadata": {},
     "output_type": "execute_result"
    }
   ],
   "source": [
    "n_traits = 2"
   ]
  },
  {
   "cell_type": "code",
   "execution_count": 64,
   "metadata": {},
   "outputs": [
    {
     "data": {
      "text/plain": [
       "VarianceComponentModels.TwoVarCompVariateRotate{Float64,Array{Float64,2},Array{Float64,2}}([-551.252 -268.956; -0.358034 -0.782546; … ; -1.34343 -4.87381; 0.75091 4.59537], [-14.5602 -6.66199; -6.6662e-14 0.197432; … ; 7.23163e-15 -0.0797677; 6.91634e-15 0.142873], [5.78835e-15, 0.0752044, 0.0877463, 0.0915643, 0.0967969, 0.104256, 0.108283, 0.109661, 0.110979, 0.114564  …  3.3852, 3.71687, 3.9086, 4.11158, 4.26956, 4.56256, 5.13676, 5.492, 6.11812, 6.87637], [-0.0686803 0.0119184 … 0.00207223 0.00503436; -0.0686803 0.00929458 … 0.0183992 -0.00115174; … ; -0.0686803 0.00239184 … -0.0203006 0.0363221; -0.0686803 0.000513356 … -0.0033856 0.0127975], 0.0)"
      ]
     },
     "execution_count": 64,
     "metadata": {},
     "output_type": "execute_result"
    }
   ],
   "source": [
    "# form data as VarianceComponentVariate\n",
    "SNP_29Cdata_emp_null = VarianceComponentVariate(Y, X, (2Φgrm, eye(size(Y, 1))))\n",
    "#fieldnames(SNP_29Cdata_emp)\n",
    "SNP_29Cdata_rotated_emp_null = TwoVarCompVariateRotate(SNP_29Cdata_emp_null)"
   ]
  },
  {
   "cell_type": "code",
   "execution_count": 65,
   "metadata": {},
   "outputs": [
    {
     "name": "stdout",
     "output_type": "stream",
     "text": [
      "Trait1, Trait2 Null Model\n",
      "This is Ipopt version 3.12.8, running with linear solver mumps.\n",
      "NOTE: Other linear solvers might be more efficient (see Ipopt documentation).\n",
      "\n",
      "Number of nonzeros in equality constraint Jacobian...:        0\n",
      "Number of nonzeros in inequality constraint Jacobian.:        0\n",
      "Number of nonzeros in Lagrangian Hessian.............:       21\n",
      "\n",
      "Total number of variables............................:        6\n",
      "                     variables with only lower bounds:        0\n",
      "                variables with lower and upper bounds:        0\n",
      "                     variables with only upper bounds:        0\n",
      "Total number of equality constraints.................:        0\n",
      "Total number of inequality constraints...............:        0\n",
      "        inequality constraints with only lower bounds:        0\n",
      "   inequality constraints with lower and upper bounds:        0\n",
      "        inequality constraints with only upper bounds:        0\n",
      "\n",
      "iter    objective    inf_pr   inf_du lg(mu)  ||d||  lg(rg) alpha_du alpha_pr  ls\n",
      "   0  1.1395293e+03 0.00e+00 1.00e+02   0.0 0.00e+00    -  0.00e+00 0.00e+00   0 \n",
      "   5  9.4961827e+02 0.00e+00 5.63e-01 -11.0 8.14e-02    -  1.00e+00 1.00e+00f  1 MaxS\n",
      "  10  9.4960933e+02 0.00e+00 8.68e-03 -11.0 2.45e-04    -  1.00e+00 1.00e+00f  1 MaxS\n",
      "  15  9.4960933e+02 0.00e+00 2.62e-04 -11.0 7.70e-06    -  1.00e+00 1.00e+00f  1 MaxS\n",
      "  20  9.4960933e+02 0.00e+00 7.93e-06 -11.0 2.43e-07    -  1.00e+00 1.00e+00f  1 MaxSA\n",
      "  25  9.4960933e+02 0.00e+00 2.40e-07 -11.0 7.66e-09    -  1.00e+00 1.00e+00f  1 MaxSA\n",
      "  30  9.4960933e+02 0.00e+00 7.29e-09 -11.0 2.43e-10    -  1.00e+00 1.00e+00f  1 MaxS\n",
      "\n",
      "Number of Iterations....: 30\n",
      "\n",
      "                                   (scaled)                 (unscaled)\n",
      "Objective...............:   4.0967933386611048e+02    9.4960933184515579e+02\n",
      "Dual infeasibility......:   7.2887494609914696e-09    1.6894834407002064e-08\n",
      "Constraint violation....:   0.0000000000000000e+00    0.0000000000000000e+00\n",
      "Complementarity.........:   0.0000000000000000e+00    0.0000000000000000e+00\n",
      "Overall NLP error.......:   7.2887494609914696e-09    1.6894834407002064e-08\n",
      "\n",
      "\n",
      "Number of objective function evaluations             = 31\n",
      "Number of objective gradient evaluations             = 31\n",
      "Number of equality constraint evaluations            = 0\n",
      "Number of inequality constraint evaluations          = 0\n",
      "Number of equality constraint Jacobian evaluations   = 0\n",
      "Number of inequality constraint Jacobian evaluations = 0\n",
      "Number of Lagrangian Hessian evaluations             = 30\n",
      "Total CPU secs in IPOPT (w/o function evaluations)   =      0.186\n",
      "Total CPU secs in NLP function evaluations           =      0.178\n",
      "\n",
      "EXIT: Optimal Solution Found.\n",
      "(Σa[i, j], Σe[i, j]) = ([4.05829 1.35139; 1.35139 4.37547], [2.15759 -0.0965638; -0.0965638 2.07246])\n",
      "traitij_model.B = [40.8883 20.4789; -6.61807 -4.38625]\n",
      "maxlogl = -949.6093318451558\n",
      "elapsed time: 3.391869234 seconds\n"
     ]
    },
    {
     "data": {
      "text/plain": [
       "3.391869234"
      ]
     },
     "execution_count": 65,
     "metadata": {},
     "output_type": "execute_result"
    }
   ],
   "source": [
    "# additive genetic effects (2x2 psd matrices) from bivariate trait analysis;\n",
    "Σa = Array{Matrix{Float64}}(2, 2)\n",
    "# environmental effects (2x2 psd matrices) from bivariate trait analysis;\n",
    "Σe = Array{Matrix{Float64}}(2, 2)\n",
    "\n",
    "println(\"Trait1, Trait2 Null Model\")\n",
    "# form data set for (trait1, trait2)\n",
    "\n",
    "tic()\n",
    "for i in 1:n_traits\n",
    "    for j in (i+1):n_traits\n",
    "    traitij_data = TwoVarCompVariateRotate(SNP_29Cdata_rotated_emp_null.Yrot[:, [i;j]], \n",
    "    SNP_29Cdata_rotated_emp_null.Xrot, SNP_29Cdata_rotated_emp_null.eigval, \n",
    "    SNP_29Cdata_rotated_emp_null.eigvec, SNP_29Cdata_rotated_emp_null.logdetV2)\n",
    "    # initialize model parameters\n",
    "    traitij_model = VarianceComponentModel(traitij_data)\n",
    "    # estimate variance components\n",
    "    maxlogl, _, Σse, Σcov, Bse, Bcov = mle_fs!(traitij_model, traitij_data; solver=:Ipopt, verbose=true)\n",
    "    Σa[i, j] = traitij_model.Σ[1]\n",
    "    Σe[i, j] = traitij_model.Σ[2]\n",
    "    @show Σa[i, j], Σe[i, j]\n",
    "    @show traitij_model.B\n",
    "    @show maxlogl\n",
    "    end\n",
    "end\n",
    "toc()"
   ]
  },
  {
   "cell_type": "markdown",
   "metadata": {},
   "source": [
    "The maximum loglikelihood value of the null model is `maxlogl = -949.6093318451558`"
   ]
  },
  {
   "cell_type": "code",
   "execution_count": 66,
   "metadata": {},
   "outputs": [
    {
     "data": {
      "text/plain": [
       "VarianceComponentModels.TwoVarCompVariateRotate{Float64,Array{Float64,2},Array{Float64,2}}([-551.252 -268.956; -0.358034 -0.782546; … ; -1.34343 -4.87381; 0.75091 4.59537], [-14.5602 -6.66199 -8.51635; -6.6662e-14 0.197432 0.312084; … ; 7.23163e-15 -0.0797677 0.332059; 6.91634e-15 0.142873 0.302486], [5.78835e-15, 0.0752044, 0.0877463, 0.0915643, 0.0967969, 0.104256, 0.108283, 0.109661, 0.110979, 0.114564  …  3.3852, 3.71687, 3.9086, 4.11158, 4.26956, 4.56256, 5.13676, 5.492, 6.11812, 6.87637], [-0.0686803 0.0119184 … 0.00207223 0.00503436; -0.0686803 0.00929458 … 0.0183992 -0.00115174; … ; -0.0686803 0.00239184 … -0.0203006 0.0363221; -0.0686803 0.000513356 … -0.0033856 0.0127975], 0.0)"
      ]
     },
     "execution_count": 66,
     "metadata": {},
     "output_type": "execute_result"
    }
   ],
   "source": [
    "# form data as VarianceComponentVariate\n",
    "SNP_29Cdata_emp = VarianceComponentVariate(Y, Xalt, (2Φgrm, eye(size(Y, 1))))\n",
    "#fieldnames(SNP_29Cdata_emp)\n",
    "SNP_29Cdata_rotated_emp = TwoVarCompVariateRotate(SNP_29Cdata_emp)"
   ]
  },
  {
   "cell_type": "code",
   "execution_count": 67,
   "metadata": {},
   "outputs": [
    {
     "name": "stdout",
     "output_type": "stream",
     "text": [
      "Trait1, Trait2 Alternative Model\n",
      "This is Ipopt version 3.12.8, running with linear solver mumps.\n",
      "NOTE: Other linear solvers might be more efficient (see Ipopt documentation).\n",
      "\n",
      "Number of nonzeros in equality constraint Jacobian...:        0\n",
      "Number of nonzeros in inequality constraint Jacobian.:        0\n",
      "Number of nonzeros in Lagrangian Hessian.............:       21\n",
      "\n",
      "Total number of variables............................:        6\n",
      "                     variables with only lower bounds:        0\n",
      "                variables with lower and upper bounds:        0\n",
      "                     variables with only upper bounds:        0\n",
      "Total number of equality constraints.................:        0\n",
      "Total number of inequality constraints...............:        0\n",
      "        inequality constraints with only lower bounds:        0\n",
      "   inequality constraints with lower and upper bounds:        0\n",
      "        inequality constraints with only upper bounds:        0\n",
      "\n",
      "iter    objective    inf_pr   inf_du lg(mu)  ||d||  lg(rg) alpha_du alpha_pr  ls\n",
      "   0  1.0743108e+03 0.00e+00 1.00e+02   0.0 0.00e+00    -  0.00e+00 0.00e+00   0 \n",
      "   5  9.3081440e+02 0.00e+00 1.16e-01 -11.0 4.63e-03    -  1.00e+00 1.00e+00f  1 MaxS\n",
      "  10  9.3081417e+02 0.00e+00 3.96e-03 -11.0 1.09e-04    -  1.00e+00 1.00e+00f  1 MaxS\n",
      "  15  9.3081417e+02 0.00e+00 1.40e-04 -11.0 4.20e-06    -  1.00e+00 1.00e+00f  1 MaxS\n",
      "  20  9.3081417e+02 0.00e+00 5.13e-06 -11.0 1.63e-07    -  1.00e+00 1.00e+00f  1 MaxSA\n",
      "  25  9.3081417e+02 0.00e+00 1.92e-07 -11.0 6.38e-09    -  1.00e+00 1.00e+00f  1 MaxSA\n",
      "  30  9.3081417e+02 0.00e+00 7.33e-09 -11.0 2.51e-10    -  1.00e+00 1.00e+00f  1 MaxS\n",
      "\n",
      "Number of Iterations....: 30\n",
      "\n",
      "                                   (scaled)                 (unscaled)\n",
      "Objective...............:   4.5651784272521724e+02    9.3081416798061832e+02\n",
      "Dual infeasibility......:   7.3290479483639842e-09    1.4943515958592446e-08\n",
      "Constraint violation....:   0.0000000000000000e+00    0.0000000000000000e+00\n",
      "Complementarity.........:   0.0000000000000000e+00    0.0000000000000000e+00\n",
      "Overall NLP error.......:   7.3290479483639842e-09    1.4943515958592446e-08\n",
      "\n",
      "\n",
      "Number of objective function evaluations             = 31\n",
      "Number of objective gradient evaluations             = 31\n",
      "Number of equality constraint evaluations            = 0\n",
      "Number of inequality constraint evaluations          = 0\n",
      "Number of equality constraint Jacobian evaluations   = 0\n",
      "Number of inequality constraint Jacobian evaluations = 0\n",
      "Number of Lagrangian Hessian evaluations             = 30\n",
      "Total CPU secs in IPOPT (w/o function evaluations)   =      0.011\n",
      "Total CPU secs in NLP function evaluations           =      0.114\n",
      "\n",
      "EXIT: Optimal Solution Found.\n",
      "(Σa[i, j], Σe[i, j]) = ([3.37703 0.297368; 0.297368 2.79615], [2.21935 0.105389; 0.105389 2.4868])\n",
      "traitij_model.B = [40.1088 19.4848; -6.50822 -4.24321; 1.24665 1.58764]\n",
      "maxlogl = -930.8141679806183\n",
      "elapsed time: 0.190632486 seconds\n"
     ]
    },
    {
     "data": {
      "text/plain": [
       "0.190632486"
      ]
     },
     "execution_count": 67,
     "metadata": {},
     "output_type": "execute_result"
    }
   ],
   "source": [
    "# additive genetic effects (2x2 psd matrices) from bivariate trait analysis;\n",
    "Σa = Array{Matrix{Float64}}(2, 2)\n",
    "# environmental effects (2x2 psd matrices) from bivariate trait analysis;\n",
    "Σe = Array{Matrix{Float64}}(2, 2)\n",
    "\n",
    "println(\"Trait1, Trait2 Alternative Model\")\n",
    "# form data set for (trait1, trait2)\n",
    "\n",
    "tic()\n",
    "for i in 1:n_traits\n",
    "    for j in (i+1):n_traits\n",
    "    traitij_data = TwoVarCompVariateRotate(SNP_29Cdata_rotated_emp.Yrot[:, [i;j]], \n",
    "    SNP_29Cdata_rotated_emp.Xrot,SNP_29Cdata_rotated_emp.eigval, \n",
    "    SNP_29Cdata_rotated_emp.eigvec, SNP_29Cdata_rotated_emp.logdetV2)\n",
    "    # initialize model parameters\n",
    "    traitij_model = VarianceComponentModel(traitij_data)\n",
    "    # estimate variance components\n",
    "    maxlogl, _, Σse, Σcov, Bse, Bcov = mle_fs!(traitij_model, traitij_data; solver=:Ipopt, verbose=true)\n",
    "    Σa[i, j] = traitij_model.Σ[1]\n",
    "    Σe[i, j] = traitij_model.Σ[2]\n",
    "    @show Σa[i, j], Σe[i, j]\n",
    "    @show traitij_model.B\n",
    "    @show maxlogl\n",
    "    end\n",
    "end\n",
    "toc()"
   ]
  },
  {
   "cell_type": "markdown",
   "metadata": {},
   "source": [
    "Notice that the maximum loglikelihood value of the alternative model has increased. `maxlogl = -930.8141679806174`\n",
    "\n",
    "### Bivariate Trait Likelihood Ratio Test\n",
    "\n",
    "We can now perform a Likelihood Ratio Test to check for genotype wide significance of the major locus rs10412915 from the bivariate trait analysis. "
   ]
  },
  {
   "cell_type": "code",
   "execution_count": 68,
   "metadata": {},
   "outputs": [
    {
     "data": {
      "text/plain": [
       "37.5903277290754"
      ]
     },
     "execution_count": 68,
     "metadata": {},
     "output_type": "execute_result"
    }
   ],
   "source": [
    "LRT4 = 2(-930.8141679806174- -949.6093318451551)"
   ]
  },
  {
   "cell_type": "markdown",
   "metadata": {},
   "source": [
    "Recall that when performing a Likelihood Ratio Test for a bivariate outcome, the degrees of freedom change from 1 to 2. "
   ]
  },
  {
   "cell_type": "code",
   "execution_count": 69,
   "metadata": {},
   "outputs": [
    {
     "data": {
      "text/plain": [
       "6.876446162965101e-9"
      ]
     },
     "execution_count": 69,
     "metadata": {},
     "output_type": "execute_result"
    }
   ],
   "source": [
    "pval_bivariate_trait = ccdf(Chisq(2), LRT4)"
   ]
  },
  {
   "cell_type": "markdown",
   "metadata": {},
   "source": [
    "Now we see that the results of the association are genomewide significant. "
   ]
  }
 ],
 "metadata": {
  "kernelspec": {
   "display_name": "Julia 0.6.4",
   "language": "julia",
   "name": "julia-0.6"
  },
  "language_info": {
   "file_extension": ".jl",
   "mimetype": "application/julia",
   "name": "julia",
   "version": "0.6.4"
  },
  "toc": {
   "base_numbering": 1,
   "nav_menu": {
    "height": "30px",
    "width": "252px"
   },
   "number_sections": true,
   "sideBar": true,
   "skip_h1_title": false,
   "title_cell": "Table of Contents",
   "title_sidebar": "Contents",
   "toc_cell": false,
   "toc_position": {},
   "toc_section_display": "block",
   "toc_window_display": false
  }
 },
 "nbformat": 4,
 "nbformat_minor": 2
}
