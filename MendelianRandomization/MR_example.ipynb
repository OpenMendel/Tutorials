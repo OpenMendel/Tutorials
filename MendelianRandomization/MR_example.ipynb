{
 "cells": [
  {
   "cell_type": "markdown",
   "metadata": {},
   "source": [
    "# Mendelian Randomization (MR) using Variance Component Models (VCM)"
   ]
  },
  {
   "cell_type": "markdown",
   "metadata": {},
   "source": [
    "Authors: Sarah Ji, Jin Zhou, Janet Sinsheimer, Hua Zhou"
   ]
  },
  {
   "cell_type": "markdown",
   "metadata": {},
   "source": [
    "In this notebook, we use simulated data in order to demonstrate how to conduct Mendelian randomization as a method of causal inference. This demonstration differs from many others you will find in that we use family data.  \n",
    "\n",
    "We don't go into the assumptions, caveats, extension, disadvantages or advantages of Mendelian randomization or Variance Components (a.k.a. Linear Mixed Models). For these aspects we refer the user to the book \"Mendelian Randomization: Methods for using Genetic Variants in Causal Estimation\" by Steven Burgess and Simon G. Thompson. For the theory behind variance component models, see for example \"Mathematical and Statistical Methods for Genetic Analysis\" by Kenneth Lange. \n",
    "\n",
    "The notebook is organized as follows: \n",
    "\n",
    "Example 1: This first example provides the user with an example in which the genetic variant is a strong instrumental variable (IV) and there is a direct effect of the exposure on the trait.\n",
    "\n",
    "Example 2: In this second example there is still a strong IV but any association between the trait and the environmental predictor is due to confounding. \n",
    "\n",
    "Example 3: In this third example, we demonstrate that there can be considerable bias if the marker is a weak IV.  \n",
    "\n",
    "The data for each of these examples were simulated from a subset of the GAW data.  "
   ]
  },
  {
   "cell_type": "markdown",
   "metadata": {},
   "source": [
    "## Two-Stage Regression Method for Mendelian Randomization using Variance Component Models"
   ]
  },
  {
   "cell_type": "markdown",
   "metadata": {},
   "source": [
    "There are a number of different approaches for carrying out MR. In order to estimate the causal effect of a quantitative exposure on a quantitative trait, we will be using a two-stage regression method, in which we regress a continuous outcome on a genotype (the IV) and any suspected predictors/confounders and we regress a continous exposure on a genotype and the same suspected predictors/confounders. We then calculate the estimate of the direct effect of the exposure on the trait using their ratio. This method has the advantage that, provided the families are drawn from the same underlying populations, we can use different families in the two samples. In our examples however, we use the same families.  \n",
    "\n",
    "First we introduce the module MRVC which calls the variance components model along with the other modules needed to run variance component models. The variance component module used by Julia can estimate the fixed effects using either an MM algorithm or Fisher scoring.  We use Fisher scoring in the examples below. \n",
    "\n",
    "In general the optimization algorithm used to maximize the loglikelihood needs to invert the $nd$ by $nd$ overall covariance matrix $\\Omega = \\Sigma_1 \\otimes V_1 + \\cdots + \\Sigma_m \\otimes V_m$ in each iteration. Inverting this matrix is computationally expensive with $O(n^3 d^3)$ floating operations. When there are only two variance components ($m=2$), this inversion can be avoided by taking one (generalized) eigendecomposion of $(V_1, V_2)$ and rotating data $(Y, X)$ by the eigenvectors."
   ]
  },
  {
   "cell_type": "markdown",
   "metadata": {},
   "source": [
    "## Preliminaries - the Julia modules used in the analysis:"
   ]
  },
  {
   "cell_type": "markdown",
   "metadata": {},
   "source": [
    "For our convenience we will create two new Julia functions to use in this analysis.  We could made separate programs for you to call but by including them in this notebook, you can see a little bit of Julia programming. If you are familiar with R or Matlab you will see some similaries in syntax. "
   ]
  },
  {
   "cell_type": "markdown",
   "metadata": {},
   "source": [
    "Machine Info:"
   ]
  },
  {
   "cell_type": "code",
   "execution_count": 1,
   "metadata": {},
   "outputs": [
    {
     "name": "stdout",
     "output_type": "stream",
     "text": [
      "Julia Version 1.0.3\n",
      "Commit 099e826241 (2018-12-18 01:34 UTC)\n",
      "Platform Info:\n",
      "  OS: macOS (x86_64-apple-darwin14.5.0)\n",
      "  CPU: Intel(R) Core(TM) i7-7700HQ CPU @ 2.80GHz\n",
      "  WORD_SIZE: 64\n",
      "  LIBM: libopenlibm\n",
      "  LLVM: libLLVM-6.0.0 (ORCJIT, skylake)\n"
     ]
    }
   ],
   "source": [
    "versioninfo()"
   ]
  },
  {
   "cell_type": "markdown",
   "metadata": {},
   "source": [
    "Be sure to make note of your own machine information, as this is a very important check for reproducibility!"
   ]
  },
  {
   "cell_type": "markdown",
   "metadata": {},
   "source": [
    "## Add OpenMendel Packages"
   ]
  },
  {
   "cell_type": "markdown",
   "metadata": {},
   "source": [
    "If it is the first time using these two packages, run the following command using the package manager on ther terminal:\n",
    "</br>\n",
    "\n",
    "`pkg> add https://github.com/OpenMendel/VarianceComponentModels.jl.git`\n",
    "\n",
    "\n",
    "\n",
    "`pkg> add https://github.com/OpenMendel/SnpArrays.jl.git`"
   ]
  },
  {
   "cell_type": "code",
   "execution_count": 2,
   "metadata": {},
   "outputs": [],
   "source": [
    "using SnpArrays\n",
    "using DataFrames\n",
    "using StatsBase\n",
    "using VarianceComponentModels\n",
    "using GLM\n",
    "using Distributions\n",
    "using LinearAlgebra"
   ]
  },
  {
   "cell_type": "code",
   "execution_count": 3,
   "metadata": {},
   "outputs": [
    {
     "data": {
      "text/plain": [
       "MendelianRandomization (generic function with 2 methods)"
      ]
     },
     "execution_count": 3,
     "metadata": {},
     "output_type": "execute_result"
    }
   ],
   "source": [
    "#function MR needs as input (trait, design_matrix, IV, exposure, GRM, and algorithm (MM or Fisher scoring)##\n",
    "function MendelianRandomization(Y::AbstractVecOrMat,\n",
    "    X::AbstractVecOrMat,\n",
    "    #IV::SnpArrays.SnpArray{2},\n",
    "    IV::AbstractVecOrMat,\n",
    "    exposure::AbstractVecOrMat,\n",
    "    ΦGRM::AbstractMatrix,\n",
    "    algorithm::Symbol = :FS)\n",
    "\n",
    "    T = eltype(X)\n",
    "    n = length(IV)\n",
    "\n",
    "    ## fit null model without IV effects ##\n",
    "    ### set up the appropriate data structures and covariance matrices ### \n",
    "    nulldata    = VarianceComponentVariate([Y exposure], X, (2ΦGRM, Matrix{Float64}(I, length(Y), length(Y))))\n",
    "    ### the computational trick when there are only two variance components ###\n",
    "    nulldatarot = TwoVarCompVariateRotate(nulldata)\n",
    "    ## set up the model ##\n",
    "    nullmodel   = VarianceComponentModel(nulldatarot)\n",
    "    traitdata_null = TwoVarCompVariateRotate(nulldatarot.Yrot[:, 1], nulldatarot.Xrot,\n",
    "      nulldatarot.eigval, nulldatarot.eigvec, nulldatarot.logdetV2)\n",
    "    traitmodel_null = VarianceComponentModel(traitdata_null)\n",
    "    ## Have a choice of using an MM or Scoring Algorithm to do the maximization ##\n",
    "    if algorithm == :MM\n",
    "        logl, = mle_mm!(traitmodel_null, traitdata_null; verbose = false)\n",
    "    elseif algorithm == :FS\n",
    "        logl, = mle_fs!(traitmodel_null, traitdata_null; verbose = false)\n",
    "    end\n",
    "\n",
    "    ### IV as a predictor of the trait  ###\n",
    "    traitdata = TwoVarCompVariateRotate(nulldatarot.Yrot[:, 1],\n",
    "      [nulldatarot.Xrot transpose(nulldatarot.eigvec) * IV],\n",
    "      nulldatarot.eigval, nulldatarot.eigvec, nulldatarot.logdetV2)\n",
    "    traitmodel = VarianceComponentModel(traitdata)\n",
    "    \n",
    "    #Set the starting values for the maximum likelihood estimation\n",
    "    #Use the null model estimates as starting values for the alternative model ##\n",
    "    fill!(traitmodel.B, zero(T))\n",
    "    copyto!(traitmodel.B, traitmodel_null.B)\n",
    "    \n",
    "    ## get standard error ##\n",
    "    if algorithm == :MM\n",
    "        _, _, _, _, traitBseMat, _= mle_mm!(traitmodel, traitdata; verbose = false)\n",
    "    elseif algorithm == :FS\n",
    "        _, _, _, _, traitBseMat, _ = mle_fs!(traitmodel, traitdata; verbose = false)\n",
    "    end\n",
    "    \n",
    "    traitB = traitmodel.B[end]\n",
    "    traitBse = traitBseMat[end]\n",
    "\n",
    "    ### Repeat above steps using the IV as a predictor of the exposure ##\n",
    "    expdata = TwoVarCompVariateRotate(nulldatarot.Yrot[:, 2],\n",
    "      [nulldatarot.Xrot transpose(nulldatarot.eigvec) * IV],\n",
    "      nulldatarot.eigval, nulldatarot.eigvec, nulldatarot.logdetV2)\n",
    "    expmodel =  VarianceComponentModel(expdata)\n",
    "\n",
    "    fill!(expmodel.B, zero(T))\n",
    "    copyto!(expmodel.B, traitmodel_null.B)\n",
    "    ## extract the standard errors \" \n",
    "    if algorithm == :MM\n",
    "      _, _, _, _, expBseMat, _= mle_mm!(expmodel, expdata; verbose = false)\n",
    "    elseif algorithm == :FS\n",
    "      _, _, _, _, expBseMat, _= mle_fs!(expmodel, expdata; verbose = false)\n",
    "    end\n",
    "    \n",
    "    expB = expmodel.B[end]\n",
    "    expBse = expBseMat[end]\n",
    "    ## estimate the direct effect of the exposure on the trait using the ratio of effects ##\n",
    "    directbeta = traitB / expB\n",
    "    ## estimate the standard error of the direct effect ##\n",
    "    SEbeta = sqrt(traitBse^2/expB^2 + traitB^2 * expBse^2/expB^4)\n",
    "    W = (directbeta/SEbeta)^2\n",
    "    \n",
    "    #need to change the degrees of freedom if running a bivariate outcome\n",
    "    pvalue = ccdf(Chisq(1), W)\n",
    "    println(\"MR direct effects (SE): \", directbeta, \"(\", SEbeta, \"), Pvalue is \", pvalue, \"\\n\")\n",
    "    println(\"Exposure effect (SE) is: \", expB, \"(\", expBse, \")\", \"\\n\")\n",
    "    println(\"Trait effect (SE) is: \", traitB, \"(\",traitBse,\")\", \"\\n\")\n",
    "    return directbeta, SEbeta\n",
    "  end\n"
   ]
  },
  {
   "cell_type": "markdown",
   "metadata": {},
   "source": [
    "### Function to determine the Exposure Effect on the Trait using Variance Component Models "
   ]
  },
  {
   "cell_type": "markdown",
   "metadata": {},
   "source": [
    "The goal of Mendelian Randomization is to assess the statistical support for a causal explanation for an observed association between a trait and an \"exposure.\" In other words, is the observed association due to the exposure having a true effect on the trait.  So we first need to verify that there is an association between the trait and the exposure.  To do so we created another function, ExposureEffectVCM, which calls the variance component models module along with the other modules needed to run this analysis.\n",
    "\n",
    "We will use this function to determine the simulated Exposure Effect on the trait, adjusting for sex and accounting for family structure. "
   ]
  },
  {
   "cell_type": "code",
   "execution_count": 4,
   "metadata": {},
   "outputs": [
    {
     "data": {
      "text/plain": [
       "ExposureEffectVCM (generic function with 2 methods)"
      ]
     },
     "execution_count": 4,
     "metadata": {},
     "output_type": "execute_result"
    }
   ],
   "source": [
    "function ExposureEffectVCM(Y::AbstractVecOrMat,\n",
    "    X::AbstractVecOrMat,\n",
    "    exposure::AbstractVecOrMat,\n",
    "    ΦGRM::AbstractMatrix,\n",
    "    algorithm::Symbol = :FS)\n",
    "    \n",
    "    T = eltype(X)\n",
    "    n = length(exposure)\n",
    "\n",
    "nulldata = VarianceComponentVariate(outcome, X, (2ΦGRM, Matrix{Float64}(I, length(Y), length(Y))))\n",
    "    nulldatarot = TwoVarCompVariateRotate(nulldata)\n",
    "    nullmodel   = VarianceComponentModel(nulldatarot)\n",
    "\n",
    "#regress trait~null\n",
    "    traitdata_null = TwoVarCompVariateRotate(nulldatarot.Yrot[:, 1], nulldatarot.Xrot,\n",
    "      nulldatarot.eigval, nulldatarot.eigvec, nulldatarot.logdetV2)\n",
    "    traitmodel_null = VarianceComponentModel(traitdata_null)\n",
    "\n",
    "    if algorithm == :MM\n",
    "        logl, = mle_mm!(traitmodel_null, traitdata_null; verbose = false)\n",
    "    elseif algorithm == :FS\n",
    "        logl, = mle_fs!(traitmodel_null, traitdata_null; verbose = false)\n",
    "    end\n",
    "\n",
    "### regress trait~exposure lmm \n",
    "    traitdata = TwoVarCompVariateRotate(nulldatarot.Yrot[:, 1],\n",
    "      [nulldatarot.Xrot transpose(nulldatarot.eigvec) * exposure],\n",
    "      nulldatarot.eigval, nulldatarot.eigvec, nulldatarot.logdetV2)\n",
    "    traitmodel = VarianceComponentModel(traitdata)\n",
    "\n",
    "#Set the starting values for the maximum likelihood estimation\n",
    "    #Use the null model estimates as start values for the alternative model.\n",
    "    fill!(traitmodel.B, zero(T))\n",
    "    copyto!(traitmodel.B, traitmodel_null.B)\n",
    "    if algorithm == :MM\n",
    "        _, _, _, _, traitBseMat, _= mle_mm!(traitmodel, traitdata; verbose = false)\n",
    "    elseif algorithm == :FS\n",
    "        _, _, _, _, traitBseMat, _ = mle_fs!(traitmodel, traitdata; verbose = false)\n",
    "    end\n",
    "    traitBexp = traitmodel.B[end]\n",
    "    traitBexpSE = traitBseMat[end]\n",
    "return traitBexp, traitBexpSE\n",
    "      end"
   ]
  },
  {
   "cell_type": "markdown",
   "metadata": {},
   "source": [
    "## Examples"
   ]
  },
  {
   "cell_type": "markdown",
   "metadata": {},
   "source": [
    "## Example 1: Fit MR-VCM with major locus, SNP rs11672206"
   ]
  },
  {
   "cell_type": "markdown",
   "metadata": {},
   "source": [
    "In this example we use the SNP_data28d_trait1.fam data file. The trait was simulated under the scenario where the genetic variant is a strong instrumental variable (IV) and there is a direct effect of the exposure on the trait and so we expect the observed, naive association between the exposure and the trait to equal the direct effect we calculate using MR. "
   ]
  },
  {
   "cell_type": "markdown",
   "metadata": {},
   "source": [
    "### Data files\n",
    "\n",
    "To simulate your own data examples you can use the Julia program TraitSimulation.jl  or the Trait simulation option of the fortran version of Mendel. See [Mendel Option 28 (Trait Simulation) example](https://www.genetics.ucla.edu/software/Mendel_current_doc.pdf#page=279). "
   ]
  },
  {
   "cell_type": "markdown",
   "metadata": {},
   "source": [
    "Take a look at the Pedigree file below. The columns are: :famid, :id, :moid, :faid, :sex, :twin, :simtrait1"
   ]
  },
  {
   "cell_type": "code",
   "execution_count": 5,
   "metadata": {},
   "outputs": [
    {
     "data": {
      "text/plain": [
       "212×9 Array{Any,2}:\n",
       "     1     16       \"          \"  …  \"          \"  38.8938   90.1804  \"\"\n",
       "     1   8228       \"          \"     \"          \"  47.0274  109.327   \"\"\n",
       "     1  17008       \"          \"     \"          \"  44.1152  114.15    \"\"\n",
       "     1   9218  17008                 \"          \"  43.0108  109.922   \"\"\n",
       "     1   3226   9218                 \"          \"  42.4626  100.127   \"\"\n",
       "     2     29       \"          \"  …  \"          \"  40.5792   95.7373  \"\"\n",
       "     2   2294       \"          \"     \"          \"  40.5459  108.733   \"\"\n",
       "     2   3416       \"          \"     \"          \"  46.5575  121.181   \"\"\n",
       "     2   3916   2294                 \"          \"  43.2133  101.566   \"\"\n",
       "     2   6790   2294                 \"          \"  45.1688  114.688   \"\"\n",
       "     2  14695   2294              …  \"          \"  39.986    96.3424  \"\"\n",
       "     2  17893   2294                 \"          \"  42.3638   99.7993  \"\"\n",
       "     2   6952   3416                 \"          \"  50.7288  129.112   \"\"\n",
       "     ⋮                            ⋱  ⋮                                  \n",
       "    31  24385  23058              …  \"          \"  44.803   116.241   \"\"\n",
       "    31  21403  27016                 \"          \"  38.4925   92.6177  \"\"\n",
       "    31   1365  23058                 \"          \"  38.9816   91.6206  \"\"\n",
       "    31  19392  26817                 \"          \"  36.289    89.2516  \"\"\n",
       " 10006     66       \"          \"     \"          \"  39.9046  110.54    \"\"\n",
       " 10008     92       \"          \"  …  \"          \"  42.3719  113.432   \"\"\n",
       " 10014    186       \"          \"     \"          \"  46.6342  115.746   \"\"\n",
       " 10027    374       \"          \"     \"          \"  41.7128  104.298   \"\"\n",
       " 10029    434       \"          \"     \"          \"  44.5177  116.291   \"\"\n",
       " 10033    333       \"          \"     \"          \"  47.2557  119.839   \"\"\n",
       " 10040    234       \"          \"  …  \"          \"  47.1437  114.207   \"\"\n",
       " 10045    789       \"          \"     \"          \"  45.9784  114.946   \"\""
      ]
     },
     "execution_count": 5,
     "metadata": {},
     "output_type": "execute_result"
    }
   ],
   "source": [
    "using DelimitedFiles\n",
    "Ped28_1 = readdlm(\"SNP_data28d_trait1.fam\", ','; header = false)"
   ]
  },
  {
   "cell_type": "code",
   "execution_count": 6,
   "metadata": {},
   "outputs": [
    {
     "data": {
      "text/plain": [
       "212-element Array{Float64,1}:\n",
       " 38.89381\n",
       " 47.02736\n",
       " 44.11519\n",
       " 43.01079\n",
       " 42.4626 \n",
       " 40.57919\n",
       " 40.54588\n",
       " 46.5575 \n",
       " 43.21334\n",
       " 45.16885\n",
       " 39.98595\n",
       " 42.3638 \n",
       " 50.72882\n",
       "  ⋮      \n",
       " 44.80302\n",
       " 38.49253\n",
       " 38.9816 \n",
       " 36.28899\n",
       " 39.90458\n",
       " 42.37186\n",
       " 46.63421\n",
       " 41.71284\n",
       " 44.51775\n",
       " 47.25572\n",
       " 47.14371\n",
       " 45.97838"
      ]
     },
     "execution_count": 6,
     "metadata": {},
     "output_type": "execute_result"
    }
   ],
   "source": [
    "exp_1 = convert(Array{Float64,1}, Ped28_1[:,7])"
   ]
  },
  {
   "cell_type": "markdown",
   "metadata": {},
   "source": [
    "We don't need to retain the IDs so we retrieve the phenotype data and put them in an array Y."
   ]
  },
  {
   "cell_type": "code",
   "execution_count": 7,
   "metadata": {},
   "outputs": [
    {
     "data": {
      "text/plain": [
       "212-element Array{Float64,1}:\n",
       "  90.18044\n",
       " 109.32747\n",
       " 114.15019\n",
       " 109.92158\n",
       " 100.12725\n",
       "  95.73733\n",
       " 108.73254\n",
       " 121.18095\n",
       " 101.56554\n",
       " 114.68795\n",
       "  96.3424 \n",
       "  99.79928\n",
       " 129.11242\n",
       "   ⋮      \n",
       " 116.24136\n",
       "  92.61769\n",
       "  91.62061\n",
       "  89.25164\n",
       " 110.5402 \n",
       " 113.43192\n",
       " 115.74563\n",
       " 104.29811\n",
       " 116.29069\n",
       " 119.83851\n",
       " 114.20666\n",
       " 114.94558"
      ]
     },
     "execution_count": 7,
     "metadata": {},
     "output_type": "execute_result"
    }
   ],
   "source": [
    "Y_1 = convert(Array{Float64,1}, Ped28_1[:,8])"
   ]
  },
  {
   "cell_type": "markdown",
   "metadata": {},
   "source": [
    "Retrieve sex data coded as 0 (male) or 1 (female) so male is the reference group."
   ]
  },
  {
   "cell_type": "code",
   "execution_count": 8,
   "metadata": {},
   "outputs": [
    {
     "data": {
      "text/plain": [
       "212-element Array{Float64,1}:\n",
       " 1.0\n",
       " 1.0\n",
       " 0.0\n",
       " 0.0\n",
       " 1.0\n",
       " 1.0\n",
       " 0.0\n",
       " 0.0\n",
       " 1.0\n",
       " 0.0\n",
       " 1.0\n",
       " 1.0\n",
       " 0.0\n",
       " ⋮  \n",
       " 0.0\n",
       " 1.0\n",
       " 1.0\n",
       " 1.0\n",
       " 0.0\n",
       " 0.0\n",
       " 0.0\n",
       " 0.0\n",
       " 0.0\n",
       " 0.0\n",
       " 0.0\n",
       " 0.0"
      ]
     },
     "execution_count": 8,
     "metadata": {},
     "output_type": "execute_result"
    }
   ],
   "source": [
    "sex_1 = map(x -> (strip(x) == \"F\") ? 1.0 : 0.0, Ped28_1[:, 5])"
   ]
  },
  {
   "cell_type": "markdown",
   "metadata": {},
   "source": [
    "Take a look at the first 10 lines of the SNP definition file. Notice the fist two lines are included by default for formatting, but should be excluded from the analysis. A semi colon \";\" brings up a unix shell. Following shell commands assumes MacOS or Linux environment. Julia commands should run regardless of OS."
   ]
  },
  {
   "cell_type": "code",
   "execution_count": 9,
   "metadata": {},
   "outputs": [
    {
     "name": "stdout",
     "output_type": "stream",
     "text": [
      "19\trs3020701       \t0\t90974\t1\t2\n",
      "19\trs56343121      \t0\t91106\t1\t2\n",
      "19\trs143501051     \t0\t93542\t1\t2\n",
      "19\trs56182540      \t0\t95981\t1\t2\n",
      "19\trs7260412       \t0\t105021\t1\t2\n",
      "19\trs11669393      \t0\t107866\t1\t2\n",
      "19\trs181646587     \t0\t107894\t1\t2\n",
      "19\trs8106297       \t0\t107958\t1\t2\n",
      "19\trs8106302       \t0\t107962\t1\t2\n",
      "19\trs183568620     \t0\t107987\t1\t2\n"
     ]
    }
   ],
   "source": [
    ";head SNP_data28d_trait1.bim"
   ]
  },
  {
   "cell_type": "code",
   "execution_count": 10,
   "metadata": {},
   "outputs": [
    {
     "data": {
      "text/plain": [
       "253141×6 Array{Any,2}:\n",
       " 19  \"rs3020701       \"  0     90974  1  2\n",
       " 19  \"rs56343121      \"  0     91106  1  2\n",
       " 19  \"rs143501051     \"  0     93542  1  2\n",
       " 19  \"rs56182540      \"  0     95981  1  2\n",
       " 19  \"rs7260412       \"  0    105021  1  2\n",
       " 19  \"rs11669393      \"  0    107866  1  2\n",
       " 19  \"rs181646587     \"  0    107894  1  2\n",
       " 19  \"rs8106297       \"  0    107958  1  2\n",
       " 19  \"rs8106302       \"  0    107962  1  2\n",
       " 19  \"rs183568620     \"  0    107987  1  2\n",
       " 19  \"rs186451972     \"  0    108003  1  2\n",
       " 19  \"rs189699222     \"  0    108032  1  2\n",
       " 19  \"rs182902214     \"  0    108090  1  2\n",
       "  ⋮                                      ⋮\n",
       " 19  \"rs188169422     \"  0  59116080  1  2\n",
       " 19  \"rs144587467     \"  0  59117729  1  2\n",
       " 19  \"rs139879509     \"  0  59117949  1  2\n",
       " 19  \"rs143250448     \"  0  59117982  1  2\n",
       " 19  \"rs145384750     \"  0  59118028  1  2\n",
       " 19  \"rs149215836     \"  0  59118040  1  2\n",
       " 19  \"rs139221927     \"  0  59118044  1  2\n",
       " 19  \"rs181848453     \"  0  59118114  1  2\n",
       " 19  \"rs138318162     \"  0  59118148  1  2\n",
       " 19  \"rs186913222     \"  0  59118616  1  2\n",
       " 19  \"rs141816674     \"  0  59118779  1  2\n",
       " 19  \"rs150801216     \"  0  59118783  1  2"
      ]
     },
     "execution_count": 10,
     "metadata": {},
     "output_type": "execute_result"
    }
   ],
   "source": [
    "snpdef28_1 = readdlm(\"SNP_data28d_trait1.bim\", '\\t'; header = false)"
   ]
  },
  {
   "cell_type": "markdown",
   "metadata": {},
   "source": [
    "In this example we will analyze a single SNP, rs11672206, so we don't need the position of the snps just the SNP IDs to find the SNP data. Thus we put SNP IDs in vector. "
   ]
  },
  {
   "cell_type": "code",
   "execution_count": 11,
   "metadata": {},
   "outputs": [
    {
     "data": {
      "text/plain": [
       "253141-element Array{SubString{String},1}:\n",
       " \"rs3020701\"  \n",
       " \"rs56343121\" \n",
       " \"rs143501051\"\n",
       " \"rs56182540\" \n",
       " \"rs7260412\"  \n",
       " \"rs11669393\" \n",
       " \"rs181646587\"\n",
       " \"rs8106297\"  \n",
       " \"rs8106302\"  \n",
       " \"rs183568620\"\n",
       " \"rs186451972\"\n",
       " \"rs189699222\"\n",
       " \"rs182902214\"\n",
       " ⋮            \n",
       " \"rs188169422\"\n",
       " \"rs144587467\"\n",
       " \"rs139879509\"\n",
       " \"rs143250448\"\n",
       " \"rs145384750\"\n",
       " \"rs149215836\"\n",
       " \"rs139221927\"\n",
       " \"rs181848453\"\n",
       " \"rs138318162\"\n",
       " \"rs186913222\"\n",
       " \"rs141816674\"\n",
       " \"rs150801216\""
      ]
     },
     "execution_count": 11,
     "metadata": {},
     "output_type": "execute_result"
    }
   ],
   "source": [
    "snpid = map(x -> strip(string(x)), snpdef28_1[:, 2])"
   ]
  },
  {
   "cell_type": "markdown",
   "metadata": {},
   "source": [
    "### Read in the SNP binary file using the SnpArray.jl package."
   ]
  },
  {
   "cell_type": "markdown",
   "metadata": {},
   "source": [
    "Because SnpArray function requires input file name ending in .bed rather than .bin, we create a symbolic link SNP_data28d_trait1.bed to SNP_data28d_trait1.bin.  (If you have trouble with getting this command to work on your computer you can copy the file outside of julia). Note that SnpArrays requires the set of PLINK files to share the same name. In this first example we use the files: SNP_data28d_trait1.bed, SNP_data28d_trait1.fam, and SNP_data28d_trait1.bim."
   ]
  },
  {
   "cell_type": "code",
   "execution_count": 12,
   "metadata": {},
   "outputs": [
    {
     "name": "stderr",
     "output_type": "stream",
     "text": [
      "ln: ./SNP_data28d_trait1.bed: File exists\n"
     ]
    }
   ],
   "source": [
    ";ln -s ./SNP_data28d_trait1.bin ./SNP_data28d_trait1.bed"
   ]
  },
  {
   "cell_type": "markdown",
   "metadata": {},
   "source": [
    "Read in the binary .bed file of genetic variants using the 'SnpArrays' package."
   ]
  },
  {
   "cell_type": "code",
   "execution_count": 14,
   "metadata": {},
   "outputs": [
    {
     "data": {
      "text/plain": [
       "212×253141 SnpArray:\n",
       " 0x03  0x03  0x00  0x03  0x03  0x03  …  0x02  0x02  0x00  0x00  0x03  0x00\n",
       " 0x03  0x03  0x00  0x02  0x02  0x03     0x00  0x03  0x00  0x00  0x03  0x00\n",
       " 0x03  0x03  0x00  0x03  0x03  0x03     0x03  0x02  0x00  0x00  0x03  0x00\n",
       " 0x03  0x03  0x00  0x03  0x03  0x03     0x02  0x03  0x00  0x00  0x03  0x00\n",
       " 0x03  0x03  0x00  0x03  0x03  0x03     0x00  0x03  0x00  0x00  0x03  0x00\n",
       " 0x03  0x03  0x00  0x03  0x03  0x03  …  0x00  0x00  0x00  0x00  0x00  0x03\n",
       " 0x03  0x02  0x00  0x03  0x03  0x03     0x02  0x03  0x00  0x03  0x00  0x03\n",
       " 0x03  0x03  0x00  0x03  0x03  0x03     0x02  0x03  0x00  0x03  0x00  0x03\n",
       " 0x03  0x02  0x00  0x03  0x03  0x03     0x02  0x02  0x00  0x02  0x00  0x03\n",
       " 0x03  0x03  0x00  0x03  0x03  0x03     0x00  0x02  0x00  0x02  0x00  0x03\n",
       " 0x03  0x02  0x00  0x03  0x03  0x03  …  0x00  0x02  0x00  0x02  0x00  0x03\n",
       " 0x03  0x02  0x00  0x03  0x03  0x03     0x02  0x02  0x00  0x02  0x00  0x03\n",
       " 0x03  0x02  0x00  0x03  0x03  0x03     0x03  0x03  0x00  0x03  0x00  0x03\n",
       "    ⋮                             ⋮  ⋱     ⋮                             ⋮\n",
       " 0x03  0x02  0x00  0x02  0x02  0x03  …  0x02  0x03  0x00  0x00  0x03  0x00\n",
       " 0x03  0x03  0x00  0x03  0x03  0x03     0x00  0x03  0x00  0x02  0x02  0x02\n",
       " 0x03  0x03  0x00  0x03  0x03  0x03     0x02  0x03  0x00  0x00  0x03  0x00\n",
       " 0x03  0x03  0x00  0x03  0x03  0x03     0x02  0x03  0x00  0x00  0x03  0x00\n",
       " 0x03  0x03  0x00  0x02  0x02  0x03     0x02  0x03  0x00  0x00  0x03  0x00\n",
       " 0x03  0x03  0x00  0x03  0x03  0x03  …  0x02  0x03  0x00  0x02  0x02  0x00\n",
       " 0x03  0x03  0x00  0x02  0x02  0x03     0x02  0x03  0x00  0x00  0x02  0x02\n",
       " 0x03  0x03  0x00  0x03  0x03  0x03     0x00  0x03  0x00  0x00  0x03  0x00\n",
       " 0x03  0x02  0x00  0x03  0x03  0x03     0x02  0x03  0x00  0x00  0x02  0x02\n",
       " 0x03  0x03  0x00  0x03  0x03  0x03     0x00  0x03  0x00  0x00  0x03  0x00\n",
       " 0x03  0x03  0x00  0x03  0x03  0x03  …  0x02  0x03  0x00  0x00  0x03  0x00\n",
       " 0x03  0x03  0x00  0x03  0x03  0x03     0x00  0x03  0x00  0x02  0x02  0x02"
      ]
     },
     "execution_count": 14,
     "metadata": {},
     "output_type": "execute_result"
    }
   ],
   "source": [
    "using SnpArrays\n",
    "snpbin28_1 = SnpArray(\"SNP_data28d_trait1.bed\")"
   ]
  },
  {
   "cell_type": "markdown",
   "metadata": {},
   "source": [
    "### Kinship via Genetic Relationship Matrix (GRM)\n",
    "\n",
    "Recall that in using variance components to account for the relatedness among individuals,  we need some measure of that relatedness. We could use the pedigree structure to calculate the theoretical kinships but that is an idealized measurement of the relatedness that assumes the pedigrees are known exactly and that founders are completely unrelated.  We don't want to make these assumptions so instead we use the SNP to get an estimate of the kinships.   \n",
    "Under the GRM formulation, the estimate of the global kinship coefficient of individuals $i$ and $j$ is\n",
    "$$ \\widehat\\Phi_{GRMij}^  = \\frac{1}{2S} \\sum_{k=1}^S \\frac{(x_{ik} -2p_k)(x_{jk} - 2p_k)}{2 p_k (1-p_k)}$$,\n",
    "where $k$ ranges over the selected $S$ SNPs, $p_k$ is the minor allele frequency of SNP $k$, and $x_{ik}$ is the number of minor alleles in individual $i$s genotype at SNP $k$."
   ]
  },
  {
   "cell_type": "markdown",
   "metadata": {},
   "source": [
    "## Calculate the GRM matrix\n",
    "\n",
    "Use the grm function in the SnpArrays.jl package to create the genetic relationship matrix from the genetic variants in the .bed file for example 1. By default, `grm` excludes SNPs with maf < 0.01."
   ]
  },
  {
   "cell_type": "code",
   "execution_count": 15,
   "metadata": {},
   "outputs": [
    {
     "data": {
      "text/plain": [
       "212×212 Array{Float64,2}:\n",
       "  0.488859      0.00422798    0.00978752   …   0.0187809     0.000152741\n",
       "  0.00422798    0.515141     -0.0190676       -0.0220944    -0.0162381  \n",
       "  0.00978752   -0.0190676     0.489156        -0.0143552    -0.00392193 \n",
       "  0.241927     -0.00231651    0.266756         0.00264766   -0.00334162 \n",
       "  0.124909      0.265109      0.12103         -0.0118053    -0.00641433 \n",
       " -0.0121766    -0.000271784  -0.00316506   …  -0.000629837   0.0103776  \n",
       " -0.011988      0.00845464   -0.00950518      -0.0105435     0.000340285\n",
       " -0.0134368    -0.00713175   -0.0101011       -0.0115942    -0.00288935 \n",
       " -0.0234305    -0.00241126   -0.010413         0.000129339   0.0166282  \n",
       " -0.0121471     0.00305141   -0.00754556      -0.0104162     0.00554306 \n",
       " -0.0128464     0.010258      0.00110475   …  -0.00424998    0.0124296  \n",
       " -0.0111854     0.00423488   -0.0117065       -0.0244977    -0.00698659 \n",
       " -0.0124607    -0.00575043   -0.0124951       -0.00573017   -0.0103429  \n",
       "  ⋮                                        ⋱   ⋮                        \n",
       " -0.0170331    -0.0136246    -0.00834008   …  -0.00761561   -0.012038   \n",
       " -0.0100435    -0.00757905   -0.00879137       0.0151941     0.00464083 \n",
       " -0.0119478    -0.011707     -0.0119966       -0.00531199   -0.0233153  \n",
       " -0.00406636    0.00823632    0.00260479       0.00329892    0.00873774 \n",
       " -0.00215359    0.0120041    -0.002889        -0.00294264   -0.00290955 \n",
       "  0.00353341   -0.00200184   -0.00346206   …   0.0240445     0.0224584  \n",
       " -0.0132247    -0.00736188    0.000399022     -0.0115962     0.00801023 \n",
       "  0.0136135     0.014919      0.0146852        0.00611176    0.00984425 \n",
       " -0.00763248   -0.00216137    0.0227918        0.00711085   -0.0159608  \n",
       "  0.000154845  -0.0142528     0.0109832        0.00490078    0.00924588 \n",
       "  0.0187809    -0.0220944    -0.0143552    …   0.556933      0.0380902  \n",
       "  0.000152741  -0.0162381    -0.00392193       0.0380902     0.502935   "
      ]
     },
     "execution_count": 15,
     "metadata": {},
     "output_type": "execute_result"
    }
   ],
   "source": [
    "ΦGRM1 = grm(snpbin28_1)"
   ]
  },
  {
   "cell_type": "markdown",
   "metadata": {},
   "source": [
    "### Association of the Trait and Exposure:"
   ]
  },
  {
   "cell_type": "code",
   "execution_count": 16,
   "metadata": {},
   "outputs": [
    {
     "data": {
      "text/plain": [
       "212-element Array{Float64,1}:\n",
       "  90.18044\n",
       " 109.32747\n",
       " 114.15019\n",
       " 109.92158\n",
       " 100.12725\n",
       "  95.73733\n",
       " 108.73254\n",
       " 121.18095\n",
       " 101.56554\n",
       " 114.68795\n",
       "  96.3424 \n",
       "  99.79928\n",
       " 129.11242\n",
       "   ⋮      \n",
       " 116.24136\n",
       "  92.61769\n",
       "  91.62061\n",
       "  89.25164\n",
       " 110.5402 \n",
       " 113.43192\n",
       " 115.74563\n",
       " 104.29811\n",
       " 116.29069\n",
       " 119.83851\n",
       " 114.20666\n",
       " 114.94558"
      ]
     },
     "execution_count": 16,
     "metadata": {},
     "output_type": "execute_result"
    }
   ],
   "source": [
    "###### First Example Exposure Effect on Trait using VCM ####\n",
    "X = [ones(length(Y_1), 1) sex_1]\n",
    "exposure = exp_1\n",
    "outcome = Y_1"
   ]
  },
  {
   "cell_type": "code",
   "execution_count": 17,
   "metadata": {},
   "outputs": [
    {
     "name": "stdout",
     "output_type": "stream",
     "text": [
      "\n",
      "******************************************************************************\n",
      "This program contains Ipopt, a library for large-scale nonlinear optimization.\n",
      " Ipopt is released as open source code under the Eclipse Public License (EPL).\n",
      "         For more information visit http://projects.coin-or.org/Ipopt\n",
      "******************************************************************************\n",
      "\n"
     ]
    },
    {
     "data": {
      "text/plain": [
       "(1.9471633423548604, 0.059848806492927765)"
      ]
     },
     "execution_count": 17,
     "metadata": {},
     "output_type": "execute_result"
    }
   ],
   "source": [
    "#Calculate the exposure effect\n",
    "ExposureEffectVCM(outcome, X, exposure, ΦGRM1, :FS)"
   ]
  },
  {
   "cell_type": "markdown",
   "metadata": {},
   "source": [
    "## Use MR to Check for Evidence of a Causal Relationship of Exposure on the Trait. "
   ]
  },
  {
   "cell_type": "markdown",
   "metadata": {},
   "source": [
    "### Prepare Data: Find the data for SNP rs11672206 and convert from binary to the number of minor alleles. "
   ]
  },
  {
   "cell_type": "code",
   "execution_count": 18,
   "metadata": {},
   "outputs": [
    {
     "data": {
      "text/plain": [
       "236079"
      ]
     },
     "execution_count": 18,
     "metadata": {},
     "output_type": "execute_result"
    }
   ],
   "source": [
    "ind_rs11672206 = findall(x -> x == \"rs11672206\", snpid)[1]"
   ]
  },
  {
   "cell_type": "code",
   "execution_count": 19,
   "metadata": {},
   "outputs": [
    {
     "data": {
      "text/plain": [
       "212-element Array{UInt8,1}:\n",
       " 0x00\n",
       " 0x03\n",
       " 0x00\n",
       " 0x00\n",
       " 0x02\n",
       " 0x02\n",
       " 0x00\n",
       " 0x00\n",
       " 0x02\n",
       " 0x02\n",
       " 0x02\n",
       " 0x02\n",
       " 0x02\n",
       "    ⋮\n",
       " 0x02\n",
       " 0x02\n",
       " 0x02\n",
       " 0x02\n",
       " 0x00\n",
       " 0x02\n",
       " 0x02\n",
       " 0x02\n",
       " 0x00\n",
       " 0x02\n",
       " 0x00\n",
       " 0x02"
      ]
     },
     "execution_count": 19,
     "metadata": {},
     "output_type": "execute_result"
    }
   ],
   "source": [
    "snpbin28_1[:, ind_rs11672206]"
   ]
  },
  {
   "cell_type": "code",
   "execution_count": 20,
   "metadata": {},
   "outputs": [
    {
     "data": {
      "text/plain": [
       "212-element Array{Float64,1}:\n",
       " 0.0\n",
       " 2.0\n",
       " 0.0\n",
       " 0.0\n",
       " 1.0\n",
       " 1.0\n",
       " 0.0\n",
       " 0.0\n",
       " 1.0\n",
       " 1.0\n",
       " 1.0\n",
       " 1.0\n",
       " 1.0\n",
       " ⋮  \n",
       " 1.0\n",
       " 1.0\n",
       " 1.0\n",
       " 1.0\n",
       " 0.0\n",
       " 1.0\n",
       " 1.0\n",
       " 1.0\n",
       " 0.0\n",
       " 1.0\n",
       " 0.0\n",
       " 1.0"
      ]
     },
     "execution_count": 20,
     "metadata": {},
     "output_type": "execute_result"
    }
   ],
   "source": [
    "snp_rs11672206 = convert(Array{Float64,1}, @view(snpbin28_1[:, ind_rs11672206]))"
   ]
  },
  {
   "cell_type": "markdown",
   "metadata": {},
   "source": [
    "### Run MR with variance components"
   ]
  },
  {
   "cell_type": "code",
   "execution_count": 21,
   "metadata": {
    "scrolled": true
   },
   "outputs": [
    {
     "name": "stdout",
     "output_type": "stream",
     "text": [
      "MR direct effects (SE): 1.9758504087435436(0.40446735551800067), Pvalue is 1.0339332851609442e-6\n",
      "\n",
      "Exposure effect (SE) is: 2.5214901400746736(0.3269495431167816)\n",
      "\n",
      "Trait effect (SE) is: 4.982087323909359(0.7891735914492959)\n",
      "\n"
     ]
    },
    {
     "data": {
      "text/plain": [
       "(1.9758504087435436, 0.40446735551800067)"
      ]
     },
     "execution_count": 21,
     "metadata": {},
     "output_type": "execute_result"
    }
   ],
   "source": [
    "###### First Example MR####\n",
    "MendelianRandomization(Y_1, [ones(length(Y_1), 1) sex_1], snp_rs11672206, exp_1, ΦGRM1)"
   ]
  },
  {
   "cell_type": "markdown",
   "metadata": {},
   "source": [
    "The MR direct effect is calculated as the ratio of the effect of the SNP of the trait (trait effect) and the effect of the same SNP on the exposure (exposure effect). \n",
    "$\\beta_{DE} = \\beta_{TE} /\\beta_{EE}$.   Note that in this case, our direct effect estimate is very similar to the naive estimate in which we used the exposure as a predictor."
   ]
  },
  {
   "cell_type": "markdown",
   "metadata": {},
   "source": [
    "# Example 2:  No Causal Relationship - Association due to Confounding "
   ]
  },
  {
   "cell_type": "markdown",
   "metadata": {},
   "source": [
    "In this example we use the the files: SNP_data28exptrait2.bed, SNP_data28exptrait2.fam, and SNP_data28exptrait2.bim, simulated under the scenario where there is still a strong IV but any association between the trait and the environmental predictor is due to confounding. "
   ]
  },
  {
   "cell_type": "markdown",
   "metadata": {},
   "source": [
    "## Loading and Preparing the Data\n",
    "\n",
    "Take a look at the pedigree file.\n",
    "columns are: :famid, :id, :moid, :faid, :sex, :twin, :simtrait1, :simtrait2"
   ]
  },
  {
   "cell_type": "markdown",
   "metadata": {},
   "source": [
    "Read in the pedigree file. This file is in the classic Mendel format, Family Id, Person ID, Father ID, Mother Id, sex as F (female) or M (male), monozygotic twin indicator, simtrait1 and simtrait2. "
   ]
  },
  {
   "cell_type": "code",
   "execution_count": 22,
   "metadata": {},
   "outputs": [
    {
     "data": {
      "text/plain": [
       "212×9 Array{Any,2}:\n",
       "     1     16       \"          \"  …  \"          \"  32.1022  14.7783  \"\"\n",
       "     1   8228       \"          \"     \"          \"  32.0522  16.6838  \"\"\n",
       "     1  17008       \"          \"     \"          \"  45.3005  21.6456  \"\"\n",
       "     1   9218  17008                 \"          \"  43.4727  24.2119  \"\"\n",
       "     1   3226   9218                 \"          \"  37.7578  20.511   \"\"\n",
       "     2     29       \"          \"  …  \"          \"  36.9209  17.0922  \"\"\n",
       "     2   2294       \"          \"     \"          \"  43.3864  20.414   \"\"\n",
       "     2   3416       \"          \"     \"          \"  45.7102  23.3037  \"\"\n",
       "     2  17893   2294                 \"          \"  33.4674  15.3641  \"\"\n",
       "     2   6952   3416                 \"          \"  39.5669  21.3321  \"\"\n",
       "     2  14695   2294              …  \"          \"  30.7948  16.3268  \"\"\n",
       "     2   6790   2294                 \"          \"  38.5657  22.479   \"\"\n",
       "     2   3916   2294                 \"          \"  34.3997  17.2739  \"\"\n",
       "     ⋮                            ⋱  ⋮                                 \n",
       "    31   9277   4257              …  \"          \"  43.8188  20.6551  \"\"\n",
       "    31  16139   4257                 \"          \"  38.916   17.9165  \"\"\n",
       "    31  10439   4257                 \"          \"  40.7922  23.3292  \"\"\n",
       "    31     63  17673                 \"          \"  34.847   13.2469  \"\"\n",
       " 10006     66       \"          \"     \"          \"  41.9567  23.4621  \"\"\n",
       " 10008     92       \"          \"  …  \"          \"  39.7982  20.5745  \"\"\n",
       " 10014    186       \"          \"     \"          \"  39.3295  20.8389  \"\"\n",
       " 10027    374       \"          \"     \"          \"  38.8928  16.6698  \"\"\n",
       " 10029    434       \"          \"     \"          \"  46.2767  26.1484  \"\"\n",
       " 10033    333       \"          \"     \"          \"  42.8913  23.4916  \"\"\n",
       " 10040    234       \"          \"  …  \"          \"  44.5806  23.3856  \"\"\n",
       " 10045    789       \"          \"     \"          \"  38.9998  22.224   \"\""
      ]
     },
     "execution_count": 22,
     "metadata": {},
     "output_type": "execute_result"
    }
   ],
   "source": [
    "# columns are: :famid, :id, :moid, :faid, :sex, :twin, :simtrait1, :simtrait2\n",
    "ped28_2 = readdlm(\"SNP_data28exptrait2.fam\", ','; header = false)"
   ]
  },
  {
   "cell_type": "markdown",
   "metadata": {},
   "source": [
    "Again, we don't need to retain the ids so we retrieve the phenotype data and put them in Y_2 and exp_2, to be used as the respective outcome and exposure in example 2."
   ]
  },
  {
   "cell_type": "code",
   "execution_count": 23,
   "metadata": {},
   "outputs": [
    {
     "data": {
      "text/plain": [
       "212×2 Array{Float64,2}:\n",
       " 32.1022  14.7783\n",
       " 32.0522  16.6838\n",
       " 45.3005  21.6456\n",
       " 43.4727  24.2119\n",
       " 37.7578  20.511 \n",
       " 36.9209  17.0922\n",
       " 43.3864  20.414 \n",
       " 45.7102  23.3037\n",
       " 33.4674  15.3641\n",
       " 39.5669  21.3321\n",
       " 30.7948  16.3268\n",
       " 38.5657  22.479 \n",
       " 34.3997  17.2739\n",
       "  ⋮              \n",
       " 43.8188  20.6551\n",
       " 38.916   17.9165\n",
       " 40.7922  23.3292\n",
       " 34.847   13.2469\n",
       " 41.9567  23.4621\n",
       " 39.7982  20.5745\n",
       " 39.3295  20.8389\n",
       " 38.8928  16.6698\n",
       " 46.2767  26.1484\n",
       " 42.8913  23.4916\n",
       " 44.5806  23.3856\n",
       " 38.9998  22.224 "
      ]
     },
     "execution_count": 23,
     "metadata": {},
     "output_type": "execute_result"
    }
   ],
   "source": [
    "exp_2 = convert(Vector{Float64}, ped28_2[:, 7])\n",
    "Y_2 = convert(Vector{Float64}, ped28_2[:, 8])\n",
    "Exposure_Trait2 = [exp_2 Y_2]"
   ]
  },
  {
   "cell_type": "markdown",
   "metadata": {},
   "source": [
    "Retrieve sex data coded as 0 (male) or 1 (female) so male is the reference group."
   ]
  },
  {
   "cell_type": "code",
   "execution_count": 24,
   "metadata": {},
   "outputs": [
    {
     "data": {
      "text/plain": [
       "212-element Array{Float64,1}:\n",
       " 1.0\n",
       " 1.0\n",
       " 0.0\n",
       " 0.0\n",
       " 1.0\n",
       " 1.0\n",
       " 0.0\n",
       " 0.0\n",
       " 1.0\n",
       " 0.0\n",
       " 1.0\n",
       " 0.0\n",
       " 1.0\n",
       " ⋮  \n",
       " 0.0\n",
       " 0.0\n",
       " 0.0\n",
       " 1.0\n",
       " 0.0\n",
       " 0.0\n",
       " 0.0\n",
       " 0.0\n",
       " 0.0\n",
       " 0.0\n",
       " 0.0\n",
       " 0.0"
      ]
     },
     "execution_count": 24,
     "metadata": {},
     "output_type": "execute_result"
    }
   ],
   "source": [
    "sex_2 = map(x -> (strip(x) == \"F\") ? 1.0 : 0.0, ped28_2[:, 5])"
   ]
  },
  {
   "cell_type": "markdown",
   "metadata": {},
   "source": [
    "Read in the SNP definition file."
   ]
  },
  {
   "cell_type": "code",
   "execution_count": 25,
   "metadata": {},
   "outputs": [
    {
     "data": {
      "text/plain": [
       "253141×6 Array{Any,2}:\n",
       " 19  \" rs3020701       \"  0     90974  1  2\n",
       " 19  \" rs56343121      \"  0     91106  1  2\n",
       " 19  \" rs143501051     \"  0     93542  1  2\n",
       " 19  \" rs56182540      \"  0     95981  1  2\n",
       " 19  \" rs7260412       \"  0    105021  1  2\n",
       " 19  \" rs11669393      \"  0    107866  1  2\n",
       " 19  \" rs181646587     \"  0    107894  1  2\n",
       " 19  \" rs8106297       \"  0    107958  1  2\n",
       " 19  \" rs8106302       \"  0    107962  1  2\n",
       " 19  \" rs183568620     \"  0    107987  1  2\n",
       " 19  \" rs186451972     \"  0    108003  1  2\n",
       " 19  \" rs189699222     \"  0    108032  1  2\n",
       " 19  \" rs182902214     \"  0    108090  1  2\n",
       "  ⋮                                       ⋮\n",
       " 19  \" rs188169422     \"  0  59116080  1  2\n",
       " 19  \" rs144587467     \"  0  59117729  1  2\n",
       " 19  \" rs139879509     \"  0  59117949  1  2\n",
       " 19  \" rs143250448     \"  0  59117982  1  2\n",
       " 19  \" rs145384750     \"  0  59118028  1  2\n",
       " 19  \" rs149215836     \"  0  59118040  1  2\n",
       " 19  \" rs139221927     \"  0  59118044  1  2\n",
       " 19  \" rs181848453     \"  0  59118114  1  2\n",
       " 19  \" rs138318162     \"  0  59118148  1  2\n",
       " 19  \" rs186913222     \"  0  59118616  1  2\n",
       " 19  \" rs141816674     \"  0  59118779  1  2\n",
       " 19  \" rs150801216     \"  0  59118783  1  2"
      ]
     },
     "execution_count": 25,
     "metadata": {},
     "output_type": "execute_result"
    }
   ],
   "source": [
    "# columns are: :snpid, :chrom, :pos, :allele1, :allele2, :groupname\n",
    "snpdef28_2 = readdlm(\"SNP_data28exptrait2.bim\", '\\t'; header = false)"
   ]
  },
  {
   "cell_type": "markdown",
   "metadata": {},
   "source": [
    "We will be analyzing SNPs one at a time so we don't need the position of the snps just the SNP IDs so we retrieve SNP IDs."
   ]
  },
  {
   "cell_type": "code",
   "execution_count": 26,
   "metadata": {},
   "outputs": [
    {
     "data": {
      "text/plain": [
       "253141-element Array{SubString{String},1}:\n",
       " \"rs3020701\"  \n",
       " \"rs56343121\" \n",
       " \"rs143501051\"\n",
       " \"rs56182540\" \n",
       " \"rs7260412\"  \n",
       " \"rs11669393\" \n",
       " \"rs181646587\"\n",
       " \"rs8106297\"  \n",
       " \"rs8106302\"  \n",
       " \"rs183568620\"\n",
       " \"rs186451972\"\n",
       " \"rs189699222\"\n",
       " \"rs182902214\"\n",
       " ⋮            \n",
       " \"rs188169422\"\n",
       " \"rs144587467\"\n",
       " \"rs139879509\"\n",
       " \"rs143250448\"\n",
       " \"rs145384750\"\n",
       " \"rs149215836\"\n",
       " \"rs139221927\"\n",
       " \"rs181848453\"\n",
       " \"rs138318162\"\n",
       " \"rs186913222\"\n",
       " \"rs141816674\"\n",
       " \"rs150801216\""
      ]
     },
     "execution_count": 26,
     "metadata": {},
     "output_type": "execute_result"
    }
   ],
   "source": [
    "snpid_2 = map(x -> strip(string(x)), snpdef28_2[:, 2])"
   ]
  },
  {
   "cell_type": "markdown",
   "metadata": {},
   "source": [
    "Read in the SNP binary file using the SnpArray.jl package."
   ]
  },
  {
   "cell_type": "code",
   "execution_count": 27,
   "metadata": {},
   "outputs": [
    {
     "name": "stderr",
     "output_type": "stream",
     "text": [
      "ln: ./SNP_data28exptrait2.bed: File exists\n"
     ]
    }
   ],
   "source": [
    ";ln -s ./SNP_data28exptrait2.bin ./SNP_data28exptrait2.bed"
   ]
  },
  {
   "cell_type": "markdown",
   "metadata": {},
   "source": [
    "Read in the binary .bed file of genetic variants using the 'SnpArrays' package."
   ]
  },
  {
   "cell_type": "code",
   "execution_count": 28,
   "metadata": {},
   "outputs": [
    {
     "data": {
      "text/plain": [
       "212×253141 SnpArray:\n",
       " 0x03  0x03  0x00  0x03  0x03  0x03  …  0x02  0x02  0x00  0x00  0x03  0x00\n",
       " 0x03  0x03  0x00  0x02  0x02  0x03     0x00  0x03  0x00  0x00  0x03  0x00\n",
       " 0x03  0x03  0x00  0x03  0x03  0x03     0x03  0x02  0x00  0x00  0x03  0x00\n",
       " 0x03  0x03  0x00  0x03  0x03  0x03     0x02  0x03  0x00  0x00  0x03  0x00\n",
       " 0x03  0x03  0x00  0x03  0x03  0x03     0x00  0x03  0x00  0x00  0x03  0x00\n",
       " 0x03  0x03  0x00  0x03  0x03  0x03  …  0x00  0x00  0x00  0x00  0x00  0x03\n",
       " 0x03  0x02  0x00  0x03  0x03  0x03     0x02  0x03  0x00  0x03  0x00  0x03\n",
       " 0x03  0x03  0x00  0x03  0x03  0x03     0x02  0x03  0x00  0x03  0x00  0x03\n",
       " 0x03  0x02  0x00  0x03  0x03  0x03     0x02  0x02  0x00  0x02  0x00  0x03\n",
       " 0x03  0x02  0x00  0x03  0x03  0x03     0x03  0x03  0x00  0x03  0x00  0x03\n",
       " 0x03  0x02  0x00  0x03  0x03  0x03  …  0x00  0x02  0x00  0x02  0x00  0x03\n",
       " 0x03  0x03  0x00  0x03  0x03  0x03     0x00  0x02  0x00  0x02  0x00  0x03\n",
       " 0x03  0x02  0x00  0x03  0x03  0x03     0x02  0x02  0x00  0x02  0x00  0x03\n",
       "    ⋮                             ⋮  ⋱     ⋮                             ⋮\n",
       " 0x03  0x03  0x00  0x03  0x03  0x03  …  0x00  0x03  0x00  0x00  0x03  0x00\n",
       " 0x03  0x03  0x00  0x03  0x03  0x03     0x00  0x03  0x00  0x02  0x02  0x02\n",
       " 0x03  0x03  0x00  0x03  0x03  0x03     0x00  0x02  0x00  0x00  0x03  0x00\n",
       " 0x03  0x02  0x00  0x02  0x02  0x03     0x02  0x03  0x00  0x03  0x00  0x03\n",
       " 0x03  0x03  0x00  0x02  0x02  0x03     0x02  0x03  0x00  0x00  0x03  0x00\n",
       " 0x03  0x03  0x00  0x03  0x03  0x03  …  0x02  0x03  0x00  0x02  0x02  0x00\n",
       " 0x03  0x03  0x00  0x02  0x02  0x03     0x02  0x03  0x00  0x00  0x02  0x02\n",
       " 0x03  0x03  0x00  0x03  0x03  0x03     0x00  0x03  0x00  0x00  0x03  0x00\n",
       " 0x03  0x02  0x00  0x03  0x03  0x03     0x02  0x03  0x00  0x00  0x02  0x02\n",
       " 0x03  0x03  0x00  0x03  0x03  0x03     0x00  0x03  0x00  0x00  0x03  0x00\n",
       " 0x03  0x03  0x00  0x03  0x03  0x03  …  0x02  0x03  0x00  0x00  0x03  0x00\n",
       " 0x03  0x03  0x00  0x03  0x03  0x03     0x00  0x03  0x00  0x02  0x02  0x02"
      ]
     },
     "execution_count": 28,
     "metadata": {},
     "output_type": "execute_result"
    }
   ],
   "source": [
    "snpbin28_2 = SnpArray(\"SNP_data28exptrait2.bed\")"
   ]
  },
  {
   "cell_type": "markdown",
   "metadata": {},
   "source": [
    "Use the grm function in the SnpArrays.jl package to create the genetic relationship matrix from the genetic variants in the .bed file for example 2. By default, `grm` excludes SNPs with maf < 0.01."
   ]
  },
  {
   "cell_type": "code",
   "execution_count": 29,
   "metadata": {},
   "outputs": [
    {
     "data": {
      "text/plain": [
       "212×212 Array{Float64,2}:\n",
       "  0.488859      0.00422798    0.00978752   …   0.0187809     0.000152741\n",
       "  0.00422798    0.515141     -0.0190676       -0.0220944    -0.0162381  \n",
       "  0.00978752   -0.0190676     0.489156        -0.0143552    -0.00392193 \n",
       "  0.241927     -0.00231651    0.266756         0.00264766   -0.00334162 \n",
       "  0.124909      0.265109      0.12103         -0.0118053    -0.00641433 \n",
       " -0.0121766    -0.000271784  -0.00316506   …  -0.000629837   0.0103776  \n",
       " -0.011988      0.00845464   -0.00950518      -0.0105435     0.000340285\n",
       " -0.0134368    -0.00713175   -0.0101011       -0.0115942    -0.00288935 \n",
       " -0.0111854     0.00423488   -0.0117065       -0.0244977    -0.00698659 \n",
       " -0.0124607    -0.00575043   -0.0124951       -0.00573017   -0.0103429  \n",
       " -0.0128464     0.010258      0.00110475   …  -0.00424998    0.0124296  \n",
       " -0.0121471     0.00305141   -0.00754556      -0.0104162     0.00554306 \n",
       " -0.0234305    -0.00241126   -0.010413         0.000129339   0.0166282  \n",
       "  ⋮                                        ⋱   ⋮                        \n",
       "  0.000390703  -0.00829937   -0.0134343    …   0.00203895   -0.0193534  \n",
       "  0.00338078    0.00116913   -0.0137822       -0.000709205   0.00437081 \n",
       " -0.0131106    -0.0246602    -0.00377814      -0.0167851    -0.0115794  \n",
       " -0.016104     -0.014253     -0.0132132       -0.023015      0.000196427\n",
       " -0.00215359    0.0120041    -0.002889        -0.00294264   -0.00290955 \n",
       "  0.00353341   -0.00200184   -0.00346206   …   0.0240445     0.0224584  \n",
       " -0.0132247    -0.00736188    0.000399022     -0.0115962     0.00801023 \n",
       "  0.0136135     0.014919      0.0146852        0.00611176    0.00984425 \n",
       " -0.00763248   -0.00216137    0.0227918        0.00711085   -0.0159608  \n",
       "  0.000154845  -0.0142528     0.0109832        0.00490078    0.00924588 \n",
       "  0.0187809    -0.0220944    -0.0143552    …   0.556933      0.0380902  \n",
       "  0.000152741  -0.0162381    -0.00392193       0.0380902     0.502935   "
      ]
     },
     "execution_count": 29,
     "metadata": {},
     "output_type": "execute_result"
    }
   ],
   "source": [
    "ΦGRM2 = grm(snpbin28_2)"
   ]
  },
  {
   "cell_type": "markdown",
   "metadata": {},
   "source": [
    "## Check for Association of the Trait with the Exposure:"
   ]
  },
  {
   "cell_type": "code",
   "execution_count": 30,
   "metadata": {},
   "outputs": [
    {
     "data": {
      "text/plain": [
       "(0.49947517803154445, 0.05399663242445667)"
      ]
     },
     "execution_count": 30,
     "metadata": {},
     "output_type": "execute_result"
    }
   ],
   "source": [
    "###### Second Example Exposure Effect on Trait using VCM ####\n",
    "X = [ones(length(Y_2), 1) sex_2]\n",
    "exposure = exp_2\n",
    "outcome = Y_2\n",
    "ExposureEffectVCM(outcome, X, exposure, ΦGRM2)"
   ]
  },
  {
   "cell_type": "code",
   "execution_count": 31,
   "metadata": {},
   "outputs": [
    {
     "data": {
      "text/plain": [
       "236079"
      ]
     },
     "execution_count": 31,
     "metadata": {},
     "output_type": "execute_result"
    }
   ],
   "source": [
    "ind_rs11672206_2 = findall(x -> x == \"rs11672206\", snpid_2)[1]"
   ]
  },
  {
   "cell_type": "code",
   "execution_count": 32,
   "metadata": {},
   "outputs": [
    {
     "data": {
      "text/plain": [
       "212-element Array{Float64,1}:\n",
       " 0.0\n",
       " 2.0\n",
       " 0.0\n",
       " 0.0\n",
       " 1.0\n",
       " 1.0\n",
       " 0.0\n",
       " 0.0\n",
       " 1.0\n",
       " 1.0\n",
       " 1.0\n",
       " 1.0\n",
       " 1.0\n",
       " ⋮  \n",
       " 0.0\n",
       " 1.0\n",
       " 0.0\n",
       " 1.0\n",
       " 0.0\n",
       " 1.0\n",
       " 1.0\n",
       " 1.0\n",
       " 0.0\n",
       " 1.0\n",
       " 0.0\n",
       " 1.0"
      ]
     },
     "execution_count": 32,
     "metadata": {},
     "output_type": "execute_result"
    }
   ],
   "source": [
    "snp_rs11672206_2 = convert(Array{Float64,1}, @view(snpbin28_2[:, ind_rs11672206_2]))"
   ]
  },
  {
   "cell_type": "markdown",
   "metadata": {},
   "source": [
    "## Example 2 Mendelian Randomization VCM:"
   ]
  },
  {
   "cell_type": "code",
   "execution_count": 33,
   "metadata": {},
   "outputs": [
    {
     "name": "stdout",
     "output_type": "stream",
     "text": [
      "MR direct effects (SE): 0.2437481344559426(0.15233855361360252), Pvalue is 0.10958919289247747\n",
      "\n",
      "Exposure effect (SE) is: -1.8980279594308787(0.25670960108586316)\n",
      "\n",
      "Trait effect (SE) is: -0.4626407742564962(0.2822910952147581)\n",
      "\n"
     ]
    },
    {
     "data": {
      "text/plain": [
       "(0.2437481344559426, 0.15233855361360252)"
      ]
     },
     "execution_count": 33,
     "metadata": {},
     "output_type": "execute_result"
    }
   ],
   "source": [
    "#Example 2\n",
    "MendelianRandomization(Y_2, [ones(length(Y_2), 1) sex_2], snp_rs11672206_2, exp_2, ΦGRM2)"
   ]
  },
  {
   "cell_type": "markdown",
   "metadata": {},
   "source": [
    "In this example, The MR direct effect and the naive estimate in which we regress Trait on Exposure are quite different. We fail to reject the null hypothesis of a causal effect of the exposure on the trait. "
   ]
  },
  {
   "cell_type": "markdown",
   "metadata": {},
   "source": [
    "# Example 3: The Problem of a Weak IV"
   ]
  },
  {
   "cell_type": "markdown",
   "metadata": {},
   "source": [
    "In this example we use the the files: SNP_data28d_trait3.bed, SNP_data28d_trait3.fam, and SNP_data28d_trait3.bim, simulated under the scenario where the genetic marker is a weak IV to demonstrate one of the essential assumptions of MR.  In this example we use the same genotype data and pedigree structure as example 1 so we can use the GRM matrix from example 1."
   ]
  },
  {
   "cell_type": "markdown",
   "metadata": {},
   "source": [
    "### Loading and preparing the data"
   ]
  },
  {
   "cell_type": "code",
   "execution_count": 34,
   "metadata": {},
   "outputs": [
    {
     "data": {
      "text/plain": [
       "212×9 Array{Any,2}:\n",
       "     1     16       \"          \"  …  \"          \"  40.1878  214.434  \"\"\n",
       "     1   8228       \"          \"     \"          \"  47.0623  250.469  \"\"\n",
       "     1  17008       \"          \"     \"          \"  44.8772  249.917  \"\"\n",
       "     1   9218  17008                 \"          \"  41.4107  231.419  \"\"\n",
       "     1   3226   9218                 \"          \"  40.3835  217.034  \"\"\n",
       "     2     29       \"          \"  …  \"          \"  39.6165  212.84   \"\"\n",
       "     2   2294       \"          \"     \"          \"  38.8691  220.87   \"\"\n",
       "     2   3416       \"          \"     \"          \"  48.9882  271.711  \"\"\n",
       "     2   3916   2294                 \"          \"  45.129   240.725  \"\"\n",
       "     2   6790   2294                 \"          \"  43.2185  240.717  \"\"\n",
       "     2  14695   2294              …  \"          \"  38.846   210.021  \"\"\n",
       "     2  17893   2294                 \"          \"  43.9826  234.954  \"\"\n",
       "     2   6952   3416                 \"          \"  50.7849  280.457  \"\"\n",
       "     ⋮                            ⋱  ⋮                                 \n",
       "    31  24385  23058              …  \"          \"  41.1275  231.582  \"\"\n",
       "    31  21403  27016                 \"          \"  38.5637  208.184  \"\"\n",
       "    31   1365  23058                 \"          \"  35.6761  192.605  \"\"\n",
       "    31  19392  26817                 \"          \"  32.7235  179.584  \"\"\n",
       " 10006     66       \"          \"     \"          \"  37.7896  217.257  \"\"\n",
       " 10008     92       \"          \"  …  \"          \"  38.5346  219.802  \"\"\n",
       " 10014    186       \"          \"     \"          \"  45.7092  252.089  \"\"\n",
       " 10027    374       \"          \"     \"          \"  37.4253  209.743  \"\"\n",
       " 10029    434       \"          \"     \"          \"  45.5548  254.076  \"\"\n",
       " 10033    333       \"          \"     \"          \"  46.7553  258.965  \"\"\n",
       " 10040    234       \"          \"  …  \"          \"  49.9749  271.941  \"\"\n",
       " 10045    789       \"          \"     \"          \"  44.6052  246.865  \"\""
      ]
     },
     "execution_count": 34,
     "metadata": {},
     "output_type": "execute_result"
    }
   ],
   "source": [
    "ped28_3 = readdlm(\"SNP_data28d_trait3.fam\", ','; header = false)"
   ]
  },
  {
   "cell_type": "code",
   "execution_count": 35,
   "metadata": {},
   "outputs": [
    {
     "data": {
      "text/plain": [
       "212-element Array{Float64,1}:\n",
       " 40.18776\n",
       " 47.06231\n",
       " 44.87715\n",
       " 41.41074\n",
       " 40.38347\n",
       " 39.61654\n",
       " 38.8691 \n",
       " 48.98817\n",
       " 45.12903\n",
       " 43.21847\n",
       " 38.84599\n",
       " 43.98256\n",
       " 50.78492\n",
       "  ⋮      \n",
       " 41.12748\n",
       " 38.56373\n",
       " 35.6761 \n",
       " 32.72347\n",
       " 37.78963\n",
       " 38.53456\n",
       " 45.70917\n",
       " 37.42526\n",
       " 45.55476\n",
       " 46.75532\n",
       " 49.9749 \n",
       " 44.60524"
      ]
     },
     "execution_count": 35,
     "metadata": {},
     "output_type": "execute_result"
    }
   ],
   "source": [
    "exp_3 = convert(Array{Float64,1}, ped28_3[:, 7])"
   ]
  },
  {
   "cell_type": "code",
   "execution_count": 36,
   "metadata": {},
   "outputs": [
    {
     "data": {
      "text/plain": [
       "212-element Array{Float64,1}:\n",
       " 214.43354\n",
       " 250.46902\n",
       " 249.9168 \n",
       " 231.41861\n",
       " 217.03401\n",
       " 212.8396 \n",
       " 220.87015\n",
       " 271.71098\n",
       " 240.72532\n",
       " 240.71722\n",
       " 210.02121\n",
       " 234.95418\n",
       " 280.45734\n",
       "   ⋮      \n",
       " 231.58155\n",
       " 208.1839 \n",
       " 192.60535\n",
       " 179.58364\n",
       " 217.25697\n",
       " 219.80218\n",
       " 252.08932\n",
       " 209.74325\n",
       " 254.07583\n",
       " 258.96543\n",
       " 271.94112\n",
       " 246.86504"
      ]
     },
     "execution_count": 36,
     "metadata": {},
     "output_type": "execute_result"
    }
   ],
   "source": [
    "Y_3 = convert(Array{Float64,1}, ped28_3[:, 8])"
   ]
  },
  {
   "cell_type": "code",
   "execution_count": 37,
   "metadata": {},
   "outputs": [
    {
     "data": {
      "text/plain": [
       "212-element Array{Float64,1}:\n",
       " 1.0\n",
       " 1.0\n",
       " 0.0\n",
       " 0.0\n",
       " 1.0\n",
       " 1.0\n",
       " 0.0\n",
       " 0.0\n",
       " 1.0\n",
       " 0.0\n",
       " 1.0\n",
       " 1.0\n",
       " 0.0\n",
       " ⋮  \n",
       " 0.0\n",
       " 1.0\n",
       " 1.0\n",
       " 1.0\n",
       " 0.0\n",
       " 0.0\n",
       " 0.0\n",
       " 0.0\n",
       " 0.0\n",
       " 0.0\n",
       " 0.0\n",
       " 0.0"
      ]
     },
     "execution_count": 37,
     "metadata": {},
     "output_type": "execute_result"
    }
   ],
   "source": [
    "sex_3 = map(x -> (strip(x) == \"F\") ? 1.0 : 0.0, ped28_3[:, 5])"
   ]
  },
  {
   "cell_type": "code",
   "execution_count": 38,
   "metadata": {},
   "outputs": [
    {
     "data": {
      "text/plain": [
       "253141-element Array{SubString{String},1}:\n",
       " \"rs3020701\"  \n",
       " \"rs56343121\" \n",
       " \"rs143501051\"\n",
       " \"rs56182540\" \n",
       " \"rs7260412\"  \n",
       " \"rs11669393\" \n",
       " \"rs181646587\"\n",
       " \"rs8106297\"  \n",
       " \"rs8106302\"  \n",
       " \"rs183568620\"\n",
       " \"rs186451972\"\n",
       " \"rs189699222\"\n",
       " \"rs182902214\"\n",
       " ⋮            \n",
       " \"rs188169422\"\n",
       " \"rs144587467\"\n",
       " \"rs139879509\"\n",
       " \"rs143250448\"\n",
       " \"rs145384750\"\n",
       " \"rs149215836\"\n",
       " \"rs139221927\"\n",
       " \"rs181848453\"\n",
       " \"rs138318162\"\n",
       " \"rs186913222\"\n",
       " \"rs141816674\"\n",
       " \"rs150801216\""
      ]
     },
     "execution_count": 38,
     "metadata": {},
     "output_type": "execute_result"
    }
   ],
   "source": [
    "snpid = map(x -> strip(string(x)), snpdef28_1[:, 2])"
   ]
  },
  {
   "cell_type": "markdown",
   "metadata": {},
   "source": [
    "## Exposure Effect VCM:"
   ]
  },
  {
   "cell_type": "markdown",
   "metadata": {},
   "source": [
    "In this example there is still a strong association between the trait and the exposure in which the exposure has a causal effect but the association between the SNP and the exposure  and the SNP and the trait are weak.  "
   ]
  },
  {
   "cell_type": "code",
   "execution_count": 39,
   "metadata": {},
   "outputs": [
    {
     "data": {
      "text/plain": [
       "(4.976393615289701, 0.02101062009606309)"
      ]
     },
     "execution_count": 39,
     "metadata": {},
     "output_type": "execute_result"
    }
   ],
   "source": [
    "###### Third Example Exposure Effect on Trait using VCM ####\n",
    "X = [ones(length(Y_3), 1) sex_3]\n",
    "exposure = exp_3\n",
    "outcome = Y_3\n",
    "ExposureEffectVCM(outcome, X, exposure, ΦGRM1)"
   ]
  },
  {
   "cell_type": "code",
   "execution_count": 40,
   "metadata": {},
   "outputs": [
    {
     "data": {
      "text/plain": [
       "236079"
      ]
     },
     "execution_count": 40,
     "metadata": {},
     "output_type": "execute_result"
    }
   ],
   "source": [
    "ind_rs11672206 = findall(x -> x == \"rs11672206\", snpid)[1]"
   ]
  },
  {
   "cell_type": "code",
   "execution_count": 41,
   "metadata": {},
   "outputs": [
    {
     "data": {
      "text/plain": [
       "212-element Array{Float64,1}:\n",
       " 0.0\n",
       " 2.0\n",
       " 0.0\n",
       " 0.0\n",
       " 1.0\n",
       " 1.0\n",
       " 0.0\n",
       " 0.0\n",
       " 1.0\n",
       " 1.0\n",
       " 1.0\n",
       " 1.0\n",
       " 1.0\n",
       " ⋮  \n",
       " 1.0\n",
       " 1.0\n",
       " 1.0\n",
       " 1.0\n",
       " 0.0\n",
       " 1.0\n",
       " 1.0\n",
       " 1.0\n",
       " 0.0\n",
       " 1.0\n",
       " 0.0\n",
       " 1.0"
      ]
     },
     "execution_count": 41,
     "metadata": {},
     "output_type": "execute_result"
    }
   ],
   "source": [
    "snp_rs11672206_3 = convert(Array{Float64,1}, @view(snpbin28_1[:, ind_rs11672206]))"
   ]
  },
  {
   "cell_type": "markdown",
   "metadata": {},
   "source": [
    "## Example 3 Mendelian Randomization VCM:"
   ]
  },
  {
   "cell_type": "code",
   "execution_count": 42,
   "metadata": {},
   "outputs": [
    {
     "name": "stdout",
     "output_type": "stream",
     "text": [
      "MR direct effects (SE): 5.653306721587125(6.183010137523407), Pvalue is 0.3605438909407806\n",
      "\n",
      "Exposure effect (SE) is: 0.5704605759599244(0.4670817955931797)\n",
      "\n",
      "Trait effect (SE) is: 3.2249886084747033(2.3384488620967234)\n",
      "\n"
     ]
    },
    {
     "data": {
      "text/plain": [
       "(5.653306721587125, 6.183010137523407)"
      ]
     },
     "execution_count": 42,
     "metadata": {},
     "output_type": "execute_result"
    }
   ],
   "source": [
    "MendelianRandomization(Y_3,[ones(length(Y_3),1) sex_3], snp_rs11672206_3, exp_3, ΦGRM1)"
   ]
  },
  {
   "cell_type": "markdown",
   "metadata": {},
   "source": [
    "In this case, we simulated a causal effect of exposure on the trait such that one unit of exposure increases the trait value by 5 units.  Because the IV is weak, we end up with an imprecise and inaccurate estimate of the direct effect using MR.  As is the case here, the estimate is often an overestimate but the SE is very large, leading to poor power to detect the effect. "
   ]
  },
  {
   "cell_type": "markdown",
   "metadata": {},
   "source": [
    "# Conclusions"
   ]
  },
  {
   "cell_type": "markdown",
   "metadata": {},
   "source": [
    "This exercise demonstrates:\n",
    "(1) That, when the assumptions of MR hold, we can get an idea of the causal nature of an exposure with a trait when we have family data.   Note we just stratched the surface of methods that can be used to infer causality.  Within MR there are a number of approaches that have been optimized for different types of data.  More generally, causal inference is a huge field that has been importance in epidemiology and economics in particular and we encourage you to learn more about these approaches. "
   ]
  }
 ],
 "metadata": {
  "kernelspec": {
   "display_name": "Julia 1.0.3",
   "language": "julia",
   "name": "julia-1.0"
  },
  "language_info": {
   "file_extension": ".jl",
   "mimetype": "application/julia",
   "name": "julia",
   "version": "1.0.3"
  },
  "toc": {
   "base_numbering": 1,
   "nav_menu": {
    "height": "30px",
    "width": "252px"
   },
   "number_sections": true,
   "sideBar": true,
   "skip_h1_title": false,
   "title_cell": "Table of Contents",
   "title_sidebar": "Contents",
   "toc_cell": false,
   "toc_position": {},
   "toc_section_display": "block",
   "toc_window_display": false
  }
 },
 "nbformat": 4,
 "nbformat_minor": 2
}
